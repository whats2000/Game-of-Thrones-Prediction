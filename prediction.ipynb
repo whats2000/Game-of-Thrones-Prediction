{
 "cells": [
  {
   "cell_type": "code",
   "metadata": {
    "execution": {
     "iopub.execute_input": "2025-09-05T02:34:48.510588Z",
     "iopub.status.busy": "2025-09-05T02:34:48.510299Z",
     "iopub.status.idle": "2025-09-05T02:34:48.516678Z",
     "shell.execute_reply": "2025-09-05T02:34:48.515226Z",
     "shell.execute_reply.started": "2025-09-05T02:34:48.510568Z"
    },
    "trusted": true,
    "ExecuteTime": {
     "end_time": "2025-09-22T13:03:22.607324Z",
     "start_time": "2025-09-22T13:03:22.588317Z"
    }
   },
   "source": [
    "import os\n",
    "\n",
    "import numpy as np\n",
    "import pandas as pd\n",
    "from tqdm import tqdm\n",
    "from sklearn.model_selection import train_test_split\n",
    "from sklearn.preprocessing import OneHotEncoder\n",
    "from sklearn.compose import ColumnTransformer\n",
    "from sklearn.pipeline import Pipeline\n",
    "from sklearn.metrics import accuracy_score, roc_auc_score\n",
    "from sklearn.model_selection import RandomizedSearchCV\n",
    "\n",
    "from sklearn.tree import DecisionTreeClassifier, export_graphviz\n",
    "from sklearn.metrics import confusion_matrix, precision_score, recall_score, ConfusionMatrixDisplay\n",
    "import matplotlib.pyplot as plt\n",
    "import graphviz\n",
    "\n",
    "tqdm.pandas()"
   ],
   "outputs": [],
   "execution_count": 179
  },
  {
   "cell_type": "markdown",
   "metadata": {},
   "source": [
    "# <div style=\"font-family: 'Garamond', serif; font-size: 22px; color: #ffffff; background-color: #34568B; text-align: center; padding: 15px; border-radius: 10px; border: 2px solid #FF6F61; box-shadow: 0 6px 12px rgba(0, 0, 0, 0.3); margin-bottom: 20px;\">Step 1: Load the data</div>"
   ]
  },
  {
   "metadata": {},
   "cell_type": "markdown",
   "source": "## <div style=\"font-family: 'Lucida Sans Unicode', sans-serif; font-size: 18px; color: #4A235A; background-color: #D7BDE2; text-align: left; padding: 10px; border-left: 5px solid #7D3C98; box-shadow: 0 4px 6px rgba(0, 0, 0, 0.2); margin-bottom: 10px;\">Dataset Metadata</div>"
  },
  {
   "metadata": {},
   "cell_type": "markdown",
   "source": [
    "# Overview\n",
    "\n",
    "The dataset contains metadata about characters from *A Song of Ice and Fire*, including house allegiance, gender, nobility, appearances across books, and death-related information. Each row represents a single character.\n",
    "\n",
    "All death-related columns may contain missing values if the character is alive.\n",
    "\n",
    "---\n",
    "\n",
    "# Data Dictionary\n",
    "\n",
    "| Variable           | Definition                          | Key                                                      |\n",
    "|--------------------|-------------------------------------|----------------------------------------------------------|\n",
    "| Name               | Character name                      | Text                                                     |\n",
    "| Allegiances        | Character house                     | Categorical; e.g., \"Wildling\", \"Night's Watch\"           |\n",
    "| Death Year         | Year character died                 | Integer or NaN (alive)                                   |\n",
    "| Book of Death      | Book character died                 | 1 = GoT, 2 = CoK, 3 = SoS, 4 = FfC, 5 = DwD; NaN = Alive |\n",
    "| Death Chapter      | Chapter in which the character died | Integer or NaN                                           |\n",
    "| Book Intro Chapter | Chapter character was introduced in | Integer                                                  |\n",
    "| Gender             | Gender                              | 1 = Male, 0 = Female                                     |\n",
    "| Nobility           | Social class                        | 1 = Noble, 0 = Commoner                                  |\n",
    "| GoT                | Appeared in *A Game of Thrones*     | 1 = Yes, 0 = No                                          |\n",
    "| CoK                | Appeared in *A Clash of Kings*      | 1 = Yes, 0 = No                                          |\n",
    "| SoS                | Appeared in *A Storm of Swords*     | 1 = Yes, 0 = No                                          |\n",
    "| FfC                | Appeared in *A Feast for Crows*     | 1 = Yes, 0 = No                                          |\n",
    "| DwD                | Appeared in *A Dance with Dragons*  | 1 = Yes, 0 = No                                          |\n",
    "\n",
    "---\n",
    "\n",
    "# Variable Notes\n",
    "\n",
    "- **Allegiances**: This field contains the name of the house or faction a character belongs to. Some characters may have no allegiance specified.\n",
    "\n",
    "- **Death Year**, **Book of Death**, **Death Chapter**: These columns are used to identify whether a character died, when, and where in the storyline. Missing values typically mean the character is still alive.\n",
    "\n",
    "- **Book Intro Chapter**: Indicates the chapter in which the character first appeared.\n",
    "\n",
    "- **GoT**, **CoK**, **SoS**, **FfC**, **DwD**: Binary indicators of whether the character appears in the corresponding book.\n",
    "\n",
    "- **Gender** and **Nobility**: Represent demographic and social status attributes of the characters. These are already encoded as binary features."
   ]
  },
  {
   "metadata": {},
   "cell_type": "markdown",
   "source": "## <div style=\"font-family: 'Lucida Sans Unicode', sans-serif; font-size: 18px; color: #4A235A; background-color: #D7BDE2; text-align: left; padding: 10px; border-left: 5px solid #7D3C98; box-shadow: 0 4px 6px rgba(0, 0, 0, 0.2); margin-bottom: 10px;\">Load the data and display head</div>"
  },
  {
   "cell_type": "code",
   "metadata": {
    "execution": {
     "iopub.execute_input": "2025-09-05T02:34:48.518748Z",
     "iopub.status.busy": "2025-09-05T02:34:48.518389Z",
     "iopub.status.idle": "2025-09-05T02:34:48.565466Z",
     "shell.execute_reply": "2025-09-05T02:34:48.564317Z",
     "shell.execute_reply.started": "2025-09-05T02:34:48.518720Z"
    },
    "trusted": true,
    "ExecuteTime": {
     "end_time": "2025-09-22T13:03:22.701318Z",
     "start_time": "2025-09-22T13:03:22.688318Z"
    }
   },
   "source": [
    "# Check environment if in Kaggle\n",
    "extract_folder_path = '/kaggle/input/topic-test' if os.path.exists('/kaggle/input/topic-test') else './data'\n",
    "\n",
    "# Load the training data\n",
    "train_file_path = os.path.join(extract_folder_path, 'train.csv')\n",
    "train_data = pd.read_csv(train_file_path)\n",
    "\n",
    "# Displaying the first few rows of the dataset\n",
    "train_data.head()"
   ],
   "outputs": [
    {
     "data": {
      "text/plain": [
       "   Character                 Name    Allegiances  Death Year  Book of Death  \\\n",
       "0        155  Creighton Longbough            NaN         NaN            NaN   \n",
       "1        362        Howd Wanderer       Wildling         NaN            NaN   \n",
       "2        868                 Watt  Night's Watch       299.0            3.0   \n",
       "3        101               Borcas  Night's Watch         NaN            NaN   \n",
       "4        199               Donnis    House Stark         NaN            NaN   \n",
       "\n",
       "   Death Chapter  Book Intro Chapter  Gender  Nobility  GoT  CoK  SoS  FfC  \\\n",
       "0            NaN                 4.0       1         0    0    0    0    1   \n",
       "1            NaN                58.0       1         1    0    0    0    0   \n",
       "2           75.0                69.0       1         0    0    0    1    0   \n",
       "3            NaN                48.0       1         0    1    0    0    0   \n",
       "4            NaN                 7.0       1         0    1    0    0    0   \n",
       "\n",
       "   DwD  \n",
       "0    0  \n",
       "1    1  \n",
       "2    0  \n",
       "3    0  \n",
       "4    0  "
      ],
      "text/html": [
       "<div>\n",
       "<style scoped>\n",
       "    .dataframe tbody tr th:only-of-type {\n",
       "        vertical-align: middle;\n",
       "    }\n",
       "\n",
       "    .dataframe tbody tr th {\n",
       "        vertical-align: top;\n",
       "    }\n",
       "\n",
       "    .dataframe thead th {\n",
       "        text-align: right;\n",
       "    }\n",
       "</style>\n",
       "<table border=\"1\" class=\"dataframe\">\n",
       "  <thead>\n",
       "    <tr style=\"text-align: right;\">\n",
       "      <th></th>\n",
       "      <th>Character</th>\n",
       "      <th>Name</th>\n",
       "      <th>Allegiances</th>\n",
       "      <th>Death Year</th>\n",
       "      <th>Book of Death</th>\n",
       "      <th>Death Chapter</th>\n",
       "      <th>Book Intro Chapter</th>\n",
       "      <th>Gender</th>\n",
       "      <th>Nobility</th>\n",
       "      <th>GoT</th>\n",
       "      <th>CoK</th>\n",
       "      <th>SoS</th>\n",
       "      <th>FfC</th>\n",
       "      <th>DwD</th>\n",
       "    </tr>\n",
       "  </thead>\n",
       "  <tbody>\n",
       "    <tr>\n",
       "      <th>0</th>\n",
       "      <td>155</td>\n",
       "      <td>Creighton Longbough</td>\n",
       "      <td>NaN</td>\n",
       "      <td>NaN</td>\n",
       "      <td>NaN</td>\n",
       "      <td>NaN</td>\n",
       "      <td>4.0</td>\n",
       "      <td>1</td>\n",
       "      <td>0</td>\n",
       "      <td>0</td>\n",
       "      <td>0</td>\n",
       "      <td>0</td>\n",
       "      <td>1</td>\n",
       "      <td>0</td>\n",
       "    </tr>\n",
       "    <tr>\n",
       "      <th>1</th>\n",
       "      <td>362</td>\n",
       "      <td>Howd Wanderer</td>\n",
       "      <td>Wildling</td>\n",
       "      <td>NaN</td>\n",
       "      <td>NaN</td>\n",
       "      <td>NaN</td>\n",
       "      <td>58.0</td>\n",
       "      <td>1</td>\n",
       "      <td>1</td>\n",
       "      <td>0</td>\n",
       "      <td>0</td>\n",
       "      <td>0</td>\n",
       "      <td>0</td>\n",
       "      <td>1</td>\n",
       "    </tr>\n",
       "    <tr>\n",
       "      <th>2</th>\n",
       "      <td>868</td>\n",
       "      <td>Watt</td>\n",
       "      <td>Night's Watch</td>\n",
       "      <td>299.0</td>\n",
       "      <td>3.0</td>\n",
       "      <td>75.0</td>\n",
       "      <td>69.0</td>\n",
       "      <td>1</td>\n",
       "      <td>0</td>\n",
       "      <td>0</td>\n",
       "      <td>0</td>\n",
       "      <td>1</td>\n",
       "      <td>0</td>\n",
       "      <td>0</td>\n",
       "    </tr>\n",
       "    <tr>\n",
       "      <th>3</th>\n",
       "      <td>101</td>\n",
       "      <td>Borcas</td>\n",
       "      <td>Night's Watch</td>\n",
       "      <td>NaN</td>\n",
       "      <td>NaN</td>\n",
       "      <td>NaN</td>\n",
       "      <td>48.0</td>\n",
       "      <td>1</td>\n",
       "      <td>0</td>\n",
       "      <td>1</td>\n",
       "      <td>0</td>\n",
       "      <td>0</td>\n",
       "      <td>0</td>\n",
       "      <td>0</td>\n",
       "    </tr>\n",
       "    <tr>\n",
       "      <th>4</th>\n",
       "      <td>199</td>\n",
       "      <td>Donnis</td>\n",
       "      <td>House Stark</td>\n",
       "      <td>NaN</td>\n",
       "      <td>NaN</td>\n",
       "      <td>NaN</td>\n",
       "      <td>7.0</td>\n",
       "      <td>1</td>\n",
       "      <td>0</td>\n",
       "      <td>1</td>\n",
       "      <td>0</td>\n",
       "      <td>0</td>\n",
       "      <td>0</td>\n",
       "      <td>0</td>\n",
       "    </tr>\n",
       "  </tbody>\n",
       "</table>\n",
       "</div>"
      ]
     },
     "execution_count": 180,
     "metadata": {},
     "output_type": "execute_result"
    }
   ],
   "execution_count": 180
  },
  {
   "metadata": {},
   "cell_type": "markdown",
   "source": "## <div style=\"font-family: 'Lucida Sans Unicode', sans-serif; font-size: 18px; color: #4A235A; background-color: #D7BDE2; text-align: left; padding: 10px; border-left: 5px solid #7D3C98; box-shadow: 0 4px 6px rgba(0, 0, 0, 0.2); margin-bottom: 10px;\">See the statistical summary of the dataset</div>"
  },
  {
   "metadata": {
    "ExecuteTime": {
     "end_time": "2025-09-22T13:03:22.855324Z",
     "start_time": "2025-09-22T13:03:22.825318Z"
    }
   },
   "cell_type": "code",
   "source": "train_data.describe()",
   "outputs": [
    {
     "data": {
      "text/plain": [
       "        Character  Death Year  Book of Death  Death Chapter  \\\n",
       "count  687.000000  243.000000     245.000000     239.000000   \n",
       "mean   461.184862  299.164609       2.963265      39.167364   \n",
       "std    265.290576    0.702462       1.334703      20.313231   \n",
       "min      0.000000  297.000000       1.000000       0.000000   \n",
       "25%    225.500000  299.000000       2.000000      23.500000   \n",
       "50%    466.000000  299.000000       3.000000      37.000000   \n",
       "75%    692.500000  300.000000       4.000000      56.000000   \n",
       "max    916.000000  300.000000       5.000000      77.000000   \n",
       "\n",
       "       Book Intro Chapter      Gender    Nobility         GoT         CoK  \\\n",
       "count          676.000000  687.000000  687.000000  687.000000  687.000000   \n",
       "mean            28.766272    0.850073    0.454148    0.282387    0.352256   \n",
       "std             19.795064    0.357260    0.498256    0.450489    0.478021   \n",
       "min              0.000000    0.000000    0.000000    0.000000    0.000000   \n",
       "25%             12.000000    1.000000    0.000000    0.000000    0.000000   \n",
       "50%             28.000000    1.000000    0.000000    0.000000    0.000000   \n",
       "75%             42.250000    1.000000    1.000000    1.000000    1.000000   \n",
       "max             80.000000    1.000000    1.000000    1.000000    1.000000   \n",
       "\n",
       "              SoS         FfC         DwD  \n",
       "count  687.000000  687.000000  687.000000  \n",
       "mean     0.429403    0.264920    0.276565  \n",
       "std      0.495352    0.441612    0.447625  \n",
       "min      0.000000    0.000000    0.000000  \n",
       "25%      0.000000    0.000000    0.000000  \n",
       "50%      0.000000    0.000000    0.000000  \n",
       "75%      1.000000    1.000000    1.000000  \n",
       "max      1.000000    1.000000    1.000000  "
      ],
      "text/html": [
       "<div>\n",
       "<style scoped>\n",
       "    .dataframe tbody tr th:only-of-type {\n",
       "        vertical-align: middle;\n",
       "    }\n",
       "\n",
       "    .dataframe tbody tr th {\n",
       "        vertical-align: top;\n",
       "    }\n",
       "\n",
       "    .dataframe thead th {\n",
       "        text-align: right;\n",
       "    }\n",
       "</style>\n",
       "<table border=\"1\" class=\"dataframe\">\n",
       "  <thead>\n",
       "    <tr style=\"text-align: right;\">\n",
       "      <th></th>\n",
       "      <th>Character</th>\n",
       "      <th>Death Year</th>\n",
       "      <th>Book of Death</th>\n",
       "      <th>Death Chapter</th>\n",
       "      <th>Book Intro Chapter</th>\n",
       "      <th>Gender</th>\n",
       "      <th>Nobility</th>\n",
       "      <th>GoT</th>\n",
       "      <th>CoK</th>\n",
       "      <th>SoS</th>\n",
       "      <th>FfC</th>\n",
       "      <th>DwD</th>\n",
       "    </tr>\n",
       "  </thead>\n",
       "  <tbody>\n",
       "    <tr>\n",
       "      <th>count</th>\n",
       "      <td>687.000000</td>\n",
       "      <td>243.000000</td>\n",
       "      <td>245.000000</td>\n",
       "      <td>239.000000</td>\n",
       "      <td>676.000000</td>\n",
       "      <td>687.000000</td>\n",
       "      <td>687.000000</td>\n",
       "      <td>687.000000</td>\n",
       "      <td>687.000000</td>\n",
       "      <td>687.000000</td>\n",
       "      <td>687.000000</td>\n",
       "      <td>687.000000</td>\n",
       "    </tr>\n",
       "    <tr>\n",
       "      <th>mean</th>\n",
       "      <td>461.184862</td>\n",
       "      <td>299.164609</td>\n",
       "      <td>2.963265</td>\n",
       "      <td>39.167364</td>\n",
       "      <td>28.766272</td>\n",
       "      <td>0.850073</td>\n",
       "      <td>0.454148</td>\n",
       "      <td>0.282387</td>\n",
       "      <td>0.352256</td>\n",
       "      <td>0.429403</td>\n",
       "      <td>0.264920</td>\n",
       "      <td>0.276565</td>\n",
       "    </tr>\n",
       "    <tr>\n",
       "      <th>std</th>\n",
       "      <td>265.290576</td>\n",
       "      <td>0.702462</td>\n",
       "      <td>1.334703</td>\n",
       "      <td>20.313231</td>\n",
       "      <td>19.795064</td>\n",
       "      <td>0.357260</td>\n",
       "      <td>0.498256</td>\n",
       "      <td>0.450489</td>\n",
       "      <td>0.478021</td>\n",
       "      <td>0.495352</td>\n",
       "      <td>0.441612</td>\n",
       "      <td>0.447625</td>\n",
       "    </tr>\n",
       "    <tr>\n",
       "      <th>min</th>\n",
       "      <td>0.000000</td>\n",
       "      <td>297.000000</td>\n",
       "      <td>1.000000</td>\n",
       "      <td>0.000000</td>\n",
       "      <td>0.000000</td>\n",
       "      <td>0.000000</td>\n",
       "      <td>0.000000</td>\n",
       "      <td>0.000000</td>\n",
       "      <td>0.000000</td>\n",
       "      <td>0.000000</td>\n",
       "      <td>0.000000</td>\n",
       "      <td>0.000000</td>\n",
       "    </tr>\n",
       "    <tr>\n",
       "      <th>25%</th>\n",
       "      <td>225.500000</td>\n",
       "      <td>299.000000</td>\n",
       "      <td>2.000000</td>\n",
       "      <td>23.500000</td>\n",
       "      <td>12.000000</td>\n",
       "      <td>1.000000</td>\n",
       "      <td>0.000000</td>\n",
       "      <td>0.000000</td>\n",
       "      <td>0.000000</td>\n",
       "      <td>0.000000</td>\n",
       "      <td>0.000000</td>\n",
       "      <td>0.000000</td>\n",
       "    </tr>\n",
       "    <tr>\n",
       "      <th>50%</th>\n",
       "      <td>466.000000</td>\n",
       "      <td>299.000000</td>\n",
       "      <td>3.000000</td>\n",
       "      <td>37.000000</td>\n",
       "      <td>28.000000</td>\n",
       "      <td>1.000000</td>\n",
       "      <td>0.000000</td>\n",
       "      <td>0.000000</td>\n",
       "      <td>0.000000</td>\n",
       "      <td>0.000000</td>\n",
       "      <td>0.000000</td>\n",
       "      <td>0.000000</td>\n",
       "    </tr>\n",
       "    <tr>\n",
       "      <th>75%</th>\n",
       "      <td>692.500000</td>\n",
       "      <td>300.000000</td>\n",
       "      <td>4.000000</td>\n",
       "      <td>56.000000</td>\n",
       "      <td>42.250000</td>\n",
       "      <td>1.000000</td>\n",
       "      <td>1.000000</td>\n",
       "      <td>1.000000</td>\n",
       "      <td>1.000000</td>\n",
       "      <td>1.000000</td>\n",
       "      <td>1.000000</td>\n",
       "      <td>1.000000</td>\n",
       "    </tr>\n",
       "    <tr>\n",
       "      <th>max</th>\n",
       "      <td>916.000000</td>\n",
       "      <td>300.000000</td>\n",
       "      <td>5.000000</td>\n",
       "      <td>77.000000</td>\n",
       "      <td>80.000000</td>\n",
       "      <td>1.000000</td>\n",
       "      <td>1.000000</td>\n",
       "      <td>1.000000</td>\n",
       "      <td>1.000000</td>\n",
       "      <td>1.000000</td>\n",
       "      <td>1.000000</td>\n",
       "      <td>1.000000</td>\n",
       "    </tr>\n",
       "  </tbody>\n",
       "</table>\n",
       "</div>"
      ]
     },
     "execution_count": 181,
     "metadata": {},
     "output_type": "execute_result"
    }
   ],
   "execution_count": 181
  },
  {
   "metadata": {
    "ExecuteTime": {
     "end_time": "2025-09-22T13:03:22.996326Z",
     "start_time": "2025-09-22T13:03:22.981350Z"
    }
   },
   "cell_type": "code",
   "source": "train_data.info()",
   "outputs": [
    {
     "name": "stdout",
     "output_type": "stream",
     "text": [
      "<class 'pandas.core.frame.DataFrame'>\n",
      "RangeIndex: 687 entries, 0 to 686\n",
      "Data columns (total 14 columns):\n",
      " #   Column              Non-Null Count  Dtype  \n",
      "---  ------              --------------  -----  \n",
      " 0   Character           687 non-null    int64  \n",
      " 1   Name                687 non-null    object \n",
      " 2   Allegiances         502 non-null    object \n",
      " 3   Death Year          243 non-null    float64\n",
      " 4   Book of Death       245 non-null    float64\n",
      " 5   Death Chapter       239 non-null    float64\n",
      " 6   Book Intro Chapter  676 non-null    float64\n",
      " 7   Gender              687 non-null    int64  \n",
      " 8   Nobility            687 non-null    int64  \n",
      " 9   GoT                 687 non-null    int64  \n",
      " 10  CoK                 687 non-null    int64  \n",
      " 11  SoS                 687 non-null    int64  \n",
      " 12  FfC                 687 non-null    int64  \n",
      " 13  DwD                 687 non-null    int64  \n",
      "dtypes: float64(4), int64(8), object(2)\n",
      "memory usage: 75.3+ KB\n"
     ]
    }
   ],
   "execution_count": 182
  },
  {
   "metadata": {},
   "cell_type": "markdown",
   "source": "We find out that some columns are 'object' type, which means they are categorical variables. We will need to convert them into numerical format before feeding them into the model."
  },
  {
   "metadata": {},
   "cell_type": "markdown",
   "source": "# <div style=\"font-family: 'Garamond', serif; font-size: 22px; color: #ffffff; background-color: #34568B; text-align: center; padding: 15px; border-radius: 10px; border: 2px solid #FF6F61; box-shadow: 0 6px 12px rgba(0, 0, 0, 0.3); margin-bottom: 20px;\">Step 2: Preprocess the data</div>"
  },
  {
   "metadata": {},
   "cell_type": "markdown",
   "source": "## <div style=\"font-family: 'Lucida Sans Unicode', sans-serif; font-size: 18px; color: #4A235A; background-color: #D7BDE2; text-align: left; padding: 10px; border-left: 5px solid #7D3C98; box-shadow: 0 4px 6px rgba(0, 0, 0, 0.2); margin-bottom: 10px;\">Separating features and target variable</div>"
  },
  {
   "metadata": {
    "ExecuteTime": {
     "end_time": "2025-09-22T13:03:23.183535Z",
     "start_time": "2025-09-22T13:03:23.169535Z"
    }
   },
   "cell_type": "code",
   "source": [
    "# Creating the binary target column\n",
    "train_data['isDead'] = train_data['Death Year'].notna().astype(int)\n",
    "\n",
    "# Separating the features and the target variable\n",
    "X = train_data.drop(columns=[\n",
    "    'isDead', 'Character', 'Name', 'Death Year', 'Book of Death', 'Death Chapter'\n",
    "])\n",
    "y = train_data['isDead']"
   ],
   "outputs": [],
   "execution_count": 183
  },
  {
   "metadata": {},
   "cell_type": "markdown",
   "source": "## <div style=\"font-family: 'Lucida Sans Unicode', sans-serif; font-size: 18px; color: #4A235A; background-color: #D7BDE2; text-align: left; padding: 10px; border-left: 5px solid #7D3C98; box-shadow: 0 4px 6px rgba(0, 0, 0, 0.2); margin-bottom: 10px;\">Preprocessing the data</div>"
  },
  {
   "metadata": {},
   "cell_type": "markdown",
   "source": "For preprocessing, we will replace all missing values with `0` as required by the assignment instructions. Then, we will convert the `Allegiances` column into multiple dummy variables using one-hot encoding. This allows the model to handle categorical data in a numerical format suitable for training."
  },
  {
   "metadata": {
    "ExecuteTime": {
     "end_time": "2025-09-22T13:03:23.356535Z",
     "start_time": "2025-09-22T13:03:23.341535Z"
    }
   },
   "cell_type": "code",
   "source": [
    "# Replace NaN with 0 for all numeric columns as required\n",
    "X = X.fillna(0)\n",
    "\n",
    "# Identify numerical and categorical columns\n",
    "numerical_cols = X.select_dtypes(include=['int64', 'float64']).columns\n",
    "categorical_cols = X.select_dtypes(include=['object', 'bool']).columns\n",
    "\n",
    "# Convert all categorical columns to string to avoid mixed types error\n",
    "X[categorical_cols] = X[categorical_cols].astype(str)\n",
    "\n",
    "# Preprocessing for numerical data (no imputation needed since already filled with 0)\n",
    "numerical_transformer = 'passthrough'\n",
    "\n",
    "# Preprocessing for categorical data (only Allegiances needs one-hot encoding)\n",
    "categorical_transformer = Pipeline(steps=[\n",
    "    ('onehot', OneHotEncoder(handle_unknown='ignore'))\n",
    "])\n",
    "\n",
    "# Bundle preprocessing for numerical and categorical data\n",
    "preprocessor = ColumnTransformer(\n",
    "    transformers=[\n",
    "        ('num', numerical_transformer, numerical_cols),\n",
    "        ('cat', categorical_transformer, categorical_cols)\n",
    "    ])\n",
    "\n",
    "# Apply preprocessing to the feature matrix\n",
    "X_preprocessed = preprocessor.fit_transform(X)\n",
    "\n",
    "# Display the first 5 rows of the transformed feature matrix\n",
    "X_preprocessed[0:5]"
   ],
   "outputs": [
    {
     "data": {
      "text/plain": [
       "array([[ 4.,  1.,  0.,  0.,  0.,  0.,  1.,  0.,  1.,  0.,  0.,  0.,  0.,\n",
       "         0.,  0.,  0.,  0.,  0.,  0.,  0.,  0.,  0.,  0.,  0.,  0.,  0.,\n",
       "         0.,  0.,  0.],\n",
       "       [58.,  1.,  1.,  0.,  0.,  0.,  0.,  1.,  0.,  0.,  0.,  0.,  0.,\n",
       "         0.,  0.,  0.,  0.,  0.,  0.,  0.,  0.,  0.,  0.,  0.,  0.,  0.,\n",
       "         0.,  0.,  1.],\n",
       "       [69.,  1.,  0.,  0.,  0.,  1.,  0.,  0.,  0.,  0.,  0.,  0.,  0.,\n",
       "         0.,  0.,  0.,  0.,  0.,  0.,  0.,  0.,  0.,  0.,  1.,  0.,  0.,\n",
       "         0.,  0.,  0.],\n",
       "       [48.,  1.,  0.,  1.,  0.,  0.,  0.,  0.,  0.,  0.,  0.,  0.,  0.,\n",
       "         0.,  0.,  0.,  0.,  0.,  0.,  0.,  0.,  0.,  0.,  1.,  0.,  0.,\n",
       "         0.,  0.,  0.],\n",
       "       [ 7.,  1.,  0.,  1.,  0.,  0.,  0.,  0.,  0.,  0.,  0.,  0.,  0.,\n",
       "         0.,  0.,  0.,  0.,  1.,  0.,  0.,  0.,  0.,  0.,  0.,  0.,  0.,\n",
       "         0.,  0.,  0.]])"
      ]
     },
     "execution_count": 184,
     "metadata": {},
     "output_type": "execute_result"
    }
   ],
   "execution_count": 184
  },
  {
   "metadata": {},
   "cell_type": "markdown",
   "source": "# <div style=\"font-family: 'Garamond', serif; font-size: 22px; color: #ffffff; background-color: #34568B; text-align: center; padding: 15px; border-radius: 10px; border: 2px solid #FF6F61; box-shadow: 0 6px 12px rgba(0, 0, 0, 0.3); margin-bottom: 20px;\">Step 3: Train the model</div>"
  },
  {
   "metadata": {},
   "cell_type": "markdown",
   "source": "<div style=\"font-family: 'Lucida Sans Unicode', sans-serif; font-size: 18px; color: #4A235A; background-color: #D7BDE2; text-align: left; padding: 10px; border-left: 5px solid #7D3C98; box-shadow: 0 4px 6px rgba(0, 0, 0, 0.2); margin-bottom: 10px;\">Splitting the data into training and validation sets</div>"
  },
  {
   "metadata": {
    "ExecuteTime": {
     "end_time": "2025-09-22T13:03:23.480534Z",
     "start_time": "2025-09-22T13:03:23.465537Z"
    }
   },
   "cell_type": "code",
   "source": [
    "# Split data into training and validation subsets\n",
    "X_train, X_valid, y_train, y_valid = train_test_split(X, y, test_size=0.25, random_state=42)\n",
    "\n",
    "# Print the shapes of the resulting datasets\n",
    "print(f\"X_train shape: {X_train.shape}\")\n",
    "print(f\"X_valid shape: {X_valid.shape}\")\n",
    "print(f\"y_train shape: {y_train.shape}\")\n",
    "print(f\"y_valid shape: {y_valid.shape}\")"
   ],
   "outputs": [
    {
     "name": "stdout",
     "output_type": "stream",
     "text": [
      "X_train shape: (515, 9)\n",
      "X_valid shape: (172, 9)\n",
      "y_train shape: (515,)\n",
      "y_valid shape: (172,)\n"
     ]
    }
   ],
   "execution_count": 185
  },
  {
   "metadata": {},
   "cell_type": "markdown",
   "source": "<div style=\"font-family: 'Lucida Sans Unicode', sans-serif; font-size: 18px; color: #4A235A; background-color: #D7BDE2; text-align: left; padding: 10px; border-left: 5px solid #7D3C98; box-shadow: 0 4px 6px rgba(0, 0, 0, 0.2); margin-bottom: 10px;\">Training the DecisionTreeClassifier model</div>"
  },
  {
   "metadata": {
    "ExecuteTime": {
     "end_time": "2025-09-22T13:03:23.620543Z",
     "start_time": "2025-09-22T13:03:23.605538Z"
    }
   },
   "cell_type": "code",
   "source": [
    "# Define the Decision Tree model\n",
    "dt_model = DecisionTreeClassifier(max_depth=4, random_state=42)\n",
    "\n",
    "# Create and evaluate the pipeline\n",
    "dt_pipeline = Pipeline(steps=[('preprocessor', preprocessor),\n",
    "                              ('model', dt_model)])\n",
    "\n",
    "# Preprocessing of training data, fit model\n",
    "dt_pipeline.fit(X_train, y_train)\n",
    "\n",
    "# Preprocessing of validation data, get probability predictions\n",
    "valid_probs = dt_pipeline.predict_proba(X_valid)\n",
    "\n",
    "# Extracting the probabilities for the positive class\n",
    "valid_positive_probs = valid_probs[:, 1]\n",
    "\n",
    "# Evaluate the model using AUC\n",
    "auc_score = roc_auc_score(y_valid, valid_positive_probs)\n",
    "auc_score"
   ],
   "outputs": [
    {
     "data": {
      "text/plain": [
       "0.6777529761904763"
      ]
     },
     "execution_count": 186,
     "metadata": {},
     "output_type": "execute_result"
    }
   ],
   "execution_count": 186
  },
  {
   "metadata": {},
   "cell_type": "markdown",
   "source": "<div style=\"font-family: 'Lucida Sans Unicode', sans-serif; font-size: 18px; color: #4A235A; background-color: #D7BDE2; text-align: left; padding: 10px; border-left: 5px solid #7D3C98; box-shadow: 0 4px 6px rgba(0, 0, 0, 0.2); margin-bottom: 10px;\">Evaluating the Decision Tree model with confusion matrix, precision, recall, and accuracy</div>"
  },
  {
   "metadata": {
    "ExecuteTime": {
     "end_time": "2025-09-22T13:03:23.777535Z",
     "start_time": "2025-09-22T13:03:23.762535Z"
    }
   },
   "cell_type": "code",
   "source": [
    "# Make predictions on the validation set\n",
    "y_pred = dt_pipeline.predict(X_valid)\n",
    "\n",
    "# Compute confusion matrix\n",
    "cm = confusion_matrix(y_valid, y_pred)\n",
    "\n",
    "# Compute precision, recall, accuracy\n",
    "precision = precision_score(y_valid, y_pred, zero_division=0)\n",
    "recall = recall_score(y_valid, y_pred, zero_division=0)\n",
    "accuracy = accuracy_score(y_valid, y_pred)\n",
    "\n",
    "# Print evaluation metrics\n",
    "print(f\"Confusion Matrix:\\n{cm}\")\n",
    "print(f\"Precision: {precision:.4f}\")\n",
    "print(f\"Recall:    {recall:.4f}\")\n",
    "print(f\"Accuracy:  {accuracy:.4f}\")"
   ],
   "outputs": [
    {
     "name": "stdout",
     "output_type": "stream",
     "text": [
      "Confusion Matrix:\n",
      "[[83 29]\n",
      " [28 32]]\n",
      "Precision: 0.5246\n",
      "Recall:    0.5333\n",
      "Accuracy:  0.6686\n"
     ]
    }
   ],
   "execution_count": 187
  },
  {
   "metadata": {},
   "cell_type": "markdown",
   "source": "<div style=\"font-family: 'Lucida Sans Unicode', sans-serif; font-size: 18px; color: #4A235A; background-color: #D7BDE2; text-align: left; padding: 10px; border-left: 5px solid #7D3C98; box-shadow: 0 4px 6px rgba(0, 0, 0, 0.2); margin-bottom: 10px;\">Visualizing the decision tree</div>"
  },
  {
   "metadata": {
    "ExecuteTime": {
     "end_time": "2025-09-22T13:03:24.243534Z",
     "start_time": "2025-09-22T13:03:23.857534Z"
    }
   },
   "cell_type": "code",
   "source": [
    "# Extract fitted OneHotEncoder from the full pipeline\n",
    "fitted_ohe = dt_pipeline.named_steps['preprocessor'].transformers_[1][1].named_steps['onehot']\n",
    "\n",
    "# Extract feature names after one-hot encoding\n",
    "ohe_feature_names = fitted_ohe.get_feature_names_out(categorical_cols)\n",
    "\n",
    "# Combine numerical and categorical (one-hot) feature names\n",
    "feature_names = list(numerical_cols) + list(ohe_feature_names)\n",
    "\n",
    "# Extract fitted decision tree model from pipeline\n",
    "dt_model = dt_pipeline.named_steps['model']\n",
    "\n",
    "# Export tree to DOT format\n",
    "dot_data = export_graphviz(\n",
    "    dt_model,\n",
    "    out_file=None,\n",
    "    feature_names=feature_names,\n",
    "    class_names=['Alive', 'Dead'],\n",
    "    filled=True,\n",
    "    rounded=True,\n",
    "    special_characters=True\n",
    ")\n",
    "\n",
    "# Export and save the tree as PNG\n",
    "graph = graphviz.Source(dot_data, engine=\"dot\")\n",
    "png_bytes = graph.pipe(format=\"png\")\n",
    "with open(\"plot/tree.png\", \"wb\") as f:\n",
    "    f.write(png_bytes)\n",
    "graph"
   ],
   "outputs": [
    {
     "data": {
      "image/svg+xml": "<?xml version=\"1.0\" encoding=\"UTF-8\" standalone=\"no\"?>\n<!DOCTYPE svg PUBLIC \"-//W3C//DTD SVG 1.1//EN\"\n \"http://www.w3.org/Graphics/SVG/1.1/DTD/svg11.dtd\">\n<!-- Generated by graphviz version 9.0.0 (20230911.1827)\n -->\n<!-- Title: Tree Pages: 1 -->\n<svg width=\"1918pt\" height=\"588pt\"\n viewBox=\"0.00 0.00 1918.12 588.00\" xmlns=\"http://www.w3.org/2000/svg\" xmlns:xlink=\"http://www.w3.org/1999/xlink\">\n<g id=\"graph0\" class=\"graph\" transform=\"scale(1 1) rotate(0) translate(4 584)\">\n<title>Tree</title>\n<polygon fill=\"white\" stroke=\"none\" points=\"-4,4 -4,-584 1914.12,-584 1914.12,4 -4,4\"/>\n<!-- 0 -->\n<g id=\"node1\" class=\"node\">\n<title>0</title>\n<path fill=\"#f3c6a6\" stroke=\"black\" d=\"M985.12,-580C985.12,-580 879.88,-580 879.88,-580 873.88,-580 867.88,-574 867.88,-568 867.88,-568 867.88,-501.5 867.88,-501.5 867.88,-495.5 873.88,-489.5 879.88,-489.5 879.88,-489.5 985.12,-489.5 985.12,-489.5 991.12,-489.5 997.12,-495.5 997.12,-501.5 997.12,-501.5 997.12,-568 997.12,-568 997.12,-574 991.12,-580 985.12,-580\"/>\n<text text-anchor=\"start\" x=\"902.88\" y=\"-562.7\" font-family=\"Helvetica,sans-Serif\" font-size=\"14.00\">FfC ≤ 0.5</text>\n<text text-anchor=\"start\" x=\"895.38\" y=\"-546.2\" font-family=\"Helvetica,sans-Serif\" font-size=\"14.00\">gini = 0.458</text>\n<text text-anchor=\"start\" x=\"885.25\" y=\"-529.7\" font-family=\"Helvetica,sans-Serif\" font-size=\"14.00\">samples = 515</text>\n<text text-anchor=\"start\" x=\"875.88\" y=\"-513.2\" font-family=\"Helvetica,sans-Serif\" font-size=\"14.00\">value = [332, 183]</text>\n<text text-anchor=\"start\" x=\"892.75\" y=\"-496.7\" font-family=\"Helvetica,sans-Serif\" font-size=\"14.00\">class = Alive</text>\n</g>\n<!-- 1 -->\n<g id=\"node2\" class=\"node\">\n<title>1</title>\n<path fill=\"#f8dfcc\" stroke=\"black\" d=\"M785.12,-453.5C785.12,-453.5 679.88,-453.5 679.88,-453.5 673.88,-453.5 667.88,-447.5 667.88,-441.5 667.88,-441.5 667.88,-375 667.88,-375 667.88,-369 673.88,-363 679.88,-363 679.88,-363 785.12,-363 785.12,-363 791.12,-363 797.12,-369 797.12,-375 797.12,-375 797.12,-441.5 797.12,-441.5 797.12,-447.5 791.12,-453.5 785.12,-453.5\"/>\n<text text-anchor=\"start\" x=\"699.5\" y=\"-436.2\" font-family=\"Helvetica,sans-Serif\" font-size=\"14.00\">DwD ≤ 0.5</text>\n<text text-anchor=\"start\" x=\"695.38\" y=\"-419.7\" font-family=\"Helvetica,sans-Serif\" font-size=\"14.00\">gini = 0.489</text>\n<text text-anchor=\"start\" x=\"685.25\" y=\"-403.2\" font-family=\"Helvetica,sans-Serif\" font-size=\"14.00\">samples = 380</text>\n<text text-anchor=\"start\" x=\"675.88\" y=\"-386.7\" font-family=\"Helvetica,sans-Serif\" font-size=\"14.00\">value = [218, 162]</text>\n<text text-anchor=\"start\" x=\"692.75\" y=\"-370.2\" font-family=\"Helvetica,sans-Serif\" font-size=\"14.00\">class = Alive</text>\n</g>\n<!-- 0&#45;&gt;1 -->\n<g id=\"edge1\" class=\"edge\">\n<title>0&#45;&gt;1</title>\n<path fill=\"none\" stroke=\"black\" d=\"M867.57,-493.33C848.26,-481.31 826.95,-468.04 807.08,-455.67\"/>\n<polygon fill=\"black\" stroke=\"black\" points=\"809.07,-452.79 798.74,-450.48 805.38,-458.74 809.07,-452.79\"/>\n<text text-anchor=\"middle\" x=\"803.12\" y=\"-468.98\" font-family=\"Helvetica,sans-Serif\" font-size=\"14.00\">True</text>\n</g>\n<!-- 16 -->\n<g id=\"node17\" class=\"node\">\n<title>16</title>\n<path fill=\"#ea985d\" stroke=\"black\" d=\"M1256.12,-453.5C1256.12,-453.5 1138.88,-453.5 1138.88,-453.5 1132.88,-453.5 1126.88,-447.5 1126.88,-441.5 1126.88,-441.5 1126.88,-375 1126.88,-375 1126.88,-369 1132.88,-363 1138.88,-363 1138.88,-363 1256.12,-363 1256.12,-363 1262.12,-363 1268.12,-369 1268.12,-375 1268.12,-375 1268.12,-441.5 1268.12,-441.5 1268.12,-447.5 1262.12,-453.5 1256.12,-453.5\"/>\n<text text-anchor=\"start\" x=\"1134.88\" y=\"-436.2\" font-family=\"Helvetica,sans-Serif\" font-size=\"14.00\">Allegiances_0 ≤ 0.5</text>\n<text text-anchor=\"start\" x=\"1160.38\" y=\"-419.7\" font-family=\"Helvetica,sans-Serif\" font-size=\"14.00\">gini = 0.263</text>\n<text text-anchor=\"start\" x=\"1150.25\" y=\"-403.2\" font-family=\"Helvetica,sans-Serif\" font-size=\"14.00\">samples = 135</text>\n<text text-anchor=\"start\" x=\"1145\" y=\"-386.7\" font-family=\"Helvetica,sans-Serif\" font-size=\"14.00\">value = [114, 21]</text>\n<text text-anchor=\"start\" x=\"1157.75\" y=\"-370.2\" font-family=\"Helvetica,sans-Serif\" font-size=\"14.00\">class = Alive</text>\n</g>\n<!-- 0&#45;&gt;16 -->\n<g id=\"edge16\" class=\"edge\">\n<title>0&#45;&gt;16</title>\n<path fill=\"none\" stroke=\"black\" d=\"M997.33,-503.29C1033.33,-486.38 1078.46,-465.18 1116.74,-447.19\"/>\n<polygon fill=\"black\" stroke=\"black\" points=\"1117.9,-450.51 1125.46,-443.09 1114.92,-444.18 1117.9,-450.51\"/>\n<text text-anchor=\"middle\" x=\"1118.35\" y=\"-460.92\" font-family=\"Helvetica,sans-Serif\" font-size=\"14.00\">False</text>\n</g>\n<!-- 2 -->\n<g id=\"node3\" class=\"node\">\n<title>2</title>\n<path fill=\"#f5fafe\" stroke=\"black\" d=\"M469.12,-327C469.12,-327 351.88,-327 351.88,-327 345.88,-327 339.88,-321 339.88,-315 339.88,-315 339.88,-248.5 339.88,-248.5 339.88,-242.5 345.88,-236.5 351.88,-236.5 351.88,-236.5 469.12,-236.5 469.12,-236.5 475.12,-236.5 481.12,-242.5 481.12,-248.5 481.12,-248.5 481.12,-315 481.12,-315 481.12,-321 475.12,-327 469.12,-327\"/>\n<text text-anchor=\"start\" x=\"347.88\" y=\"-309.7\" font-family=\"Helvetica,sans-Serif\" font-size=\"14.00\">Allegiances_0 ≤ 0.5</text>\n<text text-anchor=\"start\" x=\"381.62\" y=\"-293.2\" font-family=\"Helvetica,sans-Serif\" font-size=\"14.00\">gini = 0.5</text>\n<text text-anchor=\"start\" x=\"363.25\" y=\"-276.7\" font-family=\"Helvetica,sans-Serif\" font-size=\"14.00\">samples = 265</text>\n<text text-anchor=\"start\" x=\"353.88\" y=\"-260.2\" font-family=\"Helvetica,sans-Serif\" font-size=\"14.00\">value = [129, 136]</text>\n<text text-anchor=\"start\" x=\"368.88\" y=\"-243.7\" font-family=\"Helvetica,sans-Serif\" font-size=\"14.00\">class = Dead</text>\n</g>\n<!-- 1&#45;&gt;2 -->\n<g id=\"edge2\" class=\"edge\">\n<title>1&#45;&gt;2</title>\n<path fill=\"none\" stroke=\"black\" d=\"M667.73,-382.21C617.19,-362.67 546.68,-335.4 492.26,-314.36\"/>\n<polygon fill=\"black\" stroke=\"black\" points=\"493.61,-311.13 483.02,-310.79 491.08,-317.66 493.61,-311.13\"/>\n</g>\n<!-- 9 -->\n<g id=\"node10\" class=\"node\">\n<title>9</title>\n<path fill=\"#eda673\" stroke=\"black\" d=\"M812.12,-327C812.12,-327 652.88,-327 652.88,-327 646.88,-327 640.88,-321 640.88,-315 640.88,-315 640.88,-248.5 640.88,-248.5 640.88,-242.5 646.88,-236.5 652.88,-236.5 652.88,-236.5 812.12,-236.5 812.12,-236.5 818.12,-236.5 824.12,-242.5 824.12,-248.5 824.12,-248.5 824.12,-315 824.12,-315 824.12,-321 818.12,-327 812.12,-327\"/>\n<text text-anchor=\"start\" x=\"648.88\" y=\"-309.7\" font-family=\"Helvetica,sans-Serif\" font-size=\"14.00\">Allegiances_Wildling ≤ 0.5</text>\n<text text-anchor=\"start\" x=\"699.5\" y=\"-293.2\" font-family=\"Helvetica,sans-Serif\" font-size=\"14.00\">gini = 0.35</text>\n<text text-anchor=\"start\" x=\"685.25\" y=\"-276.7\" font-family=\"Helvetica,sans-Serif\" font-size=\"14.00\">samples = 115</text>\n<text text-anchor=\"start\" x=\"684.12\" y=\"-260.2\" font-family=\"Helvetica,sans-Serif\" font-size=\"14.00\">value = [89, 26]</text>\n<text text-anchor=\"start\" x=\"692.75\" y=\"-243.7\" font-family=\"Helvetica,sans-Serif\" font-size=\"14.00\">class = Alive</text>\n</g>\n<!-- 1&#45;&gt;9 -->\n<g id=\"edge9\" class=\"edge\">\n<title>1&#45;&gt;9</title>\n<path fill=\"none\" stroke=\"black\" d=\"M732.5,-362.65C732.5,-354.97 732.5,-346.89 732.5,-338.94\"/>\n<polygon fill=\"black\" stroke=\"black\" points=\"736,-338.97 732.5,-328.97 729,-338.97 736,-338.97\"/>\n</g>\n<!-- 3 -->\n<g id=\"node4\" class=\"node\">\n<title>3</title>\n<path fill=\"#d3e9f9\" stroke=\"black\" d=\"M262.62,-200.5C262.62,-200.5 112.38,-200.5 112.38,-200.5 106.38,-200.5 100.38,-194.5 100.38,-188.5 100.38,-188.5 100.38,-122 100.38,-122 100.38,-116 106.38,-110 112.38,-110 112.38,-110 262.62,-110 262.62,-110 268.62,-110 274.62,-116 274.62,-122 274.62,-122 274.62,-188.5 274.62,-188.5 274.62,-194.5 268.62,-200.5 262.62,-200.5\"/>\n<text text-anchor=\"start\" x=\"108.38\" y=\"-183.2\" font-family=\"Helvetica,sans-Serif\" font-size=\"14.00\">Allegiances_Martell ≤ 0.5</text>\n<text text-anchor=\"start\" x=\"150.38\" y=\"-166.7\" font-family=\"Helvetica,sans-Serif\" font-size=\"14.00\">gini = 0.492</text>\n<text text-anchor=\"start\" x=\"140.25\" y=\"-150.2\" font-family=\"Helvetica,sans-Serif\" font-size=\"14.00\">samples = 199</text>\n<text text-anchor=\"start\" x=\"135\" y=\"-133.7\" font-family=\"Helvetica,sans-Serif\" font-size=\"14.00\">value = [87, 112]</text>\n<text text-anchor=\"start\" x=\"145.88\" y=\"-117.2\" font-family=\"Helvetica,sans-Serif\" font-size=\"14.00\">class = Dead</text>\n</g>\n<!-- 2&#45;&gt;3 -->\n<g id=\"edge3\" class=\"edge\">\n<title>2&#45;&gt;3</title>\n<path fill=\"none\" stroke=\"black\" d=\"M339.64,-241.19C319.91,-230.17 298.21,-218.06 277.54,-206.52\"/>\n<polygon fill=\"black\" stroke=\"black\" points=\"279.25,-203.46 268.81,-201.65 275.84,-209.58 279.25,-203.46\"/>\n</g>\n<!-- 6 -->\n<g id=\"node7\" class=\"node\">\n<title>6</title>\n<path fill=\"#f4c9aa\" stroke=\"black\" d=\"M487.88,-200.5C487.88,-200.5 333.12,-200.5 333.12,-200.5 327.12,-200.5 321.12,-194.5 321.12,-188.5 321.12,-188.5 321.12,-122 321.12,-122 321.12,-116 327.12,-110 333.12,-110 333.12,-110 487.88,-110 487.88,-110 493.88,-110 499.88,-116 499.88,-122 499.88,-122 499.88,-188.5 499.88,-188.5 499.88,-194.5 493.88,-200.5 487.88,-200.5\"/>\n<text text-anchor=\"start\" x=\"329.12\" y=\"-183.2\" font-family=\"Helvetica,sans-Serif\" font-size=\"14.00\">Book Intro Chapter ≤ 47.5</text>\n<text text-anchor=\"start\" x=\"373.38\" y=\"-166.7\" font-family=\"Helvetica,sans-Serif\" font-size=\"14.00\">gini = 0.463</text>\n<text text-anchor=\"start\" x=\"367.38\" y=\"-150.2\" font-family=\"Helvetica,sans-Serif\" font-size=\"14.00\">samples = 66</text>\n<text text-anchor=\"start\" x=\"362.12\" y=\"-133.7\" font-family=\"Helvetica,sans-Serif\" font-size=\"14.00\">value = [42, 24]</text>\n<text text-anchor=\"start\" x=\"370.75\" y=\"-117.2\" font-family=\"Helvetica,sans-Serif\" font-size=\"14.00\">class = Alive</text>\n</g>\n<!-- 2&#45;&gt;6 -->\n<g id=\"edge6\" class=\"edge\">\n<title>2&#45;&gt;6</title>\n<path fill=\"none\" stroke=\"black\" d=\"M410.5,-236.15C410.5,-228.47 410.5,-220.39 410.5,-212.44\"/>\n<polygon fill=\"black\" stroke=\"black\" points=\"414,-212.47 410.5,-202.47 407,-212.47 414,-212.47\"/>\n</g>\n<!-- 4 -->\n<g id=\"node5\" class=\"node\">\n<title>4</title>\n<path fill=\"#cee6f8\" stroke=\"black\" d=\"M109,-74C109,-74 12,-74 12,-74 6,-74 0,-68 0,-62 0,-62 0,-12 0,-12 0,-6 6,0 12,0 12,0 109,0 109,0 115,0 121,-6 121,-12 121,-12 121,-62 121,-62 121,-68 115,-74 109,-74\"/>\n<text text-anchor=\"start\" x=\"27.5\" y=\"-56.7\" font-family=\"Helvetica,sans-Serif\" font-size=\"14.00\">gini = 0.49</text>\n<text text-anchor=\"start\" x=\"13.25\" y=\"-40.2\" font-family=\"Helvetica,sans-Serif\" font-size=\"14.00\">samples = 196</text>\n<text text-anchor=\"start\" x=\"8\" y=\"-23.7\" font-family=\"Helvetica,sans-Serif\" font-size=\"14.00\">value = [84, 112]</text>\n<text text-anchor=\"start\" x=\"18.88\" y=\"-7.2\" font-family=\"Helvetica,sans-Serif\" font-size=\"14.00\">class = Dead</text>\n</g>\n<!-- 3&#45;&gt;4 -->\n<g id=\"edge4\" class=\"edge\">\n<title>3&#45;&gt;4</title>\n<path fill=\"none\" stroke=\"black\" d=\"M138.76,-109.64C128.92,-100.62 118.57,-91.15 108.74,-82.15\"/>\n<polygon fill=\"black\" stroke=\"black\" points=\"111.12,-79.59 101.38,-75.42 106.39,-84.75 111.12,-79.59\"/>\n</g>\n<!-- 5 -->\n<g id=\"node6\" class=\"node\">\n<title>5</title>\n<path fill=\"#e58139\" stroke=\"black\" d=\"M223.62,-74C223.62,-74 151.38,-74 151.38,-74 145.38,-74 139.38,-68 139.38,-62 139.38,-62 139.38,-12 139.38,-12 139.38,-6 145.38,0 151.38,0 151.38,0 223.62,0 223.62,0 229.62,0 235.62,-6 235.62,-12 235.62,-12 235.62,-62 235.62,-62 235.62,-68 229.62,-74 223.62,-74\"/>\n<text text-anchor=\"start\" x=\"158.62\" y=\"-56.7\" font-family=\"Helvetica,sans-Serif\" font-size=\"14.00\">gini = 0.0</text>\n<text text-anchor=\"start\" x=\"148.5\" y=\"-40.2\" font-family=\"Helvetica,sans-Serif\" font-size=\"14.00\">samples = 3</text>\n<text text-anchor=\"start\" x=\"147.38\" y=\"-23.7\" font-family=\"Helvetica,sans-Serif\" font-size=\"14.00\">value = [3, 0]</text>\n<text text-anchor=\"start\" x=\"147.75\" y=\"-7.2\" font-family=\"Helvetica,sans-Serif\" font-size=\"14.00\">class = Alive</text>\n</g>\n<!-- 3&#45;&gt;5 -->\n<g id=\"edge5\" class=\"edge\">\n<title>3&#45;&gt;5</title>\n<path fill=\"none\" stroke=\"black\" d=\"M187.5,-109.64C187.5,-101.81 187.5,-93.63 187.5,-85.72\"/>\n<polygon fill=\"black\" stroke=\"black\" points=\"191,-85.91 187.5,-75.91 184,-85.91 191,-85.91\"/>\n</g>\n<!-- 7 -->\n<g id=\"node8\" class=\"node\">\n<title>7</title>\n<path fill=\"#fbebdf\" stroke=\"black\" d=\"M354.88,-74C354.88,-74 266.12,-74 266.12,-74 260.12,-74 254.12,-68 254.12,-62 254.12,-62 254.12,-12 254.12,-12 254.12,-6 260.12,0 266.12,0 266.12,0 354.88,0 354.88,0 360.88,0 366.88,-6 366.88,-12 366.88,-12 366.88,-62 366.88,-62 366.88,-68 360.88,-74 354.88,-74\"/>\n<text text-anchor=\"start\" x=\"273.38\" y=\"-56.7\" font-family=\"Helvetica,sans-Serif\" font-size=\"14.00\">gini = 0.496</text>\n<text text-anchor=\"start\" x=\"267.38\" y=\"-40.2\" font-family=\"Helvetica,sans-Serif\" font-size=\"14.00\">samples = 46</text>\n<text text-anchor=\"start\" x=\"262.12\" y=\"-23.7\" font-family=\"Helvetica,sans-Serif\" font-size=\"14.00\">value = [25, 21]</text>\n<text text-anchor=\"start\" x=\"270.75\" y=\"-7.2\" font-family=\"Helvetica,sans-Serif\" font-size=\"14.00\">class = Alive</text>\n</g>\n<!-- 6&#45;&gt;7 -->\n<g id=\"edge7\" class=\"edge\">\n<title>6&#45;&gt;7</title>\n<path fill=\"none\" stroke=\"black\" d=\"M372.12,-109.64C364.61,-100.9 356.72,-91.73 349.19,-82.97\"/>\n<polygon fill=\"black\" stroke=\"black\" points=\"351.97,-80.84 342.79,-75.54 346.66,-85.4 351.97,-80.84\"/>\n</g>\n<!-- 8 -->\n<g id=\"node9\" class=\"node\">\n<title>8</title>\n<path fill=\"#ea975c\" stroke=\"black\" d=\"M477.75,-74C477.75,-74 397.25,-74 397.25,-74 391.25,-74 385.25,-68 385.25,-62 385.25,-62 385.25,-12 385.25,-12 385.25,-6 391.25,0 397.25,0 397.25,0 477.75,0 477.75,0 483.75,0 489.75,-6 489.75,-12 489.75,-12 489.75,-62 489.75,-62 489.75,-68 483.75,-74 477.75,-74\"/>\n<text text-anchor=\"start\" x=\"400.38\" y=\"-56.7\" font-family=\"Helvetica,sans-Serif\" font-size=\"14.00\">gini = 0.255</text>\n<text text-anchor=\"start\" x=\"394.38\" y=\"-40.2\" font-family=\"Helvetica,sans-Serif\" font-size=\"14.00\">samples = 20</text>\n<text text-anchor=\"start\" x=\"393.25\" y=\"-23.7\" font-family=\"Helvetica,sans-Serif\" font-size=\"14.00\">value = [17, 3]</text>\n<text text-anchor=\"start\" x=\"397.75\" y=\"-7.2\" font-family=\"Helvetica,sans-Serif\" font-size=\"14.00\">class = Alive</text>\n</g>\n<!-- 6&#45;&gt;8 -->\n<g id=\"edge8\" class=\"edge\">\n<title>6&#45;&gt;8</title>\n<path fill=\"none\" stroke=\"black\" d=\"M420.86,-109.64C422.7,-101.72 424.62,-93.44 426.48,-85.45\"/>\n<polygon fill=\"black\" stroke=\"black\" points=\"429.85,-86.4 428.7,-75.87 423.03,-84.82 429.85,-86.4\"/>\n</g>\n<!-- 10 -->\n<g id=\"node11\" class=\"node\">\n<title>10</title>\n<path fill=\"#eb9e67\" stroke=\"black\" d=\"M719.75,-200.5C719.75,-200.5 573.25,-200.5 573.25,-200.5 567.25,-200.5 561.25,-194.5 561.25,-188.5 561.25,-188.5 561.25,-122 561.25,-122 561.25,-116 567.25,-110 573.25,-110 573.25,-110 719.75,-110 719.75,-110 725.75,-110 731.75,-116 731.75,-122 731.75,-122 731.75,-188.5 731.75,-188.5 731.75,-194.5 725.75,-200.5 719.75,-200.5\"/>\n<text text-anchor=\"start\" x=\"569.25\" y=\"-183.2\" font-family=\"Helvetica,sans-Serif\" font-size=\"14.00\">Book Intro Chapter ≤ 0.5</text>\n<text text-anchor=\"start\" x=\"609.38\" y=\"-166.7\" font-family=\"Helvetica,sans-Serif\" font-size=\"14.00\">gini = 0.306</text>\n<text text-anchor=\"start\" x=\"599.25\" y=\"-150.2\" font-family=\"Helvetica,sans-Serif\" font-size=\"14.00\">samples = 106</text>\n<text text-anchor=\"start\" x=\"598.12\" y=\"-133.7\" font-family=\"Helvetica,sans-Serif\" font-size=\"14.00\">value = [86, 20]</text>\n<text text-anchor=\"start\" x=\"606.75\" y=\"-117.2\" font-family=\"Helvetica,sans-Serif\" font-size=\"14.00\">class = Alive</text>\n</g>\n<!-- 9&#45;&gt;10 -->\n<g id=\"edge10\" class=\"edge\">\n<title>9&#45;&gt;10</title>\n<path fill=\"none\" stroke=\"black\" d=\"M701.69,-236.15C695.89,-227.75 689.76,-218.88 683.78,-210.23\"/>\n<polygon fill=\"black\" stroke=\"black\" points=\"686.8,-208.44 678.24,-202.2 681.04,-212.42 686.8,-208.44\"/>\n</g>\n<!-- 13 -->\n<g id=\"node14\" class=\"node\">\n<title>13</title>\n<path fill=\"#9ccef2\" stroke=\"black\" d=\"M916.88,-200.5C916.88,-200.5 762.12,-200.5 762.12,-200.5 756.12,-200.5 750.12,-194.5 750.12,-188.5 750.12,-188.5 750.12,-122 750.12,-122 750.12,-116 756.12,-110 762.12,-110 762.12,-110 916.88,-110 916.88,-110 922.88,-110 928.88,-116 928.88,-122 928.88,-122 928.88,-188.5 928.88,-188.5 928.88,-194.5 922.88,-200.5 916.88,-200.5\"/>\n<text text-anchor=\"start\" x=\"758.12\" y=\"-183.2\" font-family=\"Helvetica,sans-Serif\" font-size=\"14.00\">Book Intro Chapter ≤ 11.0</text>\n<text text-anchor=\"start\" x=\"802.38\" y=\"-166.7\" font-family=\"Helvetica,sans-Serif\" font-size=\"14.00\">gini = 0.444</text>\n<text text-anchor=\"start\" x=\"800.5\" y=\"-150.2\" font-family=\"Helvetica,sans-Serif\" font-size=\"14.00\">samples = 9</text>\n<text text-anchor=\"start\" x=\"799.38\" y=\"-133.7\" font-family=\"Helvetica,sans-Serif\" font-size=\"14.00\">value = [3, 6]</text>\n<text text-anchor=\"start\" x=\"797.88\" y=\"-117.2\" font-family=\"Helvetica,sans-Serif\" font-size=\"14.00\">class = Dead</text>\n</g>\n<!-- 9&#45;&gt;13 -->\n<g id=\"edge13\" class=\"edge\">\n<title>9&#45;&gt;13</title>\n<path fill=\"none\" stroke=\"black\" d=\"M770.83,-236.15C778.2,-227.57 786,-218.5 793.59,-209.67\"/>\n<polygon fill=\"black\" stroke=\"black\" points=\"796.23,-211.97 800.09,-202.1 790.92,-207.4 796.23,-211.97\"/>\n</g>\n<!-- 11 -->\n<g id=\"node12\" class=\"node\">\n<title>11</title>\n<path fill=\"#9ccef2\" stroke=\"black\" d=\"M595.12,-74C595.12,-74 519.88,-74 519.88,-74 513.88,-74 507.88,-68 507.88,-62 507.88,-62 507.88,-12 507.88,-12 507.88,-6 513.88,0 519.88,0 519.88,0 595.12,0 595.12,0 601.12,0 607.12,-6 607.12,-12 607.12,-12 607.12,-62 607.12,-62 607.12,-68 601.12,-74 595.12,-74\"/>\n<text text-anchor=\"start\" x=\"520.38\" y=\"-56.7\" font-family=\"Helvetica,sans-Serif\" font-size=\"14.00\">gini = 0.444</text>\n<text text-anchor=\"start\" x=\"518.5\" y=\"-40.2\" font-family=\"Helvetica,sans-Serif\" font-size=\"14.00\">samples = 6</text>\n<text text-anchor=\"start\" x=\"517.38\" y=\"-23.7\" font-family=\"Helvetica,sans-Serif\" font-size=\"14.00\">value = [2, 4]</text>\n<text text-anchor=\"start\" x=\"515.88\" y=\"-7.2\" font-family=\"Helvetica,sans-Serif\" font-size=\"14.00\">class = Dead</text>\n</g>\n<!-- 10&#45;&gt;11 -->\n<g id=\"edge11\" class=\"edge\">\n<title>10&#45;&gt;11</title>\n<path fill=\"none\" stroke=\"black\" d=\"M612.34,-109.64C605.79,-101.08 598.92,-92.11 592.35,-83.52\"/>\n<polygon fill=\"black\" stroke=\"black\" points=\"595.14,-81.41 586.28,-75.6 589.58,-85.66 595.14,-81.41\"/>\n</g>\n<!-- 12 -->\n<g id=\"node13\" class=\"node\">\n<title>12</title>\n<path fill=\"#ea995f\" stroke=\"black\" d=\"M725.88,-74C725.88,-74 637.12,-74 637.12,-74 631.12,-74 625.12,-68 625.12,-62 625.12,-62 625.12,-12 625.12,-12 625.12,-6 631.12,0 637.12,0 637.12,0 725.88,0 725.88,0 731.88,0 737.88,-6 737.88,-12 737.88,-12 737.88,-62 737.88,-62 737.88,-68 731.88,-74 725.88,-74\"/>\n<text text-anchor=\"start\" x=\"644.38\" y=\"-56.7\" font-family=\"Helvetica,sans-Serif\" font-size=\"14.00\">gini = 0.269</text>\n<text text-anchor=\"start\" x=\"634.25\" y=\"-40.2\" font-family=\"Helvetica,sans-Serif\" font-size=\"14.00\">samples = 100</text>\n<text text-anchor=\"start\" x=\"633.12\" y=\"-23.7\" font-family=\"Helvetica,sans-Serif\" font-size=\"14.00\">value = [84, 16]</text>\n<text text-anchor=\"start\" x=\"641.75\" y=\"-7.2\" font-family=\"Helvetica,sans-Serif\" font-size=\"14.00\">class = Alive</text>\n</g>\n<!-- 10&#45;&gt;12 -->\n<g id=\"edge12\" class=\"edge\">\n<title>10&#45;&gt;12</title>\n<path fill=\"none\" stroke=\"black\" d=\"M659.93,-109.64C662.34,-101.63 664.87,-93.25 667.3,-85.17\"/>\n<polygon fill=\"black\" stroke=\"black\" points=\"670.57,-86.43 670.11,-75.84 663.87,-84.41 670.57,-86.43\"/>\n</g>\n<!-- 14 -->\n<g id=\"node15\" class=\"node\">\n<title>14</title>\n<path fill=\"#e58139\" stroke=\"black\" d=\"M840.62,-74C840.62,-74 768.38,-74 768.38,-74 762.38,-74 756.38,-68 756.38,-62 756.38,-62 756.38,-12 756.38,-12 756.38,-6 762.38,0 768.38,0 768.38,0 840.62,0 840.62,0 846.62,0 852.62,-6 852.62,-12 852.62,-12 852.62,-62 852.62,-62 852.62,-68 846.62,-74 840.62,-74\"/>\n<text text-anchor=\"start\" x=\"775.62\" y=\"-56.7\" font-family=\"Helvetica,sans-Serif\" font-size=\"14.00\">gini = 0.0</text>\n<text text-anchor=\"start\" x=\"765.5\" y=\"-40.2\" font-family=\"Helvetica,sans-Serif\" font-size=\"14.00\">samples = 1</text>\n<text text-anchor=\"start\" x=\"764.38\" y=\"-23.7\" font-family=\"Helvetica,sans-Serif\" font-size=\"14.00\">value = [1, 0]</text>\n<text text-anchor=\"start\" x=\"764.75\" y=\"-7.2\" font-family=\"Helvetica,sans-Serif\" font-size=\"14.00\">class = Alive</text>\n</g>\n<!-- 13&#45;&gt;14 -->\n<g id=\"edge14\" class=\"edge\">\n<title>13&#45;&gt;14</title>\n<path fill=\"none\" stroke=\"black\" d=\"M826.07,-109.64C823.66,-101.63 821.13,-93.25 818.7,-85.17\"/>\n<polygon fill=\"black\" stroke=\"black\" points=\"822.13,-84.41 815.89,-75.84 815.43,-86.43 822.13,-84.41\"/>\n</g>\n<!-- 15 -->\n<g id=\"node16\" class=\"node\">\n<title>15</title>\n<path fill=\"#7bbeee\" stroke=\"black\" d=\"M958.12,-74C958.12,-74 882.88,-74 882.88,-74 876.88,-74 870.88,-68 870.88,-62 870.88,-62 870.88,-12 870.88,-12 870.88,-6 876.88,0 882.88,0 882.88,0 958.12,0 958.12,0 964.12,0 970.12,-6 970.12,-12 970.12,-12 970.12,-62 970.12,-62 970.12,-68 964.12,-74 958.12,-74\"/>\n<text text-anchor=\"start\" x=\"883.38\" y=\"-56.7\" font-family=\"Helvetica,sans-Serif\" font-size=\"14.00\">gini = 0.375</text>\n<text text-anchor=\"start\" x=\"881.5\" y=\"-40.2\" font-family=\"Helvetica,sans-Serif\" font-size=\"14.00\">samples = 8</text>\n<text text-anchor=\"start\" x=\"880.38\" y=\"-23.7\" font-family=\"Helvetica,sans-Serif\" font-size=\"14.00\">value = [2, 6]</text>\n<text text-anchor=\"start\" x=\"878.88\" y=\"-7.2\" font-family=\"Helvetica,sans-Serif\" font-size=\"14.00\">class = Dead</text>\n</g>\n<!-- 13&#45;&gt;15 -->\n<g id=\"edge15\" class=\"edge\">\n<title>13&#45;&gt;15</title>\n<path fill=\"none\" stroke=\"black\" d=\"M870.59,-109.64C876.48,-101.17 882.67,-92.3 888.59,-83.8\"/>\n<polygon fill=\"black\" stroke=\"black\" points=\"891.43,-85.84 894.28,-75.64 885.69,-81.84 891.43,-85.84\"/>\n</g>\n<!-- 17 -->\n<g id=\"node18\" class=\"node\">\n<title>17</title>\n<path fill=\"#e89051\" stroke=\"black\" d=\"M1303.38,-327C1303.38,-327 1091.62,-327 1091.62,-327 1085.62,-327 1079.62,-321 1079.62,-315 1079.62,-315 1079.62,-248.5 1079.62,-248.5 1079.62,-242.5 1085.62,-236.5 1091.62,-236.5 1091.62,-236.5 1303.38,-236.5 1303.38,-236.5 1309.38,-236.5 1315.38,-242.5 1315.38,-248.5 1315.38,-248.5 1315.38,-315 1315.38,-315 1315.38,-321 1309.38,-327 1303.38,-327\"/>\n<text text-anchor=\"start\" x=\"1087.62\" y=\"-309.7\" font-family=\"Helvetica,sans-Serif\" font-size=\"14.00\">Allegiances_House Lannister ≤ 0.5</text>\n<text text-anchor=\"start\" x=\"1160.38\" y=\"-293.2\" font-family=\"Helvetica,sans-Serif\" font-size=\"14.00\">gini = 0.192</text>\n<text text-anchor=\"start\" x=\"1150.25\" y=\"-276.7\" font-family=\"Helvetica,sans-Serif\" font-size=\"14.00\">samples = 102</text>\n<text text-anchor=\"start\" x=\"1149.12\" y=\"-260.2\" font-family=\"Helvetica,sans-Serif\" font-size=\"14.00\">value = [91, 11]</text>\n<text text-anchor=\"start\" x=\"1157.75\" y=\"-243.7\" font-family=\"Helvetica,sans-Serif\" font-size=\"14.00\">class = Alive</text>\n</g>\n<!-- 16&#45;&gt;17 -->\n<g id=\"edge17\" class=\"edge\">\n<title>16&#45;&gt;17</title>\n<path fill=\"none\" stroke=\"black\" d=\"M1197.5,-362.65C1197.5,-354.97 1197.5,-346.89 1197.5,-338.94\"/>\n<polygon fill=\"black\" stroke=\"black\" points=\"1201,-338.97 1197.5,-328.97 1194,-338.97 1201,-338.97\"/>\n</g>\n<!-- 24 -->\n<g id=\"node25\" class=\"node\">\n<title>24</title>\n<path fill=\"#f0b88f\" stroke=\"black\" d=\"M1602.88,-327C1602.88,-327 1448.12,-327 1448.12,-327 1442.12,-327 1436.12,-321 1436.12,-315 1436.12,-315 1436.12,-248.5 1436.12,-248.5 1436.12,-242.5 1442.12,-236.5 1448.12,-236.5 1448.12,-236.5 1602.88,-236.5 1602.88,-236.5 1608.88,-236.5 1614.88,-242.5 1614.88,-248.5 1614.88,-248.5 1614.88,-315 1614.88,-315 1614.88,-321 1608.88,-327 1602.88,-327\"/>\n<text text-anchor=\"start\" x=\"1444.12\" y=\"-309.7\" font-family=\"Helvetica,sans-Serif\" font-size=\"14.00\">Book Intro Chapter ≤ 16.0</text>\n<text text-anchor=\"start\" x=\"1488.38\" y=\"-293.2\" font-family=\"Helvetica,sans-Serif\" font-size=\"14.00\">gini = 0.422</text>\n<text text-anchor=\"start\" x=\"1482.38\" y=\"-276.7\" font-family=\"Helvetica,sans-Serif\" font-size=\"14.00\">samples = 33</text>\n<text text-anchor=\"start\" x=\"1477.12\" y=\"-260.2\" font-family=\"Helvetica,sans-Serif\" font-size=\"14.00\">value = [23, 10]</text>\n<text text-anchor=\"start\" x=\"1485.75\" y=\"-243.7\" font-family=\"Helvetica,sans-Serif\" font-size=\"14.00\">class = Alive</text>\n</g>\n<!-- 16&#45;&gt;24 -->\n<g id=\"edge24\" class=\"edge\">\n<title>16&#45;&gt;24</title>\n<path fill=\"none\" stroke=\"black\" d=\"M1268.27,-380.39C1314.07,-363 1374.4,-340.1 1425.12,-320.85\"/>\n<polygon fill=\"black\" stroke=\"black\" points=\"1426.26,-324.16 1434.37,-317.34 1423.78,-317.62 1426.26,-324.16\"/>\n</g>\n<!-- 18 -->\n<g id=\"node19\" class=\"node\">\n<title>18</title>\n<path fill=\"#e78c4b\" stroke=\"black\" d=\"M1178.88,-200.5C1178.88,-200.5 1024.12,-200.5 1024.12,-200.5 1018.12,-200.5 1012.12,-194.5 1012.12,-188.5 1012.12,-188.5 1012.12,-122 1012.12,-122 1012.12,-116 1018.12,-110 1024.12,-110 1024.12,-110 1178.88,-110 1178.88,-110 1184.88,-110 1190.88,-116 1190.88,-122 1190.88,-122 1190.88,-188.5 1190.88,-188.5 1190.88,-194.5 1184.88,-200.5 1178.88,-200.5\"/>\n<text text-anchor=\"start\" x=\"1020.12\" y=\"-183.2\" font-family=\"Helvetica,sans-Serif\" font-size=\"14.00\">Book Intro Chapter ≤ 56.5</text>\n<text text-anchor=\"start\" x=\"1064.38\" y=\"-166.7\" font-family=\"Helvetica,sans-Serif\" font-size=\"14.00\">gini = 0.153</text>\n<text text-anchor=\"start\" x=\"1058.38\" y=\"-150.2\" font-family=\"Helvetica,sans-Serif\" font-size=\"14.00\">samples = 96</text>\n<text text-anchor=\"start\" x=\"1057.25\" y=\"-133.7\" font-family=\"Helvetica,sans-Serif\" font-size=\"14.00\">value = [88, 8]</text>\n<text text-anchor=\"start\" x=\"1061.75\" y=\"-117.2\" font-family=\"Helvetica,sans-Serif\" font-size=\"14.00\">class = Alive</text>\n</g>\n<!-- 17&#45;&gt;18 -->\n<g id=\"edge18\" class=\"edge\">\n<title>17&#45;&gt;18</title>\n<path fill=\"none\" stroke=\"black\" d=\"M1163.11,-236.15C1156.56,-227.66 1149.65,-218.69 1142.91,-209.95\"/>\n<polygon fill=\"black\" stroke=\"black\" points=\"1145.77,-207.93 1136.89,-202.15 1140.23,-212.21 1145.77,-207.93\"/>\n</g>\n<!-- 21 -->\n<g id=\"node22\" class=\"node\">\n<title>21</title>\n<path fill=\"#ffffff\" stroke=\"black\" d=\"M1367.75,-200.5C1367.75,-200.5 1221.25,-200.5 1221.25,-200.5 1215.25,-200.5 1209.25,-194.5 1209.25,-188.5 1209.25,-188.5 1209.25,-122 1209.25,-122 1209.25,-116 1215.25,-110 1221.25,-110 1221.25,-110 1367.75,-110 1367.75,-110 1373.75,-110 1379.75,-116 1379.75,-122 1379.75,-122 1379.75,-188.5 1379.75,-188.5 1379.75,-194.5 1373.75,-200.5 1367.75,-200.5\"/>\n<text text-anchor=\"start\" x=\"1217.25\" y=\"-183.2\" font-family=\"Helvetica,sans-Serif\" font-size=\"14.00\">Book Intro Chapter ≤ 3.5</text>\n<text text-anchor=\"start\" x=\"1265.62\" y=\"-166.7\" font-family=\"Helvetica,sans-Serif\" font-size=\"14.00\">gini = 0.5</text>\n<text text-anchor=\"start\" x=\"1255.5\" y=\"-150.2\" font-family=\"Helvetica,sans-Serif\" font-size=\"14.00\">samples = 6</text>\n<text text-anchor=\"start\" x=\"1254.38\" y=\"-133.7\" font-family=\"Helvetica,sans-Serif\" font-size=\"14.00\">value = [3, 3]</text>\n<text text-anchor=\"start\" x=\"1254.75\" y=\"-117.2\" font-family=\"Helvetica,sans-Serif\" font-size=\"14.00\">class = Alive</text>\n</g>\n<!-- 17&#45;&gt;21 -->\n<g id=\"edge21\" class=\"edge\">\n<title>17&#45;&gt;21</title>\n<path fill=\"none\" stroke=\"black\" d=\"M1232.25,-236.15C1238.86,-227.66 1245.85,-218.69 1252.66,-209.95\"/>\n<polygon fill=\"black\" stroke=\"black\" points=\"1255.36,-212.19 1258.74,-202.15 1249.83,-207.88 1255.36,-212.19\"/>\n</g>\n<!-- 19 -->\n<g id=\"node20\" class=\"node\">\n<title>19</title>\n<path fill=\"#e78945\" stroke=\"black\" d=\"M1080.75,-74C1080.75,-74 1000.25,-74 1000.25,-74 994.25,-74 988.25,-68 988.25,-62 988.25,-62 988.25,-12 988.25,-12 988.25,-6 994.25,0 1000.25,0 1000.25,0 1080.75,0 1080.75,0 1086.75,0 1092.75,-6 1092.75,-12 1092.75,-12 1092.75,-62 1092.75,-62 1092.75,-68 1086.75,-74 1080.75,-74\"/>\n<text text-anchor=\"start\" x=\"1003.38\" y=\"-56.7\" font-family=\"Helvetica,sans-Serif\" font-size=\"14.00\">gini = 0.108</text>\n<text text-anchor=\"start\" x=\"997.38\" y=\"-40.2\" font-family=\"Helvetica,sans-Serif\" font-size=\"14.00\">samples = 87</text>\n<text text-anchor=\"start\" x=\"996.25\" y=\"-23.7\" font-family=\"Helvetica,sans-Serif\" font-size=\"14.00\">value = [82, 5]</text>\n<text text-anchor=\"start\" x=\"1000.75\" y=\"-7.2\" font-family=\"Helvetica,sans-Serif\" font-size=\"14.00\">class = Alive</text>\n</g>\n<!-- 18&#45;&gt;19 -->\n<g id=\"edge19\" class=\"edge\">\n<title>18&#45;&gt;19</title>\n<path fill=\"none\" stroke=\"black\" d=\"M1078.09,-109.64C1073.74,-101.35 1069.19,-92.68 1064.82,-84.34\"/>\n<polygon fill=\"black\" stroke=\"black\" points=\"1068.05,-82.96 1060.3,-75.73 1061.85,-86.22 1068.05,-82.96\"/>\n</g>\n<!-- 20 -->\n<g id=\"node21\" class=\"node\">\n<title>20</title>\n<path fill=\"#f2c09c\" stroke=\"black\" d=\"M1194.62,-74C1194.62,-74 1122.38,-74 1122.38,-74 1116.38,-74 1110.38,-68 1110.38,-62 1110.38,-62 1110.38,-12 1110.38,-12 1110.38,-6 1116.38,0 1122.38,0 1122.38,0 1194.62,0 1194.62,0 1200.62,0 1206.62,-6 1206.62,-12 1206.62,-12 1206.62,-62 1206.62,-62 1206.62,-68 1200.62,-74 1194.62,-74\"/>\n<text text-anchor=\"start\" x=\"1121.38\" y=\"-56.7\" font-family=\"Helvetica,sans-Serif\" font-size=\"14.00\">gini = 0.444</text>\n<text text-anchor=\"start\" x=\"1119.5\" y=\"-40.2\" font-family=\"Helvetica,sans-Serif\" font-size=\"14.00\">samples = 9</text>\n<text text-anchor=\"start\" x=\"1118.38\" y=\"-23.7\" font-family=\"Helvetica,sans-Serif\" font-size=\"14.00\">value = [6, 3]</text>\n<text text-anchor=\"start\" x=\"1118.75\" y=\"-7.2\" font-family=\"Helvetica,sans-Serif\" font-size=\"14.00\">class = Alive</text>\n</g>\n<!-- 18&#45;&gt;20 -->\n<g id=\"edge20\" class=\"edge\">\n<title>18&#45;&gt;20</title>\n<path fill=\"none\" stroke=\"black\" d=\"M1123.37,-109.64C1127.39,-101.44 1131.6,-92.87 1135.64,-84.62\"/>\n<polygon fill=\"black\" stroke=\"black\" points=\"1138.73,-86.27 1139.99,-75.75 1132.44,-83.19 1138.73,-86.27\"/>\n</g>\n<!-- 22 -->\n<g id=\"node23\" class=\"node\">\n<title>22</title>\n<path fill=\"#399de5\" stroke=\"black\" d=\"M1312.12,-74C1312.12,-74 1236.88,-74 1236.88,-74 1230.88,-74 1224.88,-68 1224.88,-62 1224.88,-62 1224.88,-12 1224.88,-12 1224.88,-6 1230.88,0 1236.88,0 1236.88,0 1312.12,0 1312.12,0 1318.12,0 1324.12,-6 1324.12,-12 1324.12,-12 1324.12,-62 1324.12,-62 1324.12,-68 1318.12,-74 1312.12,-74\"/>\n<text text-anchor=\"start\" x=\"1245.62\" y=\"-56.7\" font-family=\"Helvetica,sans-Serif\" font-size=\"14.00\">gini = 0.0</text>\n<text text-anchor=\"start\" x=\"1235.5\" y=\"-40.2\" font-family=\"Helvetica,sans-Serif\" font-size=\"14.00\">samples = 1</text>\n<text text-anchor=\"start\" x=\"1234.38\" y=\"-23.7\" font-family=\"Helvetica,sans-Serif\" font-size=\"14.00\">value = [0, 1]</text>\n<text text-anchor=\"start\" x=\"1232.88\" y=\"-7.2\" font-family=\"Helvetica,sans-Serif\" font-size=\"14.00\">class = Dead</text>\n</g>\n<!-- 21&#45;&gt;22 -->\n<g id=\"edge22\" class=\"edge\">\n<title>21&#45;&gt;22</title>\n<path fill=\"none\" stroke=\"black\" d=\"M1286.82,-109.64C1285.48,-101.81 1284.07,-93.63 1282.71,-85.72\"/>\n<polygon fill=\"black\" stroke=\"black\" points=\"1286.16,-85.15 1281.02,-75.89 1279.26,-86.33 1286.16,-85.15\"/>\n</g>\n<!-- 23 -->\n<g id=\"node24\" class=\"node\">\n<title>23</title>\n<path fill=\"#f6d5bd\" stroke=\"black\" d=\"M1426.62,-74C1426.62,-74 1354.38,-74 1354.38,-74 1348.38,-74 1342.38,-68 1342.38,-62 1342.38,-62 1342.38,-12 1342.38,-12 1342.38,-6 1348.38,0 1354.38,0 1354.38,0 1426.62,0 1426.62,0 1432.62,0 1438.62,-6 1438.62,-12 1438.62,-12 1438.62,-62 1438.62,-62 1438.62,-68 1432.62,-74 1426.62,-74\"/>\n<text text-anchor=\"start\" x=\"1357.5\" y=\"-56.7\" font-family=\"Helvetica,sans-Serif\" font-size=\"14.00\">gini = 0.48</text>\n<text text-anchor=\"start\" x=\"1351.5\" y=\"-40.2\" font-family=\"Helvetica,sans-Serif\" font-size=\"14.00\">samples = 5</text>\n<text text-anchor=\"start\" x=\"1350.38\" y=\"-23.7\" font-family=\"Helvetica,sans-Serif\" font-size=\"14.00\">value = [3, 2]</text>\n<text text-anchor=\"start\" x=\"1350.75\" y=\"-7.2\" font-family=\"Helvetica,sans-Serif\" font-size=\"14.00\">class = Alive</text>\n</g>\n<!-- 21&#45;&gt;23 -->\n<g id=\"edge23\" class=\"edge\">\n<title>21&#45;&gt;23</title>\n<path fill=\"none\" stroke=\"black\" d=\"M1331.34,-109.64C1338.48,-100.99 1345.98,-91.92 1353.13,-83.25\"/>\n<polygon fill=\"black\" stroke=\"black\" points=\"1355.81,-85.5 1359.48,-75.56 1350.42,-81.04 1355.81,-85.5\"/>\n</g>\n<!-- 25 -->\n<g id=\"node26\" class=\"node\">\n<title>25</title>\n<path fill=\"#deeffb\" stroke=\"black\" d=\"M1598.75,-200.5C1598.75,-200.5 1452.25,-200.5 1452.25,-200.5 1446.25,-200.5 1440.25,-194.5 1440.25,-188.5 1440.25,-188.5 1440.25,-122 1440.25,-122 1440.25,-116 1446.25,-110 1452.25,-110 1452.25,-110 1598.75,-110 1598.75,-110 1604.75,-110 1610.75,-116 1610.75,-122 1610.75,-122 1610.75,-188.5 1610.75,-188.5 1610.75,-194.5 1604.75,-200.5 1598.75,-200.5\"/>\n<text text-anchor=\"start\" x=\"1448.25\" y=\"-183.2\" font-family=\"Helvetica,sans-Serif\" font-size=\"14.00\">Book Intro Chapter ≤ 6.5</text>\n<text text-anchor=\"start\" x=\"1488.38\" y=\"-166.7\" font-family=\"Helvetica,sans-Serif\" font-size=\"14.00\">gini = 0.496</text>\n<text text-anchor=\"start\" x=\"1482.38\" y=\"-150.2\" font-family=\"Helvetica,sans-Serif\" font-size=\"14.00\">samples = 11</text>\n<text text-anchor=\"start\" x=\"1485.38\" y=\"-133.7\" font-family=\"Helvetica,sans-Serif\" font-size=\"14.00\">value = [5, 6]</text>\n<text text-anchor=\"start\" x=\"1483.88\" y=\"-117.2\" font-family=\"Helvetica,sans-Serif\" font-size=\"14.00\">class = Dead</text>\n</g>\n<!-- 24&#45;&gt;25 -->\n<g id=\"edge25\" class=\"edge\">\n<title>24&#45;&gt;25</title>\n<path fill=\"none\" stroke=\"black\" d=\"M1525.5,-236.15C1525.5,-228.47 1525.5,-220.39 1525.5,-212.44\"/>\n<polygon fill=\"black\" stroke=\"black\" points=\"1529,-212.47 1525.5,-202.47 1522,-212.47 1529,-212.47\"/>\n</g>\n<!-- 28 -->\n<g id=\"node29\" class=\"node\">\n<title>28</title>\n<path fill=\"#eb9d65\" stroke=\"black\" d=\"M1817.88,-200.5C1817.88,-200.5 1663.12,-200.5 1663.12,-200.5 1657.12,-200.5 1651.12,-194.5 1651.12,-188.5 1651.12,-188.5 1651.12,-122 1651.12,-122 1651.12,-116 1657.12,-110 1663.12,-110 1663.12,-110 1817.88,-110 1817.88,-110 1823.88,-110 1829.88,-116 1829.88,-122 1829.88,-122 1829.88,-188.5 1829.88,-188.5 1829.88,-194.5 1823.88,-200.5 1817.88,-200.5\"/>\n<text text-anchor=\"start\" x=\"1659.12\" y=\"-183.2\" font-family=\"Helvetica,sans-Serif\" font-size=\"14.00\">Book Intro Chapter ≤ 59.5</text>\n<text text-anchor=\"start\" x=\"1703.38\" y=\"-166.7\" font-family=\"Helvetica,sans-Serif\" font-size=\"14.00\">gini = 0.298</text>\n<text text-anchor=\"start\" x=\"1697.38\" y=\"-150.2\" font-family=\"Helvetica,sans-Serif\" font-size=\"14.00\">samples = 22</text>\n<text text-anchor=\"start\" x=\"1696.25\" y=\"-133.7\" font-family=\"Helvetica,sans-Serif\" font-size=\"14.00\">value = [18, 4]</text>\n<text text-anchor=\"start\" x=\"1700.75\" y=\"-117.2\" font-family=\"Helvetica,sans-Serif\" font-size=\"14.00\">class = Alive</text>\n</g>\n<!-- 24&#45;&gt;28 -->\n<g id=\"edge28\" class=\"edge\">\n<title>24&#45;&gt;28</title>\n<path fill=\"none\" stroke=\"black\" d=\"M1602.51,-236.15C1619.03,-226.59 1636.6,-216.42 1653.46,-206.65\"/>\n<polygon fill=\"black\" stroke=\"black\" points=\"1655.09,-209.75 1661.99,-201.71 1651.58,-203.69 1655.09,-209.75\"/>\n</g>\n<!-- 26 -->\n<g id=\"node27\" class=\"node\">\n<title>26</title>\n<path fill=\"#f5cdb0\" stroke=\"black\" d=\"M1540.62,-74C1540.62,-74 1468.38,-74 1468.38,-74 1462.38,-74 1456.38,-68 1456.38,-62 1456.38,-62 1456.38,-12 1456.38,-12 1456.38,-6 1462.38,0 1468.38,0 1468.38,0 1540.62,0 1540.62,0 1546.62,0 1552.62,-6 1552.62,-12 1552.62,-12 1552.62,-62 1552.62,-62 1552.62,-68 1546.62,-74 1540.62,-74\"/>\n<text text-anchor=\"start\" x=\"1467.38\" y=\"-56.7\" font-family=\"Helvetica,sans-Serif\" font-size=\"14.00\">gini = 0.469</text>\n<text text-anchor=\"start\" x=\"1465.5\" y=\"-40.2\" font-family=\"Helvetica,sans-Serif\" font-size=\"14.00\">samples = 8</text>\n<text text-anchor=\"start\" x=\"1464.38\" y=\"-23.7\" font-family=\"Helvetica,sans-Serif\" font-size=\"14.00\">value = [5, 3]</text>\n<text text-anchor=\"start\" x=\"1464.75\" y=\"-7.2\" font-family=\"Helvetica,sans-Serif\" font-size=\"14.00\">class = Alive</text>\n</g>\n<!-- 25&#45;&gt;26 -->\n<g id=\"edge26\" class=\"edge\">\n<title>25&#45;&gt;26</title>\n<path fill=\"none\" stroke=\"black\" d=\"M1517.44,-109.64C1516.03,-101.81 1514.55,-93.63 1513.12,-85.72\"/>\n<polygon fill=\"black\" stroke=\"black\" points=\"1516.57,-85.1 1511.34,-75.88 1509.68,-86.35 1516.57,-85.1\"/>\n</g>\n<!-- 27 -->\n<g id=\"node28\" class=\"node\">\n<title>27</title>\n<path fill=\"#399de5\" stroke=\"black\" d=\"M1658.12,-74C1658.12,-74 1582.88,-74 1582.88,-74 1576.88,-74 1570.88,-68 1570.88,-62 1570.88,-62 1570.88,-12 1570.88,-12 1570.88,-6 1576.88,0 1582.88,0 1582.88,0 1658.12,0 1658.12,0 1664.12,0 1670.12,-6 1670.12,-12 1670.12,-12 1670.12,-62 1670.12,-62 1670.12,-68 1664.12,-74 1658.12,-74\"/>\n<text text-anchor=\"start\" x=\"1591.62\" y=\"-56.7\" font-family=\"Helvetica,sans-Serif\" font-size=\"14.00\">gini = 0.0</text>\n<text text-anchor=\"start\" x=\"1581.5\" y=\"-40.2\" font-family=\"Helvetica,sans-Serif\" font-size=\"14.00\">samples = 3</text>\n<text text-anchor=\"start\" x=\"1580.38\" y=\"-23.7\" font-family=\"Helvetica,sans-Serif\" font-size=\"14.00\">value = [0, 3]</text>\n<text text-anchor=\"start\" x=\"1578.88\" y=\"-7.2\" font-family=\"Helvetica,sans-Serif\" font-size=\"14.00\">class = Dead</text>\n</g>\n<!-- 25&#45;&gt;27 -->\n<g id=\"edge27\" class=\"edge\">\n<title>25&#45;&gt;27</title>\n<path fill=\"none\" stroke=\"black\" d=\"M1561.96,-109.64C1569.03,-100.99 1576.44,-91.92 1583.52,-83.25\"/>\n<polygon fill=\"black\" stroke=\"black\" points=\"1586.18,-85.52 1589.8,-75.57 1580.76,-81.09 1586.18,-85.52\"/>\n</g>\n<!-- 29 -->\n<g id=\"node30\" class=\"node\">\n<title>29</title>\n<path fill=\"#e9965a\" stroke=\"black\" d=\"M1780.75,-74C1780.75,-74 1700.25,-74 1700.25,-74 1694.25,-74 1688.25,-68 1688.25,-62 1688.25,-62 1688.25,-12 1688.25,-12 1688.25,-6 1694.25,0 1700.25,0 1700.25,0 1780.75,0 1780.75,0 1786.75,0 1792.75,-6 1792.75,-12 1792.75,-12 1792.75,-62 1792.75,-62 1792.75,-68 1786.75,-74 1780.75,-74\"/>\n<text text-anchor=\"start\" x=\"1703.38\" y=\"-56.7\" font-family=\"Helvetica,sans-Serif\" font-size=\"14.00\">gini = 0.245</text>\n<text text-anchor=\"start\" x=\"1697.38\" y=\"-40.2\" font-family=\"Helvetica,sans-Serif\" font-size=\"14.00\">samples = 21</text>\n<text text-anchor=\"start\" x=\"1696.25\" y=\"-23.7\" font-family=\"Helvetica,sans-Serif\" font-size=\"14.00\">value = [18, 3]</text>\n<text text-anchor=\"start\" x=\"1700.75\" y=\"-7.2\" font-family=\"Helvetica,sans-Serif\" font-size=\"14.00\">class = Alive</text>\n</g>\n<!-- 28&#45;&gt;29 -->\n<g id=\"edge29\" class=\"edge\">\n<title>28&#45;&gt;29</title>\n<path fill=\"none\" stroke=\"black\" d=\"M1740.5,-109.64C1740.5,-101.81 1740.5,-93.63 1740.5,-85.72\"/>\n<polygon fill=\"black\" stroke=\"black\" points=\"1744,-85.91 1740.5,-75.91 1737,-85.91 1744,-85.91\"/>\n</g>\n<!-- 30 -->\n<g id=\"node31\" class=\"node\">\n<title>30</title>\n<path fill=\"#399de5\" stroke=\"black\" d=\"M1898.12,-74C1898.12,-74 1822.88,-74 1822.88,-74 1816.88,-74 1810.88,-68 1810.88,-62 1810.88,-62 1810.88,-12 1810.88,-12 1810.88,-6 1816.88,0 1822.88,0 1822.88,0 1898.12,0 1898.12,0 1904.12,0 1910.12,-6 1910.12,-12 1910.12,-12 1910.12,-62 1910.12,-62 1910.12,-68 1904.12,-74 1898.12,-74\"/>\n<text text-anchor=\"start\" x=\"1831.62\" y=\"-56.7\" font-family=\"Helvetica,sans-Serif\" font-size=\"14.00\">gini = 0.0</text>\n<text text-anchor=\"start\" x=\"1821.5\" y=\"-40.2\" font-family=\"Helvetica,sans-Serif\" font-size=\"14.00\">samples = 1</text>\n<text text-anchor=\"start\" x=\"1820.38\" y=\"-23.7\" font-family=\"Helvetica,sans-Serif\" font-size=\"14.00\">value = [0, 1]</text>\n<text text-anchor=\"start\" x=\"1818.88\" y=\"-7.2\" font-family=\"Helvetica,sans-Serif\" font-size=\"14.00\">class = Dead</text>\n</g>\n<!-- 28&#45;&gt;30 -->\n<g id=\"edge30\" class=\"edge\">\n<title>28&#45;&gt;30</title>\n<path fill=\"none\" stroke=\"black\" d=\"M1786.55,-109.64C1795.86,-100.62 1805.63,-91.15 1814.92,-82.15\"/>\n<polygon fill=\"black\" stroke=\"black\" points=\"1817.1,-84.92 1821.85,-75.45 1812.23,-79.89 1817.1,-84.92\"/>\n</g>\n</g>\n</svg>\n",
      "text/plain": [
       "<graphviz.sources.Source at 0x158f55c5330>"
      ]
     },
     "execution_count": 188,
     "metadata": {},
     "output_type": "execute_result"
    }
   ],
   "execution_count": 188
  },
  {
   "metadata": {},
   "cell_type": "markdown",
   "source": "# <div style=\"font-family: 'Garamond', serif; font-size: 22px; color: #ffffff; background-color: #34568B; text-align: center; padding: 15px; border-radius: 10px; border: 2px solid #FF6F61; box-shadow: 0 6px 12px rgba(0, 0, 0, 0.3); margin-bottom: 20px;\">Step 4: Randomized Search Cross Validation</div>"
  },
  {
   "metadata": {},
   "cell_type": "markdown",
   "source": "<div style=\"font-family: 'Lucida Sans Unicode', sans-serif; font-size: 18px; color: #4A235A; background-color: #D7BDE2; text-align: left; padding: 10px; border-left: 5px solid #7D3C98; box-shadow: 0 4px 6px rgba(0, 0, 0, 0.2); margin-bottom: 10px;\">Hyperparameter Tuning with Randomized Search CV</div>"
  },
  {
   "metadata": {},
   "cell_type": "markdown",
   "source": "Sometimes, the default parameters of a model may not yield the best performance. To optimize the model's performance, we can use techniques like Randomized Search Cross-Validation to find the best hyperparameters."
  },
  {
   "metadata": {
    "ExecuteTime": {
     "end_time": "2025-09-22T13:03:25.157536Z",
     "start_time": "2025-09-22T13:03:24.324536Z"
    }
   },
   "cell_type": "code",
   "source": [
    "# Define the parameter grid for DecisionTreeClassifier (narrowed for readable trees)\n",
    "param_grid = {\n",
    "    'model__max_depth': np.arange(3, 8),\n",
    "    'model__min_samples_split': np.arange(2, 10),\n",
    "    'model__min_samples_leaf': np.arange(1, 6),\n",
    "    'model__criterion': ['gini', 'entropy', 'log_loss'],\n",
    "    'model__ccp_alpha': np.linspace(0.0, 0.005, 11),\n",
    "    'model__class_weight': [None, 'balanced']\n",
    "}\n",
    "\n",
    "# Create the randomized search with 10-fold cross-validation\n",
    "dt_random_search = RandomizedSearchCV(\n",
    "    estimator=dt_pipeline,\n",
    "    param_distributions=param_grid,\n",
    "    n_iter=40,\n",
    "    scoring='accuracy',\n",
    "    cv=10,\n",
    "    random_state=42,\n",
    "    n_jobs=-1,\n",
    "    verbose=1\n",
    ")\n",
    "\n",
    "# Fit the random search model\n",
    "dt_random_search.fit(X_train, y_train)\n",
    "\n",
    "# Best parameters and score\n",
    "best_params = dt_random_search.best_params_\n",
    "best_score = dt_random_search.best_score_\n",
    "\n",
    "best_params, best_score"
   ],
   "outputs": [
    {
     "name": "stdout",
     "output_type": "stream",
     "text": [
      "Fitting 10 folds for each of 40 candidates, totalling 400 fits\n"
     ]
    },
    {
     "data": {
      "text/plain": [
       "({'model__min_samples_split': np.int64(3),\n",
       "  'model__min_samples_leaf': np.int64(5),\n",
       "  'model__max_depth': np.int64(3),\n",
       "  'model__criterion': 'gini',\n",
       "  'model__class_weight': None,\n",
       "  'model__ccp_alpha': np.float64(0.001)},\n",
       " np.float64(0.665497737556561))"
      ]
     },
     "execution_count": 189,
     "metadata": {},
     "output_type": "execute_result"
    }
   ],
   "execution_count": 189
  },
  {
   "metadata": {},
   "cell_type": "markdown",
   "source": "<div style=\"font-family: 'Lucida Sans Unicode', sans-serif; font-size: 18px; color: #4A235A; background-color: #D7BDE2; text-align: left; padding: 10px; border-left: 5px solid #7D3C98; box-shadow: 0 4px 6px rgba(0, 0, 0, 0.2); margin-bottom: 10px;\">Evaluating the best hyperparameters performance</div>"
  },
  {
   "metadata": {
    "ExecuteTime": {
     "end_time": "2025-09-22T13:03:25.266093Z",
     "start_time": "2025-09-22T13:03:25.236536Z"
    }
   },
   "cell_type": "code",
   "source": [
    "# Define the tuned Decision Tree model\n",
    "dt_model_tuned = DecisionTreeClassifier(\n",
    "    max_depth=best_params['model__max_depth'],\n",
    "    min_samples_split=best_params['model__min_samples_split'],\n",
    "    min_samples_leaf=best_params['model__min_samples_leaf'],\n",
    "    criterion=best_params['model__criterion'],\n",
    "    ccp_alpha=best_params['model__ccp_alpha'],\n",
    "    class_weight=best_params['model__class_weight'],\n",
    "    random_state=42\n",
    ")\n",
    "\n",
    "# Update the pipeline\n",
    "dt_pipeline.set_params(model=dt_model_tuned)\n",
    "\n",
    "# Fit the model with the training data\n",
    "dt_pipeline.fit(X_train, y_train)\n",
    "\n",
    "# Predict probabilities on the validation set\n",
    "valid_probs_tuned = dt_pipeline.predict_proba(X_valid)\n",
    "\n",
    "# Extracting the probabilities for the positive class\n",
    "valid_positive_probs_tuned = valid_probs_tuned[:, 1]\n",
    "\n",
    "# Evaluate the tuned model using AUC\n",
    "auc_score_tuned = roc_auc_score(y_valid, valid_positive_probs_tuned)\n",
    "auc_score_tuned"
   ],
   "outputs": [
    {
     "data": {
      "text/plain": [
       "0.6864583333333334"
      ]
     },
     "execution_count": 190,
     "metadata": {},
     "output_type": "execute_result"
    }
   ],
   "execution_count": 190
  },
  {
   "metadata": {},
   "cell_type": "markdown",
   "source": "<div style=\"font-family: 'Lucida Sans Unicode', sans-serif; font-size: 18px; color: #4A235A; background-color: #D7BDE2; text-align: left; padding: 10px; border-left: 5px solid #7D3C98; box-shadow: 0 4px 6px rgba(0, 0, 0, 0.2); margin-bottom: 10px;\">Comparing AUC scores before and after tuning</div>"
  },
  {
   "metadata": {
    "ExecuteTime": {
     "end_time": "2025-09-22T13:03:25.360083Z",
     "start_time": "2025-09-22T13:03:25.346084Z"
    }
   },
   "cell_type": "code",
   "source": [
    "# Display the AUC scores before and after tuning\n",
    "print(f\"AUC Score before tuning: {auc_score:.4f}\")\n",
    "print(f\"AUC Score after tuning: {auc_score_tuned:.4f}\")"
   ],
   "outputs": [
    {
     "name": "stdout",
     "output_type": "stream",
     "text": [
      "AUC Score before tuning: 0.6778\n",
      "AUC Score after tuning: 0.6865\n"
     ]
    }
   ],
   "execution_count": 191
  },
  {
   "metadata": {},
   "cell_type": "markdown",
   "source": "<div style=\"font-family: 'Lucida Sans Unicode', sans-serif; font-size: 18px; color: #4A235A; background-color: #D7BDE2; text-align: left; padding: 10px; border-left: 5px solid #7D3C98; box-shadow: 0 4px 6px rgba(0, 0, 0, 0.2); margin-bottom: 10px;\">Evaluating the tuned Decision Tree model with confusion matrix, precision, recall, and accuracy</div>"
  },
  {
   "metadata": {
    "ExecuteTime": {
     "end_time": "2025-09-22T13:03:25.469069Z",
     "start_time": "2025-09-22T13:03:25.454067Z"
    }
   },
   "cell_type": "code",
   "source": [
    "# Make predictions on the validation set\n",
    "y_pred = dt_pipeline.predict(X_valid)\n",
    "\n",
    "# Compute confusion matrix\n",
    "cm = confusion_matrix(y_valid, y_pred)\n",
    "\n",
    "# Compute precision, recall, accuracy\n",
    "precision = precision_score(y_valid, y_pred, zero_division=0)\n",
    "recall = recall_score(y_valid, y_pred, zero_division=0)\n",
    "accuracy = accuracy_score(y_valid, y_pred)\n",
    "\n",
    "# Print evaluation metrics\n",
    "print(f\"Confusion Matrix:\\n{cm}\")\n",
    "print(f\"Precision: {precision:.4f}\")\n",
    "print(f\"Recall:    {recall:.4f}\")\n",
    "print(f\"Accuracy:  {accuracy:.4f}\")"
   ],
   "outputs": [
    {
     "name": "stdout",
     "output_type": "stream",
     "text": [
      "Confusion Matrix:\n",
      "[[82 30]\n",
      " [29 31]]\n",
      "Precision: 0.5082\n",
      "Recall:    0.5167\n",
      "Accuracy:  0.6570\n"
     ]
    }
   ],
   "execution_count": 192
  },
  {
   "metadata": {},
   "cell_type": "markdown",
   "source": "<div style=\"font-family: 'Lucida Sans Unicode', sans-serif; font-size: 18px; color: #4A235A; background-color: #D7BDE2; text-align: left; padding: 10px; border-left: 5px solid #7D3C98; box-shadow: 0 4px 6px rgba(0, 0, 0, 0.2); margin-bottom: 10px;\">Visualizing the tuned decision tree</div>"
  },
  {
   "metadata": {
    "ExecuteTime": {
     "end_time": "2025-09-22T13:03:25.767068Z",
     "start_time": "2025-09-22T13:03:25.549068Z"
    }
   },
   "cell_type": "code",
   "source": [
    "# Extract fitted OneHotEncoder from the full pipeline\n",
    "fitted_ohe = dt_pipeline.named_steps['preprocessor'].transformers_[1][1].named_steps['onehot']\n",
    "\n",
    "# Extract feature names after one-hot encoding\n",
    "ohe_feature_names = fitted_ohe.get_feature_names_out(categorical_cols)\n",
    "\n",
    "# Combine numerical and categorical (one-hot) feature names\n",
    "feature_names = list(numerical_cols) + list(ohe_feature_names)\n",
    "\n",
    "# Extract fitted decision tree model from pipeline\n",
    "dt_model = dt_pipeline.named_steps['model']\n",
    "\n",
    "# Export tree to DOT format\n",
    "dot_data = export_graphviz(\n",
    "    dt_model,\n",
    "    out_file=None,\n",
    "    feature_names=feature_names,\n",
    "    class_names=['Alive', 'Dead'],\n",
    "    filled=True,\n",
    "    rounded=True,\n",
    "    special_characters=True\n",
    ")\n",
    "\n",
    "# Render the tree using Graphviz\n",
    "graph = graphviz.Source(dot_data, engine=\"dot\")\n",
    "png_bytes = graph.pipe(format=\"png\")\n",
    "with open(\"plot/tree_tuned.png\", \"wb\") as f:\n",
    "    f.write(png_bytes)\n",
    "graph"
   ],
   "outputs": [
    {
     "data": {
      "image/svg+xml": "<?xml version=\"1.0\" encoding=\"UTF-8\" standalone=\"no\"?>\n<!DOCTYPE svg PUBLIC \"-//W3C//DTD SVG 1.1//EN\"\n \"http://www.w3.org/Graphics/SVG/1.1/DTD/svg11.dtd\">\n<!-- Generated by graphviz version 9.0.0 (20230911.1827)\n -->\n<!-- Title: Tree Pages: 1 -->\n<svg width=\"1007pt\" height=\"462pt\"\n viewBox=\"0.00 0.00 1006.75 461.50\" xmlns=\"http://www.w3.org/2000/svg\" xmlns:xlink=\"http://www.w3.org/1999/xlink\">\n<g id=\"graph0\" class=\"graph\" transform=\"scale(1 1) rotate(0) translate(4 457.5)\">\n<title>Tree</title>\n<polygon fill=\"white\" stroke=\"none\" points=\"-4,4 -4,-457.5 1002.75,-457.5 1002.75,4 -4,4\"/>\n<!-- 0 -->\n<g id=\"node1\" class=\"node\">\n<title>0</title>\n<path fill=\"#f3c6a6\" stroke=\"black\" d=\"M540.12,-453.5C540.12,-453.5 434.88,-453.5 434.88,-453.5 428.88,-453.5 422.88,-447.5 422.88,-441.5 422.88,-441.5 422.88,-375 422.88,-375 422.88,-369 428.88,-363 434.88,-363 434.88,-363 540.12,-363 540.12,-363 546.12,-363 552.12,-369 552.12,-375 552.12,-375 552.12,-441.5 552.12,-441.5 552.12,-447.5 546.12,-453.5 540.12,-453.5\"/>\n<text text-anchor=\"start\" x=\"457.88\" y=\"-436.2\" font-family=\"Helvetica,sans-Serif\" font-size=\"14.00\">FfC ≤ 0.5</text>\n<text text-anchor=\"start\" x=\"450.38\" y=\"-419.7\" font-family=\"Helvetica,sans-Serif\" font-size=\"14.00\">gini = 0.458</text>\n<text text-anchor=\"start\" x=\"440.25\" y=\"-403.2\" font-family=\"Helvetica,sans-Serif\" font-size=\"14.00\">samples = 515</text>\n<text text-anchor=\"start\" x=\"430.88\" y=\"-386.7\" font-family=\"Helvetica,sans-Serif\" font-size=\"14.00\">value = [332, 183]</text>\n<text text-anchor=\"start\" x=\"447.75\" y=\"-370.2\" font-family=\"Helvetica,sans-Serif\" font-size=\"14.00\">class = Alive</text>\n</g>\n<!-- 1 -->\n<g id=\"node2\" class=\"node\">\n<title>1</title>\n<path fill=\"#f8dfcc\" stroke=\"black\" d=\"M426.12,-327C426.12,-327 320.88,-327 320.88,-327 314.88,-327 308.88,-321 308.88,-315 308.88,-315 308.88,-248.5 308.88,-248.5 308.88,-242.5 314.88,-236.5 320.88,-236.5 320.88,-236.5 426.12,-236.5 426.12,-236.5 432.12,-236.5 438.12,-242.5 438.12,-248.5 438.12,-248.5 438.12,-315 438.12,-315 438.12,-321 432.12,-327 426.12,-327\"/>\n<text text-anchor=\"start\" x=\"340.5\" y=\"-309.7\" font-family=\"Helvetica,sans-Serif\" font-size=\"14.00\">DwD ≤ 0.5</text>\n<text text-anchor=\"start\" x=\"336.38\" y=\"-293.2\" font-family=\"Helvetica,sans-Serif\" font-size=\"14.00\">gini = 0.489</text>\n<text text-anchor=\"start\" x=\"326.25\" y=\"-276.7\" font-family=\"Helvetica,sans-Serif\" font-size=\"14.00\">samples = 380</text>\n<text text-anchor=\"start\" x=\"316.88\" y=\"-260.2\" font-family=\"Helvetica,sans-Serif\" font-size=\"14.00\">value = [218, 162]</text>\n<text text-anchor=\"start\" x=\"333.75\" y=\"-243.7\" font-family=\"Helvetica,sans-Serif\" font-size=\"14.00\">class = Alive</text>\n</g>\n<!-- 0&#45;&gt;1 -->\n<g id=\"edge1\" class=\"edge\">\n<title>0&#45;&gt;1</title>\n<path fill=\"none\" stroke=\"black\" d=\"M446.67,-362.65C438.73,-353.98 430.33,-344.81 422.17,-335.9\"/>\n<polygon fill=\"black\" stroke=\"black\" points=\"424.79,-333.58 415.45,-328.57 419.63,-338.31 424.79,-333.58\"/>\n<text text-anchor=\"middle\" x=\"413.33\" y=\"-347.38\" font-family=\"Helvetica,sans-Serif\" font-size=\"14.00\">True</text>\n</g>\n<!-- 8 -->\n<g id=\"node9\" class=\"node\">\n<title>8</title>\n<path fill=\"#ea985d\" stroke=\"black\" d=\"M660.12,-327C660.12,-327 542.88,-327 542.88,-327 536.88,-327 530.88,-321 530.88,-315 530.88,-315 530.88,-248.5 530.88,-248.5 530.88,-242.5 536.88,-236.5 542.88,-236.5 542.88,-236.5 660.12,-236.5 660.12,-236.5 666.12,-236.5 672.12,-242.5 672.12,-248.5 672.12,-248.5 672.12,-315 672.12,-315 672.12,-321 666.12,-327 660.12,-327\"/>\n<text text-anchor=\"start\" x=\"538.88\" y=\"-309.7\" font-family=\"Helvetica,sans-Serif\" font-size=\"14.00\">Allegiances_0 ≤ 0.5</text>\n<text text-anchor=\"start\" x=\"564.38\" y=\"-293.2\" font-family=\"Helvetica,sans-Serif\" font-size=\"14.00\">gini = 0.263</text>\n<text text-anchor=\"start\" x=\"554.25\" y=\"-276.7\" font-family=\"Helvetica,sans-Serif\" font-size=\"14.00\">samples = 135</text>\n<text text-anchor=\"start\" x=\"549\" y=\"-260.2\" font-family=\"Helvetica,sans-Serif\" font-size=\"14.00\">value = [114, 21]</text>\n<text text-anchor=\"start\" x=\"561.75\" y=\"-243.7\" font-family=\"Helvetica,sans-Serif\" font-size=\"14.00\">class = Alive</text>\n</g>\n<!-- 0&#45;&gt;8 -->\n<g id=\"edge8\" class=\"edge\">\n<title>0&#45;&gt;8</title>\n<path fill=\"none\" stroke=\"black\" d=\"M528.33,-362.65C536.27,-353.98 544.67,-344.81 552.83,-335.9\"/>\n<polygon fill=\"black\" stroke=\"black\" points=\"555.37,-338.31 559.55,-328.57 550.21,-333.58 555.37,-338.31\"/>\n<text text-anchor=\"middle\" x=\"561.67\" y=\"-347.38\" font-family=\"Helvetica,sans-Serif\" font-size=\"14.00\">False</text>\n</g>\n<!-- 2 -->\n<g id=\"node3\" class=\"node\">\n<title>2</title>\n<path fill=\"#f5fafe\" stroke=\"black\" d=\"M252.12,-200.5C252.12,-200.5 134.88,-200.5 134.88,-200.5 128.88,-200.5 122.88,-194.5 122.88,-188.5 122.88,-188.5 122.88,-122 122.88,-122 122.88,-116 128.88,-110 134.88,-110 134.88,-110 252.12,-110 252.12,-110 258.12,-110 264.12,-116 264.12,-122 264.12,-122 264.12,-188.5 264.12,-188.5 264.12,-194.5 258.12,-200.5 252.12,-200.5\"/>\n<text text-anchor=\"start\" x=\"130.88\" y=\"-183.2\" font-family=\"Helvetica,sans-Serif\" font-size=\"14.00\">Allegiances_0 ≤ 0.5</text>\n<text text-anchor=\"start\" x=\"164.62\" y=\"-166.7\" font-family=\"Helvetica,sans-Serif\" font-size=\"14.00\">gini = 0.5</text>\n<text text-anchor=\"start\" x=\"146.25\" y=\"-150.2\" font-family=\"Helvetica,sans-Serif\" font-size=\"14.00\">samples = 265</text>\n<text text-anchor=\"start\" x=\"136.88\" y=\"-133.7\" font-family=\"Helvetica,sans-Serif\" font-size=\"14.00\">value = [129, 136]</text>\n<text text-anchor=\"start\" x=\"151.88\" y=\"-117.2\" font-family=\"Helvetica,sans-Serif\" font-size=\"14.00\">class = Dead</text>\n</g>\n<!-- 1&#45;&gt;2 -->\n<g id=\"edge2\" class=\"edge\">\n<title>1&#45;&gt;2</title>\n<path fill=\"none\" stroke=\"black\" d=\"M309.02,-236.15C295.58,-226.86 281.31,-216.99 267.56,-207.47\"/>\n<polygon fill=\"black\" stroke=\"black\" points=\"269.59,-204.62 259.38,-201.81 265.61,-210.38 269.59,-204.62\"/>\n</g>\n<!-- 5 -->\n<g id=\"node6\" class=\"node\">\n<title>5</title>\n<path fill=\"#eda673\" stroke=\"black\" d=\"M453.12,-200.5C453.12,-200.5 293.88,-200.5 293.88,-200.5 287.88,-200.5 281.88,-194.5 281.88,-188.5 281.88,-188.5 281.88,-122 281.88,-122 281.88,-116 287.88,-110 293.88,-110 293.88,-110 453.12,-110 453.12,-110 459.12,-110 465.12,-116 465.12,-122 465.12,-122 465.12,-188.5 465.12,-188.5 465.12,-194.5 459.12,-200.5 453.12,-200.5\"/>\n<text text-anchor=\"start\" x=\"289.88\" y=\"-183.2\" font-family=\"Helvetica,sans-Serif\" font-size=\"14.00\">Allegiances_Wildling ≤ 0.5</text>\n<text text-anchor=\"start\" x=\"340.5\" y=\"-166.7\" font-family=\"Helvetica,sans-Serif\" font-size=\"14.00\">gini = 0.35</text>\n<text text-anchor=\"start\" x=\"326.25\" y=\"-150.2\" font-family=\"Helvetica,sans-Serif\" font-size=\"14.00\">samples = 115</text>\n<text text-anchor=\"start\" x=\"325.12\" y=\"-133.7\" font-family=\"Helvetica,sans-Serif\" font-size=\"14.00\">value = [89, 26]</text>\n<text text-anchor=\"start\" x=\"333.75\" y=\"-117.2\" font-family=\"Helvetica,sans-Serif\" font-size=\"14.00\">class = Alive</text>\n</g>\n<!-- 1&#45;&gt;5 -->\n<g id=\"edge5\" class=\"edge\">\n<title>1&#45;&gt;5</title>\n<path fill=\"none\" stroke=\"black\" d=\"M373.5,-236.15C373.5,-228.47 373.5,-220.39 373.5,-212.44\"/>\n<polygon fill=\"black\" stroke=\"black\" points=\"377,-212.47 373.5,-202.47 370,-212.47 377,-212.47\"/>\n</g>\n<!-- 3 -->\n<g id=\"node4\" class=\"node\">\n<title>3</title>\n<path fill=\"#d3e9f9\" stroke=\"black\" d=\"M109,-74C109,-74 12,-74 12,-74 6,-74 0,-68 0,-62 0,-62 0,-12 0,-12 0,-6 6,0 12,0 12,0 109,0 109,0 115,0 121,-6 121,-12 121,-12 121,-62 121,-62 121,-68 115,-74 109,-74\"/>\n<text text-anchor=\"start\" x=\"23.38\" y=\"-56.7\" font-family=\"Helvetica,sans-Serif\" font-size=\"14.00\">gini = 0.492</text>\n<text text-anchor=\"start\" x=\"13.25\" y=\"-40.2\" font-family=\"Helvetica,sans-Serif\" font-size=\"14.00\">samples = 199</text>\n<text text-anchor=\"start\" x=\"8\" y=\"-23.7\" font-family=\"Helvetica,sans-Serif\" font-size=\"14.00\">value = [87, 112]</text>\n<text text-anchor=\"start\" x=\"18.88\" y=\"-7.2\" font-family=\"Helvetica,sans-Serif\" font-size=\"14.00\">class = Dead</text>\n</g>\n<!-- 2&#45;&gt;3 -->\n<g id=\"edge3\" class=\"edge\">\n<title>2&#45;&gt;3</title>\n<path fill=\"none\" stroke=\"black\" d=\"M142.46,-109.64C132.04,-100.53 121.09,-90.96 110.7,-81.88\"/>\n<polygon fill=\"black\" stroke=\"black\" points=\"113.11,-79.34 103.28,-75.39 108.5,-84.61 113.11,-79.34\"/>\n</g>\n<!-- 4 -->\n<g id=\"node5\" class=\"node\">\n<title>4</title>\n<path fill=\"#f4c9aa\" stroke=\"black\" d=\"M239.88,-74C239.88,-74 151.12,-74 151.12,-74 145.12,-74 139.12,-68 139.12,-62 139.12,-62 139.12,-12 139.12,-12 139.12,-6 145.12,0 151.12,0 151.12,0 239.88,0 239.88,0 245.88,0 251.88,-6 251.88,-12 251.88,-12 251.88,-62 251.88,-62 251.88,-68 245.88,-74 239.88,-74\"/>\n<text text-anchor=\"start\" x=\"158.38\" y=\"-56.7\" font-family=\"Helvetica,sans-Serif\" font-size=\"14.00\">gini = 0.463</text>\n<text text-anchor=\"start\" x=\"152.38\" y=\"-40.2\" font-family=\"Helvetica,sans-Serif\" font-size=\"14.00\">samples = 66</text>\n<text text-anchor=\"start\" x=\"147.12\" y=\"-23.7\" font-family=\"Helvetica,sans-Serif\" font-size=\"14.00\">value = [42, 24]</text>\n<text text-anchor=\"start\" x=\"155.75\" y=\"-7.2\" font-family=\"Helvetica,sans-Serif\" font-size=\"14.00\">class = Alive</text>\n</g>\n<!-- 2&#45;&gt;4 -->\n<g id=\"edge4\" class=\"edge\">\n<title>2&#45;&gt;4</title>\n<path fill=\"none\" stroke=\"black\" d=\"M194.27,-109.64C194.4,-101.81 194.54,-93.63 194.68,-85.72\"/>\n<polygon fill=\"black\" stroke=\"black\" points=\"198.18,-85.97 194.85,-75.91 191.18,-85.85 198.18,-85.97\"/>\n</g>\n<!-- 6 -->\n<g id=\"node7\" class=\"node\">\n<title>6</title>\n<path fill=\"#eb9e67\" stroke=\"black\" d=\"M381.88,-74C381.88,-74 293.12,-74 293.12,-74 287.12,-74 281.12,-68 281.12,-62 281.12,-62 281.12,-12 281.12,-12 281.12,-6 287.12,0 293.12,0 293.12,0 381.88,0 381.88,0 387.88,0 393.88,-6 393.88,-12 393.88,-12 393.88,-62 393.88,-62 393.88,-68 387.88,-74 381.88,-74\"/>\n<text text-anchor=\"start\" x=\"300.38\" y=\"-56.7\" font-family=\"Helvetica,sans-Serif\" font-size=\"14.00\">gini = 0.306</text>\n<text text-anchor=\"start\" x=\"290.25\" y=\"-40.2\" font-family=\"Helvetica,sans-Serif\" font-size=\"14.00\">samples = 106</text>\n<text text-anchor=\"start\" x=\"289.12\" y=\"-23.7\" font-family=\"Helvetica,sans-Serif\" font-size=\"14.00\">value = [86, 20]</text>\n<text text-anchor=\"start\" x=\"297.75\" y=\"-7.2\" font-family=\"Helvetica,sans-Serif\" font-size=\"14.00\">class = Alive</text>\n</g>\n<!-- 5&#45;&gt;6 -->\n<g id=\"edge6\" class=\"edge\">\n<title>5&#45;&gt;6</title>\n<path fill=\"none\" stroke=\"black\" d=\"M359.68,-109.64C357.2,-101.63 354.61,-93.25 352.11,-85.17\"/>\n<polygon fill=\"black\" stroke=\"black\" points=\"355.52,-84.36 349.22,-75.84 348.83,-86.43 355.52,-84.36\"/>\n</g>\n<!-- 7 -->\n<g id=\"node8\" class=\"node\">\n<title>7</title>\n<path fill=\"#9ccef2\" stroke=\"black\" d=\"M499.12,-74C499.12,-74 423.88,-74 423.88,-74 417.88,-74 411.88,-68 411.88,-62 411.88,-62 411.88,-12 411.88,-12 411.88,-6 417.88,0 423.88,0 423.88,0 499.12,0 499.12,0 505.12,0 511.12,-6 511.12,-12 511.12,-12 511.12,-62 511.12,-62 511.12,-68 505.12,-74 499.12,-74\"/>\n<text text-anchor=\"start\" x=\"424.38\" y=\"-56.7\" font-family=\"Helvetica,sans-Serif\" font-size=\"14.00\">gini = 0.444</text>\n<text text-anchor=\"start\" x=\"422.5\" y=\"-40.2\" font-family=\"Helvetica,sans-Serif\" font-size=\"14.00\">samples = 9</text>\n<text text-anchor=\"start\" x=\"421.38\" y=\"-23.7\" font-family=\"Helvetica,sans-Serif\" font-size=\"14.00\">value = [3, 6]</text>\n<text text-anchor=\"start\" x=\"419.88\" y=\"-7.2\" font-family=\"Helvetica,sans-Serif\" font-size=\"14.00\">class = Dead</text>\n</g>\n<!-- 5&#45;&gt;7 -->\n<g id=\"edge7\" class=\"edge\">\n<title>5&#45;&gt;7</title>\n<path fill=\"none\" stroke=\"black\" d=\"M407.27,-109.64C413.75,-101.08 420.54,-92.11 427.04,-83.52\"/>\n<polygon fill=\"black\" stroke=\"black\" points=\"429.79,-85.69 433.04,-75.6 424.21,-81.46 429.79,-85.69\"/>\n</g>\n<!-- 9 -->\n<g id=\"node10\" class=\"node\">\n<title>9</title>\n<path fill=\"#e89051\" stroke=\"black\" d=\"M707.38,-200.5C707.38,-200.5 495.62,-200.5 495.62,-200.5 489.62,-200.5 483.62,-194.5 483.62,-188.5 483.62,-188.5 483.62,-122 483.62,-122 483.62,-116 489.62,-110 495.62,-110 495.62,-110 707.38,-110 707.38,-110 713.38,-110 719.38,-116 719.38,-122 719.38,-122 719.38,-188.5 719.38,-188.5 719.38,-194.5 713.38,-200.5 707.38,-200.5\"/>\n<text text-anchor=\"start\" x=\"491.62\" y=\"-183.2\" font-family=\"Helvetica,sans-Serif\" font-size=\"14.00\">Allegiances_House Lannister ≤ 0.5</text>\n<text text-anchor=\"start\" x=\"564.38\" y=\"-166.7\" font-family=\"Helvetica,sans-Serif\" font-size=\"14.00\">gini = 0.192</text>\n<text text-anchor=\"start\" x=\"554.25\" y=\"-150.2\" font-family=\"Helvetica,sans-Serif\" font-size=\"14.00\">samples = 102</text>\n<text text-anchor=\"start\" x=\"553.12\" y=\"-133.7\" font-family=\"Helvetica,sans-Serif\" font-size=\"14.00\">value = [91, 11]</text>\n<text text-anchor=\"start\" x=\"561.75\" y=\"-117.2\" font-family=\"Helvetica,sans-Serif\" font-size=\"14.00\">class = Alive</text>\n</g>\n<!-- 8&#45;&gt;9 -->\n<g id=\"edge9\" class=\"edge\">\n<title>8&#45;&gt;9</title>\n<path fill=\"none\" stroke=\"black\" d=\"M601.5,-236.15C601.5,-228.47 601.5,-220.39 601.5,-212.44\"/>\n<polygon fill=\"black\" stroke=\"black\" points=\"605,-212.47 601.5,-202.47 598,-212.47 605,-212.47\"/>\n</g>\n<!-- 12 -->\n<g id=\"node13\" class=\"node\">\n<title>12</title>\n<path fill=\"#f0b88f\" stroke=\"black\" d=\"M903.88,-200.5C903.88,-200.5 749.12,-200.5 749.12,-200.5 743.12,-200.5 737.12,-194.5 737.12,-188.5 737.12,-188.5 737.12,-122 737.12,-122 737.12,-116 743.12,-110 749.12,-110 749.12,-110 903.88,-110 903.88,-110 909.88,-110 915.88,-116 915.88,-122 915.88,-122 915.88,-188.5 915.88,-188.5 915.88,-194.5 909.88,-200.5 903.88,-200.5\"/>\n<text text-anchor=\"start\" x=\"745.12\" y=\"-183.2\" font-family=\"Helvetica,sans-Serif\" font-size=\"14.00\">Book Intro Chapter ≤ 16.0</text>\n<text text-anchor=\"start\" x=\"789.38\" y=\"-166.7\" font-family=\"Helvetica,sans-Serif\" font-size=\"14.00\">gini = 0.422</text>\n<text text-anchor=\"start\" x=\"783.38\" y=\"-150.2\" font-family=\"Helvetica,sans-Serif\" font-size=\"14.00\">samples = 33</text>\n<text text-anchor=\"start\" x=\"778.12\" y=\"-133.7\" font-family=\"Helvetica,sans-Serif\" font-size=\"14.00\">value = [23, 10]</text>\n<text text-anchor=\"start\" x=\"786.75\" y=\"-117.2\" font-family=\"Helvetica,sans-Serif\" font-size=\"14.00\">class = Alive</text>\n</g>\n<!-- 8&#45;&gt;12 -->\n<g id=\"edge12\" class=\"edge\">\n<title>8&#45;&gt;12</title>\n<path fill=\"none\" stroke=\"black\" d=\"M672.38,-241.53C692.51,-230.39 714.71,-218.11 735.83,-206.42\"/>\n<polygon fill=\"black\" stroke=\"black\" points=\"737.4,-209.55 744.46,-201.65 734.01,-203.43 737.4,-209.55\"/>\n</g>\n<!-- 10 -->\n<g id=\"node11\" class=\"node\">\n<title>10</title>\n<path fill=\"#e78c4b\" stroke=\"black\" d=\"M627.75,-74C627.75,-74 547.25,-74 547.25,-74 541.25,-74 535.25,-68 535.25,-62 535.25,-62 535.25,-12 535.25,-12 535.25,-6 541.25,0 547.25,0 547.25,0 627.75,0 627.75,0 633.75,0 639.75,-6 639.75,-12 639.75,-12 639.75,-62 639.75,-62 639.75,-68 633.75,-74 627.75,-74\"/>\n<text text-anchor=\"start\" x=\"550.38\" y=\"-56.7\" font-family=\"Helvetica,sans-Serif\" font-size=\"14.00\">gini = 0.153</text>\n<text text-anchor=\"start\" x=\"544.38\" y=\"-40.2\" font-family=\"Helvetica,sans-Serif\" font-size=\"14.00\">samples = 96</text>\n<text text-anchor=\"start\" x=\"543.25\" y=\"-23.7\" font-family=\"Helvetica,sans-Serif\" font-size=\"14.00\">value = [88, 8]</text>\n<text text-anchor=\"start\" x=\"547.75\" y=\"-7.2\" font-family=\"Helvetica,sans-Serif\" font-size=\"14.00\">class = Alive</text>\n</g>\n<!-- 9&#45;&gt;10 -->\n<g id=\"edge10\" class=\"edge\">\n<title>9&#45;&gt;10</title>\n<path fill=\"none\" stroke=\"black\" d=\"M596.13,-109.64C595.18,-101.81 594.2,-93.63 593.25,-85.72\"/>\n<polygon fill=\"black\" stroke=\"black\" points=\"596.73,-85.41 592.06,-75.9 589.78,-86.24 596.73,-85.41\"/>\n</g>\n<!-- 11 -->\n<g id=\"node12\" class=\"node\">\n<title>11</title>\n<path fill=\"#ffffff\" stroke=\"black\" d=\"M741.62,-74C741.62,-74 669.38,-74 669.38,-74 663.38,-74 657.38,-68 657.38,-62 657.38,-62 657.38,-12 657.38,-12 657.38,-6 663.38,0 669.38,0 669.38,0 741.62,0 741.62,0 747.62,0 753.62,-6 753.62,-12 753.62,-12 753.62,-62 753.62,-62 753.62,-68 747.62,-74 741.62,-74\"/>\n<text text-anchor=\"start\" x=\"676.62\" y=\"-56.7\" font-family=\"Helvetica,sans-Serif\" font-size=\"14.00\">gini = 0.5</text>\n<text text-anchor=\"start\" x=\"666.5\" y=\"-40.2\" font-family=\"Helvetica,sans-Serif\" font-size=\"14.00\">samples = 6</text>\n<text text-anchor=\"start\" x=\"665.38\" y=\"-23.7\" font-family=\"Helvetica,sans-Serif\" font-size=\"14.00\">value = [3, 3]</text>\n<text text-anchor=\"start\" x=\"665.75\" y=\"-7.2\" font-family=\"Helvetica,sans-Serif\" font-size=\"14.00\">class = Alive</text>\n</g>\n<!-- 9&#45;&gt;11 -->\n<g id=\"edge11\" class=\"edge\">\n<title>9&#45;&gt;11</title>\n<path fill=\"none\" stroke=\"black\" d=\"M641.41,-109.64C649.23,-100.9 657.44,-91.73 665.27,-82.97\"/>\n<polygon fill=\"black\" stroke=\"black\" points=\"667.87,-85.31 671.93,-75.52 662.66,-80.64 667.87,-85.31\"/>\n</g>\n<!-- 13 -->\n<g id=\"node14\" class=\"node\">\n<title>13</title>\n<path fill=\"#deeffb\" stroke=\"black\" d=\"M864.62,-74C864.62,-74 786.38,-74 786.38,-74 780.38,-74 774.38,-68 774.38,-62 774.38,-62 774.38,-12 774.38,-12 774.38,-6 780.38,0 786.38,0 786.38,0 864.62,0 864.62,0 870.62,0 876.62,-6 876.62,-12 876.62,-12 876.62,-62 876.62,-62 876.62,-68 870.62,-74 864.62,-74\"/>\n<text text-anchor=\"start\" x=\"788.38\" y=\"-56.7\" font-family=\"Helvetica,sans-Serif\" font-size=\"14.00\">gini = 0.496</text>\n<text text-anchor=\"start\" x=\"782.38\" y=\"-40.2\" font-family=\"Helvetica,sans-Serif\" font-size=\"14.00\">samples = 11</text>\n<text text-anchor=\"start\" x=\"785.38\" y=\"-23.7\" font-family=\"Helvetica,sans-Serif\" font-size=\"14.00\">value = [5, 6]</text>\n<text text-anchor=\"start\" x=\"783.88\" y=\"-7.2\" font-family=\"Helvetica,sans-Serif\" font-size=\"14.00\">class = Dead</text>\n</g>\n<!-- 12&#45;&gt;13 -->\n<g id=\"edge13\" class=\"edge\">\n<title>12&#45;&gt;13</title>\n<path fill=\"none\" stroke=\"black\" d=\"M826.12,-109.64C826.05,-101.81 825.98,-93.63 825.91,-85.72\"/>\n<polygon fill=\"black\" stroke=\"black\" points=\"829.41,-85.88 825.83,-75.91 822.41,-85.94 829.41,-85.88\"/>\n</g>\n<!-- 14 -->\n<g id=\"node15\" class=\"node\">\n<title>14</title>\n<path fill=\"#eb9d65\" stroke=\"black\" d=\"M986.75,-74C986.75,-74 906.25,-74 906.25,-74 900.25,-74 894.25,-68 894.25,-62 894.25,-62 894.25,-12 894.25,-12 894.25,-6 900.25,0 906.25,0 906.25,0 986.75,0 986.75,0 992.75,0 998.75,-6 998.75,-12 998.75,-12 998.75,-62 998.75,-62 998.75,-68 992.75,-74 986.75,-74\"/>\n<text text-anchor=\"start\" x=\"909.38\" y=\"-56.7\" font-family=\"Helvetica,sans-Serif\" font-size=\"14.00\">gini = 0.298</text>\n<text text-anchor=\"start\" x=\"903.38\" y=\"-40.2\" font-family=\"Helvetica,sans-Serif\" font-size=\"14.00\">samples = 22</text>\n<text text-anchor=\"start\" x=\"902.25\" y=\"-23.7\" font-family=\"Helvetica,sans-Serif\" font-size=\"14.00\">value = [18, 4]</text>\n<text text-anchor=\"start\" x=\"906.75\" y=\"-7.2\" font-family=\"Helvetica,sans-Serif\" font-size=\"14.00\">class = Alive</text>\n</g>\n<!-- 12&#45;&gt;14 -->\n<g id=\"edge14\" class=\"edge\">\n<title>12&#45;&gt;14</title>\n<path fill=\"none\" stroke=\"black\" d=\"M872.55,-109.64C881.86,-100.62 891.63,-91.15 900.92,-82.15\"/>\n<polygon fill=\"black\" stroke=\"black\" points=\"903.1,-84.92 907.85,-75.45 898.23,-79.89 903.1,-84.92\"/>\n</g>\n</g>\n</svg>\n",
      "text/plain": [
       "<graphviz.sources.Source at 0x158f53164a0>"
      ]
     },
     "execution_count": 193,
     "metadata": {},
     "output_type": "execute_result"
    }
   ],
   "execution_count": 193
  },
  {
   "metadata": {},
   "cell_type": "markdown",
   "source": "# <div style=\"font-family: 'Garamond', serif; font-size: 22px; color: #ffffff; background-color: #34568B; text-align: center; padding: 15px; border-radius: 10px; border: 2px solid #FF6F61; box-shadow: 0 6px 12px rgba(0, 0, 0, 0.3); margin-bottom: 20px;\">Step 5: Make predictions on the test set</div>"
  },
  {
   "metadata": {},
   "cell_type": "markdown",
   "source": "<div style=\"font-family: 'Lucida Sans Unicode', sans-serif; font-size: 18px; color: #4A235A; background-color: #D7BDE2; text-align: left; padding: 10px; border-left: 5px solid #7D3C98; box-shadow: 0 4px 6px rgba(0, 0, 0, 0.2); margin-bottom: 10px;\">Create the submission file and check the format</div>"
  },
  {
   "metadata": {
    "ExecuteTime": {
     "end_time": "2025-09-22T13:03:25.921076Z",
     "start_time": "2025-09-22T13:03:25.906074Z"
    }
   },
   "cell_type": "code",
   "source": [
    "# Load the test dataset\n",
    "test_data_path = os.path.join(extract_folder_path, 'test.csv')\n",
    "test_data = pd.read_csv(test_data_path)\n",
    "\n",
    "# Build test features to match training\n",
    "test_X = test_data.drop(columns=['Character', 'Name'], errors='ignore')\n",
    "test_X = test_X.fillna(0)\n",
    "test_X[categorical_cols] = test_X[categorical_cols].astype(str)\n",
    "\n",
    "# Preprocessing of test data, make predictions\n",
    "test_predictions = dt_pipeline.predict(test_X)  # 0 = Alive, 1 = Dead\n",
    "\n",
    "# Load the sample submission file to compare formats\n",
    "sample_submission_path = os.path.join(extract_folder_path, 'sample_submission.csv')\n",
    "sample_submission = pd.read_csv(sample_submission_path)\n",
    "\n",
    "# Create the submission DataFrame\n",
    "submission = pd.DataFrame({\n",
    "    'Character': test_data['Character'],\n",
    "    'Death': test_predictions.astype(int)\n",
    "})\n",
    "\n",
    "# See if the submission format matches the sample submission\n",
    "print('Submission shape:', submission.shape)\n",
    "print('Sample submission shape:', sample_submission.shape)\n",
    "\n",
    "print('submission head:')\n",
    "print(submission.head())\n",
    "\n",
    "print('sample submission head:')\n",
    "print(sample_submission.head())"
   ],
   "outputs": [
    {
     "name": "stdout",
     "output_type": "stream",
     "text": [
      "Submission shape: (230, 2)\n",
      "Sample submission shape: (230, 2)\n",
      "submission head:\n",
      "   Character  Death\n",
      "0        668      1\n",
      "1         30      0\n",
      "2        377      1\n",
      "3        535      1\n",
      "4        806      1\n",
      "sample submission head:\n",
      "   Character  Death\n",
      "0        668      0\n",
      "1         30      1\n",
      "2        377      0\n",
      "3        535      1\n",
      "4        806      1\n"
     ]
    }
   ],
   "execution_count": 194
  },
  {
   "metadata": {},
   "cell_type": "markdown",
   "source": "<div style=\"font-family: 'Lucida Sans Unicode', sans-serif; font-size: 18px; color: #4A235A; background-color: #D7BDE2; text-align: left; padding: 10px; border-left: 5px solid #7D3C98; box-shadow: 0 4px 6px rgba(0, 0, 0, 0.2); margin-bottom: 10px;\">Save the submission file</div>"
  },
  {
   "metadata": {
    "ExecuteTime": {
     "end_time": "2025-09-22T13:03:26.031528Z",
     "start_time": "2025-09-22T13:03:26.017527Z"
    }
   },
   "cell_type": "code",
   "source": [
    "# Define the file path for the output CSV file\n",
    "output_csv_path = 'submission.csv'\n",
    "\n",
    "# Save the output DataFrame to a CSV file\n",
    "submission.to_csv(output_csv_path, index=False)\n",
    "\n",
    "# Return the path of the saved file\n",
    "output_csv_path"
   ],
   "outputs": [
    {
     "data": {
      "text/plain": [
       "'submission.csv'"
      ]
     },
     "execution_count": 195,
     "metadata": {},
     "output_type": "execute_result"
    }
   ],
   "execution_count": 195
  },
  {
   "metadata": {
    "ExecuteTime": {
     "end_time": "2025-09-22T13:03:26.141331Z",
     "start_time": "2025-09-22T13:03:26.126326Z"
    }
   },
   "cell_type": "code",
   "source": "",
   "outputs": [],
   "execution_count": null
  }
 ],
 "metadata": {
  "kaggle": {
   "accelerator": "none",
   "dataSources": [
    {
     "databundleVersionId": 26502,
     "sourceId": 3136,
     "sourceType": "competition"
    }
   ],
   "dockerImageVersionId": 31089,
   "isGpuEnabled": false,
   "isInternetEnabled": true,
   "language": "python",
   "sourceType": "notebook"
  },
  "kernelspec": {
   "display_name": ".venv (3.10.17)",
   "language": "python",
   "name": "python3"
  },
  "language_info": {
   "codemirror_mode": {
    "name": "ipython",
    "version": 3
   },
   "file_extension": ".py",
   "mimetype": "text/x-python",
   "name": "python",
   "nbconvert_exporter": "python",
   "pygments_lexer": "ipython3",
   "version": "3.10.17"
  }
 },
 "nbformat": 4,
 "nbformat_minor": 4
}
