{
 "metadata": {
  "kernelspec": {
   "display_name": ".venv (3.10.17)",
   "language": "python",
   "name": "python3"
  },
  "language_info": {
   "codemirror_mode": {
    "name": "ipython",
    "version": 3
   },
   "file_extension": ".py",
   "mimetype": "text/x-python",
   "name": "python",
   "nbconvert_exporter": "python",
   "pygments_lexer": "ipython3",
   "version": "3.10.17"
  },
  "kaggle": {
   "accelerator": "none",
   "dataSources": [
    {
     "sourceId": 39144,
     "databundleVersionId": 4295447,
     "sourceType": "competition"
    }
   ],
   "dockerImageVersionId": 31089,
   "isInternetEnabled": true,
   "language": "python",
   "sourceType": "notebook",
   "isGpuEnabled": false
  }
 },
 "nbformat_minor": 4,
 "nbformat": 4,
 "cells": [
  {
   "cell_type": "code",
   "source": "import os\n\nimport numpy as np\nimport pandas as pd\nfrom tqdm import tqdm\nfrom sklearn.model_selection import train_test_split, StratifiedKFold\nfrom sklearn.preprocessing import OneHotEncoder\nfrom sklearn.compose import ColumnTransformer\nfrom sklearn.pipeline import Pipeline\nfrom sklearn.metrics import accuracy_score, roc_auc_score\nfrom sklearn.model_selection import RandomizedSearchCV\n\nfrom sklearn.tree import DecisionTreeClassifier, export_graphviz\nfrom sklearn.metrics import confusion_matrix, precision_score, recall_score\nimport graphviz\n\ntqdm.pandas()",
   "metadata": {
    "execution": {
     "iopub.execute_input": "2025-09-05T02:34:48.510588Z",
     "iopub.status.busy": "2025-09-05T02:34:48.510299Z",
     "iopub.status.idle": "2025-09-05T02:34:48.516678Z",
     "shell.execute_reply": "2025-09-05T02:34:48.515226Z",
     "shell.execute_reply.started": "2025-09-05T02:34:48.510568Z"
    },
    "trusted": true,
    "ExecuteTime": {
     "end_time": "2025-09-22T14:54:43.946773Z",
     "start_time": "2025-09-22T14:54:43.938564Z"
    }
   },
   "outputs": [],
   "execution_count": 571
  },
  {
   "cell_type": "markdown",
   "source": "# <div style=\"font-family: 'Garamond', serif; font-size: 22px; color: #ffffff; background-color: #34568B; text-align: center; padding: 15px; border-radius: 10px; border: 2px solid #FF6F61; box-shadow: 0 6px 12px rgba(0, 0, 0, 0.3); margin-bottom: 20px;\">Step 1: Load the data</div>",
   "metadata": {}
  },
  {
   "cell_type": "markdown",
   "source": "## <div style=\"font-family: 'Lucida Sans Unicode', sans-serif; font-size: 18px; color: #4A235A; background-color: #D7BDE2; text-align: left; padding: 10px; border-left: 5px solid #7D3C98; box-shadow: 0 4px 6px rgba(0, 0, 0, 0.2); margin-bottom: 10px;\">Dataset Metadata</div>",
   "metadata": {}
  },
  {
   "cell_type": "markdown",
   "source": "### Overview\n\nThe dataset contains metadata about characters from *A Song of Ice and Fire*, including house allegiance, gender, nobility, appearances across books, and death-related information. Each row represents a single character.\n\nAll death-related columns may contain missing values if the character is alive.\n\n---\n\n### Data Dictionary\n\n| Variable           | Definition                          | Key                                                      |\n|--------------------|-------------------------------------|----------------------------------------------------------|\n| Name               | Character name                      | Text                                                     |\n| Allegiances        | Character house                     | Categorical; e.g., \"Wildling\", \"Night's Watch\"           |\n| Death Year         | Year character died                 | Integer or NaN (alive)                                   |\n| Book of Death      | Book character died                 | 1 = GoT, 2 = CoK, 3 = SoS, 4 = FfC, 5 = DwD; NaN = Alive |\n| Death Chapter      | Chapter in which the character died | Integer or NaN                                           |\n| Book Intro Chapter | Chapter character was introduced in | Integer                                                  |\n| Gender             | Gender                              | 1 = Male, 0 = Female                                     |\n| Nobility           | Social class                        | 1 = Noble, 0 = Commoner                                  |\n| GoT                | Appeared in *A Game of Thrones*     | 1 = Yes, 0 = No                                          |\n| CoK                | Appeared in *A Clash of Kings*      | 1 = Yes, 0 = No                                          |\n| SoS                | Appeared in *A Storm of Swords*     | 1 = Yes, 0 = No                                          |\n| FfC                | Appeared in *A Feast for Crows*     | 1 = Yes, 0 = No                                          |\n| DwD                | Appeared in *A Dance with Dragons*  | 1 = Yes, 0 = No                                          |\n\n---\n\n### Variable Notes\n\n- **Allegiances**: This field contains the name of the house or faction a character belongs to. Some characters may have no allegiance specified.\n\n- **Death Year**, **Book of Death**, **Death Chapter**: These columns are used to identify whether a character died, when, and where in the storyline. Missing values typically mean the character is still alive.\n\n- **Book Intro Chapter**: Indicates the chapter in which the character first appeared.\n\n- **GoT**, **CoK**, **SoS**, **FfC**, **DwD**: Binary indicators of whether the character appears in the corresponding book.\n\n- **Gender** and **Nobility**: Represent demographic and social status attributes of the characters. These are already encoded as binary features.",
   "metadata": {}
  },
  {
   "cell_type": "markdown",
   "source": "## <div style=\"font-family: 'Lucida Sans Unicode', sans-serif; font-size: 18px; color: #4A235A; background-color: #D7BDE2; text-align: left; padding: 10px; border-left: 5px solid #7D3C98; box-shadow: 0 4px 6px rgba(0, 0, 0, 0.2); margin-bottom: 10px;\">Load the data and display head</div>",
   "metadata": {}
  },
  {
   "cell_type": "code",
   "source": "# Check environment if in Kaggle\nextract_folder_path = '/kaggle/input/topic-test' if os.path.exists('/kaggle/input/topic-test') else './data'\n\n# Load the training data\ntrain_file_path = os.path.join(extract_folder_path, 'train.csv')\ntrain_data = pd.read_csv(train_file_path)\n\n# Displaying the first few rows of the dataset\ntrain_data.head()",
   "metadata": {
    "execution": {
     "iopub.execute_input": "2025-09-05T02:34:48.518748Z",
     "iopub.status.busy": "2025-09-05T02:34:48.518389Z",
     "iopub.status.idle": "2025-09-05T02:34:48.565466Z",
     "shell.execute_reply": "2025-09-05T02:34:48.564317Z",
     "shell.execute_reply.started": "2025-09-05T02:34:48.518720Z"
    },
    "trusted": true,
    "ExecuteTime": {
     "end_time": "2025-09-22T14:54:44.055673Z",
     "start_time": "2025-09-22T14:54:44.042661Z"
    }
   },
   "outputs": [
    {
     "data": {
      "text/plain": [
       "   Character                 Name    Allegiances  Death Year  Book of Death  \\\n",
       "0        155  Creighton Longbough            NaN         NaN            NaN   \n",
       "1        362        Howd Wanderer       Wildling         NaN            NaN   \n",
       "2        868                 Watt  Night's Watch       299.0            3.0   \n",
       "3        101               Borcas  Night's Watch         NaN            NaN   \n",
       "4        199               Donnis    House Stark         NaN            NaN   \n",
       "\n",
       "   Death Chapter  Book Intro Chapter  Gender  Nobility  GoT  CoK  SoS  FfC  \\\n",
       "0            NaN                 4.0       1         0    0    0    0    1   \n",
       "1            NaN                58.0       1         1    0    0    0    0   \n",
       "2           75.0                69.0       1         0    0    0    1    0   \n",
       "3            NaN                48.0       1         0    1    0    0    0   \n",
       "4            NaN                 7.0       1         0    1    0    0    0   \n",
       "\n",
       "   DwD  \n",
       "0    0  \n",
       "1    1  \n",
       "2    0  \n",
       "3    0  \n",
       "4    0  "
      ],
      "text/html": [
       "<div>\n",
       "<style scoped>\n",
       "    .dataframe tbody tr th:only-of-type {\n",
       "        vertical-align: middle;\n",
       "    }\n",
       "\n",
       "    .dataframe tbody tr th {\n",
       "        vertical-align: top;\n",
       "    }\n",
       "\n",
       "    .dataframe thead th {\n",
       "        text-align: right;\n",
       "    }\n",
       "</style>\n",
       "<table border=\"1\" class=\"dataframe\">\n",
       "  <thead>\n",
       "    <tr style=\"text-align: right;\">\n",
       "      <th></th>\n",
       "      <th>Character</th>\n",
       "      <th>Name</th>\n",
       "      <th>Allegiances</th>\n",
       "      <th>Death Year</th>\n",
       "      <th>Book of Death</th>\n",
       "      <th>Death Chapter</th>\n",
       "      <th>Book Intro Chapter</th>\n",
       "      <th>Gender</th>\n",
       "      <th>Nobility</th>\n",
       "      <th>GoT</th>\n",
       "      <th>CoK</th>\n",
       "      <th>SoS</th>\n",
       "      <th>FfC</th>\n",
       "      <th>DwD</th>\n",
       "    </tr>\n",
       "  </thead>\n",
       "  <tbody>\n",
       "    <tr>\n",
       "      <th>0</th>\n",
       "      <td>155</td>\n",
       "      <td>Creighton Longbough</td>\n",
       "      <td>NaN</td>\n",
       "      <td>NaN</td>\n",
       "      <td>NaN</td>\n",
       "      <td>NaN</td>\n",
       "      <td>4.0</td>\n",
       "      <td>1</td>\n",
       "      <td>0</td>\n",
       "      <td>0</td>\n",
       "      <td>0</td>\n",
       "      <td>0</td>\n",
       "      <td>1</td>\n",
       "      <td>0</td>\n",
       "    </tr>\n",
       "    <tr>\n",
       "      <th>1</th>\n",
       "      <td>362</td>\n",
       "      <td>Howd Wanderer</td>\n",
       "      <td>Wildling</td>\n",
       "      <td>NaN</td>\n",
       "      <td>NaN</td>\n",
       "      <td>NaN</td>\n",
       "      <td>58.0</td>\n",
       "      <td>1</td>\n",
       "      <td>1</td>\n",
       "      <td>0</td>\n",
       "      <td>0</td>\n",
       "      <td>0</td>\n",
       "      <td>0</td>\n",
       "      <td>1</td>\n",
       "    </tr>\n",
       "    <tr>\n",
       "      <th>2</th>\n",
       "      <td>868</td>\n",
       "      <td>Watt</td>\n",
       "      <td>Night's Watch</td>\n",
       "      <td>299.0</td>\n",
       "      <td>3.0</td>\n",
       "      <td>75.0</td>\n",
       "      <td>69.0</td>\n",
       "      <td>1</td>\n",
       "      <td>0</td>\n",
       "      <td>0</td>\n",
       "      <td>0</td>\n",
       "      <td>1</td>\n",
       "      <td>0</td>\n",
       "      <td>0</td>\n",
       "    </tr>\n",
       "    <tr>\n",
       "      <th>3</th>\n",
       "      <td>101</td>\n",
       "      <td>Borcas</td>\n",
       "      <td>Night's Watch</td>\n",
       "      <td>NaN</td>\n",
       "      <td>NaN</td>\n",
       "      <td>NaN</td>\n",
       "      <td>48.0</td>\n",
       "      <td>1</td>\n",
       "      <td>0</td>\n",
       "      <td>1</td>\n",
       "      <td>0</td>\n",
       "      <td>0</td>\n",
       "      <td>0</td>\n",
       "      <td>0</td>\n",
       "    </tr>\n",
       "    <tr>\n",
       "      <th>4</th>\n",
       "      <td>199</td>\n",
       "      <td>Donnis</td>\n",
       "      <td>House Stark</td>\n",
       "      <td>NaN</td>\n",
       "      <td>NaN</td>\n",
       "      <td>NaN</td>\n",
       "      <td>7.0</td>\n",
       "      <td>1</td>\n",
       "      <td>0</td>\n",
       "      <td>1</td>\n",
       "      <td>0</td>\n",
       "      <td>0</td>\n",
       "      <td>0</td>\n",
       "      <td>0</td>\n",
       "    </tr>\n",
       "  </tbody>\n",
       "</table>\n",
       "</div>"
      ]
     },
     "execution_count": 572,
     "metadata": {},
     "output_type": "execute_result"
    }
   ],
   "execution_count": 572
  },
  {
   "cell_type": "markdown",
   "source": "## <div style=\"font-family: 'Lucida Sans Unicode', sans-serif; font-size: 18px; color: #4A235A; background-color: #D7BDE2; text-align: left; padding: 10px; border-left: 5px solid #7D3C98; box-shadow: 0 4px 6px rgba(0, 0, 0, 0.2); margin-bottom: 10px;\">See the statistical summary of the dataset</div>",
   "metadata": {}
  },
  {
   "cell_type": "code",
   "source": "train_data.describe()",
   "metadata": {
    "ExecuteTime": {
     "end_time": "2025-09-22T14:54:44.226692Z",
     "start_time": "2025-09-22T14:54:44.197693Z"
    }
   },
   "outputs": [
    {
     "data": {
      "text/plain": [
       "        Character  Death Year  Book of Death  Death Chapter  \\\n",
       "count  687.000000  243.000000     245.000000     239.000000   \n",
       "mean   461.184862  299.164609       2.963265      39.167364   \n",
       "std    265.290576    0.702462       1.334703      20.313231   \n",
       "min      0.000000  297.000000       1.000000       0.000000   \n",
       "25%    225.500000  299.000000       2.000000      23.500000   \n",
       "50%    466.000000  299.000000       3.000000      37.000000   \n",
       "75%    692.500000  300.000000       4.000000      56.000000   \n",
       "max    916.000000  300.000000       5.000000      77.000000   \n",
       "\n",
       "       Book Intro Chapter      Gender    Nobility         GoT         CoK  \\\n",
       "count          676.000000  687.000000  687.000000  687.000000  687.000000   \n",
       "mean            28.766272    0.850073    0.454148    0.282387    0.352256   \n",
       "std             19.795064    0.357260    0.498256    0.450489    0.478021   \n",
       "min              0.000000    0.000000    0.000000    0.000000    0.000000   \n",
       "25%             12.000000    1.000000    0.000000    0.000000    0.000000   \n",
       "50%             28.000000    1.000000    0.000000    0.000000    0.000000   \n",
       "75%             42.250000    1.000000    1.000000    1.000000    1.000000   \n",
       "max             80.000000    1.000000    1.000000    1.000000    1.000000   \n",
       "\n",
       "              SoS         FfC         DwD  \n",
       "count  687.000000  687.000000  687.000000  \n",
       "mean     0.429403    0.264920    0.276565  \n",
       "std      0.495352    0.441612    0.447625  \n",
       "min      0.000000    0.000000    0.000000  \n",
       "25%      0.000000    0.000000    0.000000  \n",
       "50%      0.000000    0.000000    0.000000  \n",
       "75%      1.000000    1.000000    1.000000  \n",
       "max      1.000000    1.000000    1.000000  "
      ],
      "text/html": [
       "<div>\n",
       "<style scoped>\n",
       "    .dataframe tbody tr th:only-of-type {\n",
       "        vertical-align: middle;\n",
       "    }\n",
       "\n",
       "    .dataframe tbody tr th {\n",
       "        vertical-align: top;\n",
       "    }\n",
       "\n",
       "    .dataframe thead th {\n",
       "        text-align: right;\n",
       "    }\n",
       "</style>\n",
       "<table border=\"1\" class=\"dataframe\">\n",
       "  <thead>\n",
       "    <tr style=\"text-align: right;\">\n",
       "      <th></th>\n",
       "      <th>Character</th>\n",
       "      <th>Death Year</th>\n",
       "      <th>Book of Death</th>\n",
       "      <th>Death Chapter</th>\n",
       "      <th>Book Intro Chapter</th>\n",
       "      <th>Gender</th>\n",
       "      <th>Nobility</th>\n",
       "      <th>GoT</th>\n",
       "      <th>CoK</th>\n",
       "      <th>SoS</th>\n",
       "      <th>FfC</th>\n",
       "      <th>DwD</th>\n",
       "    </tr>\n",
       "  </thead>\n",
       "  <tbody>\n",
       "    <tr>\n",
       "      <th>count</th>\n",
       "      <td>687.000000</td>\n",
       "      <td>243.000000</td>\n",
       "      <td>245.000000</td>\n",
       "      <td>239.000000</td>\n",
       "      <td>676.000000</td>\n",
       "      <td>687.000000</td>\n",
       "      <td>687.000000</td>\n",
       "      <td>687.000000</td>\n",
       "      <td>687.000000</td>\n",
       "      <td>687.000000</td>\n",
       "      <td>687.000000</td>\n",
       "      <td>687.000000</td>\n",
       "    </tr>\n",
       "    <tr>\n",
       "      <th>mean</th>\n",
       "      <td>461.184862</td>\n",
       "      <td>299.164609</td>\n",
       "      <td>2.963265</td>\n",
       "      <td>39.167364</td>\n",
       "      <td>28.766272</td>\n",
       "      <td>0.850073</td>\n",
       "      <td>0.454148</td>\n",
       "      <td>0.282387</td>\n",
       "      <td>0.352256</td>\n",
       "      <td>0.429403</td>\n",
       "      <td>0.264920</td>\n",
       "      <td>0.276565</td>\n",
       "    </tr>\n",
       "    <tr>\n",
       "      <th>std</th>\n",
       "      <td>265.290576</td>\n",
       "      <td>0.702462</td>\n",
       "      <td>1.334703</td>\n",
       "      <td>20.313231</td>\n",
       "      <td>19.795064</td>\n",
       "      <td>0.357260</td>\n",
       "      <td>0.498256</td>\n",
       "      <td>0.450489</td>\n",
       "      <td>0.478021</td>\n",
       "      <td>0.495352</td>\n",
       "      <td>0.441612</td>\n",
       "      <td>0.447625</td>\n",
       "    </tr>\n",
       "    <tr>\n",
       "      <th>min</th>\n",
       "      <td>0.000000</td>\n",
       "      <td>297.000000</td>\n",
       "      <td>1.000000</td>\n",
       "      <td>0.000000</td>\n",
       "      <td>0.000000</td>\n",
       "      <td>0.000000</td>\n",
       "      <td>0.000000</td>\n",
       "      <td>0.000000</td>\n",
       "      <td>0.000000</td>\n",
       "      <td>0.000000</td>\n",
       "      <td>0.000000</td>\n",
       "      <td>0.000000</td>\n",
       "    </tr>\n",
       "    <tr>\n",
       "      <th>25%</th>\n",
       "      <td>225.500000</td>\n",
       "      <td>299.000000</td>\n",
       "      <td>2.000000</td>\n",
       "      <td>23.500000</td>\n",
       "      <td>12.000000</td>\n",
       "      <td>1.000000</td>\n",
       "      <td>0.000000</td>\n",
       "      <td>0.000000</td>\n",
       "      <td>0.000000</td>\n",
       "      <td>0.000000</td>\n",
       "      <td>0.000000</td>\n",
       "      <td>0.000000</td>\n",
       "    </tr>\n",
       "    <tr>\n",
       "      <th>50%</th>\n",
       "      <td>466.000000</td>\n",
       "      <td>299.000000</td>\n",
       "      <td>3.000000</td>\n",
       "      <td>37.000000</td>\n",
       "      <td>28.000000</td>\n",
       "      <td>1.000000</td>\n",
       "      <td>0.000000</td>\n",
       "      <td>0.000000</td>\n",
       "      <td>0.000000</td>\n",
       "      <td>0.000000</td>\n",
       "      <td>0.000000</td>\n",
       "      <td>0.000000</td>\n",
       "    </tr>\n",
       "    <tr>\n",
       "      <th>75%</th>\n",
       "      <td>692.500000</td>\n",
       "      <td>300.000000</td>\n",
       "      <td>4.000000</td>\n",
       "      <td>56.000000</td>\n",
       "      <td>42.250000</td>\n",
       "      <td>1.000000</td>\n",
       "      <td>1.000000</td>\n",
       "      <td>1.000000</td>\n",
       "      <td>1.000000</td>\n",
       "      <td>1.000000</td>\n",
       "      <td>1.000000</td>\n",
       "      <td>1.000000</td>\n",
       "    </tr>\n",
       "    <tr>\n",
       "      <th>max</th>\n",
       "      <td>916.000000</td>\n",
       "      <td>300.000000</td>\n",
       "      <td>5.000000</td>\n",
       "      <td>77.000000</td>\n",
       "      <td>80.000000</td>\n",
       "      <td>1.000000</td>\n",
       "      <td>1.000000</td>\n",
       "      <td>1.000000</td>\n",
       "      <td>1.000000</td>\n",
       "      <td>1.000000</td>\n",
       "      <td>1.000000</td>\n",
       "      <td>1.000000</td>\n",
       "    </tr>\n",
       "  </tbody>\n",
       "</table>\n",
       "</div>"
      ]
     },
     "execution_count": 573,
     "metadata": {},
     "output_type": "execute_result"
    }
   ],
   "execution_count": 573
  },
  {
   "cell_type": "code",
   "source": "train_data.info()",
   "metadata": {
    "ExecuteTime": {
     "end_time": "2025-09-22T14:54:44.428287Z",
     "start_time": "2025-09-22T14:54:44.413278Z"
    }
   },
   "outputs": [
    {
     "name": "stdout",
     "output_type": "stream",
     "text": [
      "<class 'pandas.core.frame.DataFrame'>\n",
      "RangeIndex: 687 entries, 0 to 686\n",
      "Data columns (total 14 columns):\n",
      " #   Column              Non-Null Count  Dtype  \n",
      "---  ------              --------------  -----  \n",
      " 0   Character           687 non-null    int64  \n",
      " 1   Name                687 non-null    object \n",
      " 2   Allegiances         502 non-null    object \n",
      " 3   Death Year          243 non-null    float64\n",
      " 4   Book of Death       245 non-null    float64\n",
      " 5   Death Chapter       239 non-null    float64\n",
      " 6   Book Intro Chapter  676 non-null    float64\n",
      " 7   Gender              687 non-null    int64  \n",
      " 8   Nobility            687 non-null    int64  \n",
      " 9   GoT                 687 non-null    int64  \n",
      " 10  CoK                 687 non-null    int64  \n",
      " 11  SoS                 687 non-null    int64  \n",
      " 12  FfC                 687 non-null    int64  \n",
      " 13  DwD                 687 non-null    int64  \n",
      "dtypes: float64(4), int64(8), object(2)\n",
      "memory usage: 75.3+ KB\n"
     ]
    }
   ],
   "execution_count": 574
  },
  {
   "cell_type": "markdown",
   "source": "We find out that some columns are 'object' type, which means they are categorical variables. We will need to convert them into numerical format before feeding them into the model.",
   "metadata": {}
  },
  {
   "cell_type": "markdown",
   "source": "# <div style=\"font-family: 'Garamond', serif; font-size: 22px; color: #ffffff; background-color: #34568B; text-align: center; padding: 15px; border-radius: 10px; border: 2px solid #FF6F61; box-shadow: 0 6px 12px rgba(0, 0, 0, 0.3); margin-bottom: 20px;\">Step 2: Preprocess the data</div>",
   "metadata": {}
  },
  {
   "cell_type": "markdown",
   "source": "## <div style=\"font-family: 'Lucida Sans Unicode', sans-serif; font-size: 18px; color: #4A235A; background-color: #D7BDE2; text-align: left; padding: 10px; border-left: 5px solid #7D3C98; box-shadow: 0 4px 6px rgba(0, 0, 0, 0.2); margin-bottom: 10px;\">Separating features and target variable</div>",
   "metadata": {}
  },
  {
   "cell_type": "code",
   "source": "# Creating the binary target column\ntrain_data['isDead'] = train_data[['Death Year','Book of Death','Death Chapter']].notna().any(axis=1).astype(int)\n\n# Separating the features and the target variable\nX = train_data.drop(columns=[\n    'isDead', 'Character', 'Name', 'Death Year', 'Book of Death', 'Death Chapter'\n])\ny = train_data['isDead']",
   "metadata": {
    "ExecuteTime": {
     "end_time": "2025-09-22T14:54:44.676283Z",
     "start_time": "2025-09-22T14:54:44.663278Z"
    }
   },
   "outputs": [],
   "execution_count": 575
  },
  {
   "cell_type": "markdown",
   "source": "## <div style=\"font-family: 'Lucida Sans Unicode', sans-serif; font-size: 18px; color: #4A235A; background-color: #D7BDE2; text-align: left; padding: 10px; border-left: 5px solid #7D3C98; box-shadow: 0 4px 6px rgba(0, 0, 0, 0.2); margin-bottom: 10px;\">Preprocessing the data</div>",
   "metadata": {}
  },
  {
   "cell_type": "markdown",
   "source": "For preprocessing, we will replace all missing values with `0` as required by the assignment instructions. Then, we will convert the `Allegiances` column into multiple dummy variables using one-hot encoding. This allows the model to handle categorical data in a numerical format suitable for training.",
   "metadata": {}
  },
  {
   "cell_type": "code",
   "source": "# Replace NaN with 0 for all numeric columns as required\nX = X.fillna(0)\n\n# Identify numerical and categorical columns\nnumerical_cols = X.select_dtypes(include=['int64', 'float64']).columns\ncategorical_cols = X.select_dtypes(include=['object', 'bool']).columns\n\n# Convert all categorical columns to string to avoid mixed types error\nX[categorical_cols] = X[categorical_cols].astype(str)\n\n# Preprocessing for numerical data (no imputation needed since already filled with 0)\nnumerical_transformer = 'passthrough'\n\n# Preprocessing for categorical data (only Allegiances needs one-hot encoding)\ncategorical_transformer = Pipeline(steps=[\n    ('onehot', OneHotEncoder(handle_unknown='ignore'))\n])\n\n# Bundle preprocessing for numerical and categorical data\npreprocessor = ColumnTransformer(\n    transformers=[\n        ('num', numerical_transformer, numerical_cols),\n        ('cat', categorical_transformer, categorical_cols)\n    ])\n\n# Apply preprocessing to the feature matrix\nX_preprocessed = preprocessor.fit_transform(X)\n\n# Display the first 5 rows of the transformed feature matrix\nX_preprocessed[0:5]",
   "metadata": {
    "ExecuteTime": {
     "end_time": "2025-09-22T14:54:44.878276Z",
     "start_time": "2025-09-22T14:54:44.864286Z"
    }
   },
   "outputs": [
    {
     "data": {
      "text/plain": [
       "array([[ 4.,  1.,  0.,  0.,  0.,  0.,  1.,  0.,  1.,  0.,  0.,  0.,  0.,\n",
       "         0.,  0.,  0.,  0.,  0.,  0.,  0.,  0.,  0.,  0.,  0.,  0.,  0.,\n",
       "         0.,  0.,  0.],\n",
       "       [58.,  1.,  1.,  0.,  0.,  0.,  0.,  1.,  0.,  0.,  0.,  0.,  0.,\n",
       "         0.,  0.,  0.,  0.,  0.,  0.,  0.,  0.,  0.,  0.,  0.,  0.,  0.,\n",
       "         0.,  0.,  1.],\n",
       "       [69.,  1.,  0.,  0.,  0.,  1.,  0.,  0.,  0.,  0.,  0.,  0.,  0.,\n",
       "         0.,  0.,  0.,  0.,  0.,  0.,  0.,  0.,  0.,  0.,  1.,  0.,  0.,\n",
       "         0.,  0.,  0.],\n",
       "       [48.,  1.,  0.,  1.,  0.,  0.,  0.,  0.,  0.,  0.,  0.,  0.,  0.,\n",
       "         0.,  0.,  0.,  0.,  0.,  0.,  0.,  0.,  0.,  0.,  1.,  0.,  0.,\n",
       "         0.,  0.,  0.],\n",
       "       [ 7.,  1.,  0.,  1.,  0.,  0.,  0.,  0.,  0.,  0.,  0.,  0.,  0.,\n",
       "         0.,  0.,  0.,  0.,  1.,  0.,  0.,  0.,  0.,  0.,  0.,  0.,  0.,\n",
       "         0.,  0.,  0.]])"
      ]
     },
     "execution_count": 576,
     "metadata": {},
     "output_type": "execute_result"
    }
   ],
   "execution_count": 576
  },
  {
   "cell_type": "markdown",
   "source": "# <div style=\"font-family: 'Garamond', serif; font-size: 22px; color: #ffffff; background-color: #34568B; text-align: center; padding: 15px; border-radius: 10px; border: 2px solid #FF6F61; box-shadow: 0 6px 12px rgba(0, 0, 0, 0.3); margin-bottom: 20px;\">Step 3: Train the model</div>",
   "metadata": {}
  },
  {
   "cell_type": "markdown",
   "source": "<div style=\"font-family: 'Lucida Sans Unicode', sans-serif; font-size: 18px; color: #4A235A; background-color: #D7BDE2; text-align: left; padding: 10px; border-left: 5px solid #7D3C98; box-shadow: 0 4px 6px rgba(0, 0, 0, 0.2); margin-bottom: 10px;\">Splitting the data into training and validation sets</div>",
   "metadata": {}
  },
  {
   "cell_type": "code",
   "source": "# Split data into training and validation subsets\nX_train, X_valid, y_train, y_valid = train_test_split(X, y, test_size=0.25, random_state=42, stratify=y)\n\n# Print the shapes of the resulting datasets\nprint(f\"X_train shape: {X_train.shape}\")\nprint(f\"X_valid shape: {X_valid.shape}\")\nprint(f\"y_train shape: {y_train.shape}\")\nprint(f\"y_valid shape: {y_valid.shape}\")",
   "metadata": {
    "ExecuteTime": {
     "end_time": "2025-09-22T14:54:45.033098Z",
     "start_time": "2025-09-22T14:54:45.020100Z"
    }
   },
   "outputs": [
    {
     "name": "stdout",
     "output_type": "stream",
     "text": [
      "X_train shape: (515, 9)\n",
      "X_valid shape: (172, 9)\n",
      "y_train shape: (515,)\n",
      "y_valid shape: (172,)\n"
     ]
    }
   ],
   "execution_count": 577
  },
  {
   "cell_type": "markdown",
   "source": "<div style=\"font-family: 'Lucida Sans Unicode', sans-serif; font-size: 18px; color: #4A235A; background-color: #D7BDE2; text-align: left; padding: 10px; border-left: 5px solid #7D3C98; box-shadow: 0 4px 6px rgba(0, 0, 0, 0.2); margin-bottom: 10px;\">Training the DecisionTreeClassifier model</div>",
   "metadata": {}
  },
  {
   "cell_type": "code",
   "source": "# Define the Decision Tree model\ndt_model = DecisionTreeClassifier(max_depth=4, random_state=42)\n\n# Create and evaluate the pipeline\ndt_pipeline = Pipeline(steps=[('preprocessor', preprocessor),\n                              ('model', dt_model)])\n\n# Preprocessing of training data, fit model\ndt_pipeline.fit(X_train, y_train)\n\n# Preprocessing of validation data, get probability predictions\nvalid_probs = dt_pipeline.predict_proba(X_valid)\n\n# Extracting the probabilities for the positive class\nvalid_positive_probs = valid_probs[:, 1]\n\n# Evaluate the model using AUC\nauc_score = roc_auc_score(y_valid, valid_positive_probs)\nauc_score",
   "metadata": {
    "ExecuteTime": {
     "end_time": "2025-09-22T14:54:45.220095Z",
     "start_time": "2025-09-22T14:54:45.190100Z"
    }
   },
   "outputs": [
    {
     "data": {
      "text/plain": [
       "0.6992668621700879"
      ]
     },
     "execution_count": 578,
     "metadata": {},
     "output_type": "execute_result"
    }
   ],
   "execution_count": 578
  },
  {
   "cell_type": "markdown",
   "source": "<div style=\"font-family: 'Lucida Sans Unicode', sans-serif; font-size: 18px; color: #4A235A; background-color: #D7BDE2; text-align: left; padding: 10px; border-left: 5px solid #7D3C98; box-shadow: 0 4px 6px rgba(0, 0, 0, 0.2); margin-bottom: 10px;\">Evaluating the Decision Tree model with confusion matrix, precision, recall, and accuracy</div>",
   "metadata": {}
  },
  {
   "cell_type": "code",
   "source": "# Make predictions on the validation set\ny_pred = dt_pipeline.predict(X_valid)\n\n# Compute confusion matrix\ncm = confusion_matrix(y_valid, y_pred)\n\n# Compute precision, recall, accuracy\nprecision = precision_score(y_valid, y_pred, zero_division=0)\nrecall = recall_score(y_valid, y_pred, zero_division=0)\naccuracy = accuracy_score(y_valid, y_pred)\n\n# Print evaluation metrics\nprint(f\"Confusion Matrix:\\n{cm}\")\nprint(f\"Precision: {precision:.4f}\")\nprint(f\"Recall:    {recall:.4f}\")\nprint(f\"Accuracy:  {accuracy:.4f}\")",
   "metadata": {
    "ExecuteTime": {
     "end_time": "2025-09-22T14:54:45.452097Z",
     "start_time": "2025-09-22T14:54:45.423097Z"
    }
   },
   "outputs": [
    {
     "name": "stdout",
     "output_type": "stream",
     "text": [
      "Confusion Matrix:\n",
      "[[80 30]\n",
      " [26 36]]\n",
      "Precision: 0.5455\n",
      "Recall:    0.5806\n",
      "Accuracy:  0.6744\n"
     ]
    }
   ],
   "execution_count": 579
  },
  {
   "cell_type": "markdown",
   "source": "<div style=\"font-family: 'Lucida Sans Unicode', sans-serif; font-size: 18px; color: #4A235A; background-color: #D7BDE2; text-align: left; padding: 10px; border-left: 5px solid #7D3C98; box-shadow: 0 4px 6px rgba(0, 0, 0, 0.2); margin-bottom: 10px;\">Visualizing the decision tree</div>",
   "metadata": {}
  },
  {
   "cell_type": "code",
   "source": "# Extract fitted OneHotEncoder from the full pipeline\nfitted_ohe = dt_pipeline.named_steps['preprocessor'].transformers_[1][1].named_steps['onehot']\n\n# Extract feature names after one-hot encoding\nohe_feature_names = fitted_ohe.get_feature_names_out(categorical_cols)\n\n# Combine numerical and categorical (one-hot) feature names\nfeature_names = list(numerical_cols) + list(ohe_feature_names)\n\n# Extract fitted decision tree model from pipeline\ndt_model = dt_pipeline.named_steps['model']\n\n# Export tree to DOT format\ndot_data = export_graphviz(\n    dt_model,\n    out_file=None,\n    feature_names=feature_names,\n    class_names=['Alive', 'Dead'],\n    filled=True,\n    rounded=True,\n    special_characters=True\n)\n\n# Export and save the tree as PNG\ngraph = graphviz.Source(dot_data, engine=\"dot\")\nif os.path.exists('plot/'):\n    png_bytes = graph.pipe(format=\"png\")\n    with open(\"plot/tree.png\", \"wb\") as f:\n        f.write(png_bytes)\ngraph",
   "metadata": {
    "ExecuteTime": {
     "end_time": "2025-09-22T14:54:45.885110Z",
     "start_time": "2025-09-22T14:54:45.545098Z"
    }
   },
   "outputs": [
    {
     "data": {
      "image/svg+xml": "<?xml version=\"1.0\" encoding=\"UTF-8\" standalone=\"no\"?>\n<!DOCTYPE svg PUBLIC \"-//W3C//DTD SVG 1.1//EN\"\n \"http://www.w3.org/Graphics/SVG/1.1/DTD/svg11.dtd\">\n<!-- Generated by graphviz version 9.0.0 (20230911.1827)\n -->\n<!-- Title: Tree Pages: 1 -->\n<svg width=\"1745pt\" height=\"588pt\"\n viewBox=\"0.00 0.00 1745.00 588.00\" xmlns=\"http://www.w3.org/2000/svg\" xmlns:xlink=\"http://www.w3.org/1999/xlink\">\n<g id=\"graph0\" class=\"graph\" transform=\"scale(1 1) rotate(0) translate(4 584)\">\n<title>Tree</title>\n<polygon fill=\"white\" stroke=\"none\" points=\"-4,4 -4,-584 1741,-584 1741,4 -4,4\"/>\n<!-- 0 -->\n<g id=\"node1\" class=\"node\">\n<title>0</title>\n<path fill=\"#f4c8a8\" stroke=\"black\" d=\"M1077,-580C1077,-580 971.75,-580 971.75,-580 965.75,-580 959.75,-574 959.75,-568 959.75,-568 959.75,-501.5 959.75,-501.5 959.75,-495.5 965.75,-489.5 971.75,-489.5 971.75,-489.5 1077,-489.5 1077,-489.5 1083,-489.5 1089,-495.5 1089,-501.5 1089,-501.5 1089,-568 1089,-568 1089,-574 1083,-580 1077,-580\"/>\n<text text-anchor=\"start\" x=\"994.75\" y=\"-562.7\" font-family=\"Helvetica,sans-Serif\" font-size=\"14.00\">FfC ≤ 0.5</text>\n<text text-anchor=\"start\" x=\"991.38\" y=\"-546.2\" font-family=\"Helvetica,sans-Serif\" font-size=\"14.00\">gini = 0.46</text>\n<text text-anchor=\"start\" x=\"977.12\" y=\"-529.7\" font-family=\"Helvetica,sans-Serif\" font-size=\"14.00\">samples = 515</text>\n<text text-anchor=\"start\" x=\"967.75\" y=\"-513.2\" font-family=\"Helvetica,sans-Serif\" font-size=\"14.00\">value = [330, 185]</text>\n<text text-anchor=\"start\" x=\"984.62\" y=\"-496.7\" font-family=\"Helvetica,sans-Serif\" font-size=\"14.00\">class = Alive</text>\n</g>\n<!-- 1 -->\n<g id=\"node2\" class=\"node\">\n<title>1</title>\n<path fill=\"#f8dcc7\" stroke=\"black\" d=\"M829,-453.5C829,-453.5 723.75,-453.5 723.75,-453.5 717.75,-453.5 711.75,-447.5 711.75,-441.5 711.75,-441.5 711.75,-375 711.75,-375 711.75,-369 717.75,-363 723.75,-363 723.75,-363 829,-363 829,-363 835,-363 841,-369 841,-375 841,-375 841,-441.5 841,-441.5 841,-447.5 835,-453.5 829,-453.5\"/>\n<text text-anchor=\"start\" x=\"743.38\" y=\"-436.2\" font-family=\"Helvetica,sans-Serif\" font-size=\"14.00\">DwD ≤ 0.5</text>\n<text text-anchor=\"start\" x=\"739.25\" y=\"-419.7\" font-family=\"Helvetica,sans-Serif\" font-size=\"14.00\">gini = 0.487</text>\n<text text-anchor=\"start\" x=\"729.12\" y=\"-403.2\" font-family=\"Helvetica,sans-Serif\" font-size=\"14.00\">samples = 385</text>\n<text text-anchor=\"start\" x=\"719.75\" y=\"-386.7\" font-family=\"Helvetica,sans-Serif\" font-size=\"14.00\">value = [224, 161]</text>\n<text text-anchor=\"start\" x=\"736.62\" y=\"-370.2\" font-family=\"Helvetica,sans-Serif\" font-size=\"14.00\">class = Alive</text>\n</g>\n<!-- 0&#45;&gt;1 -->\n<g id=\"edge1\" class=\"edge\">\n<title>0&#45;&gt;1</title>\n<path fill=\"none\" stroke=\"black\" d=\"M959.54,-501.2C926.36,-484.55 885.8,-464.18 851.29,-446.86\"/>\n<polygon fill=\"black\" stroke=\"black\" points=\"853.12,-443.86 842.61,-442.5 849.98,-450.12 853.12,-443.86\"/>\n<text text-anchor=\"middle\" x=\"849.13\" y=\"-460.5\" font-family=\"Helvetica,sans-Serif\" font-size=\"14.00\">True</text>\n</g>\n<!-- 16 -->\n<g id=\"node17\" class=\"node\">\n<title>16</title>\n<path fill=\"#eb9e66\" stroke=\"black\" d=\"M1345.25,-453.5C1345.25,-453.5 1133.5,-453.5 1133.5,-453.5 1127.5,-453.5 1121.5,-447.5 1121.5,-441.5 1121.5,-441.5 1121.5,-375 1121.5,-375 1121.5,-369 1127.5,-363 1133.5,-363 1133.5,-363 1345.25,-363 1345.25,-363 1351.25,-363 1357.25,-369 1357.25,-375 1357.25,-375 1357.25,-441.5 1357.25,-441.5 1357.25,-447.5 1351.25,-453.5 1345.25,-453.5\"/>\n<text text-anchor=\"start\" x=\"1129.5\" y=\"-436.2\" font-family=\"Helvetica,sans-Serif\" font-size=\"14.00\">Allegiances_House Lannister ≤ 0.5</text>\n<text text-anchor=\"start\" x=\"1202.25\" y=\"-419.7\" font-family=\"Helvetica,sans-Serif\" font-size=\"14.00\">gini = 0.301</text>\n<text text-anchor=\"start\" x=\"1192.12\" y=\"-403.2\" font-family=\"Helvetica,sans-Serif\" font-size=\"14.00\">samples = 130</text>\n<text text-anchor=\"start\" x=\"1186.88\" y=\"-386.7\" font-family=\"Helvetica,sans-Serif\" font-size=\"14.00\">value = [106, 24]</text>\n<text text-anchor=\"start\" x=\"1199.62\" y=\"-370.2\" font-family=\"Helvetica,sans-Serif\" font-size=\"14.00\">class = Alive</text>\n</g>\n<!-- 0&#45;&gt;16 -->\n<g id=\"edge16\" class=\"edge\">\n<title>0&#45;&gt;16</title>\n<path fill=\"none\" stroke=\"black\" d=\"M1089.47,-496.06C1109.31,-484.57 1131.45,-471.74 1152.5,-459.56\"/>\n<polygon fill=\"black\" stroke=\"black\" points=\"1154.19,-462.62 1161.09,-454.58 1150.69,-456.56 1154.19,-462.62\"/>\n<text text-anchor=\"middle\" x=\"1155.96\" y=\"-472.93\" font-family=\"Helvetica,sans-Serif\" font-size=\"14.00\">False</text>\n</g>\n<!-- 2 -->\n<g id=\"node3\" class=\"node\">\n<title>2</title>\n<path fill=\"#fef9f6\" stroke=\"black\" d=\"M495,-327C495,-327 377.75,-327 377.75,-327 371.75,-327 365.75,-321 365.75,-315 365.75,-315 365.75,-248.5 365.75,-248.5 365.75,-242.5 371.75,-236.5 377.75,-236.5 377.75,-236.5 495,-236.5 495,-236.5 501,-236.5 507,-242.5 507,-248.5 507,-248.5 507,-315 507,-315 507,-321 501,-327 495,-327\"/>\n<text text-anchor=\"start\" x=\"373.75\" y=\"-309.7\" font-family=\"Helvetica,sans-Serif\" font-size=\"14.00\">Allegiances_0 ≤ 0.5</text>\n<text text-anchor=\"start\" x=\"407.5\" y=\"-293.2\" font-family=\"Helvetica,sans-Serif\" font-size=\"14.00\">gini = 0.5</text>\n<text text-anchor=\"start\" x=\"389.12\" y=\"-276.7\" font-family=\"Helvetica,sans-Serif\" font-size=\"14.00\">samples = 268</text>\n<text text-anchor=\"start\" x=\"379.75\" y=\"-260.2\" font-family=\"Helvetica,sans-Serif\" font-size=\"14.00\">value = [137, 131]</text>\n<text text-anchor=\"start\" x=\"396.62\" y=\"-243.7\" font-family=\"Helvetica,sans-Serif\" font-size=\"14.00\">class = Alive</text>\n</g>\n<!-- 1&#45;&gt;2 -->\n<g id=\"edge2\" class=\"edge\">\n<title>1&#45;&gt;2</title>\n<path fill=\"none\" stroke=\"black\" d=\"M711.62,-383.54C656.55,-363.37 577.18,-334.31 517.81,-312.57\"/>\n<polygon fill=\"black\" stroke=\"black\" points=\"519.36,-309.41 508.76,-309.26 516.95,-315.98 519.36,-309.41\"/>\n</g>\n<!-- 9 -->\n<g id=\"node10\" class=\"node\">\n<title>9</title>\n<path fill=\"#eeac7d\" stroke=\"black\" d=\"M856,-327C856,-327 696.75,-327 696.75,-327 690.75,-327 684.75,-321 684.75,-315 684.75,-315 684.75,-248.5 684.75,-248.5 684.75,-242.5 690.75,-236.5 696.75,-236.5 696.75,-236.5 856,-236.5 856,-236.5 862,-236.5 868,-242.5 868,-248.5 868,-248.5 868,-315 868,-315 868,-321 862,-327 856,-327\"/>\n<text text-anchor=\"start\" x=\"692.75\" y=\"-309.7\" font-family=\"Helvetica,sans-Serif\" font-size=\"14.00\">Allegiances_Wildling ≤ 0.5</text>\n<text text-anchor=\"start\" x=\"739.25\" y=\"-293.2\" font-family=\"Helvetica,sans-Serif\" font-size=\"14.00\">gini = 0.381</text>\n<text text-anchor=\"start\" x=\"729.12\" y=\"-276.7\" font-family=\"Helvetica,sans-Serif\" font-size=\"14.00\">samples = 117</text>\n<text text-anchor=\"start\" x=\"716\" y=\"-260.2\" font-family=\"Helvetica,sans-Serif\" font-size=\"14.00\">value = [87.0, 30.0]</text>\n<text text-anchor=\"start\" x=\"736.62\" y=\"-243.7\" font-family=\"Helvetica,sans-Serif\" font-size=\"14.00\">class = Alive</text>\n</g>\n<!-- 1&#45;&gt;9 -->\n<g id=\"edge9\" class=\"edge\">\n<title>1&#45;&gt;9</title>\n<path fill=\"none\" stroke=\"black\" d=\"M776.38,-362.65C776.38,-354.97 776.38,-346.89 776.38,-338.94\"/>\n<polygon fill=\"black\" stroke=\"black\" points=\"779.88,-338.97 776.38,-328.97 772.88,-338.97 779.88,-338.97\"/>\n</g>\n<!-- 3 -->\n<g id=\"node4\" class=\"node\">\n<title>3</title>\n<path fill=\"#deeffb\" stroke=\"black\" d=\"M290.75,-200.5C290.75,-200.5 124,-200.5 124,-200.5 118,-200.5 112,-194.5 112,-188.5 112,-188.5 112,-122 112,-122 112,-116 118,-110 124,-110 124,-110 290.75,-110 290.75,-110 296.75,-110 302.75,-116 302.75,-122 302.75,-122 302.75,-188.5 302.75,-188.5 302.75,-194.5 296.75,-200.5 290.75,-200.5\"/>\n<text text-anchor=\"start\" x=\"120\" y=\"-183.2\" font-family=\"Helvetica,sans-Serif\" font-size=\"14.00\">Allegiances_Lannister ≤ 0.5</text>\n<text text-anchor=\"start\" x=\"170.25\" y=\"-166.7\" font-family=\"Helvetica,sans-Serif\" font-size=\"14.00\">gini = 0.496</text>\n<text text-anchor=\"start\" x=\"160.12\" y=\"-150.2\" font-family=\"Helvetica,sans-Serif\" font-size=\"14.00\">samples = 185</text>\n<text text-anchor=\"start\" x=\"154.88\" y=\"-133.7\" font-family=\"Helvetica,sans-Serif\" font-size=\"14.00\">value = [84, 101]</text>\n<text text-anchor=\"start\" x=\"165.75\" y=\"-117.2\" font-family=\"Helvetica,sans-Serif\" font-size=\"14.00\">class = Dead</text>\n</g>\n<!-- 2&#45;&gt;3 -->\n<g id=\"edge3\" class=\"edge\">\n<title>2&#45;&gt;3</title>\n<path fill=\"none\" stroke=\"black\" d=\"M365.49,-242.21C344.64,-230.88 321.53,-218.31 299.55,-206.37\"/>\n<polygon fill=\"black\" stroke=\"black\" points=\"301.34,-203.35 290.88,-201.65 298,-209.5 301.34,-203.35\"/>\n</g>\n<!-- 6 -->\n<g id=\"node7\" class=\"node\">\n<title>6</title>\n<path fill=\"#f4c8a9\" stroke=\"black\" d=\"M513.75,-200.5C513.75,-200.5 359,-200.5 359,-200.5 353,-200.5 347,-194.5 347,-188.5 347,-188.5 347,-122 347,-122 347,-116 353,-110 359,-110 359,-110 513.75,-110 513.75,-110 519.75,-110 525.75,-116 525.75,-122 525.75,-122 525.75,-188.5 525.75,-188.5 525.75,-194.5 519.75,-200.5 513.75,-200.5\"/>\n<text text-anchor=\"start\" x=\"355\" y=\"-183.2\" font-family=\"Helvetica,sans-Serif\" font-size=\"14.00\">Book Intro Chapter ≤ 42.5</text>\n<text text-anchor=\"start\" x=\"399.25\" y=\"-166.7\" font-family=\"Helvetica,sans-Serif\" font-size=\"14.00\">gini = 0.462</text>\n<text text-anchor=\"start\" x=\"393.25\" y=\"-150.2\" font-family=\"Helvetica,sans-Serif\" font-size=\"14.00\">samples = 83</text>\n<text text-anchor=\"start\" x=\"376\" y=\"-133.7\" font-family=\"Helvetica,sans-Serif\" font-size=\"14.00\">value = [53.0, 30.0]</text>\n<text text-anchor=\"start\" x=\"396.62\" y=\"-117.2\" font-family=\"Helvetica,sans-Serif\" font-size=\"14.00\">class = Alive</text>\n</g>\n<!-- 2&#45;&gt;6 -->\n<g id=\"edge6\" class=\"edge\">\n<title>2&#45;&gt;6</title>\n<path fill=\"none\" stroke=\"black\" d=\"M436.38,-236.15C436.38,-228.47 436.38,-220.39 436.38,-212.44\"/>\n<polygon fill=\"black\" stroke=\"black\" points=\"439.88,-212.47 436.38,-202.47 432.88,-212.47 439.88,-212.47\"/>\n</g>\n<!-- 4 -->\n<g id=\"node5\" class=\"node\">\n<title>4</title>\n<path fill=\"#cbe5f8\" stroke=\"black\" d=\"M124.75,-74C124.75,-74 12,-74 12,-74 6,-74 0,-68 0,-62 0,-62 0,-12 0,-12 0,-6 6,0 12,0 12,0 124.75,0 124.75,0 130.75,0 136.75,-6 136.75,-12 136.75,-12 136.75,-62 136.75,-62 136.75,-68 130.75,-74 124.75,-74\"/>\n<text text-anchor=\"start\" x=\"31.25\" y=\"-56.7\" font-family=\"Helvetica,sans-Serif\" font-size=\"14.00\">gini = 0.489</text>\n<text text-anchor=\"start\" x=\"21.12\" y=\"-40.2\" font-family=\"Helvetica,sans-Serif\" font-size=\"14.00\">samples = 165</text>\n<text text-anchor=\"start\" x=\"8\" y=\"-23.7\" font-family=\"Helvetica,sans-Serif\" font-size=\"14.00\">value = [70.0, 95.0]</text>\n<text text-anchor=\"start\" x=\"26.75\" y=\"-7.2\" font-family=\"Helvetica,sans-Serif\" font-size=\"14.00\">class = Dead</text>\n</g>\n<!-- 3&#45;&gt;4 -->\n<g id=\"edge4\" class=\"edge\">\n<title>3&#45;&gt;4</title>\n<path fill=\"none\" stroke=\"black\" d=\"M154.03,-109.64C143.04,-100.44 131.47,-90.77 120.52,-81.61\"/>\n<polygon fill=\"black\" stroke=\"black\" points=\"122.97,-79.1 113.05,-75.36 118.48,-84.46 122.97,-79.1\"/>\n</g>\n<!-- 5 -->\n<g id=\"node6\" class=\"node\">\n<title>5</title>\n<path fill=\"#f0b78e\" stroke=\"black\" d=\"M247.62,-74C247.62,-74 167.12,-74 167.12,-74 161.12,-74 155.12,-68 155.12,-62 155.12,-62 155.12,-12 155.12,-12 155.12,-6 161.12,0 167.12,0 167.12,0 247.62,0 247.62,0 253.62,0 259.62,-6 259.62,-12 259.62,-12 259.62,-62 259.62,-62 259.62,-68 253.62,-74 247.62,-74\"/>\n<text text-anchor=\"start\" x=\"174.38\" y=\"-56.7\" font-family=\"Helvetica,sans-Serif\" font-size=\"14.00\">gini = 0.42</text>\n<text text-anchor=\"start\" x=\"164.25\" y=\"-40.2\" font-family=\"Helvetica,sans-Serif\" font-size=\"14.00\">samples = 20</text>\n<text text-anchor=\"start\" x=\"163.12\" y=\"-23.7\" font-family=\"Helvetica,sans-Serif\" font-size=\"14.00\">value = [14, 6]</text>\n<text text-anchor=\"start\" x=\"167.62\" y=\"-7.2\" font-family=\"Helvetica,sans-Serif\" font-size=\"14.00\">class = Alive</text>\n</g>\n<!-- 3&#45;&gt;5 -->\n<g id=\"edge5\" class=\"edge\">\n<title>3&#45;&gt;5</title>\n<path fill=\"none\" stroke=\"black\" d=\"M207.38,-109.64C207.38,-101.81 207.38,-93.63 207.38,-85.72\"/>\n<polygon fill=\"black\" stroke=\"black\" points=\"210.88,-85.91 207.38,-75.91 203.88,-85.91 210.88,-85.91\"/>\n</g>\n<!-- 7 -->\n<g id=\"node8\" class=\"node\">\n<title>7</title>\n<path fill=\"#fceee5\" stroke=\"black\" d=\"M378.75,-74C378.75,-74 290,-74 290,-74 284,-74 278,-68 278,-62 278,-62 278,-12 278,-12 278,-6 284,0 290,0 290,0 378.75,0 378.75,0 384.75,0 390.75,-6 390.75,-12 390.75,-12 390.75,-62 390.75,-62 390.75,-68 384.75,-74 378.75,-74\"/>\n<text text-anchor=\"start\" x=\"297.25\" y=\"-56.7\" font-family=\"Helvetica,sans-Serif\" font-size=\"14.00\">gini = 0.497</text>\n<text text-anchor=\"start\" x=\"291.25\" y=\"-40.2\" font-family=\"Helvetica,sans-Serif\" font-size=\"14.00\">samples = 56</text>\n<text text-anchor=\"start\" x=\"286\" y=\"-23.7\" font-family=\"Helvetica,sans-Serif\" font-size=\"14.00\">value = [30, 26]</text>\n<text text-anchor=\"start\" x=\"294.62\" y=\"-7.2\" font-family=\"Helvetica,sans-Serif\" font-size=\"14.00\">class = Alive</text>\n</g>\n<!-- 6&#45;&gt;7 -->\n<g id=\"edge7\" class=\"edge\">\n<title>6&#45;&gt;7</title>\n<path fill=\"none\" stroke=\"black\" d=\"M397.23,-109.64C389.56,-100.9 381.51,-91.73 373.84,-82.97\"/>\n<polygon fill=\"black\" stroke=\"black\" points=\"376.53,-80.74 367.31,-75.53 371.27,-85.36 376.53,-80.74\"/>\n</g>\n<!-- 8 -->\n<g id=\"node9\" class=\"node\">\n<title>8</title>\n<path fill=\"#ea975b\" stroke=\"black\" d=\"M501.62,-74C501.62,-74 421.12,-74 421.12,-74 415.12,-74 409.12,-68 409.12,-62 409.12,-62 409.12,-12 409.12,-12 409.12,-6 415.12,0 421.12,0 421.12,0 501.62,0 501.62,0 507.62,0 513.62,-6 513.62,-12 513.62,-12 513.62,-62 513.62,-62 513.62,-68 507.62,-74 501.62,-74\"/>\n<text text-anchor=\"start\" x=\"424.25\" y=\"-56.7\" font-family=\"Helvetica,sans-Serif\" font-size=\"14.00\">gini = 0.252</text>\n<text text-anchor=\"start\" x=\"418.25\" y=\"-40.2\" font-family=\"Helvetica,sans-Serif\" font-size=\"14.00\">samples = 27</text>\n<text text-anchor=\"start\" x=\"417.12\" y=\"-23.7\" font-family=\"Helvetica,sans-Serif\" font-size=\"14.00\">value = [23, 4]</text>\n<text text-anchor=\"start\" x=\"421.62\" y=\"-7.2\" font-family=\"Helvetica,sans-Serif\" font-size=\"14.00\">class = Alive</text>\n</g>\n<!-- 6&#45;&gt;8 -->\n<g id=\"edge8\" class=\"edge\">\n<title>6&#45;&gt;8</title>\n<path fill=\"none\" stroke=\"black\" d=\"M445.97,-109.64C447.67,-101.72 449.45,-93.44 451.17,-85.45\"/>\n<polygon fill=\"black\" stroke=\"black\" points=\"454.55,-86.39 453.23,-75.87 447.71,-84.91 454.55,-86.39\"/>\n</g>\n<!-- 10 -->\n<g id=\"node11\" class=\"node\">\n<title>10</title>\n<path fill=\"#eca26d\" stroke=\"black\" d=\"M753.62,-200.5C753.62,-200.5 607.12,-200.5 607.12,-200.5 601.12,-200.5 595.12,-194.5 595.12,-188.5 595.12,-188.5 595.12,-122 595.12,-122 595.12,-116 601.12,-110 607.12,-110 607.12,-110 753.62,-110 753.62,-110 759.62,-110 765.62,-116 765.62,-122 765.62,-122 765.62,-188.5 765.62,-188.5 765.62,-194.5 759.62,-200.5 753.62,-200.5\"/>\n<text text-anchor=\"start\" x=\"603.12\" y=\"-183.2\" font-family=\"Helvetica,sans-Serif\" font-size=\"14.00\">Book Intro Chapter ≤ 0.5</text>\n<text text-anchor=\"start\" x=\"643.25\" y=\"-166.7\" font-family=\"Helvetica,sans-Serif\" font-size=\"14.00\">gini = 0.329</text>\n<text text-anchor=\"start\" x=\"633.12\" y=\"-150.2\" font-family=\"Helvetica,sans-Serif\" font-size=\"14.00\">samples = 106</text>\n<text text-anchor=\"start\" x=\"632\" y=\"-133.7\" font-family=\"Helvetica,sans-Serif\" font-size=\"14.00\">value = [84, 22]</text>\n<text text-anchor=\"start\" x=\"640.62\" y=\"-117.2\" font-family=\"Helvetica,sans-Serif\" font-size=\"14.00\">class = Alive</text>\n</g>\n<!-- 9&#45;&gt;10 -->\n<g id=\"edge10\" class=\"edge\">\n<title>9&#45;&gt;10</title>\n<path fill=\"none\" stroke=\"black\" d=\"M741.99,-236.15C735.44,-227.66 728.52,-218.69 721.78,-209.95\"/>\n<polygon fill=\"black\" stroke=\"black\" points=\"724.65,-207.93 715.77,-202.15 719.1,-212.21 724.65,-207.93\"/>\n</g>\n<!-- 13 -->\n<g id=\"node14\" class=\"node\">\n<title>13</title>\n<path fill=\"#83c2ef\" stroke=\"black\" d=\"M950.75,-200.5C950.75,-200.5 796,-200.5 796,-200.5 790,-200.5 784,-194.5 784,-188.5 784,-188.5 784,-122 784,-122 784,-116 790,-110 796,-110 796,-110 950.75,-110 950.75,-110 956.75,-110 962.75,-116 962.75,-122 962.75,-122 962.75,-188.5 962.75,-188.5 962.75,-194.5 956.75,-200.5 950.75,-200.5\"/>\n<text text-anchor=\"start\" x=\"792\" y=\"-183.2\" font-family=\"Helvetica,sans-Serif\" font-size=\"14.00\">Book Intro Chapter ≤ 11.0</text>\n<text text-anchor=\"start\" x=\"836.25\" y=\"-166.7\" font-family=\"Helvetica,sans-Serif\" font-size=\"14.00\">gini = 0.397</text>\n<text text-anchor=\"start\" x=\"830.25\" y=\"-150.2\" font-family=\"Helvetica,sans-Serif\" font-size=\"14.00\">samples = 11</text>\n<text text-anchor=\"start\" x=\"833.25\" y=\"-133.7\" font-family=\"Helvetica,sans-Serif\" font-size=\"14.00\">value = [3, 8]</text>\n<text text-anchor=\"start\" x=\"831.75\" y=\"-117.2\" font-family=\"Helvetica,sans-Serif\" font-size=\"14.00\">class = Dead</text>\n</g>\n<!-- 9&#45;&gt;13 -->\n<g id=\"edge13\" class=\"edge\">\n<title>9&#45;&gt;13</title>\n<path fill=\"none\" stroke=\"black\" d=\"M811.12,-236.15C817.74,-227.66 824.73,-218.69 831.54,-209.95\"/>\n<polygon fill=\"black\" stroke=\"black\" points=\"834.23,-212.19 837.62,-202.15 828.71,-207.88 834.23,-212.19\"/>\n</g>\n<!-- 11 -->\n<g id=\"node12\" class=\"node\">\n<title>11</title>\n<path fill=\"#b0d8f5\" stroke=\"black\" d=\"M619,-74C619,-74 543.75,-74 543.75,-74 537.75,-74 531.75,-68 531.75,-62 531.75,-62 531.75,-12 531.75,-12 531.75,-6 537.75,0 543.75,0 543.75,0 619,0 619,0 625,0 631,-6 631,-12 631,-12 631,-62 631,-62 631,-68 625,-74 619,-74\"/>\n<text text-anchor=\"start\" x=\"544.25\" y=\"-56.7\" font-family=\"Helvetica,sans-Serif\" font-size=\"14.00\">gini = 0.469</text>\n<text text-anchor=\"start\" x=\"542.38\" y=\"-40.2\" font-family=\"Helvetica,sans-Serif\" font-size=\"14.00\">samples = 8</text>\n<text text-anchor=\"start\" x=\"541.25\" y=\"-23.7\" font-family=\"Helvetica,sans-Serif\" font-size=\"14.00\">value = [3, 5]</text>\n<text text-anchor=\"start\" x=\"539.75\" y=\"-7.2\" font-family=\"Helvetica,sans-Serif\" font-size=\"14.00\">class = Dead</text>\n</g>\n<!-- 10&#45;&gt;11 -->\n<g id=\"edge11\" class=\"edge\">\n<title>10&#45;&gt;11</title>\n<path fill=\"none\" stroke=\"black\" d=\"M642.38,-109.64C634.94,-100.9 627.13,-91.73 619.68,-82.97\"/>\n<polygon fill=\"black\" stroke=\"black\" points=\"622.5,-80.89 613.35,-75.55 617.17,-85.43 622.5,-80.89\"/>\n</g>\n<!-- 12 -->\n<g id=\"node13\" class=\"node\">\n<title>12</title>\n<path fill=\"#ea9b63\" stroke=\"black\" d=\"M749.75,-74C749.75,-74 661,-74 661,-74 655,-74 649,-68 649,-62 649,-62 649,-12 649,-12 649,-6 655,0 661,0 661,0 749.75,0 749.75,0 755.75,0 761.75,-6 761.75,-12 761.75,-12 761.75,-62 761.75,-62 761.75,-68 755.75,-74 749.75,-74\"/>\n<text text-anchor=\"start\" x=\"668.25\" y=\"-56.7\" font-family=\"Helvetica,sans-Serif\" font-size=\"14.00\">gini = 0.287</text>\n<text text-anchor=\"start\" x=\"662.25\" y=\"-40.2\" font-family=\"Helvetica,sans-Serif\" font-size=\"14.00\">samples = 98</text>\n<text text-anchor=\"start\" x=\"657\" y=\"-23.7\" font-family=\"Helvetica,sans-Serif\" font-size=\"14.00\">value = [81, 17]</text>\n<text text-anchor=\"start\" x=\"665.62\" y=\"-7.2\" font-family=\"Helvetica,sans-Serif\" font-size=\"14.00\">class = Alive</text>\n</g>\n<!-- 10&#45;&gt;12 -->\n<g id=\"edge12\" class=\"edge\">\n<title>10&#45;&gt;12</title>\n<path fill=\"none\" stroke=\"black\" d=\"M689.97,-109.64C691.67,-101.72 693.45,-93.44 695.17,-85.45\"/>\n<polygon fill=\"black\" stroke=\"black\" points=\"698.55,-86.39 697.23,-75.87 691.71,-84.91 698.55,-86.39\"/>\n</g>\n<!-- 14 -->\n<g id=\"node15\" class=\"node\">\n<title>14</title>\n<path fill=\"#e58139\" stroke=\"black\" d=\"M864.5,-74C864.5,-74 792.25,-74 792.25,-74 786.25,-74 780.25,-68 780.25,-62 780.25,-62 780.25,-12 780.25,-12 780.25,-6 786.25,0 792.25,0 792.25,0 864.5,0 864.5,0 870.5,0 876.5,-6 876.5,-12 876.5,-12 876.5,-62 876.5,-62 876.5,-68 870.5,-74 864.5,-74\"/>\n<text text-anchor=\"start\" x=\"799.5\" y=\"-56.7\" font-family=\"Helvetica,sans-Serif\" font-size=\"14.00\">gini = 0.0</text>\n<text text-anchor=\"start\" x=\"789.38\" y=\"-40.2\" font-family=\"Helvetica,sans-Serif\" font-size=\"14.00\">samples = 3</text>\n<text text-anchor=\"start\" x=\"788.25\" y=\"-23.7\" font-family=\"Helvetica,sans-Serif\" font-size=\"14.00\">value = [3, 0]</text>\n<text text-anchor=\"start\" x=\"788.62\" y=\"-7.2\" font-family=\"Helvetica,sans-Serif\" font-size=\"14.00\">class = Alive</text>\n</g>\n<!-- 13&#45;&gt;14 -->\n<g id=\"edge14\" class=\"edge\">\n<title>13&#45;&gt;14</title>\n<path fill=\"none\" stroke=\"black\" d=\"M856.11,-109.64C852.97,-101.53 849.69,-93.06 846.53,-84.89\"/>\n<polygon fill=\"black\" stroke=\"black\" points=\"849.88,-83.87 843.01,-75.81 843.36,-86.39 849.88,-83.87\"/>\n</g>\n<!-- 15 -->\n<g id=\"node16\" class=\"node\">\n<title>15</title>\n<path fill=\"#399de5\" stroke=\"black\" d=\"M982,-74C982,-74 906.75,-74 906.75,-74 900.75,-74 894.75,-68 894.75,-62 894.75,-62 894.75,-12 894.75,-12 894.75,-6 900.75,0 906.75,0 906.75,0 982,0 982,0 988,0 994,-6 994,-12 994,-12 994,-62 994,-62 994,-68 988,-74 982,-74\"/>\n<text text-anchor=\"start\" x=\"915.5\" y=\"-56.7\" font-family=\"Helvetica,sans-Serif\" font-size=\"14.00\">gini = 0.0</text>\n<text text-anchor=\"start\" x=\"905.38\" y=\"-40.2\" font-family=\"Helvetica,sans-Serif\" font-size=\"14.00\">samples = 8</text>\n<text text-anchor=\"start\" x=\"904.25\" y=\"-23.7\" font-family=\"Helvetica,sans-Serif\" font-size=\"14.00\">value = [0, 8]</text>\n<text text-anchor=\"start\" x=\"902.75\" y=\"-7.2\" font-family=\"Helvetica,sans-Serif\" font-size=\"14.00\">class = Dead</text>\n</g>\n<!-- 13&#45;&gt;15 -->\n<g id=\"edge15\" class=\"edge\">\n<title>13&#45;&gt;15</title>\n<path fill=\"none\" stroke=\"black\" d=\"M900.62,-109.64C905.74,-101.26 911.1,-92.49 916.24,-84.07\"/>\n<polygon fill=\"black\" stroke=\"black\" points=\"919.13,-86.04 921.36,-75.69 913.16,-82.4 919.13,-86.04\"/>\n</g>\n<!-- 17 -->\n<g id=\"node18\" class=\"node\">\n<title>17</title>\n<path fill=\"#ea9a61\" stroke=\"black\" d=\"M1337.38,-327C1337.38,-327 1141.38,-327 1141.38,-327 1135.38,-327 1129.38,-321 1129.38,-315 1129.38,-315 1129.38,-248.5 1129.38,-248.5 1129.38,-242.5 1135.38,-236.5 1141.38,-236.5 1141.38,-236.5 1337.38,-236.5 1337.38,-236.5 1343.38,-236.5 1349.38,-242.5 1349.38,-248.5 1349.38,-248.5 1349.38,-315 1349.38,-315 1349.38,-321 1343.38,-327 1337.38,-327\"/>\n<text text-anchor=\"start\" x=\"1137.38\" y=\"-309.7\" font-family=\"Helvetica,sans-Serif\" font-size=\"14.00\">Allegiances_Night&#39;s Watch ≤ 0.5</text>\n<text text-anchor=\"start\" x=\"1202.25\" y=\"-293.2\" font-family=\"Helvetica,sans-Serif\" font-size=\"14.00\">gini = 0.278</text>\n<text text-anchor=\"start\" x=\"1192.12\" y=\"-276.7\" font-family=\"Helvetica,sans-Serif\" font-size=\"14.00\">samples = 126</text>\n<text text-anchor=\"start\" x=\"1186.88\" y=\"-260.2\" font-family=\"Helvetica,sans-Serif\" font-size=\"14.00\">value = [105, 21]</text>\n<text text-anchor=\"start\" x=\"1199.62\" y=\"-243.7\" font-family=\"Helvetica,sans-Serif\" font-size=\"14.00\">class = Alive</text>\n</g>\n<!-- 16&#45;&gt;17 -->\n<g id=\"edge17\" class=\"edge\">\n<title>16&#45;&gt;17</title>\n<path fill=\"none\" stroke=\"black\" d=\"M1239.38,-362.65C1239.38,-354.97 1239.38,-346.89 1239.38,-338.94\"/>\n<polygon fill=\"black\" stroke=\"black\" points=\"1242.88,-338.97 1239.38,-328.97 1235.88,-338.97 1242.88,-338.97\"/>\n</g>\n<!-- 24 -->\n<g id=\"node25\" class=\"node\">\n<title>24</title>\n<path fill=\"#7bbeee\" stroke=\"black\" d=\"M1493,-327C1493,-327 1417.75,-327 1417.75,-327 1411.75,-327 1405.75,-321 1405.75,-315 1405.75,-315 1405.75,-248.5 1405.75,-248.5 1405.75,-242.5 1411.75,-236.5 1417.75,-236.5 1417.75,-236.5 1493,-236.5 1493,-236.5 1499,-236.5 1505,-242.5 1505,-248.5 1505,-248.5 1505,-315 1505,-315 1505,-321 1499,-327 1493,-327\"/>\n<text text-anchor=\"start\" x=\"1414.88\" y=\"-309.7\" font-family=\"Helvetica,sans-Serif\" font-size=\"14.00\">Nobility ≤ 0.5</text>\n<text text-anchor=\"start\" x=\"1418.25\" y=\"-293.2\" font-family=\"Helvetica,sans-Serif\" font-size=\"14.00\">gini = 0.375</text>\n<text text-anchor=\"start\" x=\"1416.38\" y=\"-276.7\" font-family=\"Helvetica,sans-Serif\" font-size=\"14.00\">samples = 4</text>\n<text text-anchor=\"start\" x=\"1415.25\" y=\"-260.2\" font-family=\"Helvetica,sans-Serif\" font-size=\"14.00\">value = [1, 3]</text>\n<text text-anchor=\"start\" x=\"1413.75\" y=\"-243.7\" font-family=\"Helvetica,sans-Serif\" font-size=\"14.00\">class = Dead</text>\n</g>\n<!-- 16&#45;&gt;24 -->\n<g id=\"edge24\" class=\"edge\">\n<title>16&#45;&gt;24</title>\n<path fill=\"none\" stroke=\"black\" d=\"M1316.75,-362.65C1342.71,-347.69 1371.24,-331.24 1395.64,-317.18\"/>\n<polygon fill=\"black\" stroke=\"black\" points=\"1397.24,-320.3 1404.16,-312.27 1393.75,-314.23 1397.24,-320.3\"/>\n</g>\n<!-- 18 -->\n<g id=\"node19\" class=\"node\">\n<title>18</title>\n<path fill=\"#e9965a\" stroke=\"black\" d=\"M1261,-200.5C1261,-200.5 1143.75,-200.5 1143.75,-200.5 1137.75,-200.5 1131.75,-194.5 1131.75,-188.5 1131.75,-188.5 1131.75,-122 1131.75,-122 1131.75,-116 1137.75,-110 1143.75,-110 1143.75,-110 1261,-110 1261,-110 1267,-110 1273,-116 1273,-122 1273,-122 1273,-188.5 1273,-188.5 1273,-194.5 1267,-200.5 1261,-200.5\"/>\n<text text-anchor=\"start\" x=\"1139.75\" y=\"-183.2\" font-family=\"Helvetica,sans-Serif\" font-size=\"14.00\">Allegiances_0 ≤ 0.5</text>\n<text text-anchor=\"start\" x=\"1165.25\" y=\"-166.7\" font-family=\"Helvetica,sans-Serif\" font-size=\"14.00\">gini = 0.247</text>\n<text text-anchor=\"start\" x=\"1155.12\" y=\"-150.2\" font-family=\"Helvetica,sans-Serif\" font-size=\"14.00\">samples = 118</text>\n<text text-anchor=\"start\" x=\"1149.88\" y=\"-133.7\" font-family=\"Helvetica,sans-Serif\" font-size=\"14.00\">value = [101, 17]</text>\n<text text-anchor=\"start\" x=\"1162.62\" y=\"-117.2\" font-family=\"Helvetica,sans-Serif\" font-size=\"14.00\">class = Alive</text>\n</g>\n<!-- 17&#45;&gt;18 -->\n<g id=\"edge18\" class=\"edge\">\n<title>17&#45;&gt;18</title>\n<path fill=\"none\" stroke=\"black\" d=\"M1226.12,-236.15C1223.78,-228.29 1221.32,-220.01 1218.91,-211.89\"/>\n<polygon fill=\"black\" stroke=\"black\" points=\"1222.3,-210.99 1216.09,-202.4 1215.59,-212.99 1222.3,-210.99\"/>\n</g>\n<!-- 21 -->\n<g id=\"node22\" class=\"node\">\n<title>21</title>\n<path fill=\"#ffffff\" stroke=\"black\" d=\"M1375.5,-200.5C1375.5,-200.5 1303.25,-200.5 1303.25,-200.5 1297.25,-200.5 1291.25,-194.5 1291.25,-188.5 1291.25,-188.5 1291.25,-122 1291.25,-122 1291.25,-116 1297.25,-110 1303.25,-110 1303.25,-110 1375.5,-110 1375.5,-110 1381.5,-110 1387.5,-116 1387.5,-122 1387.5,-122 1387.5,-188.5 1387.5,-188.5 1387.5,-194.5 1381.5,-200.5 1375.5,-200.5\"/>\n<text text-anchor=\"start\" x=\"1307.5\" y=\"-183.2\" font-family=\"Helvetica,sans-Serif\" font-size=\"14.00\">CoK ≤ 0.5</text>\n<text text-anchor=\"start\" x=\"1310.5\" y=\"-166.7\" font-family=\"Helvetica,sans-Serif\" font-size=\"14.00\">gini = 0.5</text>\n<text text-anchor=\"start\" x=\"1300.38\" y=\"-150.2\" font-family=\"Helvetica,sans-Serif\" font-size=\"14.00\">samples = 8</text>\n<text text-anchor=\"start\" x=\"1299.25\" y=\"-133.7\" font-family=\"Helvetica,sans-Serif\" font-size=\"14.00\">value = [4, 4]</text>\n<text text-anchor=\"start\" x=\"1299.62\" y=\"-117.2\" font-family=\"Helvetica,sans-Serif\" font-size=\"14.00\">class = Alive</text>\n</g>\n<!-- 17&#45;&gt;21 -->\n<g id=\"edge21\" class=\"edge\">\n<title>17&#45;&gt;21</title>\n<path fill=\"none\" stroke=\"black\" d=\"M1275.19,-236.15C1282.09,-227.57 1289.37,-218.5 1296.46,-209.67\"/>\n<polygon fill=\"black\" stroke=\"black\" points=\"1298.99,-212.12 1302.52,-202.13 1293.53,-207.74 1298.99,-212.12\"/>\n</g>\n<!-- 19 -->\n<g id=\"node20\" class=\"node\">\n<title>19</title>\n<path fill=\"#e78d4b\" stroke=\"black\" d=\"M1128.62,-74C1128.62,-74 1024.12,-74 1024.12,-74 1018.12,-74 1012.12,-68 1012.12,-62 1012.12,-62 1012.12,-12 1012.12,-12 1012.12,-6 1018.12,0 1024.12,0 1024.12,0 1128.62,0 1128.62,0 1134.62,0 1140.62,-6 1140.62,-12 1140.62,-12 1140.62,-62 1140.62,-62 1140.62,-68 1134.62,-74 1128.62,-74\"/>\n<text text-anchor=\"start\" x=\"1039.25\" y=\"-56.7\" font-family=\"Helvetica,sans-Serif\" font-size=\"14.00\">gini = 0.156</text>\n<text text-anchor=\"start\" x=\"1033.25\" y=\"-40.2\" font-family=\"Helvetica,sans-Serif\" font-size=\"14.00\">samples = 82</text>\n<text text-anchor=\"start\" x=\"1020.12\" y=\"-23.7\" font-family=\"Helvetica,sans-Serif\" font-size=\"14.00\">value = [75.0, 7.0]</text>\n<text text-anchor=\"start\" x=\"1036.62\" y=\"-7.2\" font-family=\"Helvetica,sans-Serif\" font-size=\"14.00\">class = Alive</text>\n</g>\n<!-- 18&#45;&gt;19 -->\n<g id=\"edge19\" class=\"edge\">\n<title>18&#45;&gt;19</title>\n<path fill=\"none\" stroke=\"black\" d=\"M1154.02,-109.64C1144.25,-100.62 1133.98,-91.15 1124.23,-82.15\"/>\n<polygon fill=\"black\" stroke=\"black\" points=\"1126.66,-79.63 1116.93,-75.42 1121.91,-84.77 1126.66,-79.63\"/>\n</g>\n<!-- 20 -->\n<g id=\"node21\" class=\"node\">\n<title>20</title>\n<path fill=\"#efb185\" stroke=\"black\" d=\"M1259.75,-74C1259.75,-74 1171,-74 1171,-74 1165,-74 1159,-68 1159,-62 1159,-62 1159,-12 1159,-12 1159,-6 1165,0 1171,0 1171,0 1259.75,0 1259.75,0 1265.75,0 1271.75,-6 1271.75,-12 1271.75,-12 1271.75,-62 1271.75,-62 1271.75,-68 1265.75,-74 1259.75,-74\"/>\n<text text-anchor=\"start\" x=\"1178.25\" y=\"-56.7\" font-family=\"Helvetica,sans-Serif\" font-size=\"14.00\">gini = 0.401</text>\n<text text-anchor=\"start\" x=\"1172.25\" y=\"-40.2\" font-family=\"Helvetica,sans-Serif\" font-size=\"14.00\">samples = 36</text>\n<text text-anchor=\"start\" x=\"1167\" y=\"-23.7\" font-family=\"Helvetica,sans-Serif\" font-size=\"14.00\">value = [26, 10]</text>\n<text text-anchor=\"start\" x=\"1175.62\" y=\"-7.2\" font-family=\"Helvetica,sans-Serif\" font-size=\"14.00\">class = Alive</text>\n</g>\n<!-- 18&#45;&gt;20 -->\n<g id=\"edge20\" class=\"edge\">\n<title>18&#45;&gt;20</title>\n<path fill=\"none\" stroke=\"black\" d=\"M1207.36,-109.64C1208.24,-101.81 1209.15,-93.63 1210.04,-85.72\"/>\n<polygon fill=\"black\" stroke=\"black\" points=\"1213.5,-86.22 1211.14,-75.9 1206.55,-85.45 1213.5,-86.22\"/>\n</g>\n<!-- 22 -->\n<g id=\"node23\" class=\"node\">\n<title>22</title>\n<path fill=\"#6ab6ec\" stroke=\"black\" d=\"M1377,-74C1377,-74 1301.75,-74 1301.75,-74 1295.75,-74 1289.75,-68 1289.75,-62 1289.75,-62 1289.75,-12 1289.75,-12 1289.75,-6 1295.75,0 1301.75,0 1301.75,0 1377,0 1377,0 1383,0 1389,-6 1389,-12 1389,-12 1389,-62 1389,-62 1389,-68 1383,-74 1377,-74\"/>\n<text text-anchor=\"start\" x=\"1306.38\" y=\"-56.7\" font-family=\"Helvetica,sans-Serif\" font-size=\"14.00\">gini = 0.32</text>\n<text text-anchor=\"start\" x=\"1300.38\" y=\"-40.2\" font-family=\"Helvetica,sans-Serif\" font-size=\"14.00\">samples = 5</text>\n<text text-anchor=\"start\" x=\"1299.25\" y=\"-23.7\" font-family=\"Helvetica,sans-Serif\" font-size=\"14.00\">value = [1, 4]</text>\n<text text-anchor=\"start\" x=\"1297.75\" y=\"-7.2\" font-family=\"Helvetica,sans-Serif\" font-size=\"14.00\">class = Dead</text>\n</g>\n<!-- 21&#45;&gt;22 -->\n<g id=\"edge22\" class=\"edge\">\n<title>21&#45;&gt;22</title>\n<path fill=\"none\" stroke=\"black\" d=\"M1339.38,-109.64C1339.38,-101.81 1339.38,-93.63 1339.38,-85.72\"/>\n<polygon fill=\"black\" stroke=\"black\" points=\"1342.88,-85.91 1339.38,-75.91 1335.88,-85.91 1342.88,-85.91\"/>\n</g>\n<!-- 23 -->\n<g id=\"node24\" class=\"node\">\n<title>23</title>\n<path fill=\"#e58139\" stroke=\"black\" d=\"M1491.5,-74C1491.5,-74 1419.25,-74 1419.25,-74 1413.25,-74 1407.25,-68 1407.25,-62 1407.25,-62 1407.25,-12 1407.25,-12 1407.25,-6 1413.25,0 1419.25,0 1419.25,0 1491.5,0 1491.5,0 1497.5,0 1503.5,-6 1503.5,-12 1503.5,-12 1503.5,-62 1503.5,-62 1503.5,-68 1497.5,-74 1491.5,-74\"/>\n<text text-anchor=\"start\" x=\"1426.5\" y=\"-56.7\" font-family=\"Helvetica,sans-Serif\" font-size=\"14.00\">gini = 0.0</text>\n<text text-anchor=\"start\" x=\"1416.38\" y=\"-40.2\" font-family=\"Helvetica,sans-Serif\" font-size=\"14.00\">samples = 3</text>\n<text text-anchor=\"start\" x=\"1415.25\" y=\"-23.7\" font-family=\"Helvetica,sans-Serif\" font-size=\"14.00\">value = [3, 0]</text>\n<text text-anchor=\"start\" x=\"1415.62\" y=\"-7.2\" font-family=\"Helvetica,sans-Serif\" font-size=\"14.00\">class = Alive</text>\n</g>\n<!-- 21&#45;&gt;23 -->\n<g id=\"edge23\" class=\"edge\">\n<title>21&#45;&gt;23</title>\n<path fill=\"none\" stroke=\"black\" d=\"M1383.89,-109.64C1392.79,-100.72 1402.15,-91.34 1411.04,-82.43\"/>\n<polygon fill=\"black\" stroke=\"black\" points=\"1413.4,-85.02 1417.99,-75.46 1408.45,-80.07 1413.4,-85.02\"/>\n</g>\n<!-- 25 -->\n<g id=\"node26\" class=\"node\">\n<title>25</title>\n<path fill=\"#399de5\" stroke=\"black\" d=\"M1493,-192.25C1493,-192.25 1417.75,-192.25 1417.75,-192.25 1411.75,-192.25 1405.75,-186.25 1405.75,-180.25 1405.75,-180.25 1405.75,-130.25 1405.75,-130.25 1405.75,-124.25 1411.75,-118.25 1417.75,-118.25 1417.75,-118.25 1493,-118.25 1493,-118.25 1499,-118.25 1505,-124.25 1505,-130.25 1505,-130.25 1505,-180.25 1505,-180.25 1505,-186.25 1499,-192.25 1493,-192.25\"/>\n<text text-anchor=\"start\" x=\"1426.5\" y=\"-174.95\" font-family=\"Helvetica,sans-Serif\" font-size=\"14.00\">gini = 0.0</text>\n<text text-anchor=\"start\" x=\"1416.38\" y=\"-158.45\" font-family=\"Helvetica,sans-Serif\" font-size=\"14.00\">samples = 2</text>\n<text text-anchor=\"start\" x=\"1415.25\" y=\"-141.95\" font-family=\"Helvetica,sans-Serif\" font-size=\"14.00\">value = [0, 2]</text>\n<text text-anchor=\"start\" x=\"1413.75\" y=\"-125.45\" font-family=\"Helvetica,sans-Serif\" font-size=\"14.00\">class = Dead</text>\n</g>\n<!-- 24&#45;&gt;25 -->\n<g id=\"edge25\" class=\"edge\">\n<title>24&#45;&gt;25</title>\n<path fill=\"none\" stroke=\"black\" d=\"M1455.38,-236.15C1455.38,-225.6 1455.38,-214.31 1455.38,-203.63\"/>\n<polygon fill=\"black\" stroke=\"black\" points=\"1458.88,-203.87 1455.38,-193.87 1451.88,-203.87 1458.88,-203.87\"/>\n</g>\n<!-- 26 -->\n<g id=\"node27\" class=\"node\">\n<title>26</title>\n<path fill=\"#ffffff\" stroke=\"black\" d=\"M1610,-200.5C1610,-200.5 1534.75,-200.5 1534.75,-200.5 1528.75,-200.5 1522.75,-194.5 1522.75,-188.5 1522.75,-188.5 1522.75,-122 1522.75,-122 1522.75,-116 1528.75,-110 1534.75,-110 1534.75,-110 1610,-110 1610,-110 1616,-110 1622,-116 1622,-122 1622,-122 1622,-188.5 1622,-188.5 1622,-194.5 1616,-200.5 1610,-200.5\"/>\n<text text-anchor=\"start\" x=\"1530.75\" y=\"-183.2\" font-family=\"Helvetica,sans-Serif\" font-size=\"14.00\">Gender ≤ 0.5</text>\n<text text-anchor=\"start\" x=\"1543.5\" y=\"-166.7\" font-family=\"Helvetica,sans-Serif\" font-size=\"14.00\">gini = 0.5</text>\n<text text-anchor=\"start\" x=\"1533.38\" y=\"-150.2\" font-family=\"Helvetica,sans-Serif\" font-size=\"14.00\">samples = 2</text>\n<text text-anchor=\"start\" x=\"1532.25\" y=\"-133.7\" font-family=\"Helvetica,sans-Serif\" font-size=\"14.00\">value = [1, 1]</text>\n<text text-anchor=\"start\" x=\"1532.62\" y=\"-117.2\" font-family=\"Helvetica,sans-Serif\" font-size=\"14.00\">class = Alive</text>\n</g>\n<!-- 24&#45;&gt;26 -->\n<g id=\"edge26\" class=\"edge\">\n<title>24&#45;&gt;26</title>\n<path fill=\"none\" stroke=\"black\" d=\"M1497.28,-236.15C1505.52,-227.39 1514.23,-218.12 1522.69,-209.12\"/>\n<polygon fill=\"black\" stroke=\"black\" points=\"1525.03,-211.74 1529.33,-202.06 1519.93,-206.95 1525.03,-211.74\"/>\n</g>\n<!-- 27 -->\n<g id=\"node28\" class=\"node\">\n<title>27</title>\n<path fill=\"#e58139\" stroke=\"black\" d=\"M1607.5,-74C1607.5,-74 1535.25,-74 1535.25,-74 1529.25,-74 1523.25,-68 1523.25,-62 1523.25,-62 1523.25,-12 1523.25,-12 1523.25,-6 1529.25,0 1535.25,0 1535.25,0 1607.5,0 1607.5,0 1613.5,0 1619.5,-6 1619.5,-12 1619.5,-12 1619.5,-62 1619.5,-62 1619.5,-68 1613.5,-74 1607.5,-74\"/>\n<text text-anchor=\"start\" x=\"1542.5\" y=\"-56.7\" font-family=\"Helvetica,sans-Serif\" font-size=\"14.00\">gini = 0.0</text>\n<text text-anchor=\"start\" x=\"1532.38\" y=\"-40.2\" font-family=\"Helvetica,sans-Serif\" font-size=\"14.00\">samples = 1</text>\n<text text-anchor=\"start\" x=\"1531.25\" y=\"-23.7\" font-family=\"Helvetica,sans-Serif\" font-size=\"14.00\">value = [1, 0]</text>\n<text text-anchor=\"start\" x=\"1531.62\" y=\"-7.2\" font-family=\"Helvetica,sans-Serif\" font-size=\"14.00\">class = Alive</text>\n</g>\n<!-- 26&#45;&gt;27 -->\n<g id=\"edge27\" class=\"edge\">\n<title>26&#45;&gt;27</title>\n<path fill=\"none\" stroke=\"black\" d=\"M1571.99,-109.64C1571.92,-101.81 1571.85,-93.63 1571.79,-85.72\"/>\n<polygon fill=\"black\" stroke=\"black\" points=\"1575.29,-85.88 1571.7,-75.91 1568.29,-85.94 1575.29,-85.88\"/>\n</g>\n<!-- 28 -->\n<g id=\"node29\" class=\"node\">\n<title>28</title>\n<path fill=\"#399de5\" stroke=\"black\" d=\"M1725,-74C1725,-74 1649.75,-74 1649.75,-74 1643.75,-74 1637.75,-68 1637.75,-62 1637.75,-62 1637.75,-12 1637.75,-12 1637.75,-6 1643.75,0 1649.75,0 1649.75,0 1725,0 1725,0 1731,0 1737,-6 1737,-12 1737,-12 1737,-62 1737,-62 1737,-68 1731,-74 1725,-74\"/>\n<text text-anchor=\"start\" x=\"1658.5\" y=\"-56.7\" font-family=\"Helvetica,sans-Serif\" font-size=\"14.00\">gini = 0.0</text>\n<text text-anchor=\"start\" x=\"1648.38\" y=\"-40.2\" font-family=\"Helvetica,sans-Serif\" font-size=\"14.00\">samples = 1</text>\n<text text-anchor=\"start\" x=\"1647.25\" y=\"-23.7\" font-family=\"Helvetica,sans-Serif\" font-size=\"14.00\">value = [0, 1]</text>\n<text text-anchor=\"start\" x=\"1645.75\" y=\"-7.2\" font-family=\"Helvetica,sans-Serif\" font-size=\"14.00\">class = Dead</text>\n</g>\n<!-- 26&#45;&gt;28 -->\n<g id=\"edge28\" class=\"edge\">\n<title>26&#45;&gt;28</title>\n<path fill=\"none\" stroke=\"black\" d=\"M1616.51,-109.64C1625.33,-100.72 1634.61,-91.34 1643.43,-82.43\"/>\n<polygon fill=\"black\" stroke=\"black\" points=\"1645.76,-85.04 1650.31,-75.47 1640.79,-80.12 1645.76,-85.04\"/>\n</g>\n</g>\n</svg>\n",
      "text/plain": [
       "<graphviz.sources.Source at 0x158f55d8ee0>"
      ]
     },
     "execution_count": 580,
     "metadata": {},
     "output_type": "execute_result"
    }
   ],
   "execution_count": 580
  },
  {
   "cell_type": "markdown",
   "source": "# <div style=\"font-family: 'Garamond', serif; font-size: 22px; color: #ffffff; background-color: #34568B; text-align: center; padding: 15px; border-radius: 10px; border: 2px solid #FF6F61; box-shadow: 0 6px 12px rgba(0, 0, 0, 0.3); margin-bottom: 20px;\">Step 4: Randomized Search Cross Validation</div>",
   "metadata": {}
  },
  {
   "cell_type": "markdown",
   "source": "<div style=\"font-family: 'Lucida Sans Unicode', sans-serif; font-size: 18px; color: #4A235A; background-color: #D7BDE2; text-align: left; padding: 10px; border-left: 5px solid #7D3C98; box-shadow: 0 4px 6px rgba(0, 0, 0, 0.2); margin-bottom: 10px;\">Hyperparameter Tuning with Randomized Search CV</div>",
   "metadata": {}
  },
  {
   "cell_type": "markdown",
   "source": "Sometimes, the default parameters of a model may not yield the best performance. To optimize the model's performance, we can use techniques like Randomized Search Cross-Validation to find the best hyperparameters.",
   "metadata": {}
  },
  {
   "cell_type": "code",
   "source": "# Define the parameter grid for DecisionTreeClassifier (focused on accuracy)\nparam_grid = {\n    'model__max_depth': list(range(3, 13)),\n    'model__min_samples_split': [2, 5, 10, 20],\n    'model__min_samples_leaf': [2, 5, 10],\n    'model__max_leaf_nodes': [None, 16, 32, 64],\n    'model__max_features': [None, 'sqrt', 0.5],\n    'model__criterion': ['gini', 'entropy'],\n    'model__ccp_alpha': np.linspace(0.0, 0.006, 7),\n    'model__class_weight': [None]\n}\n\n# Define StratifiedKFold for consistent splits\ncv = StratifiedKFold(n_splits=5, shuffle=True, random_state=42)\n\n# Create the randomized search with 10-fold cross-validation\ndt_random_search = RandomizedSearchCV(\n    estimator=dt_pipeline,\n    param_distributions=param_grid,\n    n_iter=40,\n    scoring='accuracy',\n    cv=cv,\n    random_state=42,\n    n_jobs=-1,\n    verbose=1\n)\n\n# Fit the random search model\ndt_random_search.fit(X_train, y_train)\n\n# Best parameters and score\nbest_params = dt_random_search.best_params_\nbest_score = dt_random_search.best_score_\n\nbest_params, best_score",
   "metadata": {
    "ExecuteTime": {
     "end_time": "2025-09-22T14:54:52.068927Z",
     "start_time": "2025-09-22T14:54:45.981100Z"
    }
   },
   "outputs": [
    {
     "name": "stdout",
     "output_type": "stream",
     "text": [
      "Fitting 5 folds for each of 40 candidates, totalling 200 fits\n"
     ]
    },
    {
     "data": {
      "text/plain": [
       "({'model__min_samples_split': 20,\n",
       "  'model__min_samples_leaf': 5,\n",
       "  'model__max_leaf_nodes': 32,\n",
       "  'model__max_features': 0.5,\n",
       "  'model__max_depth': 9,\n",
       "  'model__criterion': 'entropy',\n",
       "  'model__class_weight': None,\n",
       "  'model__ccp_alpha': np.float64(0.001)},\n",
       " np.float64(0.6873786407766991))"
      ]
     },
     "execution_count": 581,
     "metadata": {},
     "output_type": "execute_result"
    }
   ],
   "execution_count": 581
  },
  {
   "cell_type": "markdown",
   "source": "<div style=\"font-family: 'Lucida Sans Unicode', sans-serif; font-size: 18px; color: #4A235A; background-color: #D7BDE2; text-align: left; padding: 10px; border-left: 5px solid #7D3C98; box-shadow: 0 4px 6px rgba(0, 0, 0, 0.2); margin-bottom: 10px;\">Evaluating the best hyperparameters performance</div>",
   "metadata": {}
  },
  {
   "cell_type": "code",
   "source": "# Define the tuned Decision Tree model\ndt_model_tuned = DecisionTreeClassifier(\n    max_depth=best_params['model__max_depth'],\n    min_samples_split=best_params['model__min_samples_split'],\n    min_samples_leaf=best_params['model__min_samples_leaf'],\n    max_leaf_nodes=best_params['model__max_leaf_nodes'],\n    max_features=best_params['model__max_features'],\n    criterion=best_params['model__criterion'],\n    ccp_alpha=best_params['model__ccp_alpha'],\n    class_weight=best_params['model__class_weight'],\n    random_state=42\n)\n\n# Update the pipeline\ndt_pipeline.set_params(model=dt_model_tuned)\n\n# Fit the model with the training data\ndt_pipeline.fit(X_train, y_train)\n\n# Predict probabilities on the validation set\nvalid_probs_tuned = dt_pipeline.predict_proba(X_valid)\n\n# Extracting the probabilities for the positive class\nvalid_positive_probs_tuned = valid_probs_tuned[:, 1]\n\n# Evaluate the tuned model using AUC\nauc_score_tuned = roc_auc_score(y_valid, valid_positive_probs_tuned)\nauc_score_tuned",
   "metadata": {
    "ExecuteTime": {
     "end_time": "2025-09-22T14:54:52.209932Z",
     "start_time": "2025-09-22T14:54:52.179929Z"
    }
   },
   "outputs": [
    {
     "data": {
      "text/plain": [
       "0.7065982404692082"
      ]
     },
     "execution_count": 582,
     "metadata": {},
     "output_type": "execute_result"
    }
   ],
   "execution_count": 582
  },
  {
   "cell_type": "markdown",
   "source": "<div style=\"font-family: 'Lucida Sans Unicode', sans-serif; font-size: 18px; color: #4A235A; background-color: #D7BDE2; text-align: left; padding: 10px; border-left: 5px solid #7D3C98; box-shadow: 0 4px 6px rgba(0, 0, 0, 0.2); margin-bottom: 10px;\">Comparing accuracy scores before and after tuning</div>",
   "metadata": {}
  },
  {
   "cell_type": "code",
   "source": "# Display Accuracy before (from earlier eval) and after tuning\nprint(f\"Accuracy before tuning: {accuracy:.4f}\")\n\ny_pred_tuned_tmp = dt_pipeline.predict(X_valid)\naccuracy_tuned_tmp = accuracy_score(y_valid, y_pred_tuned_tmp)\nprint(f\"Accuracy after tuning:  {accuracy_tuned_tmp:.4f}\")",
   "metadata": {
    "ExecuteTime": {
     "end_time": "2025-09-22T14:54:52.319932Z",
     "start_time": "2025-09-22T14:54:52.305926Z"
    }
   },
   "outputs": [
    {
     "name": "stdout",
     "output_type": "stream",
     "text": [
      "Accuracy before tuning: 0.6744\n",
      "Accuracy after tuning:  0.6919\n"
     ]
    }
   ],
   "execution_count": 583
  },
  {
   "cell_type": "markdown",
   "source": "<div style=\"font-family: 'Lucida Sans Unicode', sans-serif; font-size: 18px; color: #4A235A; background-color: #D7BDE2; text-align: left; padding: 10px; border-left: 5px solid #7D3C98; box-shadow: 0 4px 6px rgba(0, 0, 0, 0.2); margin-bottom: 10px;\">Evaluating the tuned Decision Tree model with confusion matrix, precision, recall, and accuracy</div>",
   "metadata": {}
  },
  {
   "cell_type": "code",
   "source": "# Make predictions on the validation set\ny_pred = dt_pipeline.predict(X_valid)\n\n# Compute confusion matrix\ncm = confusion_matrix(y_valid, y_pred)\n\n# Compute precision, recall, accuracy\nprecision = precision_score(y_valid, y_pred, zero_division=0)\nrecall = recall_score(y_valid, y_pred, zero_division=0)\naccuracy = accuracy_score(y_valid, y_pred)\n\n# Print evaluation metrics\nprint(f\"Confusion Matrix:\\n{cm}\")\nprint(f\"Precision: {precision:.4f}\")\nprint(f\"Recall:    {recall:.4f}\")\nprint(f\"Accuracy:  {accuracy:.4f}\")",
   "metadata": {
    "ExecuteTime": {
     "end_time": "2025-09-22T14:54:52.460934Z",
     "start_time": "2025-09-22T14:54:52.431947Z"
    }
   },
   "outputs": [
    {
     "name": "stdout",
     "output_type": "stream",
     "text": [
      "Confusion Matrix:\n",
      "[[88 22]\n",
      " [31 31]]\n",
      "Precision: 0.5849\n",
      "Recall:    0.5000\n",
      "Accuracy:  0.6919\n"
     ]
    }
   ],
   "execution_count": 584
  },
  {
   "cell_type": "markdown",
   "source": "<div style=\"font-family: 'Lucida Sans Unicode', sans-serif; font-size: 18px; color: #4A235A; background-color: #D7BDE2; text-align: left; padding: 10px; border-left: 5px solid #7D3C98; box-shadow: 0 4px 6px rgba(0, 0, 0, 0.2); margin-bottom: 10px;\">Visualizing the tuned decision tree</div>",
   "metadata": {}
  },
  {
   "cell_type": "code",
   "source": "# Extract fitted OneHotEncoder from the full pipeline\nfitted_ohe = dt_pipeline.named_steps['preprocessor'].transformers_[1][1].named_steps['onehot']\n\n# Extract feature names after one-hot encoding\nohe_feature_names = fitted_ohe.get_feature_names_out(categorical_cols)\n\n# Combine numerical and categorical (one-hot) feature names\nfeature_names = list(numerical_cols) + list(ohe_feature_names)\n\n# Extract fitted decision tree model from pipeline\ndt_model = dt_pipeline.named_steps['model']\n\n# Export tree to DOT format\ndot_data = export_graphviz(\n    dt_model,\n    out_file=None,\n    feature_names=feature_names,\n    class_names=['Alive', 'Dead'],\n    filled=True,\n    rounded=True,\n    special_characters=True\n)\n\n# Render the tree using Graphviz\ngraph = graphviz.Source(dot_data, engine=\"dot\")\nif os.path.exists('plot/'):\n    png_bytes = graph.pipe(format=\"png\")\n    with open(\"plot/tree_tuned.png\", \"wb\") as f:\n        f.write(png_bytes)\ngraph",
   "metadata": {
    "ExecuteTime": {
     "end_time": "2025-09-22T14:54:53.081136Z",
     "start_time": "2025-09-22T14:54:52.555929Z"
    }
   },
   "outputs": [
    {
     "data": {
      "image/svg+xml": "<?xml version=\"1.0\" encoding=\"UTF-8\" standalone=\"no\"?>\n<!DOCTYPE svg PUBLIC \"-//W3C//DTD SVG 1.1//EN\"\n \"http://www.w3.org/Graphics/SVG/1.1/DTD/svg11.dtd\">\n<!-- Generated by graphviz version 9.0.0 (20230911.1827)\n -->\n<!-- Title: Tree Pages: 1 -->\n<svg width=\"2045pt\" height=\"1221pt\"\n viewBox=\"0.00 0.00 2044.62 1220.50\" xmlns=\"http://www.w3.org/2000/svg\" xmlns:xlink=\"http://www.w3.org/1999/xlink\">\n<g id=\"graph0\" class=\"graph\" transform=\"scale(1 1) rotate(0) translate(4 1216.5)\">\n<title>Tree</title>\n<polygon fill=\"white\" stroke=\"none\" points=\"-4,4 -4,-1216.5 2040.62,-1216.5 2040.62,4 -4,4\"/>\n<!-- 0 -->\n<g id=\"node1\" class=\"node\">\n<title>0</title>\n<path fill=\"#f4c8a8\" stroke=\"black\" d=\"M1345.5,-1212.5C1345.5,-1212.5 1240.25,-1212.5 1240.25,-1212.5 1234.25,-1212.5 1228.25,-1206.5 1228.25,-1200.5 1228.25,-1200.5 1228.25,-1134 1228.25,-1134 1228.25,-1128 1234.25,-1122 1240.25,-1122 1240.25,-1122 1345.5,-1122 1345.5,-1122 1351.5,-1122 1357.5,-1128 1357.5,-1134 1357.5,-1134 1357.5,-1200.5 1357.5,-1200.5 1357.5,-1206.5 1351.5,-1212.5 1345.5,-1212.5\"/>\n<text text-anchor=\"start\" x=\"1263.25\" y=\"-1195.2\" font-family=\"Helvetica,sans-Serif\" font-size=\"14.00\">FfC ≤ 0.5</text>\n<text text-anchor=\"start\" x=\"1243\" y=\"-1178.7\" font-family=\"Helvetica,sans-Serif\" font-size=\"14.00\">entropy = 0.942</text>\n<text text-anchor=\"start\" x=\"1245.62\" y=\"-1162.2\" font-family=\"Helvetica,sans-Serif\" font-size=\"14.00\">samples = 515</text>\n<text text-anchor=\"start\" x=\"1236.25\" y=\"-1145.7\" font-family=\"Helvetica,sans-Serif\" font-size=\"14.00\">value = [330, 185]</text>\n<text text-anchor=\"start\" x=\"1253.12\" y=\"-1129.2\" font-family=\"Helvetica,sans-Serif\" font-size=\"14.00\">class = Alive</text>\n</g>\n<!-- 1 -->\n<g id=\"node2\" class=\"node\">\n<title>1</title>\n<path fill=\"#f8dcc7\" stroke=\"black\" d=\"M1243.5,-1086C1243.5,-1086 1126.25,-1086 1126.25,-1086 1120.25,-1086 1114.25,-1080 1114.25,-1074 1114.25,-1074 1114.25,-1007.5 1114.25,-1007.5 1114.25,-1001.5 1120.25,-995.5 1126.25,-995.5 1126.25,-995.5 1243.5,-995.5 1243.5,-995.5 1249.5,-995.5 1255.5,-1001.5 1255.5,-1007.5 1255.5,-1007.5 1255.5,-1074 1255.5,-1074 1255.5,-1080 1249.5,-1086 1243.5,-1086\"/>\n<text text-anchor=\"start\" x=\"1122.25\" y=\"-1068.7\" font-family=\"Helvetica,sans-Serif\" font-size=\"14.00\">Allegiances_0 ≤ 0.5</text>\n<text text-anchor=\"start\" x=\"1135\" y=\"-1052.2\" font-family=\"Helvetica,sans-Serif\" font-size=\"14.00\">entropy = 0.981</text>\n<text text-anchor=\"start\" x=\"1137.62\" y=\"-1035.7\" font-family=\"Helvetica,sans-Serif\" font-size=\"14.00\">samples = 385</text>\n<text text-anchor=\"start\" x=\"1128.25\" y=\"-1019.2\" font-family=\"Helvetica,sans-Serif\" font-size=\"14.00\">value = [224, 161]</text>\n<text text-anchor=\"start\" x=\"1145.12\" y=\"-1002.7\" font-family=\"Helvetica,sans-Serif\" font-size=\"14.00\">class = Alive</text>\n</g>\n<!-- 0&#45;&gt;1 -->\n<g id=\"edge1\" class=\"edge\">\n<title>0&#45;&gt;1</title>\n<path fill=\"none\" stroke=\"black\" d=\"M1254.19,-1121.65C1246.67,-1112.98 1238.71,-1103.81 1230.98,-1094.9\"/>\n<polygon fill=\"black\" stroke=\"black\" points=\"1233.84,-1092.86 1224.65,-1087.6 1228.55,-1097.44 1233.84,-1092.86\"/>\n<text text-anchor=\"middle\" x=\"1221.88\" y=\"-1106.34\" font-family=\"Helvetica,sans-Serif\" font-size=\"14.00\">True</text>\n</g>\n<!-- 38 -->\n<g id=\"node39\" class=\"node\">\n<title>38</title>\n<path fill=\"#eb9e66\" stroke=\"black\" d=\"M1458.38,-1086C1458.38,-1086 1361.38,-1086 1361.38,-1086 1355.38,-1086 1349.38,-1080 1349.38,-1074 1349.38,-1074 1349.38,-1007.5 1349.38,-1007.5 1349.38,-1001.5 1355.38,-995.5 1361.38,-995.5 1361.38,-995.5 1458.38,-995.5 1458.38,-995.5 1464.38,-995.5 1470.38,-1001.5 1470.38,-1007.5 1470.38,-1007.5 1470.38,-1074 1470.38,-1074 1470.38,-1080 1464.38,-1086 1458.38,-1086\"/>\n<text text-anchor=\"start\" x=\"1369.38\" y=\"-1068.7\" font-family=\"Helvetica,sans-Serif\" font-size=\"14.00\">Nobility ≤ 0.5</text>\n<text text-anchor=\"start\" x=\"1364.12\" y=\"-1052.2\" font-family=\"Helvetica,sans-Serif\" font-size=\"14.00\">entropy = 0.69</text>\n<text text-anchor=\"start\" x=\"1362.62\" y=\"-1035.7\" font-family=\"Helvetica,sans-Serif\" font-size=\"14.00\">samples = 130</text>\n<text text-anchor=\"start\" x=\"1357.38\" y=\"-1019.2\" font-family=\"Helvetica,sans-Serif\" font-size=\"14.00\">value = [106, 24]</text>\n<text text-anchor=\"start\" x=\"1370.12\" y=\"-1002.7\" font-family=\"Helvetica,sans-Serif\" font-size=\"14.00\">class = Alive</text>\n</g>\n<!-- 0&#45;&gt;38 -->\n<g id=\"edge38\" class=\"edge\">\n<title>0&#45;&gt;38</title>\n<path fill=\"none\" stroke=\"black\" d=\"M1334.78,-1121.65C1343.02,-1112.89 1351.73,-1103.62 1360.19,-1094.62\"/>\n<polygon fill=\"black\" stroke=\"black\" points=\"1362.53,-1097.24 1366.83,-1087.56 1357.43,-1092.45 1362.53,-1097.24\"/>\n<text text-anchor=\"middle\" x=\"1368.64\" y=\"-1106.39\" font-family=\"Helvetica,sans-Serif\" font-size=\"14.00\">False</text>\n</g>\n<!-- 2 -->\n<g id=\"node3\" class=\"node\">\n<title>2</title>\n<path fill=\"#fbeade\" stroke=\"black\" d=\"M859,-959.5C859,-959.5 708.75,-959.5 708.75,-959.5 702.75,-959.5 696.75,-953.5 696.75,-947.5 696.75,-947.5 696.75,-881 696.75,-881 696.75,-875 702.75,-869 708.75,-869 708.75,-869 859,-869 859,-869 865,-869 871,-875 871,-881 871,-881 871,-947.5 871,-947.5 871,-953.5 865,-959.5 859,-959.5\"/>\n<text text-anchor=\"start\" x=\"704.75\" y=\"-942.2\" font-family=\"Helvetica,sans-Serif\" font-size=\"14.00\">Allegiances_Martell ≤ 0.5</text>\n<text text-anchor=\"start\" x=\"734\" y=\"-925.7\" font-family=\"Helvetica,sans-Serif\" font-size=\"14.00\">entropy = 0.994</text>\n<text text-anchor=\"start\" x=\"736.62\" y=\"-909.2\" font-family=\"Helvetica,sans-Serif\" font-size=\"14.00\">samples = 273</text>\n<text text-anchor=\"start\" x=\"727.25\" y=\"-892.7\" font-family=\"Helvetica,sans-Serif\" font-size=\"14.00\">value = [149, 124]</text>\n<text text-anchor=\"start\" x=\"744.12\" y=\"-876.2\" font-family=\"Helvetica,sans-Serif\" font-size=\"14.00\">class = Alive</text>\n</g>\n<!-- 1&#45;&gt;2 -->\n<g id=\"edge2\" class=\"edge\">\n<title>1&#45;&gt;2</title>\n<path fill=\"none\" stroke=\"black\" d=\"M1114.11,-1017.78C1049.73,-997.79 954.09,-968.1 882.28,-945.8\"/>\n<polygon fill=\"black\" stroke=\"black\" points=\"883.45,-942.5 872.87,-942.88 881.38,-949.19 883.45,-942.5\"/>\n</g>\n<!-- 25 -->\n<g id=\"node26\" class=\"node\">\n<title>25</title>\n<path fill=\"#f2bf9b\" stroke=\"black\" d=\"M1262.25,-959.5C1262.25,-959.5 1107.5,-959.5 1107.5,-959.5 1101.5,-959.5 1095.5,-953.5 1095.5,-947.5 1095.5,-947.5 1095.5,-881 1095.5,-881 1095.5,-875 1101.5,-869 1107.5,-869 1107.5,-869 1262.25,-869 1262.25,-869 1268.25,-869 1274.25,-875 1274.25,-881 1274.25,-881 1274.25,-947.5 1274.25,-947.5 1274.25,-953.5 1268.25,-959.5 1262.25,-959.5\"/>\n<text text-anchor=\"start\" x=\"1103.5\" y=\"-942.2\" font-family=\"Helvetica,sans-Serif\" font-size=\"14.00\">Book Intro Chapter ≤ 59.5</text>\n<text text-anchor=\"start\" x=\"1135\" y=\"-925.7\" font-family=\"Helvetica,sans-Serif\" font-size=\"14.00\">entropy = 0.915</text>\n<text text-anchor=\"start\" x=\"1137.62\" y=\"-909.2\" font-family=\"Helvetica,sans-Serif\" font-size=\"14.00\">samples = 112</text>\n<text text-anchor=\"start\" x=\"1136.5\" y=\"-892.7\" font-family=\"Helvetica,sans-Serif\" font-size=\"14.00\">value = [75, 37]</text>\n<text text-anchor=\"start\" x=\"1145.12\" y=\"-876.2\" font-family=\"Helvetica,sans-Serif\" font-size=\"14.00\">class = Alive</text>\n</g>\n<!-- 1&#45;&gt;25 -->\n<g id=\"edge25\" class=\"edge\">\n<title>1&#45;&gt;25</title>\n<path fill=\"none\" stroke=\"black\" d=\"M1184.88,-995.15C1184.88,-987.47 1184.88,-979.39 1184.88,-971.44\"/>\n<polygon fill=\"black\" stroke=\"black\" points=\"1188.38,-971.47 1184.88,-961.47 1181.38,-971.47 1188.38,-971.47\"/>\n</g>\n<!-- 3 -->\n<g id=\"node4\" class=\"node\">\n<title>3</title>\n<path fill=\"#fcf0e8\" stroke=\"black\" d=\"M676.5,-833C676.5,-833 571.25,-833 571.25,-833 565.25,-833 559.25,-827 559.25,-821 559.25,-821 559.25,-754.5 559.25,-754.5 559.25,-748.5 565.25,-742.5 571.25,-742.5 571.25,-742.5 676.5,-742.5 676.5,-742.5 682.5,-742.5 688.5,-748.5 688.5,-754.5 688.5,-754.5 688.5,-821 688.5,-821 688.5,-827 682.5,-833 676.5,-833\"/>\n<text text-anchor=\"start\" x=\"590.88\" y=\"-815.7\" font-family=\"Helvetica,sans-Serif\" font-size=\"14.00\">DwD ≤ 0.5</text>\n<text text-anchor=\"start\" x=\"574\" y=\"-799.2\" font-family=\"Helvetica,sans-Serif\" font-size=\"14.00\">entropy = 0.997</text>\n<text text-anchor=\"start\" x=\"576.62\" y=\"-782.7\" font-family=\"Helvetica,sans-Serif\" font-size=\"14.00\">samples = 262</text>\n<text text-anchor=\"start\" x=\"567.25\" y=\"-766.2\" font-family=\"Helvetica,sans-Serif\" font-size=\"14.00\">value = [139, 123]</text>\n<text text-anchor=\"start\" x=\"584.12\" y=\"-749.7\" font-family=\"Helvetica,sans-Serif\" font-size=\"14.00\">class = Alive</text>\n</g>\n<!-- 2&#45;&gt;3 -->\n<g id=\"edge3\" class=\"edge\">\n<title>2&#45;&gt;3</title>\n<path fill=\"none\" stroke=\"black\" d=\"M726.56,-868.65C714.84,-859.54 702.42,-849.87 690.41,-840.52\"/>\n<polygon fill=\"black\" stroke=\"black\" points=\"692.56,-837.76 682.52,-834.38 688.26,-843.29 692.56,-837.76\"/>\n</g>\n<!-- 24 -->\n<g id=\"node25\" class=\"node\">\n<title>24</title>\n<path fill=\"#e88e4d\" stroke=\"black\" d=\"M829.75,-824.75C829.75,-824.75 738,-824.75 738,-824.75 732,-824.75 726,-818.75 726,-812.75 726,-812.75 726,-762.75 726,-762.75 726,-756.75 732,-750.75 738,-750.75 738,-750.75 829.75,-750.75 829.75,-750.75 835.75,-750.75 841.75,-756.75 841.75,-762.75 841.75,-762.75 841.75,-812.75 841.75,-812.75 841.75,-818.75 835.75,-824.75 829.75,-824.75\"/>\n<text text-anchor=\"start\" x=\"734\" y=\"-807.45\" font-family=\"Helvetica,sans-Serif\" font-size=\"14.00\">entropy = 0.439</text>\n<text text-anchor=\"start\" x=\"740.75\" y=\"-790.95\" font-family=\"Helvetica,sans-Serif\" font-size=\"14.00\">samples = 11</text>\n<text text-anchor=\"start\" x=\"739.62\" y=\"-774.45\" font-family=\"Helvetica,sans-Serif\" font-size=\"14.00\">value = [10, 1]</text>\n<text text-anchor=\"start\" x=\"744.12\" y=\"-757.95\" font-family=\"Helvetica,sans-Serif\" font-size=\"14.00\">class = Alive</text>\n</g>\n<!-- 2&#45;&gt;24 -->\n<g id=\"edge24\" class=\"edge\">\n<title>2&#45;&gt;24</title>\n<path fill=\"none\" stroke=\"black\" d=\"M783.88,-868.65C783.88,-858.1 783.88,-846.81 783.88,-836.13\"/>\n<polygon fill=\"black\" stroke=\"black\" points=\"787.38,-836.37 783.88,-826.37 780.38,-836.37 787.38,-836.37\"/>\n</g>\n<!-- 4 -->\n<g id=\"node5\" class=\"node\">\n<title>4</title>\n<path fill=\"#d6ebfa\" stroke=\"black\" d=\"M407.12,-706.5C407.12,-706.5 260.62,-706.5 260.62,-706.5 254.62,-706.5 248.62,-700.5 248.62,-694.5 248.62,-694.5 248.62,-628 248.62,-628 248.62,-622 254.62,-616 260.62,-616 260.62,-616 407.12,-616 407.12,-616 413.12,-616 419.12,-622 419.12,-628 419.12,-628 419.12,-694.5 419.12,-694.5 419.12,-700.5 413.12,-706.5 407.12,-706.5\"/>\n<text text-anchor=\"start\" x=\"256.62\" y=\"-689.2\" font-family=\"Helvetica,sans-Serif\" font-size=\"14.00\">Book Intro Chapter ≤ 0.5</text>\n<text text-anchor=\"start\" x=\"288.12\" y=\"-672.7\" font-family=\"Helvetica,sans-Serif\" font-size=\"14.00\">entropy = 0.99</text>\n<text text-anchor=\"start\" x=\"286.62\" y=\"-656.2\" font-family=\"Helvetica,sans-Serif\" font-size=\"14.00\">samples = 181</text>\n<text text-anchor=\"start\" x=\"281.38\" y=\"-639.7\" font-family=\"Helvetica,sans-Serif\" font-size=\"14.00\">value = [80, 101]</text>\n<text text-anchor=\"start\" x=\"292.25\" y=\"-623.2\" font-family=\"Helvetica,sans-Serif\" font-size=\"14.00\">class = Dead</text>\n</g>\n<!-- 3&#45;&gt;4 -->\n<g id=\"edge4\" class=\"edge\">\n<title>3&#45;&gt;4</title>\n<path fill=\"none\" stroke=\"black\" d=\"M558.79,-758.81C520.76,-742.48 472.07,-721.58 429.72,-703.4\"/>\n<polygon fill=\"black\" stroke=\"black\" points=\"431.34,-700.29 420.77,-699.56 428.58,-706.72 431.34,-700.29\"/>\n</g>\n<!-- 13 -->\n<g id=\"node14\" class=\"node\">\n<title>13</title>\n<path fill=\"#efb083\" stroke=\"black\" d=\"M701.25,-706.5C701.25,-706.5 546.5,-706.5 546.5,-706.5 540.5,-706.5 534.5,-700.5 534.5,-694.5 534.5,-694.5 534.5,-628 534.5,-628 534.5,-622 540.5,-616 546.5,-616 546.5,-616 701.25,-616 701.25,-616 707.25,-616 713.25,-622 713.25,-628 713.25,-628 713.25,-694.5 713.25,-694.5 713.25,-700.5 707.25,-706.5 701.25,-706.5\"/>\n<text text-anchor=\"start\" x=\"542.5\" y=\"-689.2\" font-family=\"Helvetica,sans-Serif\" font-size=\"14.00\">Book Intro Chapter ≤ 39.5</text>\n<text text-anchor=\"start\" x=\"574\" y=\"-672.7\" font-family=\"Helvetica,sans-Serif\" font-size=\"14.00\">entropy = 0.844</text>\n<text text-anchor=\"start\" x=\"580.75\" y=\"-656.2\" font-family=\"Helvetica,sans-Serif\" font-size=\"14.00\">samples = 81</text>\n<text text-anchor=\"start\" x=\"575.5\" y=\"-639.7\" font-family=\"Helvetica,sans-Serif\" font-size=\"14.00\">value = [59, 22]</text>\n<text text-anchor=\"start\" x=\"584.12\" y=\"-623.2\" font-family=\"Helvetica,sans-Serif\" font-size=\"14.00\">class = Alive</text>\n</g>\n<!-- 3&#45;&gt;13 -->\n<g id=\"edge13\" class=\"edge\">\n<title>3&#45;&gt;13</title>\n<path fill=\"none\" stroke=\"black\" d=\"M623.88,-742.15C623.88,-734.47 623.88,-726.39 623.88,-718.44\"/>\n<polygon fill=\"black\" stroke=\"black\" points=\"627.38,-718.47 623.88,-708.47 620.38,-718.47 627.38,-718.47\"/>\n</g>\n<!-- 5 -->\n<g id=\"node6\" class=\"node\">\n<title>5</title>\n<path fill=\"#f7d9c4\" stroke=\"black\" d=\"M208.75,-571.75C208.75,-571.75 117,-571.75 117,-571.75 111,-571.75 105,-565.75 105,-559.75 105,-559.75 105,-509.75 105,-509.75 105,-503.75 111,-497.75 117,-497.75 117,-497.75 208.75,-497.75 208.75,-497.75 214.75,-497.75 220.75,-503.75 220.75,-509.75 220.75,-509.75 220.75,-559.75 220.75,-559.75 220.75,-565.75 214.75,-571.75 208.75,-571.75\"/>\n<text text-anchor=\"start\" x=\"113\" y=\"-554.45\" font-family=\"Helvetica,sans-Serif\" font-size=\"14.00\">entropy = 0.977</text>\n<text text-anchor=\"start\" x=\"119.75\" y=\"-537.95\" font-family=\"Helvetica,sans-Serif\" font-size=\"14.00\">samples = 17</text>\n<text text-anchor=\"start\" x=\"118.62\" y=\"-521.45\" font-family=\"Helvetica,sans-Serif\" font-size=\"14.00\">value = [10, 7]</text>\n<text text-anchor=\"start\" x=\"123.12\" y=\"-504.95\" font-family=\"Helvetica,sans-Serif\" font-size=\"14.00\">class = Alive</text>\n</g>\n<!-- 4&#45;&gt;5 -->\n<g id=\"edge5\" class=\"edge\">\n<title>4&#45;&gt;5</title>\n<path fill=\"none\" stroke=\"black\" d=\"M272.62,-615.65C256.05,-603.59 238.15,-590.55 221.71,-578.58\"/>\n<polygon fill=\"black\" stroke=\"black\" points=\"224.11,-576 213.96,-572.95 219.99,-581.66 224.11,-576\"/>\n</g>\n<!-- 6 -->\n<g id=\"node7\" class=\"node\">\n<title>6</title>\n<path fill=\"#cce6f8\" stroke=\"black\" d=\"M417.25,-580C417.25,-580 250.5,-580 250.5,-580 244.5,-580 238.5,-574 238.5,-568 238.5,-568 238.5,-501.5 238.5,-501.5 238.5,-495.5 244.5,-489.5 250.5,-489.5 250.5,-489.5 417.25,-489.5 417.25,-489.5 423.25,-489.5 429.25,-495.5 429.25,-501.5 429.25,-501.5 429.25,-568 429.25,-568 429.25,-574 423.25,-580 417.25,-580\"/>\n<text text-anchor=\"start\" x=\"246.5\" y=\"-562.7\" font-family=\"Helvetica,sans-Serif\" font-size=\"14.00\">Allegiances_Lannister ≤ 0.5</text>\n<text text-anchor=\"start\" x=\"284\" y=\"-546.2\" font-family=\"Helvetica,sans-Serif\" font-size=\"14.00\">entropy = 0.984</text>\n<text text-anchor=\"start\" x=\"286.62\" y=\"-529.7\" font-family=\"Helvetica,sans-Serif\" font-size=\"14.00\">samples = 164</text>\n<text text-anchor=\"start\" x=\"273.5\" y=\"-513.2\" font-family=\"Helvetica,sans-Serif\" font-size=\"14.00\">value = [70.0, 94.0]</text>\n<text text-anchor=\"start\" x=\"292.25\" y=\"-496.7\" font-family=\"Helvetica,sans-Serif\" font-size=\"14.00\">class = Dead</text>\n</g>\n<!-- 4&#45;&gt;6 -->\n<g id=\"edge6\" class=\"edge\">\n<title>4&#45;&gt;6</title>\n<path fill=\"none\" stroke=\"black\" d=\"M333.88,-615.65C333.88,-607.97 333.88,-599.89 333.88,-591.94\"/>\n<polygon fill=\"black\" stroke=\"black\" points=\"337.38,-591.97 333.88,-581.97 330.38,-591.97 337.38,-591.97\"/>\n</g>\n<!-- 7 -->\n<g id=\"node8\" class=\"node\">\n<title>7</title>\n<path fill=\"#bcdef6\" stroke=\"black\" d=\"M245.5,-453.5C245.5,-453.5 86.25,-453.5 86.25,-453.5 80.25,-453.5 74.25,-447.5 74.25,-441.5 74.25,-441.5 74.25,-375 74.25,-375 74.25,-369 80.25,-363 86.25,-363 86.25,-363 245.5,-363 245.5,-363 251.5,-363 257.5,-369 257.5,-375 257.5,-375 257.5,-441.5 257.5,-441.5 257.5,-447.5 251.5,-453.5 245.5,-453.5\"/>\n<text text-anchor=\"start\" x=\"82.25\" y=\"-436.2\" font-family=\"Helvetica,sans-Serif\" font-size=\"14.00\">Allegiances_Wildling ≤ 0.5</text>\n<text text-anchor=\"start\" x=\"116\" y=\"-419.7\" font-family=\"Helvetica,sans-Serif\" font-size=\"14.00\">entropy = 0.969</text>\n<text text-anchor=\"start\" x=\"118.62\" y=\"-403.2\" font-family=\"Helvetica,sans-Serif\" font-size=\"14.00\">samples = 146</text>\n<text text-anchor=\"start\" x=\"117.5\" y=\"-386.7\" font-family=\"Helvetica,sans-Serif\" font-size=\"14.00\">value = [58, 88]</text>\n<text text-anchor=\"start\" x=\"124.25\" y=\"-370.2\" font-family=\"Helvetica,sans-Serif\" font-size=\"14.00\">class = Dead</text>\n</g>\n<!-- 6&#45;&gt;7 -->\n<g id=\"edge7\" class=\"edge\">\n<title>6&#45;&gt;7</title>\n<path fill=\"none\" stroke=\"black\" d=\"M273.7,-489.15C261.27,-479.95 248.09,-470.18 235.36,-460.75\"/>\n<polygon fill=\"black\" stroke=\"black\" points=\"237.53,-458 227.41,-454.85 233.36,-463.62 237.53,-458\"/>\n</g>\n<!-- 12 -->\n<g id=\"node13\" class=\"node\">\n<title>12</title>\n<path fill=\"#f2c09c\" stroke=\"black\" d=\"M379.75,-445.25C379.75,-445.25 288,-445.25 288,-445.25 282,-445.25 276,-439.25 276,-433.25 276,-433.25 276,-383.25 276,-383.25 276,-377.25 282,-371.25 288,-371.25 288,-371.25 379.75,-371.25 379.75,-371.25 385.75,-371.25 391.75,-377.25 391.75,-383.25 391.75,-383.25 391.75,-433.25 391.75,-433.25 391.75,-439.25 385.75,-445.25 379.75,-445.25\"/>\n<text text-anchor=\"start\" x=\"284\" y=\"-427.95\" font-family=\"Helvetica,sans-Serif\" font-size=\"14.00\">entropy = 0.918</text>\n<text text-anchor=\"start\" x=\"290.75\" y=\"-411.45\" font-family=\"Helvetica,sans-Serif\" font-size=\"14.00\">samples = 18</text>\n<text text-anchor=\"start\" x=\"289.62\" y=\"-394.95\" font-family=\"Helvetica,sans-Serif\" font-size=\"14.00\">value = [12, 6]</text>\n<text text-anchor=\"start\" x=\"294.12\" y=\"-378.45\" font-family=\"Helvetica,sans-Serif\" font-size=\"14.00\">class = Alive</text>\n</g>\n<!-- 6&#45;&gt;12 -->\n<g id=\"edge12\" class=\"edge\">\n<title>6&#45;&gt;12</title>\n<path fill=\"none\" stroke=\"black\" d=\"M333.88,-489.15C333.88,-478.6 333.88,-467.31 333.88,-456.63\"/>\n<polygon fill=\"black\" stroke=\"black\" points=\"337.38,-456.87 333.88,-446.87 330.38,-456.87 337.38,-456.87\"/>\n</g>\n<!-- 8 -->\n<g id=\"node9\" class=\"node\">\n<title>8</title>\n<path fill=\"#c2e1f7\" stroke=\"black\" d=\"M211.62,-327C211.62,-327 38.12,-327 38.12,-327 32.12,-327 26.12,-321 26.12,-315 26.12,-315 26.12,-248.5 26.12,-248.5 26.12,-242.5 32.12,-236.5 38.12,-236.5 38.12,-236.5 211.62,-236.5 211.62,-236.5 217.62,-236.5 223.62,-242.5 223.62,-248.5 223.62,-248.5 223.62,-315 223.62,-315 223.62,-321 217.62,-327 211.62,-327\"/>\n<text text-anchor=\"start\" x=\"34.12\" y=\"-309.7\" font-family=\"Helvetica,sans-Serif\" font-size=\"14.00\">Allegiances_Baratheon ≤ 0.5</text>\n<text text-anchor=\"start\" x=\"75\" y=\"-293.2\" font-family=\"Helvetica,sans-Serif\" font-size=\"14.00\">entropy = 0.976</text>\n<text text-anchor=\"start\" x=\"77.62\" y=\"-276.7\" font-family=\"Helvetica,sans-Serif\" font-size=\"14.00\">samples = 132</text>\n<text text-anchor=\"start\" x=\"76.5\" y=\"-260.2\" font-family=\"Helvetica,sans-Serif\" font-size=\"14.00\">value = [54, 78]</text>\n<text text-anchor=\"start\" x=\"83.25\" y=\"-243.7\" font-family=\"Helvetica,sans-Serif\" font-size=\"14.00\">class = Dead</text>\n</g>\n<!-- 7&#45;&gt;8 -->\n<g id=\"edge8\" class=\"edge\">\n<title>7&#45;&gt;8</title>\n<path fill=\"none\" stroke=\"black\" d=\"M151.19,-362.65C148.6,-354.79 145.87,-346.51 143.2,-338.39\"/>\n<polygon fill=\"black\" stroke=\"black\" points=\"146.52,-337.29 140.07,-328.89 139.87,-339.48 146.52,-337.29\"/>\n</g>\n<!-- 11 -->\n<g id=\"node12\" class=\"node\">\n<title>11</title>\n<path fill=\"#88c4ef\" stroke=\"black\" d=\"M345.75,-318.75C345.75,-318.75 254,-318.75 254,-318.75 248,-318.75 242,-312.75 242,-306.75 242,-306.75 242,-256.75 242,-256.75 242,-250.75 248,-244.75 254,-244.75 254,-244.75 345.75,-244.75 345.75,-244.75 351.75,-244.75 357.75,-250.75 357.75,-256.75 357.75,-256.75 357.75,-306.75 357.75,-306.75 357.75,-312.75 351.75,-318.75 345.75,-318.75\"/>\n<text text-anchor=\"start\" x=\"250\" y=\"-301.45\" font-family=\"Helvetica,sans-Serif\" font-size=\"14.00\">entropy = 0.863</text>\n<text text-anchor=\"start\" x=\"256.75\" y=\"-284.95\" font-family=\"Helvetica,sans-Serif\" font-size=\"14.00\">samples = 14</text>\n<text text-anchor=\"start\" x=\"255.62\" y=\"-268.45\" font-family=\"Helvetica,sans-Serif\" font-size=\"14.00\">value = [4, 10]</text>\n<text text-anchor=\"start\" x=\"258.25\" y=\"-251.95\" font-family=\"Helvetica,sans-Serif\" font-size=\"14.00\">class = Dead</text>\n</g>\n<!-- 7&#45;&gt;11 -->\n<g id=\"edge11\" class=\"edge\">\n<title>7&#45;&gt;11</title>\n<path fill=\"none\" stroke=\"black\" d=\"M213.87,-362.65C226.56,-350.86 240.25,-338.15 252.88,-326.41\"/>\n<polygon fill=\"black\" stroke=\"black\" points=\"254.96,-329.26 259.91,-319.89 250.2,-324.13 254.96,-329.26\"/>\n</g>\n<!-- 9 -->\n<g id=\"node10\" class=\"node\">\n<title>9</title>\n<path fill=\"#b5dbf5\" stroke=\"black\" d=\"M103.75,-192.25C103.75,-192.25 12,-192.25 12,-192.25 6,-192.25 0,-186.25 0,-180.25 0,-180.25 0,-130.25 0,-130.25 0,-124.25 6,-118.25 12,-118.25 12,-118.25 103.75,-118.25 103.75,-118.25 109.75,-118.25 115.75,-124.25 115.75,-130.25 115.75,-130.25 115.75,-180.25 115.75,-180.25 115.75,-186.25 109.75,-192.25 103.75,-192.25\"/>\n<text text-anchor=\"start\" x=\"8\" y=\"-174.95\" font-family=\"Helvetica,sans-Serif\" font-size=\"14.00\">entropy = 0.962</text>\n<text text-anchor=\"start\" x=\"10.62\" y=\"-158.45\" font-family=\"Helvetica,sans-Serif\" font-size=\"14.00\">samples = 114</text>\n<text text-anchor=\"start\" x=\"9.5\" y=\"-141.95\" font-family=\"Helvetica,sans-Serif\" font-size=\"14.00\">value = [44, 70]</text>\n<text text-anchor=\"start\" x=\"16.25\" y=\"-125.45\" font-family=\"Helvetica,sans-Serif\" font-size=\"14.00\">class = Dead</text>\n</g>\n<!-- 8&#45;&gt;9 -->\n<g id=\"edge9\" class=\"edge\">\n<title>8&#45;&gt;9</title>\n<path fill=\"none\" stroke=\"black\" d=\"M100.88,-236.15C94.95,-225.15 88.6,-213.34 82.64,-202.27\"/>\n<polygon fill=\"black\" stroke=\"black\" points=\"85.84,-200.84 78.02,-193.69 79.68,-204.15 85.84,-200.84\"/>\n</g>\n<!-- 10 -->\n<g id=\"node11\" class=\"node\">\n<title>10</title>\n<path fill=\"#fae6d7\" stroke=\"black\" d=\"M237.75,-192.25C237.75,-192.25 146,-192.25 146,-192.25 140,-192.25 134,-186.25 134,-180.25 134,-180.25 134,-130.25 134,-130.25 134,-124.25 140,-118.25 146,-118.25 146,-118.25 237.75,-118.25 237.75,-118.25 243.75,-118.25 249.75,-124.25 249.75,-130.25 249.75,-130.25 249.75,-180.25 249.75,-180.25 249.75,-186.25 243.75,-192.25 237.75,-192.25\"/>\n<text text-anchor=\"start\" x=\"142\" y=\"-174.95\" font-family=\"Helvetica,sans-Serif\" font-size=\"14.00\">entropy = 0.991</text>\n<text text-anchor=\"start\" x=\"148.75\" y=\"-158.45\" font-family=\"Helvetica,sans-Serif\" font-size=\"14.00\">samples = 18</text>\n<text text-anchor=\"start\" x=\"147.62\" y=\"-141.95\" font-family=\"Helvetica,sans-Serif\" font-size=\"14.00\">value = [10, 8]</text>\n<text text-anchor=\"start\" x=\"152.12\" y=\"-125.45\" font-family=\"Helvetica,sans-Serif\" font-size=\"14.00\">class = Alive</text>\n</g>\n<!-- 8&#45;&gt;10 -->\n<g id=\"edge10\" class=\"edge\">\n<title>8&#45;&gt;10</title>\n<path fill=\"none\" stroke=\"black\" d=\"M148.87,-236.15C154.8,-225.15 161.15,-213.34 167.11,-202.27\"/>\n<polygon fill=\"black\" stroke=\"black\" points=\"170.07,-204.15 171.73,-193.69 163.91,-200.84 170.07,-204.15\"/>\n</g>\n<!-- 14 -->\n<g id=\"node15\" class=\"node\">\n<title>14</title>\n<path fill=\"#f2c29e\" stroke=\"black\" d=\"M683.25,-580C683.25,-580 528.5,-580 528.5,-580 522.5,-580 516.5,-574 516.5,-568 516.5,-568 516.5,-501.5 516.5,-501.5 516.5,-495.5 522.5,-489.5 528.5,-489.5 528.5,-489.5 683.25,-489.5 683.25,-489.5 689.25,-489.5 695.25,-495.5 695.25,-501.5 695.25,-501.5 695.25,-568 695.25,-568 695.25,-574 689.25,-580 683.25,-580\"/>\n<text text-anchor=\"start\" x=\"524.5\" y=\"-562.7\" font-family=\"Helvetica,sans-Serif\" font-size=\"14.00\">Book Intro Chapter ≤ 36.0</text>\n<text text-anchor=\"start\" x=\"556\" y=\"-546.2\" font-family=\"Helvetica,sans-Serif\" font-size=\"14.00\">entropy = 0.924</text>\n<text text-anchor=\"start\" x=\"562.75\" y=\"-529.7\" font-family=\"Helvetica,sans-Serif\" font-size=\"14.00\">samples = 62</text>\n<text text-anchor=\"start\" x=\"557.5\" y=\"-513.2\" font-family=\"Helvetica,sans-Serif\" font-size=\"14.00\">value = [41, 21]</text>\n<text text-anchor=\"start\" x=\"566.12\" y=\"-496.7\" font-family=\"Helvetica,sans-Serif\" font-size=\"14.00\">class = Alive</text>\n</g>\n<!-- 13&#45;&gt;14 -->\n<g id=\"edge14\" class=\"edge\">\n<title>13&#45;&gt;14</title>\n<path fill=\"none\" stroke=\"black\" d=\"M617.43,-615.65C616.3,-607.88 615.12,-599.7 613.96,-591.66\"/>\n<polygon fill=\"black\" stroke=\"black\" points=\"617.45,-591.35 612.55,-581.95 610.52,-592.35 617.45,-591.35\"/>\n</g>\n<!-- 23 -->\n<g id=\"node24\" class=\"node\">\n<title>23</title>\n<path fill=\"#e68844\" stroke=\"black\" d=\"M816.75,-571.75C816.75,-571.75 725,-571.75 725,-571.75 719,-571.75 713,-565.75 713,-559.75 713,-559.75 713,-509.75 713,-509.75 713,-503.75 719,-497.75 725,-497.75 725,-497.75 816.75,-497.75 816.75,-497.75 822.75,-497.75 828.75,-503.75 828.75,-509.75 828.75,-509.75 828.75,-559.75 828.75,-559.75 828.75,-565.75 822.75,-571.75 816.75,-571.75\"/>\n<text text-anchor=\"start\" x=\"721\" y=\"-554.45\" font-family=\"Helvetica,sans-Serif\" font-size=\"14.00\">entropy = 0.297</text>\n<text text-anchor=\"start\" x=\"727.75\" y=\"-537.95\" font-family=\"Helvetica,sans-Serif\" font-size=\"14.00\">samples = 19</text>\n<text text-anchor=\"start\" x=\"726.62\" y=\"-521.45\" font-family=\"Helvetica,sans-Serif\" font-size=\"14.00\">value = [18, 1]</text>\n<text text-anchor=\"start\" x=\"731.12\" y=\"-504.95\" font-family=\"Helvetica,sans-Serif\" font-size=\"14.00\">class = Alive</text>\n</g>\n<!-- 13&#45;&gt;23 -->\n<g id=\"edge23\" class=\"edge\">\n<title>13&#45;&gt;23</title>\n<path fill=\"none\" stroke=\"black\" d=\"M676.53,-615.65C690.58,-603.75 705.75,-590.91 719.72,-579.08\"/>\n<polygon fill=\"black\" stroke=\"black\" points=\"721.72,-581.97 727.09,-572.83 717.2,-576.63 721.72,-581.97\"/>\n</g>\n<!-- 15 -->\n<g id=\"node16\" class=\"node\">\n<title>15</title>\n<path fill=\"#eead7e\" stroke=\"black\" d=\"M617.88,-453.5C617.88,-453.5 421.88,-453.5 421.88,-453.5 415.88,-453.5 409.88,-447.5 409.88,-441.5 409.88,-441.5 409.88,-375 409.88,-375 409.88,-369 415.88,-363 421.88,-363 421.88,-363 617.88,-363 617.88,-363 623.88,-363 629.88,-369 629.88,-375 629.88,-375 629.88,-441.5 629.88,-441.5 629.88,-447.5 623.88,-453.5 617.88,-453.5\"/>\n<text text-anchor=\"start\" x=\"417.88\" y=\"-436.2\" font-family=\"Helvetica,sans-Serif\" font-size=\"14.00\">Allegiances_Night&#39;s Watch ≤ 0.5</text>\n<text text-anchor=\"start\" x=\"470\" y=\"-419.7\" font-family=\"Helvetica,sans-Serif\" font-size=\"14.00\">entropy = 0.826</text>\n<text text-anchor=\"start\" x=\"476.75\" y=\"-403.2\" font-family=\"Helvetica,sans-Serif\" font-size=\"14.00\">samples = 54</text>\n<text text-anchor=\"start\" x=\"471.5\" y=\"-386.7\" font-family=\"Helvetica,sans-Serif\" font-size=\"14.00\">value = [40, 14]</text>\n<text text-anchor=\"start\" x=\"480.12\" y=\"-370.2\" font-family=\"Helvetica,sans-Serif\" font-size=\"14.00\">class = Alive</text>\n</g>\n<!-- 14&#45;&gt;15 -->\n<g id=\"edge15\" class=\"edge\">\n<title>14&#45;&gt;15</title>\n<path fill=\"none\" stroke=\"black\" d=\"M575.07,-489.15C569.27,-480.75 563.14,-471.88 557.16,-463.23\"/>\n<polygon fill=\"black\" stroke=\"black\" points=\"560.18,-461.44 551.61,-455.2 554.42,-465.42 560.18,-461.44\"/>\n</g>\n<!-- 22 -->\n<g id=\"node23\" class=\"node\">\n<title>22</title>\n<path fill=\"#55abe9\" stroke=\"black\" d=\"M751.75,-445.25C751.75,-445.25 660,-445.25 660,-445.25 654,-445.25 648,-439.25 648,-433.25 648,-433.25 648,-383.25 648,-383.25 648,-377.25 654,-371.25 660,-371.25 660,-371.25 751.75,-371.25 751.75,-371.25 757.75,-371.25 763.75,-377.25 763.75,-383.25 763.75,-383.25 763.75,-433.25 763.75,-433.25 763.75,-439.25 757.75,-445.25 751.75,-445.25\"/>\n<text text-anchor=\"start\" x=\"656\" y=\"-427.95\" font-family=\"Helvetica,sans-Serif\" font-size=\"14.00\">entropy = 0.544</text>\n<text text-anchor=\"start\" x=\"666.88\" y=\"-411.45\" font-family=\"Helvetica,sans-Serif\" font-size=\"14.00\">samples = 8</text>\n<text text-anchor=\"start\" x=\"665.75\" y=\"-394.95\" font-family=\"Helvetica,sans-Serif\" font-size=\"14.00\">value = [1, 7]</text>\n<text text-anchor=\"start\" x=\"664.25\" y=\"-378.45\" font-family=\"Helvetica,sans-Serif\" font-size=\"14.00\">class = Dead</text>\n</g>\n<!-- 14&#45;&gt;22 -->\n<g id=\"edge22\" class=\"edge\">\n<title>14&#45;&gt;22</title>\n<path fill=\"none\" stroke=\"black\" d=\"M641.69,-489.15C650.8,-477.81 660.6,-465.62 669.72,-454.26\"/>\n<polygon fill=\"black\" stroke=\"black\" points=\"672.39,-456.52 675.93,-446.54 666.94,-452.14 672.39,-456.52\"/>\n</g>\n<!-- 16 -->\n<g id=\"node17\" class=\"node\">\n<title>16</title>\n<path fill=\"#eb9c63\" stroke=\"black\" d=\"M522.75,-327C522.75,-327 431,-327 431,-327 425,-327 419,-321 419,-315 419,-315 419,-248.5 419,-248.5 419,-242.5 425,-236.5 431,-236.5 431,-236.5 522.75,-236.5 522.75,-236.5 528.75,-236.5 534.75,-242.5 534.75,-248.5 534.75,-248.5 534.75,-315 534.75,-315 534.75,-321 528.75,-327 522.75,-327\"/>\n<text text-anchor=\"start\" x=\"445\" y=\"-309.7\" font-family=\"Helvetica,sans-Serif\" font-size=\"14.00\">GoT ≤ 0.5</text>\n<text text-anchor=\"start\" x=\"427\" y=\"-293.2\" font-family=\"Helvetica,sans-Serif\" font-size=\"14.00\">entropy = 0.669</text>\n<text text-anchor=\"start\" x=\"433.75\" y=\"-276.7\" font-family=\"Helvetica,sans-Serif\" font-size=\"14.00\">samples = 40</text>\n<text text-anchor=\"start\" x=\"432.62\" y=\"-260.2\" font-family=\"Helvetica,sans-Serif\" font-size=\"14.00\">value = [33, 7]</text>\n<text text-anchor=\"start\" x=\"437.12\" y=\"-243.7\" font-family=\"Helvetica,sans-Serif\" font-size=\"14.00\">class = Alive</text>\n</g>\n<!-- 15&#45;&gt;16 -->\n<g id=\"edge16\" class=\"edge\">\n<title>15&#45;&gt;16</title>\n<path fill=\"none\" stroke=\"black\" d=\"M504.47,-362.65C501.72,-354.7 498.83,-346.32 495.99,-338.11\"/>\n<polygon fill=\"black\" stroke=\"black\" points=\"499.38,-337.19 492.81,-328.88 492.77,-339.48 499.38,-337.19\"/>\n</g>\n<!-- 21 -->\n<g id=\"node22\" class=\"node\">\n<title>21</title>\n<path fill=\"#ffffff\" stroke=\"black\" d=\"M643,-318.75C643,-318.75 564.75,-318.75 564.75,-318.75 558.75,-318.75 552.75,-312.75 552.75,-306.75 552.75,-306.75 552.75,-256.75 552.75,-256.75 552.75,-250.75 558.75,-244.75 564.75,-244.75 564.75,-244.75 643,-244.75 643,-244.75 649,-244.75 655,-250.75 655,-256.75 655,-256.75 655,-306.75 655,-306.75 655,-312.75 649,-318.75 643,-318.75\"/>\n<text text-anchor=\"start\" x=\"562.25\" y=\"-301.45\" font-family=\"Helvetica,sans-Serif\" font-size=\"14.00\">entropy = 1.0</text>\n<text text-anchor=\"start\" x=\"560.75\" y=\"-284.95\" font-family=\"Helvetica,sans-Serif\" font-size=\"14.00\">samples = 14</text>\n<text text-anchor=\"start\" x=\"563.75\" y=\"-268.45\" font-family=\"Helvetica,sans-Serif\" font-size=\"14.00\">value = [7, 7]</text>\n<text text-anchor=\"start\" x=\"564.12\" y=\"-251.95\" font-family=\"Helvetica,sans-Serif\" font-size=\"14.00\">class = Alive</text>\n</g>\n<!-- 15&#45;&gt;21 -->\n<g id=\"edge21\" class=\"edge\">\n<title>15&#45;&gt;21</title>\n<path fill=\"none\" stroke=\"black\" d=\"M549.96,-362.65C557.54,-351.43 565.68,-339.36 573.28,-328.1\"/>\n<polygon fill=\"black\" stroke=\"black\" points=\"575.98,-330.36 578.67,-320.11 570.17,-326.44 575.98,-330.36\"/>\n</g>\n<!-- 17 -->\n<g id=\"node18\" class=\"node\">\n<title>17</title>\n<path fill=\"#eda775\" stroke=\"black\" d=\"M506.5,-200.5C506.5,-200.5 365.25,-200.5 365.25,-200.5 359.25,-200.5 353.25,-194.5 353.25,-188.5 353.25,-188.5 353.25,-122 353.25,-122 353.25,-116 359.25,-110 365.25,-110 365.25,-110 506.5,-110 506.5,-110 512.5,-110 518.5,-116 518.5,-122 518.5,-122 518.5,-188.5 518.5,-188.5 518.5,-194.5 512.5,-200.5 506.5,-200.5\"/>\n<text text-anchor=\"start\" x=\"361.25\" y=\"-183.2\" font-family=\"Helvetica,sans-Serif\" font-size=\"14.00\">Allegiances_Stark ≤ 0.5</text>\n<text text-anchor=\"start\" x=\"386\" y=\"-166.7\" font-family=\"Helvetica,sans-Serif\" font-size=\"14.00\">entropy = 0.784</text>\n<text text-anchor=\"start\" x=\"392.75\" y=\"-150.2\" font-family=\"Helvetica,sans-Serif\" font-size=\"14.00\">samples = 30</text>\n<text text-anchor=\"start\" x=\"391.62\" y=\"-133.7\" font-family=\"Helvetica,sans-Serif\" font-size=\"14.00\">value = [23, 7]</text>\n<text text-anchor=\"start\" x=\"396.12\" y=\"-117.2\" font-family=\"Helvetica,sans-Serif\" font-size=\"14.00\">class = Alive</text>\n</g>\n<!-- 16&#45;&gt;17 -->\n<g id=\"edge17\" class=\"edge\">\n<title>16&#45;&gt;17</title>\n<path fill=\"none\" stroke=\"black\" d=\"M462.19,-236.15C459.6,-228.29 456.87,-220.01 454.2,-211.89\"/>\n<polygon fill=\"black\" stroke=\"black\" points=\"457.52,-210.79 451.07,-202.39 450.87,-212.98 457.52,-210.79\"/>\n</g>\n<!-- 20 -->\n<g id=\"node21\" class=\"node\">\n<title>20</title>\n<path fill=\"#e58139\" stroke=\"black\" d=\"M629.12,-192.25C629.12,-192.25 548.62,-192.25 548.62,-192.25 542.62,-192.25 536.62,-186.25 536.62,-180.25 536.62,-180.25 536.62,-130.25 536.62,-130.25 536.62,-124.25 542.62,-118.25 548.62,-118.25 548.62,-118.25 629.12,-118.25 629.12,-118.25 635.12,-118.25 641.12,-124.25 641.12,-130.25 641.12,-130.25 641.12,-180.25 641.12,-180.25 641.12,-186.25 635.12,-192.25 629.12,-192.25\"/>\n<text text-anchor=\"start\" x=\"547.25\" y=\"-174.95\" font-family=\"Helvetica,sans-Serif\" font-size=\"14.00\">entropy = 0.0</text>\n<text text-anchor=\"start\" x=\"545.75\" y=\"-158.45\" font-family=\"Helvetica,sans-Serif\" font-size=\"14.00\">samples = 10</text>\n<text text-anchor=\"start\" x=\"544.62\" y=\"-141.95\" font-family=\"Helvetica,sans-Serif\" font-size=\"14.00\">value = [10, 0]</text>\n<text text-anchor=\"start\" x=\"549.12\" y=\"-125.45\" font-family=\"Helvetica,sans-Serif\" font-size=\"14.00\">class = Alive</text>\n</g>\n<!-- 16&#45;&gt;20 -->\n<g id=\"edge20\" class=\"edge\">\n<title>16&#45;&gt;20</title>\n<path fill=\"none\" stroke=\"black\" d=\"M516.99,-236.15C527.4,-224.59 538.6,-212.14 548.99,-200.58\"/>\n<polygon fill=\"black\" stroke=\"black\" points=\"551.3,-203.26 555.38,-193.48 546.09,-198.57 551.3,-203.26\"/>\n</g>\n<!-- 18 -->\n<g id=\"node19\" class=\"node\">\n<title>18</title>\n<path fill=\"#f2c09c\" stroke=\"black\" d=\"M418.75,-74C418.75,-74 327,-74 327,-74 321,-74 315,-68 315,-62 315,-62 315,-12 315,-12 315,-6 321,0 327,0 327,0 418.75,0 418.75,0 424.75,0 430.75,-6 430.75,-12 430.75,-12 430.75,-62 430.75,-62 430.75,-68 424.75,-74 418.75,-74\"/>\n<text text-anchor=\"start\" x=\"323\" y=\"-56.7\" font-family=\"Helvetica,sans-Serif\" font-size=\"14.00\">entropy = 0.918</text>\n<text text-anchor=\"start\" x=\"329.75\" y=\"-40.2\" font-family=\"Helvetica,sans-Serif\" font-size=\"14.00\">samples = 21</text>\n<text text-anchor=\"start\" x=\"328.62\" y=\"-23.7\" font-family=\"Helvetica,sans-Serif\" font-size=\"14.00\">value = [14, 7]</text>\n<text text-anchor=\"start\" x=\"333.12\" y=\"-7.2\" font-family=\"Helvetica,sans-Serif\" font-size=\"14.00\">class = Alive</text>\n</g>\n<!-- 17&#45;&gt;18 -->\n<g id=\"edge18\" class=\"edge\">\n<title>17&#45;&gt;18</title>\n<path fill=\"none\" stroke=\"black\" d=\"M411.7,-109.64C407.21,-101.35 402.51,-92.68 397.99,-84.34\"/>\n<polygon fill=\"black\" stroke=\"black\" points=\"401.16,-82.85 393.32,-75.72 395.01,-86.18 401.16,-82.85\"/>\n</g>\n<!-- 19 -->\n<g id=\"node20\" class=\"node\">\n<title>19</title>\n<path fill=\"#e58139\" stroke=\"black\" d=\"M536.5,-74C536.5,-74 461.25,-74 461.25,-74 455.25,-74 449.25,-68 449.25,-62 449.25,-62 449.25,-12 449.25,-12 449.25,-6 455.25,0 461.25,0 461.25,0 536.5,0 536.5,0 542.5,0 548.5,-6 548.5,-12 548.5,-12 548.5,-62 548.5,-62 548.5,-68 542.5,-74 536.5,-74\"/>\n<text text-anchor=\"start\" x=\"457.25\" y=\"-56.7\" font-family=\"Helvetica,sans-Serif\" font-size=\"14.00\">entropy = 0.0</text>\n<text text-anchor=\"start\" x=\"459.88\" y=\"-40.2\" font-family=\"Helvetica,sans-Serif\" font-size=\"14.00\">samples = 9</text>\n<text text-anchor=\"start\" x=\"458.75\" y=\"-23.7\" font-family=\"Helvetica,sans-Serif\" font-size=\"14.00\">value = [9, 0]</text>\n<text text-anchor=\"start\" x=\"459.12\" y=\"-7.2\" font-family=\"Helvetica,sans-Serif\" font-size=\"14.00\">class = Alive</text>\n</g>\n<!-- 17&#45;&gt;19 -->\n<g id=\"edge19\" class=\"edge\">\n<title>17&#45;&gt;19</title>\n<path fill=\"none\" stroke=\"black\" d=\"M460.05,-109.64C464.54,-101.35 469.24,-92.68 473.76,-84.34\"/>\n<polygon fill=\"black\" stroke=\"black\" points=\"476.74,-86.18 478.43,-75.72 470.59,-82.85 476.74,-86.18\"/>\n</g>\n<!-- 26 -->\n<g id=\"node27\" class=\"node\">\n<title>26</title>\n<path fill=\"#f3c7a6\" stroke=\"black\" d=\"M1111.75,-833C1111.75,-833 1020,-833 1020,-833 1014,-833 1008,-827 1008,-821 1008,-821 1008,-754.5 1008,-754.5 1008,-748.5 1014,-742.5 1020,-742.5 1020,-742.5 1111.75,-742.5 1111.75,-742.5 1117.75,-742.5 1123.75,-748.5 1123.75,-754.5 1123.75,-754.5 1123.75,-821 1123.75,-821 1123.75,-827 1117.75,-833 1111.75,-833\"/>\n<text text-anchor=\"start\" x=\"1024.25\" y=\"-815.7\" font-family=\"Helvetica,sans-Serif\" font-size=\"14.00\">Gender ≤ 0.5</text>\n<text text-anchor=\"start\" x=\"1016\" y=\"-799.2\" font-family=\"Helvetica,sans-Serif\" font-size=\"14.00\">entropy = 0.939</text>\n<text text-anchor=\"start\" x=\"1018.62\" y=\"-782.7\" font-family=\"Helvetica,sans-Serif\" font-size=\"14.00\">samples = 104</text>\n<text text-anchor=\"start\" x=\"1017.5\" y=\"-766.2\" font-family=\"Helvetica,sans-Serif\" font-size=\"14.00\">value = [67, 37]</text>\n<text text-anchor=\"start\" x=\"1026.12\" y=\"-749.7\" font-family=\"Helvetica,sans-Serif\" font-size=\"14.00\">class = Alive</text>\n</g>\n<!-- 25&#45;&gt;26 -->\n<g id=\"edge26\" class=\"edge\">\n<title>25&#45;&gt;26</title>\n<path fill=\"none\" stroke=\"black\" d=\"M1142.25,-868.65C1133.88,-859.89 1125.02,-850.62 1116.41,-841.62\"/>\n<polygon fill=\"black\" stroke=\"black\" points=\"1119.09,-839.36 1109.65,-834.55 1114.03,-844.19 1119.09,-839.36\"/>\n</g>\n<!-- 37 -->\n<g id=\"node38\" class=\"node\">\n<title>37</title>\n<path fill=\"#e58139\" stroke=\"black\" d=\"M1229.5,-824.75C1229.5,-824.75 1154.25,-824.75 1154.25,-824.75 1148.25,-824.75 1142.25,-818.75 1142.25,-812.75 1142.25,-812.75 1142.25,-762.75 1142.25,-762.75 1142.25,-756.75 1148.25,-750.75 1154.25,-750.75 1154.25,-750.75 1229.5,-750.75 1229.5,-750.75 1235.5,-750.75 1241.5,-756.75 1241.5,-762.75 1241.5,-762.75 1241.5,-812.75 1241.5,-812.75 1241.5,-818.75 1235.5,-824.75 1229.5,-824.75\"/>\n<text text-anchor=\"start\" x=\"1150.25\" y=\"-807.45\" font-family=\"Helvetica,sans-Serif\" font-size=\"14.00\">entropy = 0.0</text>\n<text text-anchor=\"start\" x=\"1152.88\" y=\"-790.95\" font-family=\"Helvetica,sans-Serif\" font-size=\"14.00\">samples = 8</text>\n<text text-anchor=\"start\" x=\"1151.75\" y=\"-774.45\" font-family=\"Helvetica,sans-Serif\" font-size=\"14.00\">value = [8, 0]</text>\n<text text-anchor=\"start\" x=\"1152.12\" y=\"-757.95\" font-family=\"Helvetica,sans-Serif\" font-size=\"14.00\">class = Alive</text>\n</g>\n<!-- 25&#45;&gt;37 -->\n<g id=\"edge37\" class=\"edge\">\n<title>25&#45;&gt;37</title>\n<path fill=\"none\" stroke=\"black\" d=\"M1187.38,-868.65C1187.98,-858.1 1188.61,-846.81 1189.21,-836.13\"/>\n<polygon fill=\"black\" stroke=\"black\" points=\"1192.69,-836.55 1189.76,-826.37 1185.7,-836.15 1192.69,-836.55\"/>\n</g>\n<!-- 27 -->\n<g id=\"node28\" class=\"node\">\n<title>27</title>\n<path fill=\"#eb9e67\" stroke=\"black\" d=\"M1005.75,-698.25C1005.75,-698.25 914,-698.25 914,-698.25 908,-698.25 902,-692.25 902,-686.25 902,-686.25 902,-636.25 902,-636.25 902,-630.25 908,-624.25 914,-624.25 914,-624.25 1005.75,-624.25 1005.75,-624.25 1011.75,-624.25 1017.75,-630.25 1017.75,-636.25 1017.75,-636.25 1017.75,-686.25 1017.75,-686.25 1017.75,-692.25 1011.75,-698.25 1005.75,-698.25\"/>\n<text text-anchor=\"start\" x=\"910\" y=\"-680.95\" font-family=\"Helvetica,sans-Serif\" font-size=\"14.00\">entropy = 0.696</text>\n<text text-anchor=\"start\" x=\"916.75\" y=\"-664.45\" font-family=\"Helvetica,sans-Serif\" font-size=\"14.00\">samples = 16</text>\n<text text-anchor=\"start\" x=\"915.62\" y=\"-647.95\" font-family=\"Helvetica,sans-Serif\" font-size=\"14.00\">value = [13, 3]</text>\n<text text-anchor=\"start\" x=\"920.12\" y=\"-631.45\" font-family=\"Helvetica,sans-Serif\" font-size=\"14.00\">class = Alive</text>\n</g>\n<!-- 26&#45;&gt;27 -->\n<g id=\"edge27\" class=\"edge\">\n<title>26&#45;&gt;27</title>\n<path fill=\"none\" stroke=\"black\" d=\"M1027.91,-742.15C1018.15,-730.7 1007.66,-718.38 997.91,-706.92\"/>\n<polygon fill=\"black\" stroke=\"black\" points=\"1000.74,-704.85 991.6,-699.51 995.41,-709.39 1000.74,-704.85\"/>\n</g>\n<!-- 28 -->\n<g id=\"node29\" class=\"node\">\n<title>28</title>\n<path fill=\"#f5d0b6\" stroke=\"black\" d=\"M1139.75,-706.5C1139.75,-706.5 1048,-706.5 1048,-706.5 1042,-706.5 1036,-700.5 1036,-694.5 1036,-694.5 1036,-628 1036,-628 1036,-622 1042,-616 1048,-616 1048,-616 1139.75,-616 1139.75,-616 1145.75,-616 1151.75,-622 1151.75,-628 1151.75,-628 1151.75,-694.5 1151.75,-694.5 1151.75,-700.5 1145.75,-706.5 1139.75,-706.5\"/>\n<text text-anchor=\"start\" x=\"1053.38\" y=\"-689.2\" font-family=\"Helvetica,sans-Serif\" font-size=\"14.00\">Nobility ≤ 0.5</text>\n<text text-anchor=\"start\" x=\"1044\" y=\"-672.7\" font-family=\"Helvetica,sans-Serif\" font-size=\"14.00\">entropy = 0.962</text>\n<text text-anchor=\"start\" x=\"1050.75\" y=\"-656.2\" font-family=\"Helvetica,sans-Serif\" font-size=\"14.00\">samples = 88</text>\n<text text-anchor=\"start\" x=\"1045.5\" y=\"-639.7\" font-family=\"Helvetica,sans-Serif\" font-size=\"14.00\">value = [54, 34]</text>\n<text text-anchor=\"start\" x=\"1054.12\" y=\"-623.2\" font-family=\"Helvetica,sans-Serif\" font-size=\"14.00\">class = Alive</text>\n</g>\n<!-- 26&#45;&gt;28 -->\n<g id=\"edge28\" class=\"edge\">\n<title>26&#45;&gt;28</title>\n<path fill=\"none\" stroke=\"black\" d=\"M1075.9,-742.15C1077.65,-734.38 1079.49,-726.2 1081.3,-718.16\"/>\n<polygon fill=\"black\" stroke=\"black\" points=\"1084.71,-718.95 1083.49,-708.43 1077.88,-717.42 1084.71,-718.95\"/>\n</g>\n<!-- 29 -->\n<g id=\"node30\" class=\"node\">\n<title>29</title>\n<path fill=\"#fbe9dd\" stroke=\"black\" d=\"M1019.75,-580C1019.75,-580 928,-580 928,-580 922,-580 916,-574 916,-568 916,-568 916,-501.5 916,-501.5 916,-495.5 922,-489.5 928,-489.5 928,-489.5 1019.75,-489.5 1019.75,-489.5 1025.75,-489.5 1031.75,-495.5 1031.75,-501.5 1031.75,-501.5 1031.75,-568 1031.75,-568 1031.75,-574 1025.75,-580 1019.75,-580\"/>\n<text text-anchor=\"start\" x=\"942\" y=\"-562.7\" font-family=\"Helvetica,sans-Serif\" font-size=\"14.00\">GoT ≤ 0.5</text>\n<text text-anchor=\"start\" x=\"924\" y=\"-546.2\" font-family=\"Helvetica,sans-Serif\" font-size=\"14.00\">entropy = 0.994</text>\n<text text-anchor=\"start\" x=\"930.75\" y=\"-529.7\" font-family=\"Helvetica,sans-Serif\" font-size=\"14.00\">samples = 53</text>\n<text text-anchor=\"start\" x=\"925.5\" y=\"-513.2\" font-family=\"Helvetica,sans-Serif\" font-size=\"14.00\">value = [29, 24]</text>\n<text text-anchor=\"start\" x=\"934.12\" y=\"-496.7\" font-family=\"Helvetica,sans-Serif\" font-size=\"14.00\">class = Alive</text>\n</g>\n<!-- 28&#45;&gt;29 -->\n<g id=\"edge29\" class=\"edge\">\n<title>28&#45;&gt;29</title>\n<path fill=\"none\" stroke=\"black\" d=\"M1050.89,-615.65C1042.45,-606.89 1033.51,-597.62 1024.84,-588.62\"/>\n<polygon fill=\"black\" stroke=\"black\" points=\"1027.47,-586.31 1018.01,-581.54 1022.43,-591.17 1027.47,-586.31\"/>\n</g>\n<!-- 32 -->\n<g id=\"node33\" class=\"node\">\n<title>32</title>\n<path fill=\"#efb388\" stroke=\"black\" d=\"M1153.75,-580C1153.75,-580 1062,-580 1062,-580 1056,-580 1050,-574 1050,-568 1050,-568 1050,-501.5 1050,-501.5 1050,-495.5 1056,-489.5 1062,-489.5 1062,-489.5 1153.75,-489.5 1153.75,-489.5 1159.75,-489.5 1165.75,-495.5 1165.75,-501.5 1165.75,-501.5 1165.75,-568 1165.75,-568 1165.75,-574 1159.75,-580 1153.75,-580\"/>\n<text text-anchor=\"start\" x=\"1076\" y=\"-562.7\" font-family=\"Helvetica,sans-Serif\" font-size=\"14.00\">CoK ≤ 0.5</text>\n<text text-anchor=\"start\" x=\"1058\" y=\"-546.2\" font-family=\"Helvetica,sans-Serif\" font-size=\"14.00\">entropy = 0.863</text>\n<text text-anchor=\"start\" x=\"1064.75\" y=\"-529.7\" font-family=\"Helvetica,sans-Serif\" font-size=\"14.00\">samples = 35</text>\n<text text-anchor=\"start\" x=\"1059.5\" y=\"-513.2\" font-family=\"Helvetica,sans-Serif\" font-size=\"14.00\">value = [25, 10]</text>\n<text text-anchor=\"start\" x=\"1068.12\" y=\"-496.7\" font-family=\"Helvetica,sans-Serif\" font-size=\"14.00\">class = Alive</text>\n</g>\n<!-- 28&#45;&gt;32 -->\n<g id=\"edge32\" class=\"edge\">\n<title>28&#45;&gt;32</title>\n<path fill=\"none\" stroke=\"black\" d=\"M1098.89,-615.65C1099.76,-607.88 1100.68,-599.7 1101.59,-591.66\"/>\n<polygon fill=\"black\" stroke=\"black\" points=\"1105.04,-592.29 1102.68,-581.96 1098.08,-591.5 1105.04,-592.29\"/>\n</g>\n<!-- 30 -->\n<g id=\"node31\" class=\"node\">\n<title>30</title>\n<path fill=\"#fdf5ef\" stroke=\"black\" d=\"M885.75,-445.25C885.75,-445.25 794,-445.25 794,-445.25 788,-445.25 782,-439.25 782,-433.25 782,-433.25 782,-383.25 782,-383.25 782,-377.25 788,-371.25 794,-371.25 794,-371.25 885.75,-371.25 885.75,-371.25 891.75,-371.25 897.75,-377.25 897.75,-383.25 897.75,-383.25 897.75,-433.25 897.75,-433.25 897.75,-439.25 891.75,-445.25 885.75,-445.25\"/>\n<text text-anchor=\"start\" x=\"790\" y=\"-427.95\" font-family=\"Helvetica,sans-Serif\" font-size=\"14.00\">entropy = 0.999</text>\n<text text-anchor=\"start\" x=\"796.75\" y=\"-411.45\" font-family=\"Helvetica,sans-Serif\" font-size=\"14.00\">samples = 46</text>\n<text text-anchor=\"start\" x=\"791.5\" y=\"-394.95\" font-family=\"Helvetica,sans-Serif\" font-size=\"14.00\">value = [24, 22]</text>\n<text text-anchor=\"start\" x=\"800.12\" y=\"-378.45\" font-family=\"Helvetica,sans-Serif\" font-size=\"14.00\">class = Alive</text>\n</g>\n<!-- 29&#45;&gt;30 -->\n<g id=\"edge30\" class=\"edge\">\n<title>29&#45;&gt;30</title>\n<path fill=\"none\" stroke=\"black\" d=\"M925.88,-489.15C913.19,-477.36 899.5,-464.65 886.87,-452.91\"/>\n<polygon fill=\"black\" stroke=\"black\" points=\"889.55,-450.63 879.84,-446.39 884.79,-455.76 889.55,-450.63\"/>\n</g>\n<!-- 31 -->\n<g id=\"node32\" class=\"node\">\n<title>31</title>\n<path fill=\"#efb388\" stroke=\"black\" d=\"M1019.75,-445.25C1019.75,-445.25 928,-445.25 928,-445.25 922,-445.25 916,-439.25 916,-433.25 916,-433.25 916,-383.25 916,-383.25 916,-377.25 922,-371.25 928,-371.25 928,-371.25 1019.75,-371.25 1019.75,-371.25 1025.75,-371.25 1031.75,-377.25 1031.75,-383.25 1031.75,-383.25 1031.75,-433.25 1031.75,-433.25 1031.75,-439.25 1025.75,-445.25 1019.75,-445.25\"/>\n<text text-anchor=\"start\" x=\"924\" y=\"-427.95\" font-family=\"Helvetica,sans-Serif\" font-size=\"14.00\">entropy = 0.863</text>\n<text text-anchor=\"start\" x=\"934.88\" y=\"-411.45\" font-family=\"Helvetica,sans-Serif\" font-size=\"14.00\">samples = 7</text>\n<text text-anchor=\"start\" x=\"933.75\" y=\"-394.95\" font-family=\"Helvetica,sans-Serif\" font-size=\"14.00\">value = [5, 2]</text>\n<text text-anchor=\"start\" x=\"934.12\" y=\"-378.45\" font-family=\"Helvetica,sans-Serif\" font-size=\"14.00\">class = Alive</text>\n</g>\n<!-- 29&#45;&gt;31 -->\n<g id=\"edge31\" class=\"edge\">\n<title>29&#45;&gt;31</title>\n<path fill=\"none\" stroke=\"black\" d=\"M973.88,-489.15C973.88,-478.6 973.88,-467.31 973.88,-456.63\"/>\n<polygon fill=\"black\" stroke=\"black\" points=\"977.38,-456.87 973.88,-446.87 970.38,-456.87 977.38,-456.87\"/>\n</g>\n<!-- 33 -->\n<g id=\"node34\" class=\"node\">\n<title>33</title>\n<path fill=\"#f2c09c\" stroke=\"black\" d=\"M1153.75,-453.5C1153.75,-453.5 1062,-453.5 1062,-453.5 1056,-453.5 1050,-447.5 1050,-441.5 1050,-441.5 1050,-375 1050,-375 1050,-369 1056,-363 1062,-363 1062,-363 1153.75,-363 1153.75,-363 1159.75,-363 1165.75,-369 1165.75,-375 1165.75,-375 1165.75,-441.5 1165.75,-441.5 1165.75,-447.5 1159.75,-453.5 1153.75,-453.5\"/>\n<text text-anchor=\"start\" x=\"1076.38\" y=\"-436.2\" font-family=\"Helvetica,sans-Serif\" font-size=\"14.00\">SoS ≤ 0.5</text>\n<text text-anchor=\"start\" x=\"1058\" y=\"-419.7\" font-family=\"Helvetica,sans-Serif\" font-size=\"14.00\">entropy = 0.918</text>\n<text text-anchor=\"start\" x=\"1064.75\" y=\"-403.2\" font-family=\"Helvetica,sans-Serif\" font-size=\"14.00\">samples = 27</text>\n<text text-anchor=\"start\" x=\"1063.62\" y=\"-386.7\" font-family=\"Helvetica,sans-Serif\" font-size=\"14.00\">value = [18, 9]</text>\n<text text-anchor=\"start\" x=\"1068.12\" y=\"-370.2\" font-family=\"Helvetica,sans-Serif\" font-size=\"14.00\">class = Alive</text>\n</g>\n<!-- 32&#45;&gt;33 -->\n<g id=\"edge33\" class=\"edge\">\n<title>32&#45;&gt;33</title>\n<path fill=\"none\" stroke=\"black\" d=\"M1107.88,-489.15C1107.88,-481.47 1107.88,-473.39 1107.88,-465.44\"/>\n<polygon fill=\"black\" stroke=\"black\" points=\"1111.38,-465.47 1107.88,-455.47 1104.38,-465.47 1111.38,-465.47\"/>\n</g>\n<!-- 36 -->\n<g id=\"node37\" class=\"node\">\n<title>36</title>\n<path fill=\"#e99355\" stroke=\"black\" d=\"M1287.75,-445.25C1287.75,-445.25 1196,-445.25 1196,-445.25 1190,-445.25 1184,-439.25 1184,-433.25 1184,-433.25 1184,-383.25 1184,-383.25 1184,-377.25 1190,-371.25 1196,-371.25 1196,-371.25 1287.75,-371.25 1287.75,-371.25 1293.75,-371.25 1299.75,-377.25 1299.75,-383.25 1299.75,-383.25 1299.75,-433.25 1299.75,-433.25 1299.75,-439.25 1293.75,-445.25 1287.75,-445.25\"/>\n<text text-anchor=\"start\" x=\"1192\" y=\"-427.95\" font-family=\"Helvetica,sans-Serif\" font-size=\"14.00\">entropy = 0.544</text>\n<text text-anchor=\"start\" x=\"1202.88\" y=\"-411.45\" font-family=\"Helvetica,sans-Serif\" font-size=\"14.00\">samples = 8</text>\n<text text-anchor=\"start\" x=\"1201.75\" y=\"-394.95\" font-family=\"Helvetica,sans-Serif\" font-size=\"14.00\">value = [7, 1]</text>\n<text text-anchor=\"start\" x=\"1202.12\" y=\"-378.45\" font-family=\"Helvetica,sans-Serif\" font-size=\"14.00\">class = Alive</text>\n</g>\n<!-- 32&#45;&gt;36 -->\n<g id=\"edge36\" class=\"edge\">\n<title>32&#45;&gt;36</title>\n<path fill=\"none\" stroke=\"black\" d=\"M1155.87,-489.15C1168.56,-477.36 1182.25,-464.65 1194.88,-452.91\"/>\n<polygon fill=\"black\" stroke=\"black\" points=\"1196.96,-455.76 1201.91,-446.39 1192.2,-450.63 1196.96,-455.76\"/>\n</g>\n<!-- 34 -->\n<g id=\"node35\" class=\"node\">\n<title>34</title>\n<path fill=\"#e9965a\" stroke=\"black\" d=\"M1040.75,-318.75C1040.75,-318.75 949,-318.75 949,-318.75 943,-318.75 937,-312.75 937,-306.75 937,-306.75 937,-256.75 937,-256.75 937,-250.75 943,-244.75 949,-244.75 949,-244.75 1040.75,-244.75 1040.75,-244.75 1046.75,-244.75 1052.75,-250.75 1052.75,-256.75 1052.75,-256.75 1052.75,-306.75 1052.75,-306.75 1052.75,-312.75 1046.75,-318.75 1040.75,-318.75\"/>\n<text text-anchor=\"start\" x=\"945\" y=\"-301.45\" font-family=\"Helvetica,sans-Serif\" font-size=\"14.00\">entropy = 0.592</text>\n<text text-anchor=\"start\" x=\"951.75\" y=\"-284.95\" font-family=\"Helvetica,sans-Serif\" font-size=\"14.00\">samples = 14</text>\n<text text-anchor=\"start\" x=\"950.62\" y=\"-268.45\" font-family=\"Helvetica,sans-Serif\" font-size=\"14.00\">value = [12, 2]</text>\n<text text-anchor=\"start\" x=\"955.12\" y=\"-251.95\" font-family=\"Helvetica,sans-Serif\" font-size=\"14.00\">class = Alive</text>\n</g>\n<!-- 33&#45;&gt;34 -->\n<g id=\"edge34\" class=\"edge\">\n<title>33&#45;&gt;34</title>\n<path fill=\"none\" stroke=\"black\" d=\"M1067.4,-362.65C1056.9,-351.09 1045.6,-338.64 1035.11,-327.08\"/>\n<polygon fill=\"black\" stroke=\"black\" points=\"1037.98,-325.03 1028.66,-319.98 1032.79,-329.73 1037.98,-325.03\"/>\n</g>\n<!-- 35 -->\n<g id=\"node36\" class=\"node\">\n<title>35</title>\n<path fill=\"#e3f1fb\" stroke=\"black\" d=\"M1174.75,-318.75C1174.75,-318.75 1083,-318.75 1083,-318.75 1077,-318.75 1071,-312.75 1071,-306.75 1071,-306.75 1071,-256.75 1071,-256.75 1071,-250.75 1077,-244.75 1083,-244.75 1083,-244.75 1174.75,-244.75 1174.75,-244.75 1180.75,-244.75 1186.75,-250.75 1186.75,-256.75 1186.75,-256.75 1186.75,-306.75 1186.75,-306.75 1186.75,-312.75 1180.75,-318.75 1174.75,-318.75\"/>\n<text text-anchor=\"start\" x=\"1079\" y=\"-301.45\" font-family=\"Helvetica,sans-Serif\" font-size=\"14.00\">entropy = 0.996</text>\n<text text-anchor=\"start\" x=\"1085.75\" y=\"-284.95\" font-family=\"Helvetica,sans-Serif\" font-size=\"14.00\">samples = 13</text>\n<text text-anchor=\"start\" x=\"1088.75\" y=\"-268.45\" font-family=\"Helvetica,sans-Serif\" font-size=\"14.00\">value = [6, 7]</text>\n<text text-anchor=\"start\" x=\"1087.25\" y=\"-251.95\" font-family=\"Helvetica,sans-Serif\" font-size=\"14.00\">class = Dead</text>\n</g>\n<!-- 33&#45;&gt;35 -->\n<g id=\"edge35\" class=\"edge\">\n<title>33&#45;&gt;35</title>\n<path fill=\"none\" stroke=\"black\" d=\"M1115.4,-362.65C1117.18,-352.1 1119.08,-340.81 1120.88,-330.13\"/>\n<polygon fill=\"black\" stroke=\"black\" points=\"1124.32,-330.79 1122.53,-320.35 1117.42,-329.63 1124.32,-330.79\"/>\n</g>\n<!-- 39 -->\n<g id=\"node40\" class=\"node\">\n<title>39</title>\n<path fill=\"#efb184\" stroke=\"black\" d=\"M1507.88,-959.5C1507.88,-959.5 1311.88,-959.5 1311.88,-959.5 1305.88,-959.5 1299.88,-953.5 1299.88,-947.5 1299.88,-947.5 1299.88,-881 1299.88,-881 1299.88,-875 1305.88,-869 1311.88,-869 1311.88,-869 1507.88,-869 1507.88,-869 1513.88,-869 1519.88,-875 1519.88,-881 1519.88,-881 1519.88,-947.5 1519.88,-947.5 1519.88,-953.5 1513.88,-959.5 1507.88,-959.5\"/>\n<text text-anchor=\"start\" x=\"1307.88\" y=\"-942.2\" font-family=\"Helvetica,sans-Serif\" font-size=\"14.00\">Allegiances_Night&#39;s Watch ≤ 0.5</text>\n<text text-anchor=\"start\" x=\"1364.12\" y=\"-925.7\" font-family=\"Helvetica,sans-Serif\" font-size=\"14.00\">entropy = 0.85</text>\n<text text-anchor=\"start\" x=\"1366.75\" y=\"-909.2\" font-family=\"Helvetica,sans-Serif\" font-size=\"14.00\">samples = 58</text>\n<text text-anchor=\"start\" x=\"1361.5\" y=\"-892.7\" font-family=\"Helvetica,sans-Serif\" font-size=\"14.00\">value = [42, 16]</text>\n<text text-anchor=\"start\" x=\"1370.12\" y=\"-876.2\" font-family=\"Helvetica,sans-Serif\" font-size=\"14.00\">class = Alive</text>\n</g>\n<!-- 38&#45;&gt;39 -->\n<g id=\"edge39\" class=\"edge\">\n<title>38&#45;&gt;39</title>\n<path fill=\"none\" stroke=\"black\" d=\"M1409.88,-995.15C1409.88,-987.47 1409.88,-979.39 1409.88,-971.44\"/>\n<polygon fill=\"black\" stroke=\"black\" points=\"1413.38,-971.47 1409.88,-961.47 1406.38,-971.47 1413.38,-971.47\"/>\n</g>\n<!-- 50 -->\n<g id=\"node51\" class=\"node\">\n<title>50</title>\n<path fill=\"#e89152\" stroke=\"black\" d=\"M1808,-959.5C1808,-959.5 1669.75,-959.5 1669.75,-959.5 1663.75,-959.5 1657.75,-953.5 1657.75,-947.5 1657.75,-947.5 1657.75,-881 1657.75,-881 1657.75,-875 1663.75,-869 1669.75,-869 1669.75,-869 1808,-869 1808,-869 1814,-869 1820,-875 1820,-881 1820,-881 1820,-947.5 1820,-947.5 1820,-953.5 1814,-959.5 1808,-959.5\"/>\n<text text-anchor=\"start\" x=\"1665.75\" y=\"-942.2\" font-family=\"Helvetica,sans-Serif\" font-size=\"14.00\">Allegiances_Tully ≤ 0.5</text>\n<text text-anchor=\"start\" x=\"1689\" y=\"-925.7\" font-family=\"Helvetica,sans-Serif\" font-size=\"14.00\">entropy = 0.503</text>\n<text text-anchor=\"start\" x=\"1695.75\" y=\"-909.2\" font-family=\"Helvetica,sans-Serif\" font-size=\"14.00\">samples = 72</text>\n<text text-anchor=\"start\" x=\"1694.62\" y=\"-892.7\" font-family=\"Helvetica,sans-Serif\" font-size=\"14.00\">value = [64, 8]</text>\n<text text-anchor=\"start\" x=\"1699.12\" y=\"-876.2\" font-family=\"Helvetica,sans-Serif\" font-size=\"14.00\">class = Alive</text>\n</g>\n<!-- 38&#45;&gt;50 -->\n<g id=\"edge50\" class=\"edge\">\n<title>38&#45;&gt;50</title>\n<path fill=\"none\" stroke=\"black\" d=\"M1470.6,-1016.77C1519.97,-998.09 1590.4,-971.44 1646.71,-950.13\"/>\n<polygon fill=\"black\" stroke=\"black\" points=\"1647.89,-953.42 1656,-946.61 1645.41,-946.88 1647.89,-953.42\"/>\n</g>\n<!-- 40 -->\n<g id=\"node41\" class=\"node\">\n<title>40</title>\n<path fill=\"#edaa79\" stroke=\"black\" d=\"M1480.25,-833C1480.25,-833 1325.5,-833 1325.5,-833 1319.5,-833 1313.5,-827 1313.5,-821 1313.5,-821 1313.5,-754.5 1313.5,-754.5 1313.5,-748.5 1319.5,-742.5 1325.5,-742.5 1325.5,-742.5 1480.25,-742.5 1480.25,-742.5 1486.25,-742.5 1492.25,-748.5 1492.25,-754.5 1492.25,-754.5 1492.25,-821 1492.25,-821 1492.25,-827 1486.25,-833 1480.25,-833\"/>\n<text text-anchor=\"start\" x=\"1321.5\" y=\"-815.7\" font-family=\"Helvetica,sans-Serif\" font-size=\"14.00\">Book Intro Chapter ≤ 32.0</text>\n<text text-anchor=\"start\" x=\"1353\" y=\"-799.2\" font-family=\"Helvetica,sans-Serif\" font-size=\"14.00\">entropy = 0.804</text>\n<text text-anchor=\"start\" x=\"1359.75\" y=\"-782.7\" font-family=\"Helvetica,sans-Serif\" font-size=\"14.00\">samples = 53</text>\n<text text-anchor=\"start\" x=\"1354.5\" y=\"-766.2\" font-family=\"Helvetica,sans-Serif\" font-size=\"14.00\">value = [40, 13]</text>\n<text text-anchor=\"start\" x=\"1363.12\" y=\"-749.7\" font-family=\"Helvetica,sans-Serif\" font-size=\"14.00\">class = Alive</text>\n</g>\n<!-- 39&#45;&gt;40 -->\n<g id=\"edge40\" class=\"edge\">\n<title>39&#45;&gt;40</title>\n<path fill=\"none\" stroke=\"black\" d=\"M1407.37,-868.65C1406.94,-860.97 1406.48,-852.89 1406.03,-844.94\"/>\n<polygon fill=\"black\" stroke=\"black\" points=\"1409.53,-844.75 1405.47,-834.96 1402.54,-845.14 1409.53,-844.75\"/>\n</g>\n<!-- 49 -->\n<g id=\"node50\" class=\"node\">\n<title>49</title>\n<path fill=\"#bddef6\" stroke=\"black\" d=\"M1613.75,-824.75C1613.75,-824.75 1522,-824.75 1522,-824.75 1516,-824.75 1510,-818.75 1510,-812.75 1510,-812.75 1510,-762.75 1510,-762.75 1510,-756.75 1516,-750.75 1522,-750.75 1522,-750.75 1613.75,-750.75 1613.75,-750.75 1619.75,-750.75 1625.75,-756.75 1625.75,-762.75 1625.75,-762.75 1625.75,-812.75 1625.75,-812.75 1625.75,-818.75 1619.75,-824.75 1613.75,-824.75\"/>\n<text text-anchor=\"start\" x=\"1518\" y=\"-807.45\" font-family=\"Helvetica,sans-Serif\" font-size=\"14.00\">entropy = 0.971</text>\n<text text-anchor=\"start\" x=\"1528.88\" y=\"-790.95\" font-family=\"Helvetica,sans-Serif\" font-size=\"14.00\">samples = 5</text>\n<text text-anchor=\"start\" x=\"1527.75\" y=\"-774.45\" font-family=\"Helvetica,sans-Serif\" font-size=\"14.00\">value = [2, 3]</text>\n<text text-anchor=\"start\" x=\"1526.25\" y=\"-757.95\" font-family=\"Helvetica,sans-Serif\" font-size=\"14.00\">class = Dead</text>\n</g>\n<!-- 39&#45;&gt;49 -->\n<g id=\"edge49\" class=\"edge\">\n<title>39&#45;&gt;49</title>\n<path fill=\"none\" stroke=\"black\" d=\"M1466.47,-868.65C1481.64,-856.7 1498.02,-843.79 1513.09,-831.92\"/>\n<polygon fill=\"black\" stroke=\"black\" points=\"1514.92,-834.93 1520.61,-825.99 1510.59,-829.43 1514.92,-834.93\"/>\n</g>\n<!-- 41 -->\n<g id=\"node42\" class=\"node\">\n<title>41</title>\n<path fill=\"#f0b890\" stroke=\"black\" d=\"M1480.25,-706.5C1480.25,-706.5 1325.5,-706.5 1325.5,-706.5 1319.5,-706.5 1313.5,-700.5 1313.5,-694.5 1313.5,-694.5 1313.5,-628 1313.5,-628 1313.5,-622 1319.5,-616 1325.5,-616 1325.5,-616 1480.25,-616 1480.25,-616 1486.25,-616 1492.25,-622 1492.25,-628 1492.25,-628 1492.25,-694.5 1492.25,-694.5 1492.25,-700.5 1486.25,-706.5 1480.25,-706.5\"/>\n<text text-anchor=\"start\" x=\"1321.5\" y=\"-689.2\" font-family=\"Helvetica,sans-Serif\" font-size=\"14.00\">Book Intro Chapter ≤ 27.5</text>\n<text text-anchor=\"start\" x=\"1353\" y=\"-672.7\" font-family=\"Helvetica,sans-Serif\" font-size=\"14.00\">entropy = 0.888</text>\n<text text-anchor=\"start\" x=\"1359.75\" y=\"-656.2\" font-family=\"Helvetica,sans-Serif\" font-size=\"14.00\">samples = 36</text>\n<text text-anchor=\"start\" x=\"1354.5\" y=\"-639.7\" font-family=\"Helvetica,sans-Serif\" font-size=\"14.00\">value = [25, 11]</text>\n<text text-anchor=\"start\" x=\"1363.12\" y=\"-623.2\" font-family=\"Helvetica,sans-Serif\" font-size=\"14.00\">class = Alive</text>\n</g>\n<!-- 40&#45;&gt;41 -->\n<g id=\"edge41\" class=\"edge\">\n<title>40&#45;&gt;41</title>\n<path fill=\"none\" stroke=\"black\" d=\"M1402.88,-742.15C1402.88,-734.47 1402.88,-726.39 1402.88,-718.44\"/>\n<polygon fill=\"black\" stroke=\"black\" points=\"1406.38,-718.47 1402.88,-708.47 1399.38,-718.47 1406.38,-718.47\"/>\n</g>\n<!-- 48 -->\n<g id=\"node49\" class=\"node\">\n<title>48</title>\n<path fill=\"#e89253\" stroke=\"black\" d=\"M1613.75,-698.25C1613.75,-698.25 1522,-698.25 1522,-698.25 1516,-698.25 1510,-692.25 1510,-686.25 1510,-686.25 1510,-636.25 1510,-636.25 1510,-630.25 1516,-624.25 1522,-624.25 1522,-624.25 1613.75,-624.25 1613.75,-624.25 1619.75,-624.25 1625.75,-630.25 1625.75,-636.25 1625.75,-636.25 1625.75,-686.25 1625.75,-686.25 1625.75,-692.25 1619.75,-698.25 1613.75,-698.25\"/>\n<text text-anchor=\"start\" x=\"1518\" y=\"-680.95\" font-family=\"Helvetica,sans-Serif\" font-size=\"14.00\">entropy = 0.523</text>\n<text text-anchor=\"start\" x=\"1524.75\" y=\"-664.45\" font-family=\"Helvetica,sans-Serif\" font-size=\"14.00\">samples = 17</text>\n<text text-anchor=\"start\" x=\"1523.62\" y=\"-647.95\" font-family=\"Helvetica,sans-Serif\" font-size=\"14.00\">value = [15, 2]</text>\n<text text-anchor=\"start\" x=\"1528.12\" y=\"-631.45\" font-family=\"Helvetica,sans-Serif\" font-size=\"14.00\">class = Alive</text>\n</g>\n<!-- 40&#45;&gt;48 -->\n<g id=\"edge48\" class=\"edge\">\n<title>40&#45;&gt;48</title>\n<path fill=\"none\" stroke=\"black\" d=\"M1461.98,-742.15C1477.82,-730.2 1494.93,-717.29 1510.67,-705.42\"/>\n<polygon fill=\"black\" stroke=\"black\" points=\"1512.68,-708.28 1518.55,-699.47 1508.46,-702.7 1512.68,-708.28\"/>\n</g>\n<!-- 42 -->\n<g id=\"node43\" class=\"node\">\n<title>42</title>\n<path fill=\"#eeab7b\" stroke=\"black\" d=\"M1480.25,-580C1480.25,-580 1325.5,-580 1325.5,-580 1319.5,-580 1313.5,-574 1313.5,-568 1313.5,-568 1313.5,-501.5 1313.5,-501.5 1313.5,-495.5 1319.5,-489.5 1325.5,-489.5 1325.5,-489.5 1480.25,-489.5 1480.25,-489.5 1486.25,-489.5 1492.25,-495.5 1492.25,-501.5 1492.25,-501.5 1492.25,-568 1492.25,-568 1492.25,-574 1486.25,-580 1480.25,-580\"/>\n<text text-anchor=\"start\" x=\"1321.5\" y=\"-562.7\" font-family=\"Helvetica,sans-Serif\" font-size=\"14.00\">Book Intro Chapter ≤ 21.5</text>\n<text text-anchor=\"start\" x=\"1353\" y=\"-546.2\" font-family=\"Helvetica,sans-Serif\" font-size=\"14.00\">entropy = 0.811</text>\n<text text-anchor=\"start\" x=\"1359.75\" y=\"-529.7\" font-family=\"Helvetica,sans-Serif\" font-size=\"14.00\">samples = 28</text>\n<text text-anchor=\"start\" x=\"1358.62\" y=\"-513.2\" font-family=\"Helvetica,sans-Serif\" font-size=\"14.00\">value = [21, 7]</text>\n<text text-anchor=\"start\" x=\"1363.12\" y=\"-496.7\" font-family=\"Helvetica,sans-Serif\" font-size=\"14.00\">class = Alive</text>\n</g>\n<!-- 41&#45;&gt;42 -->\n<g id=\"edge42\" class=\"edge\">\n<title>41&#45;&gt;42</title>\n<path fill=\"none\" stroke=\"black\" d=\"M1402.88,-615.65C1402.88,-607.97 1402.88,-599.89 1402.88,-591.94\"/>\n<polygon fill=\"black\" stroke=\"black\" points=\"1406.38,-591.97 1402.88,-581.97 1399.38,-591.97 1406.38,-591.97\"/>\n</g>\n<!-- 47 -->\n<g id=\"node48\" class=\"node\">\n<title>47</title>\n<path fill=\"#ffffff\" stroke=\"black\" d=\"M1597.5,-571.75C1597.5,-571.75 1522.25,-571.75 1522.25,-571.75 1516.25,-571.75 1510.25,-565.75 1510.25,-559.75 1510.25,-559.75 1510.25,-509.75 1510.25,-509.75 1510.25,-503.75 1516.25,-497.75 1522.25,-497.75 1522.25,-497.75 1597.5,-497.75 1597.5,-497.75 1603.5,-497.75 1609.5,-503.75 1609.5,-509.75 1609.5,-509.75 1609.5,-559.75 1609.5,-559.75 1609.5,-565.75 1603.5,-571.75 1597.5,-571.75\"/>\n<text text-anchor=\"start\" x=\"1518.25\" y=\"-554.45\" font-family=\"Helvetica,sans-Serif\" font-size=\"14.00\">entropy = 1.0</text>\n<text text-anchor=\"start\" x=\"1520.88\" y=\"-537.95\" font-family=\"Helvetica,sans-Serif\" font-size=\"14.00\">samples = 8</text>\n<text text-anchor=\"start\" x=\"1519.75\" y=\"-521.45\" font-family=\"Helvetica,sans-Serif\" font-size=\"14.00\">value = [4, 4]</text>\n<text text-anchor=\"start\" x=\"1520.12\" y=\"-504.95\" font-family=\"Helvetica,sans-Serif\" font-size=\"14.00\">class = Alive</text>\n</g>\n<!-- 41&#45;&gt;47 -->\n<g id=\"edge47\" class=\"edge\">\n<title>41&#45;&gt;47</title>\n<path fill=\"none\" stroke=\"black\" d=\"M1459.11,-615.65C1474.19,-603.7 1490.46,-590.79 1505.44,-578.92\"/>\n<polygon fill=\"black\" stroke=\"black\" points=\"1507.25,-581.95 1512.91,-573 1502.9,-576.47 1507.25,-581.95\"/>\n</g>\n<!-- 43 -->\n<g id=\"node44\" class=\"node\">\n<title>43</title>\n<path fill=\"#f0b890\" stroke=\"black\" d=\"M1476.12,-453.5C1476.12,-453.5 1329.62,-453.5 1329.62,-453.5 1323.62,-453.5 1317.62,-447.5 1317.62,-441.5 1317.62,-441.5 1317.62,-375 1317.62,-375 1317.62,-369 1323.62,-363 1329.62,-363 1329.62,-363 1476.12,-363 1476.12,-363 1482.12,-363 1488.12,-369 1488.12,-375 1488.12,-375 1488.12,-441.5 1488.12,-441.5 1488.12,-447.5 1482.12,-453.5 1476.12,-453.5\"/>\n<text text-anchor=\"start\" x=\"1325.62\" y=\"-436.2\" font-family=\"Helvetica,sans-Serif\" font-size=\"14.00\">Book Intro Chapter ≤ 3.5</text>\n<text text-anchor=\"start\" x=\"1353\" y=\"-419.7\" font-family=\"Helvetica,sans-Serif\" font-size=\"14.00\">entropy = 0.887</text>\n<text text-anchor=\"start\" x=\"1359.75\" y=\"-403.2\" font-family=\"Helvetica,sans-Serif\" font-size=\"14.00\">samples = 23</text>\n<text text-anchor=\"start\" x=\"1358.62\" y=\"-386.7\" font-family=\"Helvetica,sans-Serif\" font-size=\"14.00\">value = [16, 7]</text>\n<text text-anchor=\"start\" x=\"1363.12\" y=\"-370.2\" font-family=\"Helvetica,sans-Serif\" font-size=\"14.00\">class = Alive</text>\n</g>\n<!-- 42&#45;&gt;43 -->\n<g id=\"edge43\" class=\"edge\">\n<title>42&#45;&gt;43</title>\n<path fill=\"none\" stroke=\"black\" d=\"M1402.88,-489.15C1402.88,-481.47 1402.88,-473.39 1402.88,-465.44\"/>\n<polygon fill=\"black\" stroke=\"black\" points=\"1406.38,-465.47 1402.88,-455.47 1399.38,-465.47 1406.38,-465.47\"/>\n</g>\n<!-- 46 -->\n<g id=\"node47\" class=\"node\">\n<title>46</title>\n<path fill=\"#e58139\" stroke=\"black\" d=\"M1593.5,-445.25C1593.5,-445.25 1518.25,-445.25 1518.25,-445.25 1512.25,-445.25 1506.25,-439.25 1506.25,-433.25 1506.25,-433.25 1506.25,-383.25 1506.25,-383.25 1506.25,-377.25 1512.25,-371.25 1518.25,-371.25 1518.25,-371.25 1593.5,-371.25 1593.5,-371.25 1599.5,-371.25 1605.5,-377.25 1605.5,-383.25 1605.5,-383.25 1605.5,-433.25 1605.5,-433.25 1605.5,-439.25 1599.5,-445.25 1593.5,-445.25\"/>\n<text text-anchor=\"start\" x=\"1514.25\" y=\"-427.95\" font-family=\"Helvetica,sans-Serif\" font-size=\"14.00\">entropy = 0.0</text>\n<text text-anchor=\"start\" x=\"1516.88\" y=\"-411.45\" font-family=\"Helvetica,sans-Serif\" font-size=\"14.00\">samples = 5</text>\n<text text-anchor=\"start\" x=\"1515.75\" y=\"-394.95\" font-family=\"Helvetica,sans-Serif\" font-size=\"14.00\">value = [5, 0]</text>\n<text text-anchor=\"start\" x=\"1516.12\" y=\"-378.45\" font-family=\"Helvetica,sans-Serif\" font-size=\"14.00\">class = Alive</text>\n</g>\n<!-- 42&#45;&gt;46 -->\n<g id=\"edge46\" class=\"edge\">\n<title>42&#45;&gt;46</title>\n<path fill=\"none\" stroke=\"black\" d=\"M1457.68,-489.15C1472.31,-477.25 1488.09,-464.41 1502.63,-452.58\"/>\n<polygon fill=\"black\" stroke=\"black\" points=\"1504.78,-455.34 1510.33,-446.31 1500.36,-449.91 1504.78,-455.34\"/>\n</g>\n<!-- 44 -->\n<g id=\"node45\" class=\"node\">\n<title>44</title>\n<path fill=\"#ffffff\" stroke=\"black\" d=\"M1377.5,-318.75C1377.5,-318.75 1302.25,-318.75 1302.25,-318.75 1296.25,-318.75 1290.25,-312.75 1290.25,-306.75 1290.25,-306.75 1290.25,-256.75 1290.25,-256.75 1290.25,-250.75 1296.25,-244.75 1302.25,-244.75 1302.25,-244.75 1377.5,-244.75 1377.5,-244.75 1383.5,-244.75 1389.5,-250.75 1389.5,-256.75 1389.5,-256.75 1389.5,-306.75 1389.5,-306.75 1389.5,-312.75 1383.5,-318.75 1377.5,-318.75\"/>\n<text text-anchor=\"start\" x=\"1298.25\" y=\"-301.45\" font-family=\"Helvetica,sans-Serif\" font-size=\"14.00\">entropy = 1.0</text>\n<text text-anchor=\"start\" x=\"1300.88\" y=\"-284.95\" font-family=\"Helvetica,sans-Serif\" font-size=\"14.00\">samples = 6</text>\n<text text-anchor=\"start\" x=\"1299.75\" y=\"-268.45\" font-family=\"Helvetica,sans-Serif\" font-size=\"14.00\">value = [3, 3]</text>\n<text text-anchor=\"start\" x=\"1300.12\" y=\"-251.95\" font-family=\"Helvetica,sans-Serif\" font-size=\"14.00\">class = Alive</text>\n</g>\n<!-- 43&#45;&gt;44 -->\n<g id=\"edge44\" class=\"edge\">\n<title>43&#45;&gt;44</title>\n<path fill=\"none\" stroke=\"black\" d=\"M1380.31,-362.65C1374.8,-351.76 1368.89,-340.08 1363.33,-329.11\"/>\n<polygon fill=\"black\" stroke=\"black\" points=\"1366.47,-327.55 1358.83,-320.21 1360.22,-330.71 1366.47,-327.55\"/>\n</g>\n<!-- 45 -->\n<g id=\"node46\" class=\"node\">\n<title>45</title>\n<path fill=\"#eda876\" stroke=\"black\" d=\"M1511.75,-318.75C1511.75,-318.75 1420,-318.75 1420,-318.75 1414,-318.75 1408,-312.75 1408,-306.75 1408,-306.75 1408,-256.75 1408,-256.75 1408,-250.75 1414,-244.75 1420,-244.75 1420,-244.75 1511.75,-244.75 1511.75,-244.75 1517.75,-244.75 1523.75,-250.75 1523.75,-256.75 1523.75,-256.75 1523.75,-306.75 1523.75,-306.75 1523.75,-312.75 1517.75,-318.75 1511.75,-318.75\"/>\n<text text-anchor=\"start\" x=\"1416\" y=\"-301.45\" font-family=\"Helvetica,sans-Serif\" font-size=\"14.00\">entropy = 0.787</text>\n<text text-anchor=\"start\" x=\"1422.75\" y=\"-284.95\" font-family=\"Helvetica,sans-Serif\" font-size=\"14.00\">samples = 17</text>\n<text text-anchor=\"start\" x=\"1421.62\" y=\"-268.45\" font-family=\"Helvetica,sans-Serif\" font-size=\"14.00\">value = [13, 4]</text>\n<text text-anchor=\"start\" x=\"1426.12\" y=\"-251.95\" font-family=\"Helvetica,sans-Serif\" font-size=\"14.00\">class = Alive</text>\n</g>\n<!-- 43&#45;&gt;45 -->\n<g id=\"edge45\" class=\"edge\">\n<title>43&#45;&gt;45</title>\n<path fill=\"none\" stroke=\"black\" d=\"M1425.44,-362.65C1430.95,-351.76 1436.86,-340.08 1442.42,-329.11\"/>\n<polygon fill=\"black\" stroke=\"black\" points=\"1445.53,-330.71 1446.92,-320.21 1439.28,-327.55 1445.53,-330.71\"/>\n</g>\n<!-- 51 -->\n<g id=\"node52\" class=\"node\">\n<title>51</title>\n<path fill=\"#e99254\" stroke=\"black\" d=\"M1822.25,-833C1822.25,-833 1655.5,-833 1655.5,-833 1649.5,-833 1643.5,-827 1643.5,-821 1643.5,-821 1643.5,-754.5 1643.5,-754.5 1643.5,-748.5 1649.5,-742.5 1655.5,-742.5 1655.5,-742.5 1822.25,-742.5 1822.25,-742.5 1828.25,-742.5 1834.25,-748.5 1834.25,-754.5 1834.25,-754.5 1834.25,-821 1834.25,-821 1834.25,-827 1828.25,-833 1822.25,-833\"/>\n<text text-anchor=\"start\" x=\"1651.5\" y=\"-815.7\" font-family=\"Helvetica,sans-Serif\" font-size=\"14.00\">Allegiances_Lannister ≤ 0.5</text>\n<text text-anchor=\"start\" x=\"1689\" y=\"-799.2\" font-family=\"Helvetica,sans-Serif\" font-size=\"14.00\">entropy = 0.528</text>\n<text text-anchor=\"start\" x=\"1695.75\" y=\"-782.7\" font-family=\"Helvetica,sans-Serif\" font-size=\"14.00\">samples = 67</text>\n<text text-anchor=\"start\" x=\"1694.62\" y=\"-766.2\" font-family=\"Helvetica,sans-Serif\" font-size=\"14.00\">value = [59, 8]</text>\n<text text-anchor=\"start\" x=\"1699.12\" y=\"-749.7\" font-family=\"Helvetica,sans-Serif\" font-size=\"14.00\">class = Alive</text>\n</g>\n<!-- 50&#45;&gt;51 -->\n<g id=\"edge51\" class=\"edge\">\n<title>50&#45;&gt;51</title>\n<path fill=\"none\" stroke=\"black\" d=\"M1738.88,-868.65C1738.88,-860.97 1738.88,-852.89 1738.88,-844.94\"/>\n<polygon fill=\"black\" stroke=\"black\" points=\"1742.38,-844.97 1738.88,-834.97 1735.38,-844.97 1742.38,-844.97\"/>\n</g>\n<!-- 62 -->\n<g id=\"node63\" class=\"node\">\n<title>62</title>\n<path fill=\"#e58139\" stroke=\"black\" d=\"M1939.5,-824.75C1939.5,-824.75 1864.25,-824.75 1864.25,-824.75 1858.25,-824.75 1852.25,-818.75 1852.25,-812.75 1852.25,-812.75 1852.25,-762.75 1852.25,-762.75 1852.25,-756.75 1858.25,-750.75 1864.25,-750.75 1864.25,-750.75 1939.5,-750.75 1939.5,-750.75 1945.5,-750.75 1951.5,-756.75 1951.5,-762.75 1951.5,-762.75 1951.5,-812.75 1951.5,-812.75 1951.5,-818.75 1945.5,-824.75 1939.5,-824.75\"/>\n<text text-anchor=\"start\" x=\"1860.25\" y=\"-807.45\" font-family=\"Helvetica,sans-Serif\" font-size=\"14.00\">entropy = 0.0</text>\n<text text-anchor=\"start\" x=\"1862.88\" y=\"-790.95\" font-family=\"Helvetica,sans-Serif\" font-size=\"14.00\">samples = 5</text>\n<text text-anchor=\"start\" x=\"1861.75\" y=\"-774.45\" font-family=\"Helvetica,sans-Serif\" font-size=\"14.00\">value = [5, 0]</text>\n<text text-anchor=\"start\" x=\"1862.12\" y=\"-757.95\" font-family=\"Helvetica,sans-Serif\" font-size=\"14.00\">class = Alive</text>\n</g>\n<!-- 50&#45;&gt;62 -->\n<g id=\"edge62\" class=\"edge\">\n<title>50&#45;&gt;62</title>\n<path fill=\"none\" stroke=\"black\" d=\"M1797.26,-868.65C1812.92,-856.7 1829.81,-843.79 1845.36,-831.92\"/>\n<polygon fill=\"black\" stroke=\"black\" points=\"1847.32,-834.83 1853.14,-825.97 1843.07,-829.26 1847.32,-834.83\"/>\n</g>\n<!-- 52 -->\n<g id=\"node53\" class=\"node\">\n<title>52</title>\n<path fill=\"#e9965a\" stroke=\"black\" d=\"M1813.25,-706.5C1813.25,-706.5 1658.5,-706.5 1658.5,-706.5 1652.5,-706.5 1646.5,-700.5 1646.5,-694.5 1646.5,-694.5 1646.5,-628 1646.5,-628 1646.5,-622 1652.5,-616 1658.5,-616 1658.5,-616 1813.25,-616 1813.25,-616 1819.25,-616 1825.25,-622 1825.25,-628 1825.25,-628 1825.25,-694.5 1825.25,-694.5 1825.25,-700.5 1819.25,-706.5 1813.25,-706.5\"/>\n<text text-anchor=\"start\" x=\"1654.5\" y=\"-689.2\" font-family=\"Helvetica,sans-Serif\" font-size=\"14.00\">Book Intro Chapter ≤ 50.5</text>\n<text text-anchor=\"start\" x=\"1686\" y=\"-672.7\" font-family=\"Helvetica,sans-Serif\" font-size=\"14.00\">entropy = 0.592</text>\n<text text-anchor=\"start\" x=\"1692.75\" y=\"-656.2\" font-family=\"Helvetica,sans-Serif\" font-size=\"14.00\">samples = 49</text>\n<text text-anchor=\"start\" x=\"1691.62\" y=\"-639.7\" font-family=\"Helvetica,sans-Serif\" font-size=\"14.00\">value = [42, 7]</text>\n<text text-anchor=\"start\" x=\"1696.12\" y=\"-623.2\" font-family=\"Helvetica,sans-Serif\" font-size=\"14.00\">class = Alive</text>\n</g>\n<!-- 51&#45;&gt;52 -->\n<g id=\"edge52\" class=\"edge\">\n<title>51&#45;&gt;52</title>\n<path fill=\"none\" stroke=\"black\" d=\"M1737.8,-742.15C1737.62,-734.47 1737.42,-726.39 1737.23,-718.44\"/>\n<polygon fill=\"black\" stroke=\"black\" points=\"1740.73,-718.38 1736.99,-708.47 1733.73,-718.55 1740.73,-718.38\"/>\n</g>\n<!-- 61 -->\n<g id=\"node62\" class=\"node\">\n<title>61</title>\n<path fill=\"#e78845\" stroke=\"black\" d=\"M1938.62,-698.25C1938.62,-698.25 1855.12,-698.25 1855.12,-698.25 1849.12,-698.25 1843.12,-692.25 1843.12,-686.25 1843.12,-686.25 1843.12,-636.25 1843.12,-636.25 1843.12,-630.25 1849.12,-624.25 1855.12,-624.25 1855.12,-624.25 1938.62,-624.25 1938.62,-624.25 1944.62,-624.25 1950.62,-630.25 1950.62,-636.25 1950.62,-636.25 1950.62,-686.25 1950.62,-686.25 1950.62,-692.25 1944.62,-698.25 1938.62,-698.25\"/>\n<text text-anchor=\"start\" x=\"1851.12\" y=\"-680.95\" font-family=\"Helvetica,sans-Serif\" font-size=\"14.00\">entropy = 0.31</text>\n<text text-anchor=\"start\" x=\"1853.75\" y=\"-664.45\" font-family=\"Helvetica,sans-Serif\" font-size=\"14.00\">samples = 18</text>\n<text text-anchor=\"start\" x=\"1852.62\" y=\"-647.95\" font-family=\"Helvetica,sans-Serif\" font-size=\"14.00\">value = [17, 1]</text>\n<text text-anchor=\"start\" x=\"1857.12\" y=\"-631.45\" font-family=\"Helvetica,sans-Serif\" font-size=\"14.00\">class = Alive</text>\n</g>\n<!-- 51&#45;&gt;61 -->\n<g id=\"edge61\" class=\"edge\">\n<title>51&#45;&gt;61</title>\n<path fill=\"none\" stroke=\"black\" d=\"M1795.47,-742.15C1810.64,-730.2 1827.02,-717.29 1842.09,-705.42\"/>\n<polygon fill=\"black\" stroke=\"black\" points=\"1843.92,-708.43 1849.61,-699.49 1839.59,-702.93 1843.92,-708.43\"/>\n</g>\n<!-- 53 -->\n<g id=\"node54\" class=\"node\">\n<title>53</title>\n<path fill=\"#e89152\" stroke=\"black\" d=\"M1756.75,-580C1756.75,-580 1665,-580 1665,-580 1659,-580 1653,-574 1653,-568 1653,-568 1653,-501.5 1653,-501.5 1653,-495.5 1659,-489.5 1665,-489.5 1665,-489.5 1756.75,-489.5 1756.75,-489.5 1762.75,-489.5 1768.75,-495.5 1768.75,-501.5 1768.75,-501.5 1768.75,-568 1768.75,-568 1768.75,-574 1762.75,-580 1756.75,-580\"/>\n<text text-anchor=\"start\" x=\"1669.25\" y=\"-562.7\" font-family=\"Helvetica,sans-Serif\" font-size=\"14.00\">Gender ≤ 0.5</text>\n<text text-anchor=\"start\" x=\"1661\" y=\"-546.2\" font-family=\"Helvetica,sans-Serif\" font-size=\"14.00\">entropy = 0.511</text>\n<text text-anchor=\"start\" x=\"1667.75\" y=\"-529.7\" font-family=\"Helvetica,sans-Serif\" font-size=\"14.00\">samples = 44</text>\n<text text-anchor=\"start\" x=\"1666.62\" y=\"-513.2\" font-family=\"Helvetica,sans-Serif\" font-size=\"14.00\">value = [39, 5]</text>\n<text text-anchor=\"start\" x=\"1671.12\" y=\"-496.7\" font-family=\"Helvetica,sans-Serif\" font-size=\"14.00\">class = Alive</text>\n</g>\n<!-- 52&#45;&gt;53 -->\n<g id=\"edge53\" class=\"edge\">\n<title>52&#45;&gt;53</title>\n<path fill=\"none\" stroke=\"black\" d=\"M1726.92,-615.65C1725.36,-607.88 1723.72,-599.7 1722.1,-591.66\"/>\n<polygon fill=\"black\" stroke=\"black\" points=\"1725.55,-591.05 1720.15,-581.94 1718.69,-592.43 1725.55,-591.05\"/>\n</g>\n<!-- 60 -->\n<g id=\"node61\" class=\"node\">\n<title>60</title>\n<path fill=\"#f6d5bd\" stroke=\"black\" d=\"M1890.75,-571.75C1890.75,-571.75 1799,-571.75 1799,-571.75 1793,-571.75 1787,-565.75 1787,-559.75 1787,-559.75 1787,-509.75 1787,-509.75 1787,-503.75 1793,-497.75 1799,-497.75 1799,-497.75 1890.75,-497.75 1890.75,-497.75 1896.75,-497.75 1902.75,-503.75 1902.75,-509.75 1902.75,-509.75 1902.75,-559.75 1902.75,-559.75 1902.75,-565.75 1896.75,-571.75 1890.75,-571.75\"/>\n<text text-anchor=\"start\" x=\"1795\" y=\"-554.45\" font-family=\"Helvetica,sans-Serif\" font-size=\"14.00\">entropy = 0.971</text>\n<text text-anchor=\"start\" x=\"1805.88\" y=\"-537.95\" font-family=\"Helvetica,sans-Serif\" font-size=\"14.00\">samples = 5</text>\n<text text-anchor=\"start\" x=\"1804.75\" y=\"-521.45\" font-family=\"Helvetica,sans-Serif\" font-size=\"14.00\">value = [3, 2]</text>\n<text text-anchor=\"start\" x=\"1805.12\" y=\"-504.95\" font-family=\"Helvetica,sans-Serif\" font-size=\"14.00\">class = Alive</text>\n</g>\n<!-- 52&#45;&gt;60 -->\n<g id=\"edge60\" class=\"edge\">\n<title>52&#45;&gt;60</title>\n<path fill=\"none\" stroke=\"black\" d=\"M1774.92,-615.65C1784.95,-604.2 1795.74,-591.88 1805.77,-580.42\"/>\n<polygon fill=\"black\" stroke=\"black\" points=\"1808.31,-582.82 1812.27,-572.99 1803.05,-578.21 1808.31,-582.82\"/>\n</g>\n<!-- 54 -->\n<g id=\"node55\" class=\"node\">\n<title>54</title>\n<path fill=\"#e58139\" stroke=\"black\" d=\"M1734.12,-445.25C1734.12,-445.25 1653.62,-445.25 1653.62,-445.25 1647.62,-445.25 1641.62,-439.25 1641.62,-433.25 1641.62,-433.25 1641.62,-383.25 1641.62,-383.25 1641.62,-377.25 1647.62,-371.25 1653.62,-371.25 1653.62,-371.25 1734.12,-371.25 1734.12,-371.25 1740.12,-371.25 1746.12,-377.25 1746.12,-383.25 1746.12,-383.25 1746.12,-433.25 1746.12,-433.25 1746.12,-439.25 1740.12,-445.25 1734.12,-445.25\"/>\n<text text-anchor=\"start\" x=\"1652.25\" y=\"-427.95\" font-family=\"Helvetica,sans-Serif\" font-size=\"14.00\">entropy = 0.0</text>\n<text text-anchor=\"start\" x=\"1650.75\" y=\"-411.45\" font-family=\"Helvetica,sans-Serif\" font-size=\"14.00\">samples = 12</text>\n<text text-anchor=\"start\" x=\"1649.62\" y=\"-394.95\" font-family=\"Helvetica,sans-Serif\" font-size=\"14.00\">value = [12, 0]</text>\n<text text-anchor=\"start\" x=\"1654.12\" y=\"-378.45\" font-family=\"Helvetica,sans-Serif\" font-size=\"14.00\">class = Alive</text>\n</g>\n<!-- 53&#45;&gt;54 -->\n<g id=\"edge54\" class=\"edge\">\n<title>53&#45;&gt;54</title>\n<path fill=\"none\" stroke=\"black\" d=\"M1704.79,-489.15C1703.34,-478.6 1701.8,-467.31 1700.34,-456.63\"/>\n<polygon fill=\"black\" stroke=\"black\" points=\"1703.83,-456.29 1699.01,-446.86 1696.9,-457.24 1703.83,-456.29\"/>\n</g>\n<!-- 55 -->\n<g id=\"node56\" class=\"node\">\n<title>55</title>\n<path fill=\"#ea985e\" stroke=\"black\" d=\"M1931.25,-453.5C1931.25,-453.5 1776.5,-453.5 1776.5,-453.5 1770.5,-453.5 1764.5,-447.5 1764.5,-441.5 1764.5,-441.5 1764.5,-375 1764.5,-375 1764.5,-369 1770.5,-363 1776.5,-363 1776.5,-363 1931.25,-363 1931.25,-363 1937.25,-363 1943.25,-369 1943.25,-375 1943.25,-375 1943.25,-441.5 1943.25,-441.5 1943.25,-447.5 1937.25,-453.5 1931.25,-453.5\"/>\n<text text-anchor=\"start\" x=\"1772.5\" y=\"-436.2\" font-family=\"Helvetica,sans-Serif\" font-size=\"14.00\">Book Intro Chapter ≤ 16.0</text>\n<text text-anchor=\"start\" x=\"1804\" y=\"-419.7\" font-family=\"Helvetica,sans-Serif\" font-size=\"14.00\">entropy = 0.625</text>\n<text text-anchor=\"start\" x=\"1810.75\" y=\"-403.2\" font-family=\"Helvetica,sans-Serif\" font-size=\"14.00\">samples = 32</text>\n<text text-anchor=\"start\" x=\"1809.62\" y=\"-386.7\" font-family=\"Helvetica,sans-Serif\" font-size=\"14.00\">value = [27, 5]</text>\n<text text-anchor=\"start\" x=\"1814.12\" y=\"-370.2\" font-family=\"Helvetica,sans-Serif\" font-size=\"14.00\">class = Alive</text>\n</g>\n<!-- 53&#45;&gt;55 -->\n<g id=\"edge55\" class=\"edge\">\n<title>53&#45;&gt;55</title>\n<path fill=\"none\" stroke=\"black\" d=\"M1762.1,-489.15C1772.47,-480.13 1783.46,-470.56 1794.09,-461.3\"/>\n<polygon fill=\"black\" stroke=\"black\" points=\"1796.14,-464.15 1801.39,-454.95 1791.55,-458.87 1796.14,-464.15\"/>\n</g>\n<!-- 56 -->\n<g id=\"node57\" class=\"node\">\n<title>56</title>\n<path fill=\"#f6d5bd\" stroke=\"black\" d=\"M1832.75,-318.75C1832.75,-318.75 1741,-318.75 1741,-318.75 1735,-318.75 1729,-312.75 1729,-306.75 1729,-306.75 1729,-256.75 1729,-256.75 1729,-250.75 1735,-244.75 1741,-244.75 1741,-244.75 1832.75,-244.75 1832.75,-244.75 1838.75,-244.75 1844.75,-250.75 1844.75,-256.75 1844.75,-256.75 1844.75,-306.75 1844.75,-306.75 1844.75,-312.75 1838.75,-318.75 1832.75,-318.75\"/>\n<text text-anchor=\"start\" x=\"1737\" y=\"-301.45\" font-family=\"Helvetica,sans-Serif\" font-size=\"14.00\">entropy = 0.971</text>\n<text text-anchor=\"start\" x=\"1743.75\" y=\"-284.95\" font-family=\"Helvetica,sans-Serif\" font-size=\"14.00\">samples = 10</text>\n<text text-anchor=\"start\" x=\"1746.75\" y=\"-268.45\" font-family=\"Helvetica,sans-Serif\" font-size=\"14.00\">value = [6, 4]</text>\n<text text-anchor=\"start\" x=\"1747.12\" y=\"-251.95\" font-family=\"Helvetica,sans-Serif\" font-size=\"14.00\">class = Alive</text>\n</g>\n<!-- 55&#45;&gt;56 -->\n<g id=\"edge56\" class=\"edge\">\n<title>55&#45;&gt;56</title>\n<path fill=\"none\" stroke=\"black\" d=\"M1829.88,-362.65C1823.95,-351.65 1817.6,-339.84 1811.64,-328.77\"/>\n<polygon fill=\"black\" stroke=\"black\" points=\"1814.84,-327.34 1807.02,-320.19 1808.68,-330.65 1814.84,-327.34\"/>\n</g>\n<!-- 57 -->\n<g id=\"node58\" class=\"node\">\n<title>57</title>\n<path fill=\"#e68742\" stroke=\"black\" d=\"M1966.75,-327C1966.75,-327 1875,-327 1875,-327 1869,-327 1863,-321 1863,-315 1863,-315 1863,-248.5 1863,-248.5 1863,-242.5 1869,-236.5 1875,-236.5 1875,-236.5 1966.75,-236.5 1966.75,-236.5 1972.75,-236.5 1978.75,-242.5 1978.75,-248.5 1978.75,-248.5 1978.75,-315 1978.75,-315 1978.75,-321 1972.75,-327 1966.75,-327\"/>\n<text text-anchor=\"start\" x=\"1889.38\" y=\"-309.7\" font-family=\"Helvetica,sans-Serif\" font-size=\"14.00\">SoS ≤ 0.5</text>\n<text text-anchor=\"start\" x=\"1871\" y=\"-293.2\" font-family=\"Helvetica,sans-Serif\" font-size=\"14.00\">entropy = 0.267</text>\n<text text-anchor=\"start\" x=\"1877.75\" y=\"-276.7\" font-family=\"Helvetica,sans-Serif\" font-size=\"14.00\">samples = 22</text>\n<text text-anchor=\"start\" x=\"1876.62\" y=\"-260.2\" font-family=\"Helvetica,sans-Serif\" font-size=\"14.00\">value = [21, 1]</text>\n<text text-anchor=\"start\" x=\"1881.12\" y=\"-243.7\" font-family=\"Helvetica,sans-Serif\" font-size=\"14.00\">class = Alive</text>\n</g>\n<!-- 55&#45;&gt;57 -->\n<g id=\"edge57\" class=\"edge\">\n<title>55&#45;&gt;57</title>\n<path fill=\"none\" stroke=\"black\" d=\"M1877.87,-362.65C1882.25,-354.52 1886.87,-345.95 1891.38,-337.55\"/>\n<polygon fill=\"black\" stroke=\"black\" points=\"1894.44,-339.25 1896.1,-328.79 1888.28,-335.93 1894.44,-339.25\"/>\n</g>\n<!-- 58 -->\n<g id=\"node59\" class=\"node\">\n<title>58</title>\n<path fill=\"#e58139\" stroke=\"black\" d=\"M1899.12,-192.25C1899.12,-192.25 1818.62,-192.25 1818.62,-192.25 1812.62,-192.25 1806.62,-186.25 1806.62,-180.25 1806.62,-180.25 1806.62,-130.25 1806.62,-130.25 1806.62,-124.25 1812.62,-118.25 1818.62,-118.25 1818.62,-118.25 1899.12,-118.25 1899.12,-118.25 1905.12,-118.25 1911.12,-124.25 1911.12,-130.25 1911.12,-130.25 1911.12,-180.25 1911.12,-180.25 1911.12,-186.25 1905.12,-192.25 1899.12,-192.25\"/>\n<text text-anchor=\"start\" x=\"1817.25\" y=\"-174.95\" font-family=\"Helvetica,sans-Serif\" font-size=\"14.00\">entropy = 0.0</text>\n<text text-anchor=\"start\" x=\"1815.75\" y=\"-158.45\" font-family=\"Helvetica,sans-Serif\" font-size=\"14.00\">samples = 16</text>\n<text text-anchor=\"start\" x=\"1814.62\" y=\"-141.95\" font-family=\"Helvetica,sans-Serif\" font-size=\"14.00\">value = [16, 0]</text>\n<text text-anchor=\"start\" x=\"1819.12\" y=\"-125.45\" font-family=\"Helvetica,sans-Serif\" font-size=\"14.00\">class = Alive</text>\n</g>\n<!-- 57&#45;&gt;58 -->\n<g id=\"edge58\" class=\"edge\">\n<title>57&#45;&gt;58</title>\n<path fill=\"none\" stroke=\"black\" d=\"M1898.67,-236.15C1893.24,-225.26 1887.43,-213.58 1881.96,-202.61\"/>\n<polygon fill=\"black\" stroke=\"black\" points=\"1885.12,-201.1 1877.53,-193.71 1878.85,-204.22 1885.12,-201.1\"/>\n</g>\n<!-- 59 -->\n<g id=\"node60\" class=\"node\">\n<title>59</title>\n<path fill=\"#ea9a61\" stroke=\"black\" d=\"M2024.62,-192.25C2024.62,-192.25 1941.12,-192.25 1941.12,-192.25 1935.12,-192.25 1929.12,-186.25 1929.12,-180.25 1929.12,-180.25 1929.12,-130.25 1929.12,-130.25 1929.12,-124.25 1935.12,-118.25 1941.12,-118.25 1941.12,-118.25 2024.62,-118.25 2024.62,-118.25 2030.62,-118.25 2036.62,-124.25 2036.62,-130.25 2036.62,-130.25 2036.62,-180.25 2036.62,-180.25 2036.62,-186.25 2030.62,-192.25 2024.62,-192.25\"/>\n<text text-anchor=\"start\" x=\"1937.12\" y=\"-174.95\" font-family=\"Helvetica,sans-Serif\" font-size=\"14.00\">entropy = 0.65</text>\n<text text-anchor=\"start\" x=\"1943.88\" y=\"-158.45\" font-family=\"Helvetica,sans-Serif\" font-size=\"14.00\">samples = 6</text>\n<text text-anchor=\"start\" x=\"1942.75\" y=\"-141.95\" font-family=\"Helvetica,sans-Serif\" font-size=\"14.00\">value = [5, 1]</text>\n<text text-anchor=\"start\" x=\"1943.12\" y=\"-125.45\" font-family=\"Helvetica,sans-Serif\" font-size=\"14.00\">class = Alive</text>\n</g>\n<!-- 57&#45;&gt;59 -->\n<g id=\"edge59\" class=\"edge\">\n<title>57&#45;&gt;59</title>\n<path fill=\"none\" stroke=\"black\" d=\"M1943.08,-236.15C1948.51,-225.26 1954.32,-213.58 1959.79,-202.61\"/>\n<polygon fill=\"black\" stroke=\"black\" points=\"1962.9,-204.22 1964.22,-193.71 1956.63,-201.1 1962.9,-204.22\"/>\n</g>\n</g>\n</svg>\n",
      "text/plain": [
       "<graphviz.sources.Source at 0x158f7258a90>"
      ]
     },
     "execution_count": 585,
     "metadata": {},
     "output_type": "execute_result"
    }
   ],
   "execution_count": 585
  },
  {
   "cell_type": "markdown",
   "source": "# <div style=\"font-family: 'Garamond', serif; font-size: 22px; color: #ffffff; background-color: #34568B; text-align: center; padding: 15px; border-radius: 10px; border: 2px solid #FF6F61; box-shadow: 0 6px 12px rgba(0, 0, 0, 0.3); margin-bottom: 20px;\">Step 5: Make predictions on the test set</div>",
   "metadata": {}
  },
  {
   "cell_type": "markdown",
   "source": "<div style=\"font-family: 'Lucida Sans Unicode', sans-serif; font-size: 18px; color: #4A235A; background-color: #D7BDE2; text-align: left; padding: 10px; border-left: 5px solid #7D3C98; box-shadow: 0 4px 6px rgba(0, 0, 0, 0.2); margin-bottom: 10px;\">Create the submission file and check the format</div>",
   "metadata": {}
  },
  {
   "cell_type": "code",
   "source": "# Load the test dataset\ntest_data_path = os.path.join(extract_folder_path, 'test.csv')\ntest_data = pd.read_csv(test_data_path)\n\n# Build test features to match training\ntest_X = test_data.drop(columns=['Character', 'Name'], errors='ignore')\ntest_X = test_X.fillna(0)\ntest_X[categorical_cols] = test_X[categorical_cols].astype(str)\n\n# Preprocessing of test data, make predictions\ntest_predictions = dt_pipeline.predict(test_X)  # 0 = Alive, 1 = Dead\n\n# Load the sample submission file to compare formats\nsample_submission_path = os.path.join(extract_folder_path, 'sample_submission.csv')\nsample_submission = pd.read_csv(sample_submission_path)\n\n# Create the submission DataFrame\nsubmission = pd.DataFrame({\n    'Character': test_data['Character'],\n    'Death': test_predictions.astype(int)\n})\n\n# See if the submission format matches the sample submission\nprint('Submission shape:', submission.shape)\nprint('Sample submission shape:', sample_submission.shape)\n\nprint('submission head:')\nprint(submission.head())\n\nprint('sample submission head:')\nprint(sample_submission.head())",
   "metadata": {
    "ExecuteTime": {
     "end_time": "2025-09-22T14:54:53.236629Z",
     "start_time": "2025-09-22T14:54:53.208425Z"
    }
   },
   "outputs": [
    {
     "name": "stdout",
     "output_type": "stream",
     "text": [
      "Submission shape: (230, 2)\n",
      "Sample submission shape: (230, 2)\n",
      "submission head:\n",
      "   Character  Death\n",
      "0        668      1\n",
      "1         30      1\n",
      "2        377      0\n",
      "3        535      0\n",
      "4        806      0\n",
      "sample submission head:\n",
      "   Character  Death\n",
      "0        668      0\n",
      "1         30      1\n",
      "2        377      0\n",
      "3        535      1\n",
      "4        806      1\n"
     ]
    }
   ],
   "execution_count": 586
  },
  {
   "cell_type": "markdown",
   "source": "<div style=\"font-family: 'Lucida Sans Unicode', sans-serif; font-size: 18px; color: #4A235A; background-color: #D7BDE2; text-align: left; padding: 10px; border-left: 5px solid #7D3C98; box-shadow: 0 4px 6px rgba(0, 0, 0, 0.2); margin-bottom: 10px;\">Save the submission file</div>",
   "metadata": {}
  },
  {
   "cell_type": "code",
   "source": "# Define the file path for the output CSV file\noutput_csv_path = 'submission.csv'\n\n# Save the output DataFrame to a CSV file\nsubmission.to_csv(output_csv_path, index=False)\n\n# Return the path of the saved file\noutput_csv_path",
   "metadata": {
    "ExecuteTime": {
     "end_time": "2025-09-22T14:54:53.346724Z",
     "start_time": "2025-09-22T14:54:53.332728Z"
    }
   },
   "outputs": [
    {
     "data": {
      "text/plain": [
       "'submission.csv'"
      ]
     },
     "execution_count": 587,
     "metadata": {},
     "output_type": "execute_result"
    }
   ],
   "execution_count": 587
  },
  {
   "cell_type": "code",
   "source": "",
   "metadata": {
    "ExecuteTime": {
     "end_time": "2025-09-22T14:54:53.455662Z",
     "start_time": "2025-09-22T14:54:53.440653Z"
    }
   },
   "outputs": [],
   "execution_count": null
  }
 ]
}
