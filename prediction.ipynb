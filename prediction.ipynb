{
 "metadata": {
  "kernelspec": {
   "display_name": ".venv (3.10.17)",
   "language": "python",
   "name": "python3"
  },
  "language_info": {
   "codemirror_mode": {
    "name": "ipython",
    "version": 3
   },
   "file_extension": ".py",
   "mimetype": "text/x-python",
   "name": "python",
   "nbconvert_exporter": "python",
   "pygments_lexer": "ipython3",
   "version": "3.10.17"
  },
  "kaggle": {
   "accelerator": "none",
   "dataSources": [
    {
     "sourceId": 39144,
     "databundleVersionId": 4295447,
     "sourceType": "competition"
    }
   ],
   "dockerImageVersionId": 31089,
   "isInternetEnabled": true,
   "language": "python",
   "sourceType": "notebook",
   "isGpuEnabled": false
  }
 },
 "nbformat_minor": 4,
 "nbformat": 4,
 "cells": [
  {
   "cell_type": "code",
   "source": "import os\n\nimport numpy as np\nimport pandas as pd\nfrom tqdm import tqdm\nfrom sklearn.model_selection import train_test_split, StratifiedKFold\nfrom sklearn.preprocessing import OneHotEncoder\nfrom sklearn.compose import ColumnTransformer\nfrom sklearn.pipeline import Pipeline\nfrom sklearn.metrics import accuracy_score, roc_auc_score\nfrom sklearn.model_selection import RandomizedSearchCV\n\nfrom sklearn.tree import DecisionTreeClassifier, export_graphviz\nfrom sklearn.metrics import confusion_matrix, precision_score, recall_score\nimport graphviz\n\ntqdm.pandas()",
   "metadata": {
    "execution": {
     "iopub.execute_input": "2025-09-05T02:34:48.510588Z",
     "iopub.status.busy": "2025-09-05T02:34:48.510299Z",
     "iopub.status.idle": "2025-09-05T02:34:48.516678Z",
     "shell.execute_reply": "2025-09-05T02:34:48.515226Z",
     "shell.execute_reply.started": "2025-09-05T02:34:48.510568Z"
    },
    "trusted": true,
    "ExecuteTime": {
     "end_time": "2025-09-22T15:04:20.049320Z",
     "start_time": "2025-09-22T15:04:20.035230Z"
    }
   },
   "outputs": [],
   "execution_count": 605
  },
  {
   "cell_type": "markdown",
   "source": "# <div style=\"font-family: 'Garamond', serif; font-size: 22px; color: #ffffff; background-color: #34568B; text-align: center; padding: 15px; border-radius: 10px; border: 2px solid #FF6F61; box-shadow: 0 6px 12px rgba(0, 0, 0, 0.3); margin-bottom: 20px;\">Step 1: Load the data</div>",
   "metadata": {}
  },
  {
   "cell_type": "markdown",
   "source": "## <div style=\"font-family: 'Lucida Sans Unicode', sans-serif; font-size: 18px; color: #4A235A; background-color: #D7BDE2; text-align: left; padding: 10px; border-left: 5px solid #7D3C98; box-shadow: 0 4px 6px rgba(0, 0, 0, 0.2); margin-bottom: 10px;\">Dataset Metadata</div>",
   "metadata": {}
  },
  {
   "cell_type": "markdown",
   "source": "### Overview\n\nThe dataset contains metadata about characters from *A Song of Ice and Fire*, including house allegiance, gender, nobility, appearances across books, and death-related information. Each row represents a single character.\n\nAll death-related columns may contain missing values if the character is alive.\n\n---\n\n### Data Dictionary\n\n| Variable           | Definition                          | Key                                                      |\n|--------------------|-------------------------------------|----------------------------------------------------------|\n| Name               | Character name                      | Text                                                     |\n| Allegiances        | Character house                     | Categorical; e.g., \"Wildling\", \"Night's Watch\"           |\n| Death Year         | Year character died                 | Integer or NaN (alive)                                   |\n| Book of Death      | Book character died                 | 1 = GoT, 2 = CoK, 3 = SoS, 4 = FfC, 5 = DwD; NaN = Alive |\n| Death Chapter      | Chapter in which the character died | Integer or NaN                                           |\n| Book Intro Chapter | Chapter character was introduced in | Integer                                                  |\n| Gender             | Gender                              | 1 = Male, 0 = Female                                     |\n| Nobility           | Social class                        | 1 = Noble, 0 = Commoner                                  |\n| GoT                | Appeared in *A Game of Thrones*     | 1 = Yes, 0 = No                                          |\n| CoK                | Appeared in *A Clash of Kings*      | 1 = Yes, 0 = No                                          |\n| SoS                | Appeared in *A Storm of Swords*     | 1 = Yes, 0 = No                                          |\n| FfC                | Appeared in *A Feast for Crows*     | 1 = Yes, 0 = No                                          |\n| DwD                | Appeared in *A Dance with Dragons*  | 1 = Yes, 0 = No                                          |\n\n---\n\n### Variable Notes\n\n- **Allegiances**: This field contains the name of the house or faction a character belongs to. Some characters may have no allegiance specified.\n\n- **Death Year**, **Book of Death**, **Death Chapter**: These columns are used to identify whether a character died, when, and where in the storyline. Missing values typically mean the character is still alive.\n\n- **Book Intro Chapter**: Indicates the chapter in which the character first appeared.\n\n- **GoT**, **CoK**, **SoS**, **FfC**, **DwD**: Binary indicators of whether the character appears in the corresponding book.\n\n- **Gender** and **Nobility**: Represent demographic and social status attributes of the characters. These are already encoded as binary features.",
   "metadata": {}
  },
  {
   "cell_type": "markdown",
   "source": "## <div style=\"font-family: 'Lucida Sans Unicode', sans-serif; font-size: 18px; color: #4A235A; background-color: #D7BDE2; text-align: left; padding: 10px; border-left: 5px solid #7D3C98; box-shadow: 0 4px 6px rgba(0, 0, 0, 0.2); margin-bottom: 10px;\">Load the data and display head</div>",
   "metadata": {}
  },
  {
   "cell_type": "code",
   "source": "# Check environment if in Kaggle\nextract_folder_path = '/kaggle/input/topic-test' if os.path.exists('/kaggle/input/topic-test') else './data'\n\n# Load the training data\ntrain_file_path = os.path.join(extract_folder_path, 'train.csv')\ntrain_data = pd.read_csv(train_file_path)\n\n# Displaying the first few rows of the dataset\ntrain_data.head()",
   "metadata": {
    "execution": {
     "iopub.execute_input": "2025-09-05T02:34:48.518748Z",
     "iopub.status.busy": "2025-09-05T02:34:48.518389Z",
     "iopub.status.idle": "2025-09-05T02:34:48.565466Z",
     "shell.execute_reply": "2025-09-05T02:34:48.564317Z",
     "shell.execute_reply.started": "2025-09-05T02:34:48.518720Z"
    },
    "trusted": true,
    "ExecuteTime": {
     "end_time": "2025-09-22T15:04:20.158230Z",
     "start_time": "2025-09-22T15:04:20.129231Z"
    }
   },
   "outputs": [
    {
     "data": {
      "text/plain": [
       "   Character                 Name    Allegiances  Death Year  Book of Death  \\\n",
       "0        155  Creighton Longbough            NaN         NaN            NaN   \n",
       "1        362        Howd Wanderer       Wildling         NaN            NaN   \n",
       "2        868                 Watt  Night's Watch       299.0            3.0   \n",
       "3        101               Borcas  Night's Watch         NaN            NaN   \n",
       "4        199               Donnis    House Stark         NaN            NaN   \n",
       "\n",
       "   Death Chapter  Book Intro Chapter  Gender  Nobility  GoT  CoK  SoS  FfC  \\\n",
       "0            NaN                 4.0       1         0    0    0    0    1   \n",
       "1            NaN                58.0       1         1    0    0    0    0   \n",
       "2           75.0                69.0       1         0    0    0    1    0   \n",
       "3            NaN                48.0       1         0    1    0    0    0   \n",
       "4            NaN                 7.0       1         0    1    0    0    0   \n",
       "\n",
       "   DwD  \n",
       "0    0  \n",
       "1    1  \n",
       "2    0  \n",
       "3    0  \n",
       "4    0  "
      ],
      "text/html": [
       "<div>\n",
       "<style scoped>\n",
       "    .dataframe tbody tr th:only-of-type {\n",
       "        vertical-align: middle;\n",
       "    }\n",
       "\n",
       "    .dataframe tbody tr th {\n",
       "        vertical-align: top;\n",
       "    }\n",
       "\n",
       "    .dataframe thead th {\n",
       "        text-align: right;\n",
       "    }\n",
       "</style>\n",
       "<table border=\"1\" class=\"dataframe\">\n",
       "  <thead>\n",
       "    <tr style=\"text-align: right;\">\n",
       "      <th></th>\n",
       "      <th>Character</th>\n",
       "      <th>Name</th>\n",
       "      <th>Allegiances</th>\n",
       "      <th>Death Year</th>\n",
       "      <th>Book of Death</th>\n",
       "      <th>Death Chapter</th>\n",
       "      <th>Book Intro Chapter</th>\n",
       "      <th>Gender</th>\n",
       "      <th>Nobility</th>\n",
       "      <th>GoT</th>\n",
       "      <th>CoK</th>\n",
       "      <th>SoS</th>\n",
       "      <th>FfC</th>\n",
       "      <th>DwD</th>\n",
       "    </tr>\n",
       "  </thead>\n",
       "  <tbody>\n",
       "    <tr>\n",
       "      <th>0</th>\n",
       "      <td>155</td>\n",
       "      <td>Creighton Longbough</td>\n",
       "      <td>NaN</td>\n",
       "      <td>NaN</td>\n",
       "      <td>NaN</td>\n",
       "      <td>NaN</td>\n",
       "      <td>4.0</td>\n",
       "      <td>1</td>\n",
       "      <td>0</td>\n",
       "      <td>0</td>\n",
       "      <td>0</td>\n",
       "      <td>0</td>\n",
       "      <td>1</td>\n",
       "      <td>0</td>\n",
       "    </tr>\n",
       "    <tr>\n",
       "      <th>1</th>\n",
       "      <td>362</td>\n",
       "      <td>Howd Wanderer</td>\n",
       "      <td>Wildling</td>\n",
       "      <td>NaN</td>\n",
       "      <td>NaN</td>\n",
       "      <td>NaN</td>\n",
       "      <td>58.0</td>\n",
       "      <td>1</td>\n",
       "      <td>1</td>\n",
       "      <td>0</td>\n",
       "      <td>0</td>\n",
       "      <td>0</td>\n",
       "      <td>0</td>\n",
       "      <td>1</td>\n",
       "    </tr>\n",
       "    <tr>\n",
       "      <th>2</th>\n",
       "      <td>868</td>\n",
       "      <td>Watt</td>\n",
       "      <td>Night's Watch</td>\n",
       "      <td>299.0</td>\n",
       "      <td>3.0</td>\n",
       "      <td>75.0</td>\n",
       "      <td>69.0</td>\n",
       "      <td>1</td>\n",
       "      <td>0</td>\n",
       "      <td>0</td>\n",
       "      <td>0</td>\n",
       "      <td>1</td>\n",
       "      <td>0</td>\n",
       "      <td>0</td>\n",
       "    </tr>\n",
       "    <tr>\n",
       "      <th>3</th>\n",
       "      <td>101</td>\n",
       "      <td>Borcas</td>\n",
       "      <td>Night's Watch</td>\n",
       "      <td>NaN</td>\n",
       "      <td>NaN</td>\n",
       "      <td>NaN</td>\n",
       "      <td>48.0</td>\n",
       "      <td>1</td>\n",
       "      <td>0</td>\n",
       "      <td>1</td>\n",
       "      <td>0</td>\n",
       "      <td>0</td>\n",
       "      <td>0</td>\n",
       "      <td>0</td>\n",
       "    </tr>\n",
       "    <tr>\n",
       "      <th>4</th>\n",
       "      <td>199</td>\n",
       "      <td>Donnis</td>\n",
       "      <td>House Stark</td>\n",
       "      <td>NaN</td>\n",
       "      <td>NaN</td>\n",
       "      <td>NaN</td>\n",
       "      <td>7.0</td>\n",
       "      <td>1</td>\n",
       "      <td>0</td>\n",
       "      <td>1</td>\n",
       "      <td>0</td>\n",
       "      <td>0</td>\n",
       "      <td>0</td>\n",
       "      <td>0</td>\n",
       "    </tr>\n",
       "  </tbody>\n",
       "</table>\n",
       "</div>"
      ]
     },
     "execution_count": 606,
     "metadata": {},
     "output_type": "execute_result"
    }
   ],
   "execution_count": 606
  },
  {
   "cell_type": "markdown",
   "source": "## <div style=\"font-family: 'Lucida Sans Unicode', sans-serif; font-size: 18px; color: #4A235A; background-color: #D7BDE2; text-align: left; padding: 10px; border-left: 5px solid #7D3C98; box-shadow: 0 4px 6px rgba(0, 0, 0, 0.2); margin-bottom: 10px;\">See the statistical summary of the dataset</div>",
   "metadata": {}
  },
  {
   "cell_type": "code",
   "source": "train_data.describe()",
   "metadata": {
    "ExecuteTime": {
     "end_time": "2025-09-22T15:04:20.235284Z",
     "start_time": "2025-09-22T15:04:20.205230Z"
    }
   },
   "outputs": [
    {
     "data": {
      "text/plain": [
       "        Character  Death Year  Book of Death  Death Chapter  \\\n",
       "count  687.000000  243.000000     245.000000     239.000000   \n",
       "mean   461.184862  299.164609       2.963265      39.167364   \n",
       "std    265.290576    0.702462       1.334703      20.313231   \n",
       "min      0.000000  297.000000       1.000000       0.000000   \n",
       "25%    225.500000  299.000000       2.000000      23.500000   \n",
       "50%    466.000000  299.000000       3.000000      37.000000   \n",
       "75%    692.500000  300.000000       4.000000      56.000000   \n",
       "max    916.000000  300.000000       5.000000      77.000000   \n",
       "\n",
       "       Book Intro Chapter      Gender    Nobility         GoT         CoK  \\\n",
       "count          676.000000  687.000000  687.000000  687.000000  687.000000   \n",
       "mean            28.766272    0.850073    0.454148    0.282387    0.352256   \n",
       "std             19.795064    0.357260    0.498256    0.450489    0.478021   \n",
       "min              0.000000    0.000000    0.000000    0.000000    0.000000   \n",
       "25%             12.000000    1.000000    0.000000    0.000000    0.000000   \n",
       "50%             28.000000    1.000000    0.000000    0.000000    0.000000   \n",
       "75%             42.250000    1.000000    1.000000    1.000000    1.000000   \n",
       "max             80.000000    1.000000    1.000000    1.000000    1.000000   \n",
       "\n",
       "              SoS         FfC         DwD  \n",
       "count  687.000000  687.000000  687.000000  \n",
       "mean     0.429403    0.264920    0.276565  \n",
       "std      0.495352    0.441612    0.447625  \n",
       "min      0.000000    0.000000    0.000000  \n",
       "25%      0.000000    0.000000    0.000000  \n",
       "50%      0.000000    0.000000    0.000000  \n",
       "75%      1.000000    1.000000    1.000000  \n",
       "max      1.000000    1.000000    1.000000  "
      ],
      "text/html": [
       "<div>\n",
       "<style scoped>\n",
       "    .dataframe tbody tr th:only-of-type {\n",
       "        vertical-align: middle;\n",
       "    }\n",
       "\n",
       "    .dataframe tbody tr th {\n",
       "        vertical-align: top;\n",
       "    }\n",
       "\n",
       "    .dataframe thead th {\n",
       "        text-align: right;\n",
       "    }\n",
       "</style>\n",
       "<table border=\"1\" class=\"dataframe\">\n",
       "  <thead>\n",
       "    <tr style=\"text-align: right;\">\n",
       "      <th></th>\n",
       "      <th>Character</th>\n",
       "      <th>Death Year</th>\n",
       "      <th>Book of Death</th>\n",
       "      <th>Death Chapter</th>\n",
       "      <th>Book Intro Chapter</th>\n",
       "      <th>Gender</th>\n",
       "      <th>Nobility</th>\n",
       "      <th>GoT</th>\n",
       "      <th>CoK</th>\n",
       "      <th>SoS</th>\n",
       "      <th>FfC</th>\n",
       "      <th>DwD</th>\n",
       "    </tr>\n",
       "  </thead>\n",
       "  <tbody>\n",
       "    <tr>\n",
       "      <th>count</th>\n",
       "      <td>687.000000</td>\n",
       "      <td>243.000000</td>\n",
       "      <td>245.000000</td>\n",
       "      <td>239.000000</td>\n",
       "      <td>676.000000</td>\n",
       "      <td>687.000000</td>\n",
       "      <td>687.000000</td>\n",
       "      <td>687.000000</td>\n",
       "      <td>687.000000</td>\n",
       "      <td>687.000000</td>\n",
       "      <td>687.000000</td>\n",
       "      <td>687.000000</td>\n",
       "    </tr>\n",
       "    <tr>\n",
       "      <th>mean</th>\n",
       "      <td>461.184862</td>\n",
       "      <td>299.164609</td>\n",
       "      <td>2.963265</td>\n",
       "      <td>39.167364</td>\n",
       "      <td>28.766272</td>\n",
       "      <td>0.850073</td>\n",
       "      <td>0.454148</td>\n",
       "      <td>0.282387</td>\n",
       "      <td>0.352256</td>\n",
       "      <td>0.429403</td>\n",
       "      <td>0.264920</td>\n",
       "      <td>0.276565</td>\n",
       "    </tr>\n",
       "    <tr>\n",
       "      <th>std</th>\n",
       "      <td>265.290576</td>\n",
       "      <td>0.702462</td>\n",
       "      <td>1.334703</td>\n",
       "      <td>20.313231</td>\n",
       "      <td>19.795064</td>\n",
       "      <td>0.357260</td>\n",
       "      <td>0.498256</td>\n",
       "      <td>0.450489</td>\n",
       "      <td>0.478021</td>\n",
       "      <td>0.495352</td>\n",
       "      <td>0.441612</td>\n",
       "      <td>0.447625</td>\n",
       "    </tr>\n",
       "    <tr>\n",
       "      <th>min</th>\n",
       "      <td>0.000000</td>\n",
       "      <td>297.000000</td>\n",
       "      <td>1.000000</td>\n",
       "      <td>0.000000</td>\n",
       "      <td>0.000000</td>\n",
       "      <td>0.000000</td>\n",
       "      <td>0.000000</td>\n",
       "      <td>0.000000</td>\n",
       "      <td>0.000000</td>\n",
       "      <td>0.000000</td>\n",
       "      <td>0.000000</td>\n",
       "      <td>0.000000</td>\n",
       "    </tr>\n",
       "    <tr>\n",
       "      <th>25%</th>\n",
       "      <td>225.500000</td>\n",
       "      <td>299.000000</td>\n",
       "      <td>2.000000</td>\n",
       "      <td>23.500000</td>\n",
       "      <td>12.000000</td>\n",
       "      <td>1.000000</td>\n",
       "      <td>0.000000</td>\n",
       "      <td>0.000000</td>\n",
       "      <td>0.000000</td>\n",
       "      <td>0.000000</td>\n",
       "      <td>0.000000</td>\n",
       "      <td>0.000000</td>\n",
       "    </tr>\n",
       "    <tr>\n",
       "      <th>50%</th>\n",
       "      <td>466.000000</td>\n",
       "      <td>299.000000</td>\n",
       "      <td>3.000000</td>\n",
       "      <td>37.000000</td>\n",
       "      <td>28.000000</td>\n",
       "      <td>1.000000</td>\n",
       "      <td>0.000000</td>\n",
       "      <td>0.000000</td>\n",
       "      <td>0.000000</td>\n",
       "      <td>0.000000</td>\n",
       "      <td>0.000000</td>\n",
       "      <td>0.000000</td>\n",
       "    </tr>\n",
       "    <tr>\n",
       "      <th>75%</th>\n",
       "      <td>692.500000</td>\n",
       "      <td>300.000000</td>\n",
       "      <td>4.000000</td>\n",
       "      <td>56.000000</td>\n",
       "      <td>42.250000</td>\n",
       "      <td>1.000000</td>\n",
       "      <td>1.000000</td>\n",
       "      <td>1.000000</td>\n",
       "      <td>1.000000</td>\n",
       "      <td>1.000000</td>\n",
       "      <td>1.000000</td>\n",
       "      <td>1.000000</td>\n",
       "    </tr>\n",
       "    <tr>\n",
       "      <th>max</th>\n",
       "      <td>916.000000</td>\n",
       "      <td>300.000000</td>\n",
       "      <td>5.000000</td>\n",
       "      <td>77.000000</td>\n",
       "      <td>80.000000</td>\n",
       "      <td>1.000000</td>\n",
       "      <td>1.000000</td>\n",
       "      <td>1.000000</td>\n",
       "      <td>1.000000</td>\n",
       "      <td>1.000000</td>\n",
       "      <td>1.000000</td>\n",
       "      <td>1.000000</td>\n",
       "    </tr>\n",
       "  </tbody>\n",
       "</table>\n",
       "</div>"
      ]
     },
     "execution_count": 607,
     "metadata": {},
     "output_type": "execute_result"
    }
   ],
   "execution_count": 607
  },
  {
   "cell_type": "code",
   "source": "train_data.info()",
   "metadata": {
    "ExecuteTime": {
     "end_time": "2025-09-22T15:04:20.731136Z",
     "start_time": "2025-09-22T15:04:20.718148Z"
    }
   },
   "outputs": [
    {
     "name": "stdout",
     "output_type": "stream",
     "text": [
      "<class 'pandas.core.frame.DataFrame'>\n",
      "RangeIndex: 687 entries, 0 to 686\n",
      "Data columns (total 14 columns):\n",
      " #   Column              Non-Null Count  Dtype  \n",
      "---  ------              --------------  -----  \n",
      " 0   Character           687 non-null    int64  \n",
      " 1   Name                687 non-null    object \n",
      " 2   Allegiances         502 non-null    object \n",
      " 3   Death Year          243 non-null    float64\n",
      " 4   Book of Death       245 non-null    float64\n",
      " 5   Death Chapter       239 non-null    float64\n",
      " 6   Book Intro Chapter  676 non-null    float64\n",
      " 7   Gender              687 non-null    int64  \n",
      " 8   Nobility            687 non-null    int64  \n",
      " 9   GoT                 687 non-null    int64  \n",
      " 10  CoK                 687 non-null    int64  \n",
      " 11  SoS                 687 non-null    int64  \n",
      " 12  FfC                 687 non-null    int64  \n",
      " 13  DwD                 687 non-null    int64  \n",
      "dtypes: float64(4), int64(8), object(2)\n",
      "memory usage: 75.3+ KB\n"
     ]
    }
   ],
   "execution_count": 608
  },
  {
   "cell_type": "markdown",
   "source": "We find out that some columns are 'object' type, which means they are categorical variables. We will need to convert them into numerical format before feeding them into the model.",
   "metadata": {}
  },
  {
   "cell_type": "markdown",
   "source": "# <div style=\"font-family: 'Garamond', serif; font-size: 22px; color: #ffffff; background-color: #34568B; text-align: center; padding: 15px; border-radius: 10px; border: 2px solid #FF6F61; box-shadow: 0 6px 12px rgba(0, 0, 0, 0.3); margin-bottom: 20px;\">Step 2: Preprocess the data</div>",
   "metadata": {}
  },
  {
   "cell_type": "markdown",
   "source": "## <div style=\"font-family: 'Lucida Sans Unicode', sans-serif; font-size: 18px; color: #4A235A; background-color: #D7BDE2; text-align: left; padding: 10px; border-left: 5px solid #7D3C98; box-shadow: 0 4px 6px rgba(0, 0, 0, 0.2); margin-bottom: 10px;\">Separating features and target variable</div>",
   "metadata": {}
  },
  {
   "cell_type": "code",
   "source": "# Creating the binary target column\ntrain_data['isDead'] = train_data[['Death Year','Book of Death','Death Chapter']].notna().any(axis=1).astype(int)\n\n# Separating the features and the target variable\nX = train_data.drop(columns=[\n    'isDead', 'Character', 'Name', 'Death Year', 'Book of Death', 'Death Chapter'\n])\ny = train_data['isDead']",
   "metadata": {
    "ExecuteTime": {
     "end_time": "2025-09-22T15:04:20.887168Z",
     "start_time": "2025-09-22T15:04:20.874168Z"
    }
   },
   "outputs": [],
   "execution_count": 609
  },
  {
   "cell_type": "markdown",
   "source": "## <div style=\"font-family: 'Lucida Sans Unicode', sans-serif; font-size: 18px; color: #4A235A; background-color: #D7BDE2; text-align: left; padding: 10px; border-left: 5px solid #7D3C98; box-shadow: 0 4px 6px rgba(0, 0, 0, 0.2); margin-bottom: 10px;\">Preprocessing the data</div>",
   "metadata": {}
  },
  {
   "cell_type": "markdown",
   "source": "For preprocessing, we will replace all missing values with `0` as required by the assignment instructions. Then, we will convert the `Allegiances` column into multiple dummy variables using one-hot encoding. This allows the model to handle categorical data in a numerical format suitable for training.",
   "metadata": {}
  },
  {
   "cell_type": "code",
   "source": "# Replace NaN with 0 for all numeric columns as required\nX = X.fillna(0)\n\n# Identify numerical and categorical columns\nnumerical_cols = X.select_dtypes(include=['int64', 'float64']).columns\ncategorical_cols = X.select_dtypes(include=['object', 'bool']).columns\n\n# Convert all categorical columns to string to avoid mixed types error\nX[categorical_cols] = X[categorical_cols].astype(str)\n\n# Preprocessing for numerical data (no imputation needed since already filled with 0)\nnumerical_transformer = 'passthrough'\n\n# Preprocessing for categorical data (only Allegiances needs one-hot encoding)\ncategorical_transformer = Pipeline(steps=[\n    ('onehot', OneHotEncoder(handle_unknown='ignore'))\n])\n\n# Bundle preprocessing for numerical and categorical data\npreprocessor = ColumnTransformer(\n    transformers=[\n        ('num', numerical_transformer, numerical_cols),\n        ('cat', categorical_transformer, categorical_cols)\n    ])\n\n# Apply preprocessing to the feature matrix\nX_preprocessed = preprocessor.fit_transform(X)\n\n# Display the first 5 rows of the transformed feature matrix\nX_preprocessed[0:5]",
   "metadata": {
    "ExecuteTime": {
     "end_time": "2025-09-22T15:04:21.089169Z",
     "start_time": "2025-09-22T15:04:21.075168Z"
    }
   },
   "outputs": [
    {
     "data": {
      "text/plain": [
       "array([[ 4.,  1.,  0.,  0.,  0.,  0.,  1.,  0.,  1.,  0.,  0.,  0.,  0.,\n",
       "         0.,  0.,  0.,  0.,  0.,  0.,  0.,  0.,  0.,  0.,  0.,  0.,  0.,\n",
       "         0.,  0.,  0.],\n",
       "       [58.,  1.,  1.,  0.,  0.,  0.,  0.,  1.,  0.,  0.,  0.,  0.,  0.,\n",
       "         0.,  0.,  0.,  0.,  0.,  0.,  0.,  0.,  0.,  0.,  0.,  0.,  0.,\n",
       "         0.,  0.,  1.],\n",
       "       [69.,  1.,  0.,  0.,  0.,  1.,  0.,  0.,  0.,  0.,  0.,  0.,  0.,\n",
       "         0.,  0.,  0.,  0.,  0.,  0.,  0.,  0.,  0.,  0.,  1.,  0.,  0.,\n",
       "         0.,  0.,  0.],\n",
       "       [48.,  1.,  0.,  1.,  0.,  0.,  0.,  0.,  0.,  0.,  0.,  0.,  0.,\n",
       "         0.,  0.,  0.,  0.,  0.,  0.,  0.,  0.,  0.,  0.,  1.,  0.,  0.,\n",
       "         0.,  0.,  0.],\n",
       "       [ 7.,  1.,  0.,  1.,  0.,  0.,  0.,  0.,  0.,  0.,  0.,  0.,  0.,\n",
       "         0.,  0.,  0.,  0.,  1.,  0.,  0.,  0.,  0.,  0.,  0.,  0.,  0.,\n",
       "         0.,  0.,  0.]])"
      ]
     },
     "execution_count": 610,
     "metadata": {},
     "output_type": "execute_result"
    }
   ],
   "execution_count": 610
  },
  {
   "cell_type": "markdown",
   "source": "# <div style=\"font-family: 'Garamond', serif; font-size: 22px; color: #ffffff; background-color: #34568B; text-align: center; padding: 15px; border-radius: 10px; border: 2px solid #FF6F61; box-shadow: 0 6px 12px rgba(0, 0, 0, 0.3); margin-bottom: 20px;\">Step 3: Train the model</div>",
   "metadata": {}
  },
  {
   "cell_type": "markdown",
   "source": "<div style=\"font-family: 'Lucida Sans Unicode', sans-serif; font-size: 18px; color: #4A235A; background-color: #D7BDE2; text-align: left; padding: 10px; border-left: 5px solid #7D3C98; box-shadow: 0 4px 6px rgba(0, 0, 0, 0.2); margin-bottom: 10px;\">Splitting the data into training and validation sets</div>",
   "metadata": {}
  },
  {
   "cell_type": "code",
   "source": "# Split data into training and validation subsets\nX_train, X_valid, y_train, y_valid = train_test_split(X, y, test_size=0.25, random_state=42, stratify=y)\n\n# Print the shapes of the resulting datasets\nprint(f\"X_train shape: {X_train.shape}\")\nprint(f\"X_valid shape: {X_valid.shape}\")\nprint(f\"y_train shape: {y_train.shape}\")\nprint(f\"y_valid shape: {y_valid.shape}\")",
   "metadata": {
    "ExecuteTime": {
     "end_time": "2025-09-22T15:04:21.260168Z",
     "start_time": "2025-09-22T15:04:21.246169Z"
    }
   },
   "outputs": [
    {
     "name": "stdout",
     "output_type": "stream",
     "text": [
      "X_train shape: (515, 9)\n",
      "X_valid shape: (172, 9)\n",
      "y_train shape: (515,)\n",
      "y_valid shape: (172,)\n"
     ]
    }
   ],
   "execution_count": 611
  },
  {
   "cell_type": "markdown",
   "source": "<div style=\"font-family: 'Lucida Sans Unicode', sans-serif; font-size: 18px; color: #4A235A; background-color: #D7BDE2; text-align: left; padding: 10px; border-left: 5px solid #7D3C98; box-shadow: 0 4px 6px rgba(0, 0, 0, 0.2); margin-bottom: 10px;\">Training the DecisionTreeClassifier model</div>",
   "metadata": {}
  },
  {
   "cell_type": "code",
   "source": "# Define the Decision Tree model\ndt_model = DecisionTreeClassifier(max_depth=4, random_state=42)\n\n# Create and evaluate the pipeline\ndt_pipeline = Pipeline(steps=[('preprocessor', preprocessor),\n                              ('model', dt_model)])\n\n# Preprocessing of training data, fit model\ndt_pipeline.fit(X_train, y_train)\n\n# Preprocessing of validation data, get probability predictions\nvalid_probs = dt_pipeline.predict_proba(X_valid)\n\n# Extracting the probabilities for the positive class\nvalid_positive_probs = valid_probs[:, 1]\n\n# Evaluate the model using AUC\nauc_score = roc_auc_score(y_valid, valid_positive_probs)\nauc_score",
   "metadata": {
    "ExecuteTime": {
     "end_time": "2025-09-22T15:04:21.447170Z",
     "start_time": "2025-09-22T15:04:21.418169Z"
    }
   },
   "outputs": [
    {
     "data": {
      "text/plain": [
       "0.6992668621700879"
      ]
     },
     "execution_count": 612,
     "metadata": {},
     "output_type": "execute_result"
    }
   ],
   "execution_count": 612
  },
  {
   "cell_type": "markdown",
   "source": "<div style=\"font-family: 'Lucida Sans Unicode', sans-serif; font-size: 18px; color: #4A235A; background-color: #D7BDE2; text-align: left; padding: 10px; border-left: 5px solid #7D3C98; box-shadow: 0 4px 6px rgba(0, 0, 0, 0.2); margin-bottom: 10px;\">Evaluating the Decision Tree model with confusion matrix, precision, recall, and accuracy</div>",
   "metadata": {}
  },
  {
   "cell_type": "code",
   "source": "# Make predictions on the validation set\ny_pred = dt_pipeline.predict(X_valid)\n\n# Compute confusion matrix\ncm = confusion_matrix(y_valid, y_pred)\n\n# Compute precision, recall, accuracy\nprecision = precision_score(y_valid, y_pred, zero_division=0)\nrecall = recall_score(y_valid, y_pred, zero_division=0)\naccuracy = accuracy_score(y_valid, y_pred)\n\n# Print evaluation metrics\nprint(f\"Confusion Matrix:\\n{cm}\")\nprint(f\"Precision: {precision:.4f}\")\nprint(f\"Recall:    {recall:.4f}\")\nprint(f\"Accuracy:  {accuracy:.4f}\")",
   "metadata": {
    "ExecuteTime": {
     "end_time": "2025-09-22T15:04:21.663169Z",
     "start_time": "2025-09-22T15:04:21.633170Z"
    }
   },
   "outputs": [
    {
     "name": "stdout",
     "output_type": "stream",
     "text": [
      "Confusion Matrix:\n",
      "[[80 30]\n",
      " [26 36]]\n",
      "Precision: 0.5455\n",
      "Recall:    0.5806\n",
      "Accuracy:  0.6744\n"
     ]
    }
   ],
   "execution_count": 613
  },
  {
   "cell_type": "markdown",
   "source": "<div style=\"font-family: 'Lucida Sans Unicode', sans-serif; font-size: 18px; color: #4A235A; background-color: #D7BDE2; text-align: left; padding: 10px; border-left: 5px solid #7D3C98; box-shadow: 0 4px 6px rgba(0, 0, 0, 0.2); margin-bottom: 10px;\">Visualizing the decision tree</div>",
   "metadata": {}
  },
  {
   "cell_type": "code",
   "source": "# Extract fitted OneHotEncoder from the full pipeline\nfitted_ohe = dt_pipeline.named_steps['preprocessor'].transformers_[1][1].named_steps['onehot']\n\n# Extract feature names after one-hot encoding\nohe_feature_names = fitted_ohe.get_feature_names_out(categorical_cols)\n\n# Combine numerical and categorical (one-hot) feature names\nfeature_names = list(numerical_cols) + list(ohe_feature_names)\n\n# Extract fitted decision tree model from pipeline\ndt_model = dt_pipeline.named_steps['model']\n\n# Export tree to DOT format\ndot_data = export_graphviz(\n    dt_model,\n    out_file=None,\n    feature_names=feature_names,\n    class_names=['Alive', 'Dead'],\n    filled=True,\n    rounded=True,\n    special_characters=True\n)\n\n# Export and save the tree as PNG\ngraph = graphviz.Source(dot_data, engine=\"dot\")\nif os.path.exists('plot/'):\n    png_bytes = graph.pipe(format=\"png\")\n    with open(\"plot/tree.png\", \"wb\") as f:\n        f.write(png_bytes)\ngraph",
   "metadata": {
    "ExecuteTime": {
     "end_time": "2025-09-22T15:04:22.113169Z",
     "start_time": "2025-09-22T15:04:21.773169Z"
    }
   },
   "outputs": [
    {
     "data": {
      "image/svg+xml": "<?xml version=\"1.0\" encoding=\"UTF-8\" standalone=\"no\"?>\n<!DOCTYPE svg PUBLIC \"-//W3C//DTD SVG 1.1//EN\"\n \"http://www.w3.org/Graphics/SVG/1.1/DTD/svg11.dtd\">\n<!-- Generated by graphviz version 9.0.0 (20230911.1827)\n -->\n<!-- Title: Tree Pages: 1 -->\n<svg width=\"1745pt\" height=\"588pt\"\n viewBox=\"0.00 0.00 1745.00 588.00\" xmlns=\"http://www.w3.org/2000/svg\" xmlns:xlink=\"http://www.w3.org/1999/xlink\">\n<g id=\"graph0\" class=\"graph\" transform=\"scale(1 1) rotate(0) translate(4 584)\">\n<title>Tree</title>\n<polygon fill=\"white\" stroke=\"none\" points=\"-4,4 -4,-584 1741,-584 1741,4 -4,4\"/>\n<!-- 0 -->\n<g id=\"node1\" class=\"node\">\n<title>0</title>\n<path fill=\"#f4c8a8\" stroke=\"black\" d=\"M1077,-580C1077,-580 971.75,-580 971.75,-580 965.75,-580 959.75,-574 959.75,-568 959.75,-568 959.75,-501.5 959.75,-501.5 959.75,-495.5 965.75,-489.5 971.75,-489.5 971.75,-489.5 1077,-489.5 1077,-489.5 1083,-489.5 1089,-495.5 1089,-501.5 1089,-501.5 1089,-568 1089,-568 1089,-574 1083,-580 1077,-580\"/>\n<text text-anchor=\"start\" x=\"994.75\" y=\"-562.7\" font-family=\"Helvetica,sans-Serif\" font-size=\"14.00\">FfC ≤ 0.5</text>\n<text text-anchor=\"start\" x=\"991.38\" y=\"-546.2\" font-family=\"Helvetica,sans-Serif\" font-size=\"14.00\">gini = 0.46</text>\n<text text-anchor=\"start\" x=\"977.12\" y=\"-529.7\" font-family=\"Helvetica,sans-Serif\" font-size=\"14.00\">samples = 515</text>\n<text text-anchor=\"start\" x=\"967.75\" y=\"-513.2\" font-family=\"Helvetica,sans-Serif\" font-size=\"14.00\">value = [330, 185]</text>\n<text text-anchor=\"start\" x=\"984.62\" y=\"-496.7\" font-family=\"Helvetica,sans-Serif\" font-size=\"14.00\">class = Alive</text>\n</g>\n<!-- 1 -->\n<g id=\"node2\" class=\"node\">\n<title>1</title>\n<path fill=\"#f8dcc7\" stroke=\"black\" d=\"M829,-453.5C829,-453.5 723.75,-453.5 723.75,-453.5 717.75,-453.5 711.75,-447.5 711.75,-441.5 711.75,-441.5 711.75,-375 711.75,-375 711.75,-369 717.75,-363 723.75,-363 723.75,-363 829,-363 829,-363 835,-363 841,-369 841,-375 841,-375 841,-441.5 841,-441.5 841,-447.5 835,-453.5 829,-453.5\"/>\n<text text-anchor=\"start\" x=\"743.38\" y=\"-436.2\" font-family=\"Helvetica,sans-Serif\" font-size=\"14.00\">DwD ≤ 0.5</text>\n<text text-anchor=\"start\" x=\"739.25\" y=\"-419.7\" font-family=\"Helvetica,sans-Serif\" font-size=\"14.00\">gini = 0.487</text>\n<text text-anchor=\"start\" x=\"729.12\" y=\"-403.2\" font-family=\"Helvetica,sans-Serif\" font-size=\"14.00\">samples = 385</text>\n<text text-anchor=\"start\" x=\"719.75\" y=\"-386.7\" font-family=\"Helvetica,sans-Serif\" font-size=\"14.00\">value = [224, 161]</text>\n<text text-anchor=\"start\" x=\"736.62\" y=\"-370.2\" font-family=\"Helvetica,sans-Serif\" font-size=\"14.00\">class = Alive</text>\n</g>\n<!-- 0&#45;&gt;1 -->\n<g id=\"edge1\" class=\"edge\">\n<title>0&#45;&gt;1</title>\n<path fill=\"none\" stroke=\"black\" d=\"M959.54,-501.2C926.36,-484.55 885.8,-464.18 851.29,-446.86\"/>\n<polygon fill=\"black\" stroke=\"black\" points=\"853.12,-443.86 842.61,-442.5 849.98,-450.12 853.12,-443.86\"/>\n<text text-anchor=\"middle\" x=\"849.13\" y=\"-460.5\" font-family=\"Helvetica,sans-Serif\" font-size=\"14.00\">True</text>\n</g>\n<!-- 16 -->\n<g id=\"node17\" class=\"node\">\n<title>16</title>\n<path fill=\"#eb9e66\" stroke=\"black\" d=\"M1345.25,-453.5C1345.25,-453.5 1133.5,-453.5 1133.5,-453.5 1127.5,-453.5 1121.5,-447.5 1121.5,-441.5 1121.5,-441.5 1121.5,-375 1121.5,-375 1121.5,-369 1127.5,-363 1133.5,-363 1133.5,-363 1345.25,-363 1345.25,-363 1351.25,-363 1357.25,-369 1357.25,-375 1357.25,-375 1357.25,-441.5 1357.25,-441.5 1357.25,-447.5 1351.25,-453.5 1345.25,-453.5\"/>\n<text text-anchor=\"start\" x=\"1129.5\" y=\"-436.2\" font-family=\"Helvetica,sans-Serif\" font-size=\"14.00\">Allegiances_House Lannister ≤ 0.5</text>\n<text text-anchor=\"start\" x=\"1202.25\" y=\"-419.7\" font-family=\"Helvetica,sans-Serif\" font-size=\"14.00\">gini = 0.301</text>\n<text text-anchor=\"start\" x=\"1192.12\" y=\"-403.2\" font-family=\"Helvetica,sans-Serif\" font-size=\"14.00\">samples = 130</text>\n<text text-anchor=\"start\" x=\"1186.88\" y=\"-386.7\" font-family=\"Helvetica,sans-Serif\" font-size=\"14.00\">value = [106, 24]</text>\n<text text-anchor=\"start\" x=\"1199.62\" y=\"-370.2\" font-family=\"Helvetica,sans-Serif\" font-size=\"14.00\">class = Alive</text>\n</g>\n<!-- 0&#45;&gt;16 -->\n<g id=\"edge16\" class=\"edge\">\n<title>0&#45;&gt;16</title>\n<path fill=\"none\" stroke=\"black\" d=\"M1089.47,-496.06C1109.31,-484.57 1131.45,-471.74 1152.5,-459.56\"/>\n<polygon fill=\"black\" stroke=\"black\" points=\"1154.19,-462.62 1161.09,-454.58 1150.69,-456.56 1154.19,-462.62\"/>\n<text text-anchor=\"middle\" x=\"1155.96\" y=\"-472.93\" font-family=\"Helvetica,sans-Serif\" font-size=\"14.00\">False</text>\n</g>\n<!-- 2 -->\n<g id=\"node3\" class=\"node\">\n<title>2</title>\n<path fill=\"#fef9f6\" stroke=\"black\" d=\"M495,-327C495,-327 377.75,-327 377.75,-327 371.75,-327 365.75,-321 365.75,-315 365.75,-315 365.75,-248.5 365.75,-248.5 365.75,-242.5 371.75,-236.5 377.75,-236.5 377.75,-236.5 495,-236.5 495,-236.5 501,-236.5 507,-242.5 507,-248.5 507,-248.5 507,-315 507,-315 507,-321 501,-327 495,-327\"/>\n<text text-anchor=\"start\" x=\"373.75\" y=\"-309.7\" font-family=\"Helvetica,sans-Serif\" font-size=\"14.00\">Allegiances_0 ≤ 0.5</text>\n<text text-anchor=\"start\" x=\"407.5\" y=\"-293.2\" font-family=\"Helvetica,sans-Serif\" font-size=\"14.00\">gini = 0.5</text>\n<text text-anchor=\"start\" x=\"389.12\" y=\"-276.7\" font-family=\"Helvetica,sans-Serif\" font-size=\"14.00\">samples = 268</text>\n<text text-anchor=\"start\" x=\"379.75\" y=\"-260.2\" font-family=\"Helvetica,sans-Serif\" font-size=\"14.00\">value = [137, 131]</text>\n<text text-anchor=\"start\" x=\"396.62\" y=\"-243.7\" font-family=\"Helvetica,sans-Serif\" font-size=\"14.00\">class = Alive</text>\n</g>\n<!-- 1&#45;&gt;2 -->\n<g id=\"edge2\" class=\"edge\">\n<title>1&#45;&gt;2</title>\n<path fill=\"none\" stroke=\"black\" d=\"M711.62,-383.54C656.55,-363.37 577.18,-334.31 517.81,-312.57\"/>\n<polygon fill=\"black\" stroke=\"black\" points=\"519.36,-309.41 508.76,-309.26 516.95,-315.98 519.36,-309.41\"/>\n</g>\n<!-- 9 -->\n<g id=\"node10\" class=\"node\">\n<title>9</title>\n<path fill=\"#eeac7d\" stroke=\"black\" d=\"M856,-327C856,-327 696.75,-327 696.75,-327 690.75,-327 684.75,-321 684.75,-315 684.75,-315 684.75,-248.5 684.75,-248.5 684.75,-242.5 690.75,-236.5 696.75,-236.5 696.75,-236.5 856,-236.5 856,-236.5 862,-236.5 868,-242.5 868,-248.5 868,-248.5 868,-315 868,-315 868,-321 862,-327 856,-327\"/>\n<text text-anchor=\"start\" x=\"692.75\" y=\"-309.7\" font-family=\"Helvetica,sans-Serif\" font-size=\"14.00\">Allegiances_Wildling ≤ 0.5</text>\n<text text-anchor=\"start\" x=\"739.25\" y=\"-293.2\" font-family=\"Helvetica,sans-Serif\" font-size=\"14.00\">gini = 0.381</text>\n<text text-anchor=\"start\" x=\"729.12\" y=\"-276.7\" font-family=\"Helvetica,sans-Serif\" font-size=\"14.00\">samples = 117</text>\n<text text-anchor=\"start\" x=\"716\" y=\"-260.2\" font-family=\"Helvetica,sans-Serif\" font-size=\"14.00\">value = [87.0, 30.0]</text>\n<text text-anchor=\"start\" x=\"736.62\" y=\"-243.7\" font-family=\"Helvetica,sans-Serif\" font-size=\"14.00\">class = Alive</text>\n</g>\n<!-- 1&#45;&gt;9 -->\n<g id=\"edge9\" class=\"edge\">\n<title>1&#45;&gt;9</title>\n<path fill=\"none\" stroke=\"black\" d=\"M776.38,-362.65C776.38,-354.97 776.38,-346.89 776.38,-338.94\"/>\n<polygon fill=\"black\" stroke=\"black\" points=\"779.88,-338.97 776.38,-328.97 772.88,-338.97 779.88,-338.97\"/>\n</g>\n<!-- 3 -->\n<g id=\"node4\" class=\"node\">\n<title>3</title>\n<path fill=\"#deeffb\" stroke=\"black\" d=\"M290.75,-200.5C290.75,-200.5 124,-200.5 124,-200.5 118,-200.5 112,-194.5 112,-188.5 112,-188.5 112,-122 112,-122 112,-116 118,-110 124,-110 124,-110 290.75,-110 290.75,-110 296.75,-110 302.75,-116 302.75,-122 302.75,-122 302.75,-188.5 302.75,-188.5 302.75,-194.5 296.75,-200.5 290.75,-200.5\"/>\n<text text-anchor=\"start\" x=\"120\" y=\"-183.2\" font-family=\"Helvetica,sans-Serif\" font-size=\"14.00\">Allegiances_Lannister ≤ 0.5</text>\n<text text-anchor=\"start\" x=\"170.25\" y=\"-166.7\" font-family=\"Helvetica,sans-Serif\" font-size=\"14.00\">gini = 0.496</text>\n<text text-anchor=\"start\" x=\"160.12\" y=\"-150.2\" font-family=\"Helvetica,sans-Serif\" font-size=\"14.00\">samples = 185</text>\n<text text-anchor=\"start\" x=\"154.88\" y=\"-133.7\" font-family=\"Helvetica,sans-Serif\" font-size=\"14.00\">value = [84, 101]</text>\n<text text-anchor=\"start\" x=\"165.75\" y=\"-117.2\" font-family=\"Helvetica,sans-Serif\" font-size=\"14.00\">class = Dead</text>\n</g>\n<!-- 2&#45;&gt;3 -->\n<g id=\"edge3\" class=\"edge\">\n<title>2&#45;&gt;3</title>\n<path fill=\"none\" stroke=\"black\" d=\"M365.49,-242.21C344.64,-230.88 321.53,-218.31 299.55,-206.37\"/>\n<polygon fill=\"black\" stroke=\"black\" points=\"301.34,-203.35 290.88,-201.65 298,-209.5 301.34,-203.35\"/>\n</g>\n<!-- 6 -->\n<g id=\"node7\" class=\"node\">\n<title>6</title>\n<path fill=\"#f4c8a9\" stroke=\"black\" d=\"M513.75,-200.5C513.75,-200.5 359,-200.5 359,-200.5 353,-200.5 347,-194.5 347,-188.5 347,-188.5 347,-122 347,-122 347,-116 353,-110 359,-110 359,-110 513.75,-110 513.75,-110 519.75,-110 525.75,-116 525.75,-122 525.75,-122 525.75,-188.5 525.75,-188.5 525.75,-194.5 519.75,-200.5 513.75,-200.5\"/>\n<text text-anchor=\"start\" x=\"355\" y=\"-183.2\" font-family=\"Helvetica,sans-Serif\" font-size=\"14.00\">Book Intro Chapter ≤ 42.5</text>\n<text text-anchor=\"start\" x=\"399.25\" y=\"-166.7\" font-family=\"Helvetica,sans-Serif\" font-size=\"14.00\">gini = 0.462</text>\n<text text-anchor=\"start\" x=\"393.25\" y=\"-150.2\" font-family=\"Helvetica,sans-Serif\" font-size=\"14.00\">samples = 83</text>\n<text text-anchor=\"start\" x=\"376\" y=\"-133.7\" font-family=\"Helvetica,sans-Serif\" font-size=\"14.00\">value = [53.0, 30.0]</text>\n<text text-anchor=\"start\" x=\"396.62\" y=\"-117.2\" font-family=\"Helvetica,sans-Serif\" font-size=\"14.00\">class = Alive</text>\n</g>\n<!-- 2&#45;&gt;6 -->\n<g id=\"edge6\" class=\"edge\">\n<title>2&#45;&gt;6</title>\n<path fill=\"none\" stroke=\"black\" d=\"M436.38,-236.15C436.38,-228.47 436.38,-220.39 436.38,-212.44\"/>\n<polygon fill=\"black\" stroke=\"black\" points=\"439.88,-212.47 436.38,-202.47 432.88,-212.47 439.88,-212.47\"/>\n</g>\n<!-- 4 -->\n<g id=\"node5\" class=\"node\">\n<title>4</title>\n<path fill=\"#cbe5f8\" stroke=\"black\" d=\"M124.75,-74C124.75,-74 12,-74 12,-74 6,-74 0,-68 0,-62 0,-62 0,-12 0,-12 0,-6 6,0 12,0 12,0 124.75,0 124.75,0 130.75,0 136.75,-6 136.75,-12 136.75,-12 136.75,-62 136.75,-62 136.75,-68 130.75,-74 124.75,-74\"/>\n<text text-anchor=\"start\" x=\"31.25\" y=\"-56.7\" font-family=\"Helvetica,sans-Serif\" font-size=\"14.00\">gini = 0.489</text>\n<text text-anchor=\"start\" x=\"21.12\" y=\"-40.2\" font-family=\"Helvetica,sans-Serif\" font-size=\"14.00\">samples = 165</text>\n<text text-anchor=\"start\" x=\"8\" y=\"-23.7\" font-family=\"Helvetica,sans-Serif\" font-size=\"14.00\">value = [70.0, 95.0]</text>\n<text text-anchor=\"start\" x=\"26.75\" y=\"-7.2\" font-family=\"Helvetica,sans-Serif\" font-size=\"14.00\">class = Dead</text>\n</g>\n<!-- 3&#45;&gt;4 -->\n<g id=\"edge4\" class=\"edge\">\n<title>3&#45;&gt;4</title>\n<path fill=\"none\" stroke=\"black\" d=\"M154.03,-109.64C143.04,-100.44 131.47,-90.77 120.52,-81.61\"/>\n<polygon fill=\"black\" stroke=\"black\" points=\"122.97,-79.1 113.05,-75.36 118.48,-84.46 122.97,-79.1\"/>\n</g>\n<!-- 5 -->\n<g id=\"node6\" class=\"node\">\n<title>5</title>\n<path fill=\"#f0b78e\" stroke=\"black\" d=\"M247.62,-74C247.62,-74 167.12,-74 167.12,-74 161.12,-74 155.12,-68 155.12,-62 155.12,-62 155.12,-12 155.12,-12 155.12,-6 161.12,0 167.12,0 167.12,0 247.62,0 247.62,0 253.62,0 259.62,-6 259.62,-12 259.62,-12 259.62,-62 259.62,-62 259.62,-68 253.62,-74 247.62,-74\"/>\n<text text-anchor=\"start\" x=\"174.38\" y=\"-56.7\" font-family=\"Helvetica,sans-Serif\" font-size=\"14.00\">gini = 0.42</text>\n<text text-anchor=\"start\" x=\"164.25\" y=\"-40.2\" font-family=\"Helvetica,sans-Serif\" font-size=\"14.00\">samples = 20</text>\n<text text-anchor=\"start\" x=\"163.12\" y=\"-23.7\" font-family=\"Helvetica,sans-Serif\" font-size=\"14.00\">value = [14, 6]</text>\n<text text-anchor=\"start\" x=\"167.62\" y=\"-7.2\" font-family=\"Helvetica,sans-Serif\" font-size=\"14.00\">class = Alive</text>\n</g>\n<!-- 3&#45;&gt;5 -->\n<g id=\"edge5\" class=\"edge\">\n<title>3&#45;&gt;5</title>\n<path fill=\"none\" stroke=\"black\" d=\"M207.38,-109.64C207.38,-101.81 207.38,-93.63 207.38,-85.72\"/>\n<polygon fill=\"black\" stroke=\"black\" points=\"210.88,-85.91 207.38,-75.91 203.88,-85.91 210.88,-85.91\"/>\n</g>\n<!-- 7 -->\n<g id=\"node8\" class=\"node\">\n<title>7</title>\n<path fill=\"#fceee5\" stroke=\"black\" d=\"M378.75,-74C378.75,-74 290,-74 290,-74 284,-74 278,-68 278,-62 278,-62 278,-12 278,-12 278,-6 284,0 290,0 290,0 378.75,0 378.75,0 384.75,0 390.75,-6 390.75,-12 390.75,-12 390.75,-62 390.75,-62 390.75,-68 384.75,-74 378.75,-74\"/>\n<text text-anchor=\"start\" x=\"297.25\" y=\"-56.7\" font-family=\"Helvetica,sans-Serif\" font-size=\"14.00\">gini = 0.497</text>\n<text text-anchor=\"start\" x=\"291.25\" y=\"-40.2\" font-family=\"Helvetica,sans-Serif\" font-size=\"14.00\">samples = 56</text>\n<text text-anchor=\"start\" x=\"286\" y=\"-23.7\" font-family=\"Helvetica,sans-Serif\" font-size=\"14.00\">value = [30, 26]</text>\n<text text-anchor=\"start\" x=\"294.62\" y=\"-7.2\" font-family=\"Helvetica,sans-Serif\" font-size=\"14.00\">class = Alive</text>\n</g>\n<!-- 6&#45;&gt;7 -->\n<g id=\"edge7\" class=\"edge\">\n<title>6&#45;&gt;7</title>\n<path fill=\"none\" stroke=\"black\" d=\"M397.23,-109.64C389.56,-100.9 381.51,-91.73 373.84,-82.97\"/>\n<polygon fill=\"black\" stroke=\"black\" points=\"376.53,-80.74 367.31,-75.53 371.27,-85.36 376.53,-80.74\"/>\n</g>\n<!-- 8 -->\n<g id=\"node9\" class=\"node\">\n<title>8</title>\n<path fill=\"#ea975b\" stroke=\"black\" d=\"M501.62,-74C501.62,-74 421.12,-74 421.12,-74 415.12,-74 409.12,-68 409.12,-62 409.12,-62 409.12,-12 409.12,-12 409.12,-6 415.12,0 421.12,0 421.12,0 501.62,0 501.62,0 507.62,0 513.62,-6 513.62,-12 513.62,-12 513.62,-62 513.62,-62 513.62,-68 507.62,-74 501.62,-74\"/>\n<text text-anchor=\"start\" x=\"424.25\" y=\"-56.7\" font-family=\"Helvetica,sans-Serif\" font-size=\"14.00\">gini = 0.252</text>\n<text text-anchor=\"start\" x=\"418.25\" y=\"-40.2\" font-family=\"Helvetica,sans-Serif\" font-size=\"14.00\">samples = 27</text>\n<text text-anchor=\"start\" x=\"417.12\" y=\"-23.7\" font-family=\"Helvetica,sans-Serif\" font-size=\"14.00\">value = [23, 4]</text>\n<text text-anchor=\"start\" x=\"421.62\" y=\"-7.2\" font-family=\"Helvetica,sans-Serif\" font-size=\"14.00\">class = Alive</text>\n</g>\n<!-- 6&#45;&gt;8 -->\n<g id=\"edge8\" class=\"edge\">\n<title>6&#45;&gt;8</title>\n<path fill=\"none\" stroke=\"black\" d=\"M445.97,-109.64C447.67,-101.72 449.45,-93.44 451.17,-85.45\"/>\n<polygon fill=\"black\" stroke=\"black\" points=\"454.55,-86.39 453.23,-75.87 447.71,-84.91 454.55,-86.39\"/>\n</g>\n<!-- 10 -->\n<g id=\"node11\" class=\"node\">\n<title>10</title>\n<path fill=\"#eca26d\" stroke=\"black\" d=\"M753.62,-200.5C753.62,-200.5 607.12,-200.5 607.12,-200.5 601.12,-200.5 595.12,-194.5 595.12,-188.5 595.12,-188.5 595.12,-122 595.12,-122 595.12,-116 601.12,-110 607.12,-110 607.12,-110 753.62,-110 753.62,-110 759.62,-110 765.62,-116 765.62,-122 765.62,-122 765.62,-188.5 765.62,-188.5 765.62,-194.5 759.62,-200.5 753.62,-200.5\"/>\n<text text-anchor=\"start\" x=\"603.12\" y=\"-183.2\" font-family=\"Helvetica,sans-Serif\" font-size=\"14.00\">Book Intro Chapter ≤ 0.5</text>\n<text text-anchor=\"start\" x=\"643.25\" y=\"-166.7\" font-family=\"Helvetica,sans-Serif\" font-size=\"14.00\">gini = 0.329</text>\n<text text-anchor=\"start\" x=\"633.12\" y=\"-150.2\" font-family=\"Helvetica,sans-Serif\" font-size=\"14.00\">samples = 106</text>\n<text text-anchor=\"start\" x=\"632\" y=\"-133.7\" font-family=\"Helvetica,sans-Serif\" font-size=\"14.00\">value = [84, 22]</text>\n<text text-anchor=\"start\" x=\"640.62\" y=\"-117.2\" font-family=\"Helvetica,sans-Serif\" font-size=\"14.00\">class = Alive</text>\n</g>\n<!-- 9&#45;&gt;10 -->\n<g id=\"edge10\" class=\"edge\">\n<title>9&#45;&gt;10</title>\n<path fill=\"none\" stroke=\"black\" d=\"M741.99,-236.15C735.44,-227.66 728.52,-218.69 721.78,-209.95\"/>\n<polygon fill=\"black\" stroke=\"black\" points=\"724.65,-207.93 715.77,-202.15 719.1,-212.21 724.65,-207.93\"/>\n</g>\n<!-- 13 -->\n<g id=\"node14\" class=\"node\">\n<title>13</title>\n<path fill=\"#83c2ef\" stroke=\"black\" d=\"M950.75,-200.5C950.75,-200.5 796,-200.5 796,-200.5 790,-200.5 784,-194.5 784,-188.5 784,-188.5 784,-122 784,-122 784,-116 790,-110 796,-110 796,-110 950.75,-110 950.75,-110 956.75,-110 962.75,-116 962.75,-122 962.75,-122 962.75,-188.5 962.75,-188.5 962.75,-194.5 956.75,-200.5 950.75,-200.5\"/>\n<text text-anchor=\"start\" x=\"792\" y=\"-183.2\" font-family=\"Helvetica,sans-Serif\" font-size=\"14.00\">Book Intro Chapter ≤ 11.0</text>\n<text text-anchor=\"start\" x=\"836.25\" y=\"-166.7\" font-family=\"Helvetica,sans-Serif\" font-size=\"14.00\">gini = 0.397</text>\n<text text-anchor=\"start\" x=\"830.25\" y=\"-150.2\" font-family=\"Helvetica,sans-Serif\" font-size=\"14.00\">samples = 11</text>\n<text text-anchor=\"start\" x=\"833.25\" y=\"-133.7\" font-family=\"Helvetica,sans-Serif\" font-size=\"14.00\">value = [3, 8]</text>\n<text text-anchor=\"start\" x=\"831.75\" y=\"-117.2\" font-family=\"Helvetica,sans-Serif\" font-size=\"14.00\">class = Dead</text>\n</g>\n<!-- 9&#45;&gt;13 -->\n<g id=\"edge13\" class=\"edge\">\n<title>9&#45;&gt;13</title>\n<path fill=\"none\" stroke=\"black\" d=\"M811.12,-236.15C817.74,-227.66 824.73,-218.69 831.54,-209.95\"/>\n<polygon fill=\"black\" stroke=\"black\" points=\"834.23,-212.19 837.62,-202.15 828.71,-207.88 834.23,-212.19\"/>\n</g>\n<!-- 11 -->\n<g id=\"node12\" class=\"node\">\n<title>11</title>\n<path fill=\"#b0d8f5\" stroke=\"black\" d=\"M619,-74C619,-74 543.75,-74 543.75,-74 537.75,-74 531.75,-68 531.75,-62 531.75,-62 531.75,-12 531.75,-12 531.75,-6 537.75,0 543.75,0 543.75,0 619,0 619,0 625,0 631,-6 631,-12 631,-12 631,-62 631,-62 631,-68 625,-74 619,-74\"/>\n<text text-anchor=\"start\" x=\"544.25\" y=\"-56.7\" font-family=\"Helvetica,sans-Serif\" font-size=\"14.00\">gini = 0.469</text>\n<text text-anchor=\"start\" x=\"542.38\" y=\"-40.2\" font-family=\"Helvetica,sans-Serif\" font-size=\"14.00\">samples = 8</text>\n<text text-anchor=\"start\" x=\"541.25\" y=\"-23.7\" font-family=\"Helvetica,sans-Serif\" font-size=\"14.00\">value = [3, 5]</text>\n<text text-anchor=\"start\" x=\"539.75\" y=\"-7.2\" font-family=\"Helvetica,sans-Serif\" font-size=\"14.00\">class = Dead</text>\n</g>\n<!-- 10&#45;&gt;11 -->\n<g id=\"edge11\" class=\"edge\">\n<title>10&#45;&gt;11</title>\n<path fill=\"none\" stroke=\"black\" d=\"M642.38,-109.64C634.94,-100.9 627.13,-91.73 619.68,-82.97\"/>\n<polygon fill=\"black\" stroke=\"black\" points=\"622.5,-80.89 613.35,-75.55 617.17,-85.43 622.5,-80.89\"/>\n</g>\n<!-- 12 -->\n<g id=\"node13\" class=\"node\">\n<title>12</title>\n<path fill=\"#ea9b63\" stroke=\"black\" d=\"M749.75,-74C749.75,-74 661,-74 661,-74 655,-74 649,-68 649,-62 649,-62 649,-12 649,-12 649,-6 655,0 661,0 661,0 749.75,0 749.75,0 755.75,0 761.75,-6 761.75,-12 761.75,-12 761.75,-62 761.75,-62 761.75,-68 755.75,-74 749.75,-74\"/>\n<text text-anchor=\"start\" x=\"668.25\" y=\"-56.7\" font-family=\"Helvetica,sans-Serif\" font-size=\"14.00\">gini = 0.287</text>\n<text text-anchor=\"start\" x=\"662.25\" y=\"-40.2\" font-family=\"Helvetica,sans-Serif\" font-size=\"14.00\">samples = 98</text>\n<text text-anchor=\"start\" x=\"657\" y=\"-23.7\" font-family=\"Helvetica,sans-Serif\" font-size=\"14.00\">value = [81, 17]</text>\n<text text-anchor=\"start\" x=\"665.62\" y=\"-7.2\" font-family=\"Helvetica,sans-Serif\" font-size=\"14.00\">class = Alive</text>\n</g>\n<!-- 10&#45;&gt;12 -->\n<g id=\"edge12\" class=\"edge\">\n<title>10&#45;&gt;12</title>\n<path fill=\"none\" stroke=\"black\" d=\"M689.97,-109.64C691.67,-101.72 693.45,-93.44 695.17,-85.45\"/>\n<polygon fill=\"black\" stroke=\"black\" points=\"698.55,-86.39 697.23,-75.87 691.71,-84.91 698.55,-86.39\"/>\n</g>\n<!-- 14 -->\n<g id=\"node15\" class=\"node\">\n<title>14</title>\n<path fill=\"#e58139\" stroke=\"black\" d=\"M864.5,-74C864.5,-74 792.25,-74 792.25,-74 786.25,-74 780.25,-68 780.25,-62 780.25,-62 780.25,-12 780.25,-12 780.25,-6 786.25,0 792.25,0 792.25,0 864.5,0 864.5,0 870.5,0 876.5,-6 876.5,-12 876.5,-12 876.5,-62 876.5,-62 876.5,-68 870.5,-74 864.5,-74\"/>\n<text text-anchor=\"start\" x=\"799.5\" y=\"-56.7\" font-family=\"Helvetica,sans-Serif\" font-size=\"14.00\">gini = 0.0</text>\n<text text-anchor=\"start\" x=\"789.38\" y=\"-40.2\" font-family=\"Helvetica,sans-Serif\" font-size=\"14.00\">samples = 3</text>\n<text text-anchor=\"start\" x=\"788.25\" y=\"-23.7\" font-family=\"Helvetica,sans-Serif\" font-size=\"14.00\">value = [3, 0]</text>\n<text text-anchor=\"start\" x=\"788.62\" y=\"-7.2\" font-family=\"Helvetica,sans-Serif\" font-size=\"14.00\">class = Alive</text>\n</g>\n<!-- 13&#45;&gt;14 -->\n<g id=\"edge14\" class=\"edge\">\n<title>13&#45;&gt;14</title>\n<path fill=\"none\" stroke=\"black\" d=\"M856.11,-109.64C852.97,-101.53 849.69,-93.06 846.53,-84.89\"/>\n<polygon fill=\"black\" stroke=\"black\" points=\"849.88,-83.87 843.01,-75.81 843.36,-86.39 849.88,-83.87\"/>\n</g>\n<!-- 15 -->\n<g id=\"node16\" class=\"node\">\n<title>15</title>\n<path fill=\"#399de5\" stroke=\"black\" d=\"M982,-74C982,-74 906.75,-74 906.75,-74 900.75,-74 894.75,-68 894.75,-62 894.75,-62 894.75,-12 894.75,-12 894.75,-6 900.75,0 906.75,0 906.75,0 982,0 982,0 988,0 994,-6 994,-12 994,-12 994,-62 994,-62 994,-68 988,-74 982,-74\"/>\n<text text-anchor=\"start\" x=\"915.5\" y=\"-56.7\" font-family=\"Helvetica,sans-Serif\" font-size=\"14.00\">gini = 0.0</text>\n<text text-anchor=\"start\" x=\"905.38\" y=\"-40.2\" font-family=\"Helvetica,sans-Serif\" font-size=\"14.00\">samples = 8</text>\n<text text-anchor=\"start\" x=\"904.25\" y=\"-23.7\" font-family=\"Helvetica,sans-Serif\" font-size=\"14.00\">value = [0, 8]</text>\n<text text-anchor=\"start\" x=\"902.75\" y=\"-7.2\" font-family=\"Helvetica,sans-Serif\" font-size=\"14.00\">class = Dead</text>\n</g>\n<!-- 13&#45;&gt;15 -->\n<g id=\"edge15\" class=\"edge\">\n<title>13&#45;&gt;15</title>\n<path fill=\"none\" stroke=\"black\" d=\"M900.62,-109.64C905.74,-101.26 911.1,-92.49 916.24,-84.07\"/>\n<polygon fill=\"black\" stroke=\"black\" points=\"919.13,-86.04 921.36,-75.69 913.16,-82.4 919.13,-86.04\"/>\n</g>\n<!-- 17 -->\n<g id=\"node18\" class=\"node\">\n<title>17</title>\n<path fill=\"#ea9a61\" stroke=\"black\" d=\"M1337.38,-327C1337.38,-327 1141.38,-327 1141.38,-327 1135.38,-327 1129.38,-321 1129.38,-315 1129.38,-315 1129.38,-248.5 1129.38,-248.5 1129.38,-242.5 1135.38,-236.5 1141.38,-236.5 1141.38,-236.5 1337.38,-236.5 1337.38,-236.5 1343.38,-236.5 1349.38,-242.5 1349.38,-248.5 1349.38,-248.5 1349.38,-315 1349.38,-315 1349.38,-321 1343.38,-327 1337.38,-327\"/>\n<text text-anchor=\"start\" x=\"1137.38\" y=\"-309.7\" font-family=\"Helvetica,sans-Serif\" font-size=\"14.00\">Allegiances_Night&#39;s Watch ≤ 0.5</text>\n<text text-anchor=\"start\" x=\"1202.25\" y=\"-293.2\" font-family=\"Helvetica,sans-Serif\" font-size=\"14.00\">gini = 0.278</text>\n<text text-anchor=\"start\" x=\"1192.12\" y=\"-276.7\" font-family=\"Helvetica,sans-Serif\" font-size=\"14.00\">samples = 126</text>\n<text text-anchor=\"start\" x=\"1186.88\" y=\"-260.2\" font-family=\"Helvetica,sans-Serif\" font-size=\"14.00\">value = [105, 21]</text>\n<text text-anchor=\"start\" x=\"1199.62\" y=\"-243.7\" font-family=\"Helvetica,sans-Serif\" font-size=\"14.00\">class = Alive</text>\n</g>\n<!-- 16&#45;&gt;17 -->\n<g id=\"edge17\" class=\"edge\">\n<title>16&#45;&gt;17</title>\n<path fill=\"none\" stroke=\"black\" d=\"M1239.38,-362.65C1239.38,-354.97 1239.38,-346.89 1239.38,-338.94\"/>\n<polygon fill=\"black\" stroke=\"black\" points=\"1242.88,-338.97 1239.38,-328.97 1235.88,-338.97 1242.88,-338.97\"/>\n</g>\n<!-- 24 -->\n<g id=\"node25\" class=\"node\">\n<title>24</title>\n<path fill=\"#7bbeee\" stroke=\"black\" d=\"M1493,-327C1493,-327 1417.75,-327 1417.75,-327 1411.75,-327 1405.75,-321 1405.75,-315 1405.75,-315 1405.75,-248.5 1405.75,-248.5 1405.75,-242.5 1411.75,-236.5 1417.75,-236.5 1417.75,-236.5 1493,-236.5 1493,-236.5 1499,-236.5 1505,-242.5 1505,-248.5 1505,-248.5 1505,-315 1505,-315 1505,-321 1499,-327 1493,-327\"/>\n<text text-anchor=\"start\" x=\"1414.88\" y=\"-309.7\" font-family=\"Helvetica,sans-Serif\" font-size=\"14.00\">Nobility ≤ 0.5</text>\n<text text-anchor=\"start\" x=\"1418.25\" y=\"-293.2\" font-family=\"Helvetica,sans-Serif\" font-size=\"14.00\">gini = 0.375</text>\n<text text-anchor=\"start\" x=\"1416.38\" y=\"-276.7\" font-family=\"Helvetica,sans-Serif\" font-size=\"14.00\">samples = 4</text>\n<text text-anchor=\"start\" x=\"1415.25\" y=\"-260.2\" font-family=\"Helvetica,sans-Serif\" font-size=\"14.00\">value = [1, 3]</text>\n<text text-anchor=\"start\" x=\"1413.75\" y=\"-243.7\" font-family=\"Helvetica,sans-Serif\" font-size=\"14.00\">class = Dead</text>\n</g>\n<!-- 16&#45;&gt;24 -->\n<g id=\"edge24\" class=\"edge\">\n<title>16&#45;&gt;24</title>\n<path fill=\"none\" stroke=\"black\" d=\"M1316.75,-362.65C1342.71,-347.69 1371.24,-331.24 1395.64,-317.18\"/>\n<polygon fill=\"black\" stroke=\"black\" points=\"1397.24,-320.3 1404.16,-312.27 1393.75,-314.23 1397.24,-320.3\"/>\n</g>\n<!-- 18 -->\n<g id=\"node19\" class=\"node\">\n<title>18</title>\n<path fill=\"#e9965a\" stroke=\"black\" d=\"M1261,-200.5C1261,-200.5 1143.75,-200.5 1143.75,-200.5 1137.75,-200.5 1131.75,-194.5 1131.75,-188.5 1131.75,-188.5 1131.75,-122 1131.75,-122 1131.75,-116 1137.75,-110 1143.75,-110 1143.75,-110 1261,-110 1261,-110 1267,-110 1273,-116 1273,-122 1273,-122 1273,-188.5 1273,-188.5 1273,-194.5 1267,-200.5 1261,-200.5\"/>\n<text text-anchor=\"start\" x=\"1139.75\" y=\"-183.2\" font-family=\"Helvetica,sans-Serif\" font-size=\"14.00\">Allegiances_0 ≤ 0.5</text>\n<text text-anchor=\"start\" x=\"1165.25\" y=\"-166.7\" font-family=\"Helvetica,sans-Serif\" font-size=\"14.00\">gini = 0.247</text>\n<text text-anchor=\"start\" x=\"1155.12\" y=\"-150.2\" font-family=\"Helvetica,sans-Serif\" font-size=\"14.00\">samples = 118</text>\n<text text-anchor=\"start\" x=\"1149.88\" y=\"-133.7\" font-family=\"Helvetica,sans-Serif\" font-size=\"14.00\">value = [101, 17]</text>\n<text text-anchor=\"start\" x=\"1162.62\" y=\"-117.2\" font-family=\"Helvetica,sans-Serif\" font-size=\"14.00\">class = Alive</text>\n</g>\n<!-- 17&#45;&gt;18 -->\n<g id=\"edge18\" class=\"edge\">\n<title>17&#45;&gt;18</title>\n<path fill=\"none\" stroke=\"black\" d=\"M1226.12,-236.15C1223.78,-228.29 1221.32,-220.01 1218.91,-211.89\"/>\n<polygon fill=\"black\" stroke=\"black\" points=\"1222.3,-210.99 1216.09,-202.4 1215.59,-212.99 1222.3,-210.99\"/>\n</g>\n<!-- 21 -->\n<g id=\"node22\" class=\"node\">\n<title>21</title>\n<path fill=\"#ffffff\" stroke=\"black\" d=\"M1375.5,-200.5C1375.5,-200.5 1303.25,-200.5 1303.25,-200.5 1297.25,-200.5 1291.25,-194.5 1291.25,-188.5 1291.25,-188.5 1291.25,-122 1291.25,-122 1291.25,-116 1297.25,-110 1303.25,-110 1303.25,-110 1375.5,-110 1375.5,-110 1381.5,-110 1387.5,-116 1387.5,-122 1387.5,-122 1387.5,-188.5 1387.5,-188.5 1387.5,-194.5 1381.5,-200.5 1375.5,-200.5\"/>\n<text text-anchor=\"start\" x=\"1307.5\" y=\"-183.2\" font-family=\"Helvetica,sans-Serif\" font-size=\"14.00\">CoK ≤ 0.5</text>\n<text text-anchor=\"start\" x=\"1310.5\" y=\"-166.7\" font-family=\"Helvetica,sans-Serif\" font-size=\"14.00\">gini = 0.5</text>\n<text text-anchor=\"start\" x=\"1300.38\" y=\"-150.2\" font-family=\"Helvetica,sans-Serif\" font-size=\"14.00\">samples = 8</text>\n<text text-anchor=\"start\" x=\"1299.25\" y=\"-133.7\" font-family=\"Helvetica,sans-Serif\" font-size=\"14.00\">value = [4, 4]</text>\n<text text-anchor=\"start\" x=\"1299.62\" y=\"-117.2\" font-family=\"Helvetica,sans-Serif\" font-size=\"14.00\">class = Alive</text>\n</g>\n<!-- 17&#45;&gt;21 -->\n<g id=\"edge21\" class=\"edge\">\n<title>17&#45;&gt;21</title>\n<path fill=\"none\" stroke=\"black\" d=\"M1275.19,-236.15C1282.09,-227.57 1289.37,-218.5 1296.46,-209.67\"/>\n<polygon fill=\"black\" stroke=\"black\" points=\"1298.99,-212.12 1302.52,-202.13 1293.53,-207.74 1298.99,-212.12\"/>\n</g>\n<!-- 19 -->\n<g id=\"node20\" class=\"node\">\n<title>19</title>\n<path fill=\"#e78d4b\" stroke=\"black\" d=\"M1128.62,-74C1128.62,-74 1024.12,-74 1024.12,-74 1018.12,-74 1012.12,-68 1012.12,-62 1012.12,-62 1012.12,-12 1012.12,-12 1012.12,-6 1018.12,0 1024.12,0 1024.12,0 1128.62,0 1128.62,0 1134.62,0 1140.62,-6 1140.62,-12 1140.62,-12 1140.62,-62 1140.62,-62 1140.62,-68 1134.62,-74 1128.62,-74\"/>\n<text text-anchor=\"start\" x=\"1039.25\" y=\"-56.7\" font-family=\"Helvetica,sans-Serif\" font-size=\"14.00\">gini = 0.156</text>\n<text text-anchor=\"start\" x=\"1033.25\" y=\"-40.2\" font-family=\"Helvetica,sans-Serif\" font-size=\"14.00\">samples = 82</text>\n<text text-anchor=\"start\" x=\"1020.12\" y=\"-23.7\" font-family=\"Helvetica,sans-Serif\" font-size=\"14.00\">value = [75.0, 7.0]</text>\n<text text-anchor=\"start\" x=\"1036.62\" y=\"-7.2\" font-family=\"Helvetica,sans-Serif\" font-size=\"14.00\">class = Alive</text>\n</g>\n<!-- 18&#45;&gt;19 -->\n<g id=\"edge19\" class=\"edge\">\n<title>18&#45;&gt;19</title>\n<path fill=\"none\" stroke=\"black\" d=\"M1154.02,-109.64C1144.25,-100.62 1133.98,-91.15 1124.23,-82.15\"/>\n<polygon fill=\"black\" stroke=\"black\" points=\"1126.66,-79.63 1116.93,-75.42 1121.91,-84.77 1126.66,-79.63\"/>\n</g>\n<!-- 20 -->\n<g id=\"node21\" class=\"node\">\n<title>20</title>\n<path fill=\"#efb185\" stroke=\"black\" d=\"M1259.75,-74C1259.75,-74 1171,-74 1171,-74 1165,-74 1159,-68 1159,-62 1159,-62 1159,-12 1159,-12 1159,-6 1165,0 1171,0 1171,0 1259.75,0 1259.75,0 1265.75,0 1271.75,-6 1271.75,-12 1271.75,-12 1271.75,-62 1271.75,-62 1271.75,-68 1265.75,-74 1259.75,-74\"/>\n<text text-anchor=\"start\" x=\"1178.25\" y=\"-56.7\" font-family=\"Helvetica,sans-Serif\" font-size=\"14.00\">gini = 0.401</text>\n<text text-anchor=\"start\" x=\"1172.25\" y=\"-40.2\" font-family=\"Helvetica,sans-Serif\" font-size=\"14.00\">samples = 36</text>\n<text text-anchor=\"start\" x=\"1167\" y=\"-23.7\" font-family=\"Helvetica,sans-Serif\" font-size=\"14.00\">value = [26, 10]</text>\n<text text-anchor=\"start\" x=\"1175.62\" y=\"-7.2\" font-family=\"Helvetica,sans-Serif\" font-size=\"14.00\">class = Alive</text>\n</g>\n<!-- 18&#45;&gt;20 -->\n<g id=\"edge20\" class=\"edge\">\n<title>18&#45;&gt;20</title>\n<path fill=\"none\" stroke=\"black\" d=\"M1207.36,-109.64C1208.24,-101.81 1209.15,-93.63 1210.04,-85.72\"/>\n<polygon fill=\"black\" stroke=\"black\" points=\"1213.5,-86.22 1211.14,-75.9 1206.55,-85.45 1213.5,-86.22\"/>\n</g>\n<!-- 22 -->\n<g id=\"node23\" class=\"node\">\n<title>22</title>\n<path fill=\"#6ab6ec\" stroke=\"black\" d=\"M1377,-74C1377,-74 1301.75,-74 1301.75,-74 1295.75,-74 1289.75,-68 1289.75,-62 1289.75,-62 1289.75,-12 1289.75,-12 1289.75,-6 1295.75,0 1301.75,0 1301.75,0 1377,0 1377,0 1383,0 1389,-6 1389,-12 1389,-12 1389,-62 1389,-62 1389,-68 1383,-74 1377,-74\"/>\n<text text-anchor=\"start\" x=\"1306.38\" y=\"-56.7\" font-family=\"Helvetica,sans-Serif\" font-size=\"14.00\">gini = 0.32</text>\n<text text-anchor=\"start\" x=\"1300.38\" y=\"-40.2\" font-family=\"Helvetica,sans-Serif\" font-size=\"14.00\">samples = 5</text>\n<text text-anchor=\"start\" x=\"1299.25\" y=\"-23.7\" font-family=\"Helvetica,sans-Serif\" font-size=\"14.00\">value = [1, 4]</text>\n<text text-anchor=\"start\" x=\"1297.75\" y=\"-7.2\" font-family=\"Helvetica,sans-Serif\" font-size=\"14.00\">class = Dead</text>\n</g>\n<!-- 21&#45;&gt;22 -->\n<g id=\"edge22\" class=\"edge\">\n<title>21&#45;&gt;22</title>\n<path fill=\"none\" stroke=\"black\" d=\"M1339.38,-109.64C1339.38,-101.81 1339.38,-93.63 1339.38,-85.72\"/>\n<polygon fill=\"black\" stroke=\"black\" points=\"1342.88,-85.91 1339.38,-75.91 1335.88,-85.91 1342.88,-85.91\"/>\n</g>\n<!-- 23 -->\n<g id=\"node24\" class=\"node\">\n<title>23</title>\n<path fill=\"#e58139\" stroke=\"black\" d=\"M1491.5,-74C1491.5,-74 1419.25,-74 1419.25,-74 1413.25,-74 1407.25,-68 1407.25,-62 1407.25,-62 1407.25,-12 1407.25,-12 1407.25,-6 1413.25,0 1419.25,0 1419.25,0 1491.5,0 1491.5,0 1497.5,0 1503.5,-6 1503.5,-12 1503.5,-12 1503.5,-62 1503.5,-62 1503.5,-68 1497.5,-74 1491.5,-74\"/>\n<text text-anchor=\"start\" x=\"1426.5\" y=\"-56.7\" font-family=\"Helvetica,sans-Serif\" font-size=\"14.00\">gini = 0.0</text>\n<text text-anchor=\"start\" x=\"1416.38\" y=\"-40.2\" font-family=\"Helvetica,sans-Serif\" font-size=\"14.00\">samples = 3</text>\n<text text-anchor=\"start\" x=\"1415.25\" y=\"-23.7\" font-family=\"Helvetica,sans-Serif\" font-size=\"14.00\">value = [3, 0]</text>\n<text text-anchor=\"start\" x=\"1415.62\" y=\"-7.2\" font-family=\"Helvetica,sans-Serif\" font-size=\"14.00\">class = Alive</text>\n</g>\n<!-- 21&#45;&gt;23 -->\n<g id=\"edge23\" class=\"edge\">\n<title>21&#45;&gt;23</title>\n<path fill=\"none\" stroke=\"black\" d=\"M1383.89,-109.64C1392.79,-100.72 1402.15,-91.34 1411.04,-82.43\"/>\n<polygon fill=\"black\" stroke=\"black\" points=\"1413.4,-85.02 1417.99,-75.46 1408.45,-80.07 1413.4,-85.02\"/>\n</g>\n<!-- 25 -->\n<g id=\"node26\" class=\"node\">\n<title>25</title>\n<path fill=\"#399de5\" stroke=\"black\" d=\"M1493,-192.25C1493,-192.25 1417.75,-192.25 1417.75,-192.25 1411.75,-192.25 1405.75,-186.25 1405.75,-180.25 1405.75,-180.25 1405.75,-130.25 1405.75,-130.25 1405.75,-124.25 1411.75,-118.25 1417.75,-118.25 1417.75,-118.25 1493,-118.25 1493,-118.25 1499,-118.25 1505,-124.25 1505,-130.25 1505,-130.25 1505,-180.25 1505,-180.25 1505,-186.25 1499,-192.25 1493,-192.25\"/>\n<text text-anchor=\"start\" x=\"1426.5\" y=\"-174.95\" font-family=\"Helvetica,sans-Serif\" font-size=\"14.00\">gini = 0.0</text>\n<text text-anchor=\"start\" x=\"1416.38\" y=\"-158.45\" font-family=\"Helvetica,sans-Serif\" font-size=\"14.00\">samples = 2</text>\n<text text-anchor=\"start\" x=\"1415.25\" y=\"-141.95\" font-family=\"Helvetica,sans-Serif\" font-size=\"14.00\">value = [0, 2]</text>\n<text text-anchor=\"start\" x=\"1413.75\" y=\"-125.45\" font-family=\"Helvetica,sans-Serif\" font-size=\"14.00\">class = Dead</text>\n</g>\n<!-- 24&#45;&gt;25 -->\n<g id=\"edge25\" class=\"edge\">\n<title>24&#45;&gt;25</title>\n<path fill=\"none\" stroke=\"black\" d=\"M1455.38,-236.15C1455.38,-225.6 1455.38,-214.31 1455.38,-203.63\"/>\n<polygon fill=\"black\" stroke=\"black\" points=\"1458.88,-203.87 1455.38,-193.87 1451.88,-203.87 1458.88,-203.87\"/>\n</g>\n<!-- 26 -->\n<g id=\"node27\" class=\"node\">\n<title>26</title>\n<path fill=\"#ffffff\" stroke=\"black\" d=\"M1610,-200.5C1610,-200.5 1534.75,-200.5 1534.75,-200.5 1528.75,-200.5 1522.75,-194.5 1522.75,-188.5 1522.75,-188.5 1522.75,-122 1522.75,-122 1522.75,-116 1528.75,-110 1534.75,-110 1534.75,-110 1610,-110 1610,-110 1616,-110 1622,-116 1622,-122 1622,-122 1622,-188.5 1622,-188.5 1622,-194.5 1616,-200.5 1610,-200.5\"/>\n<text text-anchor=\"start\" x=\"1530.75\" y=\"-183.2\" font-family=\"Helvetica,sans-Serif\" font-size=\"14.00\">Gender ≤ 0.5</text>\n<text text-anchor=\"start\" x=\"1543.5\" y=\"-166.7\" font-family=\"Helvetica,sans-Serif\" font-size=\"14.00\">gini = 0.5</text>\n<text text-anchor=\"start\" x=\"1533.38\" y=\"-150.2\" font-family=\"Helvetica,sans-Serif\" font-size=\"14.00\">samples = 2</text>\n<text text-anchor=\"start\" x=\"1532.25\" y=\"-133.7\" font-family=\"Helvetica,sans-Serif\" font-size=\"14.00\">value = [1, 1]</text>\n<text text-anchor=\"start\" x=\"1532.62\" y=\"-117.2\" font-family=\"Helvetica,sans-Serif\" font-size=\"14.00\">class = Alive</text>\n</g>\n<!-- 24&#45;&gt;26 -->\n<g id=\"edge26\" class=\"edge\">\n<title>24&#45;&gt;26</title>\n<path fill=\"none\" stroke=\"black\" d=\"M1497.28,-236.15C1505.52,-227.39 1514.23,-218.12 1522.69,-209.12\"/>\n<polygon fill=\"black\" stroke=\"black\" points=\"1525.03,-211.74 1529.33,-202.06 1519.93,-206.95 1525.03,-211.74\"/>\n</g>\n<!-- 27 -->\n<g id=\"node28\" class=\"node\">\n<title>27</title>\n<path fill=\"#e58139\" stroke=\"black\" d=\"M1607.5,-74C1607.5,-74 1535.25,-74 1535.25,-74 1529.25,-74 1523.25,-68 1523.25,-62 1523.25,-62 1523.25,-12 1523.25,-12 1523.25,-6 1529.25,0 1535.25,0 1535.25,0 1607.5,0 1607.5,0 1613.5,0 1619.5,-6 1619.5,-12 1619.5,-12 1619.5,-62 1619.5,-62 1619.5,-68 1613.5,-74 1607.5,-74\"/>\n<text text-anchor=\"start\" x=\"1542.5\" y=\"-56.7\" font-family=\"Helvetica,sans-Serif\" font-size=\"14.00\">gini = 0.0</text>\n<text text-anchor=\"start\" x=\"1532.38\" y=\"-40.2\" font-family=\"Helvetica,sans-Serif\" font-size=\"14.00\">samples = 1</text>\n<text text-anchor=\"start\" x=\"1531.25\" y=\"-23.7\" font-family=\"Helvetica,sans-Serif\" font-size=\"14.00\">value = [1, 0]</text>\n<text text-anchor=\"start\" x=\"1531.62\" y=\"-7.2\" font-family=\"Helvetica,sans-Serif\" font-size=\"14.00\">class = Alive</text>\n</g>\n<!-- 26&#45;&gt;27 -->\n<g id=\"edge27\" class=\"edge\">\n<title>26&#45;&gt;27</title>\n<path fill=\"none\" stroke=\"black\" d=\"M1571.99,-109.64C1571.92,-101.81 1571.85,-93.63 1571.79,-85.72\"/>\n<polygon fill=\"black\" stroke=\"black\" points=\"1575.29,-85.88 1571.7,-75.91 1568.29,-85.94 1575.29,-85.88\"/>\n</g>\n<!-- 28 -->\n<g id=\"node29\" class=\"node\">\n<title>28</title>\n<path fill=\"#399de5\" stroke=\"black\" d=\"M1725,-74C1725,-74 1649.75,-74 1649.75,-74 1643.75,-74 1637.75,-68 1637.75,-62 1637.75,-62 1637.75,-12 1637.75,-12 1637.75,-6 1643.75,0 1649.75,0 1649.75,0 1725,0 1725,0 1731,0 1737,-6 1737,-12 1737,-12 1737,-62 1737,-62 1737,-68 1731,-74 1725,-74\"/>\n<text text-anchor=\"start\" x=\"1658.5\" y=\"-56.7\" font-family=\"Helvetica,sans-Serif\" font-size=\"14.00\">gini = 0.0</text>\n<text text-anchor=\"start\" x=\"1648.38\" y=\"-40.2\" font-family=\"Helvetica,sans-Serif\" font-size=\"14.00\">samples = 1</text>\n<text text-anchor=\"start\" x=\"1647.25\" y=\"-23.7\" font-family=\"Helvetica,sans-Serif\" font-size=\"14.00\">value = [0, 1]</text>\n<text text-anchor=\"start\" x=\"1645.75\" y=\"-7.2\" font-family=\"Helvetica,sans-Serif\" font-size=\"14.00\">class = Dead</text>\n</g>\n<!-- 26&#45;&gt;28 -->\n<g id=\"edge28\" class=\"edge\">\n<title>26&#45;&gt;28</title>\n<path fill=\"none\" stroke=\"black\" d=\"M1616.51,-109.64C1625.33,-100.72 1634.61,-91.34 1643.43,-82.43\"/>\n<polygon fill=\"black\" stroke=\"black\" points=\"1645.76,-85.04 1650.31,-75.47 1640.79,-80.12 1645.76,-85.04\"/>\n</g>\n</g>\n</svg>\n",
      "text/plain": [
       "<graphviz.sources.Source at 0x158f728c520>"
      ]
     },
     "execution_count": 614,
     "metadata": {},
     "output_type": "execute_result"
    }
   ],
   "execution_count": 614
  },
  {
   "cell_type": "markdown",
   "source": "# <div style=\"font-family: 'Garamond', serif; font-size: 22px; color: #ffffff; background-color: #34568B; text-align: center; padding: 15px; border-radius: 10px; border: 2px solid #FF6F61; box-shadow: 0 6px 12px rgba(0, 0, 0, 0.3); margin-bottom: 20px;\">Step 4: Randomized Search Cross Validation</div>",
   "metadata": {}
  },
  {
   "cell_type": "markdown",
   "source": "<div style=\"font-family: 'Lucida Sans Unicode', sans-serif; font-size: 18px; color: #4A235A; background-color: #D7BDE2; text-align: left; padding: 10px; border-left: 5px solid #7D3C98; box-shadow: 0 4px 6px rgba(0, 0, 0, 0.2); margin-bottom: 10px;\">Hyperparameter Tuning with Randomized Search CV</div>",
   "metadata": {}
  },
  {
   "cell_type": "markdown",
   "source": "Sometimes, the default parameters of a model may not yield the best performance. To optimize the model's performance, we can use techniques like Randomized Search Cross-Validation to find the best hyperparameters.",
   "metadata": {}
  },
  {
   "cell_type": "code",
   "source": [
    "# Define the parameter grid for DecisionTreeClassifier (narrowed for readable trees)\n",
    "param_grid = {\n",
    "    'model__max_depth': np.arange(3, 8),\n",
    "    'model__min_samples_split': np.arange(2, 10),\n",
    "    'model__min_samples_leaf': np.arange(1, 6),\n",
    "    'model__criterion': ['gini', 'entropy', 'log_loss'],\n",
    "    'model__ccp_alpha': np.linspace(0.0, 0.005, 11),\n",
    "    'model__class_weight': [None, 'balanced']\n",
    "}\n",
    "\n",
    "# Define StratifiedKFold for consistent splits\n",
    "cv = StratifiedKFold(n_splits=5, shuffle=True, random_state=42)\n",
    "\n",
    "# Create the randomized search with 10-fold cross-validation\n",
    "dt_random_search = RandomizedSearchCV(\n",
    "    estimator=dt_pipeline,\n",
    "    param_distributions=param_grid,\n",
    "    n_iter=40,\n",
    "    scoring='accuracy',\n",
    "    cv=cv,\n",
    "    random_state=42,\n",
    "    n_jobs=-1,\n",
    "    verbose=1\n",
    ")\n",
    "\n",
    "# Fit the random search model\n",
    "dt_random_search.fit(X_train, y_train)\n",
    "\n",
    "# Best parameters and score\n",
    "best_params = dt_random_search.best_params_\n",
    "best_score = dt_random_search.best_score_\n",
    "\n",
    "best_params, best_score"
   ],
   "metadata": {
    "ExecuteTime": {
     "end_time": "2025-09-22T15:04:22.784687Z",
     "start_time": "2025-09-22T15:04:22.239169Z"
    }
   },
   "outputs": [
    {
     "name": "stdout",
     "output_type": "stream",
     "text": [
      "Fitting 5 folds for each of 40 candidates, totalling 200 fits\n"
     ]
    },
    {
     "data": {
      "text/plain": [
       "({'model__min_samples_split': np.int64(5),\n",
       "  'model__min_samples_leaf': np.int64(2),\n",
       "  'model__max_depth': np.int64(4),\n",
       "  'model__criterion': 'entropy',\n",
       "  'model__class_weight': None,\n",
       "  'model__ccp_alpha': np.float64(0.002)},\n",
       " np.float64(0.6679611650485437))"
      ]
     },
     "execution_count": 615,
     "metadata": {},
     "output_type": "execute_result"
    }
   ],
   "execution_count": 615
  },
  {
   "cell_type": "markdown",
   "source": "<div style=\"font-family: 'Lucida Sans Unicode', sans-serif; font-size: 18px; color: #4A235A; background-color: #D7BDE2; text-align: left; padding: 10px; border-left: 5px solid #7D3C98; box-shadow: 0 4px 6px rgba(0, 0, 0, 0.2); margin-bottom: 10px;\">Evaluating the best hyperparameters performance</div>",
   "metadata": {}
  },
  {
   "cell_type": "code",
   "source": [
    "# Define the tuned Decision Tree model\n",
    "dt_model_tuned = DecisionTreeClassifier(\n",
    "    max_depth=best_params['model__max_depth'],\n",
    "    min_samples_split=best_params['model__min_samples_split'],\n",
    "    min_samples_leaf=best_params['model__min_samples_leaf'],\n",
    "    criterion=best_params['model__criterion'],\n",
    "    ccp_alpha=best_params['model__ccp_alpha'],\n",
    "    class_weight=best_params['model__class_weight'],\n",
    "    random_state=42\n",
    ")\n",
    "\n",
    "# Update the pipeline\n",
    "dt_pipeline.set_params(model=dt_model_tuned)\n",
    "\n",
    "# Fit the model with the training data\n",
    "dt_pipeline.fit(X_train, y_train)\n",
    "\n",
    "# Predict probabilities on the validation set\n",
    "valid_probs_tuned = dt_pipeline.predict_proba(X_valid)\n",
    "\n",
    "# Extracting the probabilities for the positive class\n",
    "valid_positive_probs_tuned = valid_probs_tuned[:, 1]\n",
    "\n",
    "# Evaluate the tuned model using AUC\n",
    "auc_score_tuned = roc_auc_score(y_valid, valid_positive_probs_tuned)\n",
    "auc_score_tuned"
   ],
   "metadata": {
    "ExecuteTime": {
     "end_time": "2025-09-22T15:04:22.910694Z",
     "start_time": "2025-09-22T15:04:22.880686Z"
    }
   },
   "outputs": [
    {
     "data": {
      "text/plain": [
       "0.6930351906158356"
      ]
     },
     "execution_count": 616,
     "metadata": {},
     "output_type": "execute_result"
    }
   ],
   "execution_count": 616
  },
  {
   "cell_type": "markdown",
   "source": "<div style=\"font-family: 'Lucida Sans Unicode', sans-serif; font-size: 18px; color: #4A235A; background-color: #D7BDE2; text-align: left; padding: 10px; border-left: 5px solid #7D3C98; box-shadow: 0 4px 6px rgba(0, 0, 0, 0.2); margin-bottom: 10px;\">Comparing accuracy scores before and after tuning</div>",
   "metadata": {}
  },
  {
   "cell_type": "code",
   "source": "# Display Accuracy before (from earlier eval) and after tuning\nprint(f\"Accuracy before tuning: {accuracy:.4f}\")\n\ny_pred_tuned_tmp = dt_pipeline.predict(X_valid)\naccuracy_tuned_tmp = accuracy_score(y_valid, y_pred_tuned_tmp)\nprint(f\"Accuracy after tuning:  {accuracy_tuned_tmp:.4f}\")",
   "metadata": {
    "ExecuteTime": {
     "end_time": "2025-09-22T15:04:23.019687Z",
     "start_time": "2025-09-22T15:04:23.005687Z"
    }
   },
   "outputs": [
    {
     "name": "stdout",
     "output_type": "stream",
     "text": [
      "Accuracy before tuning: 0.6744\n",
      "Accuracy after tuning:  0.6860\n"
     ]
    }
   ],
   "execution_count": 617
  },
  {
   "cell_type": "markdown",
   "source": "<div style=\"font-family: 'Lucida Sans Unicode', sans-serif; font-size: 18px; color: #4A235A; background-color: #D7BDE2; text-align: left; padding: 10px; border-left: 5px solid #7D3C98; box-shadow: 0 4px 6px rgba(0, 0, 0, 0.2); margin-bottom: 10px;\">Evaluating the tuned Decision Tree model with confusion matrix, precision, recall, and accuracy</div>",
   "metadata": {}
  },
  {
   "cell_type": "code",
   "source": "# Make predictions on the validation set\ny_pred = dt_pipeline.predict(X_valid)\n\n# Compute confusion matrix\ncm = confusion_matrix(y_valid, y_pred)\n\n# Compute precision, recall, accuracy\nprecision = precision_score(y_valid, y_pred, zero_division=0)\nrecall = recall_score(y_valid, y_pred, zero_division=0)\naccuracy = accuracy_score(y_valid, y_pred)\n\n# Print evaluation metrics\nprint(f\"Confusion Matrix:\\n{cm}\")\nprint(f\"Precision: {precision:.4f}\")\nprint(f\"Recall:    {recall:.4f}\")\nprint(f\"Accuracy:  {accuracy:.4f}\")",
   "metadata": {
    "ExecuteTime": {
     "end_time": "2025-09-22T15:04:23.156692Z",
     "start_time": "2025-09-22T15:04:23.128688Z"
    }
   },
   "outputs": [
    {
     "name": "stdout",
     "output_type": "stream",
     "text": [
      "Confusion Matrix:\n",
      "[[77 33]\n",
      " [21 41]]\n",
      "Precision: 0.5541\n",
      "Recall:    0.6613\n",
      "Accuracy:  0.6860\n"
     ]
    }
   ],
   "execution_count": 618
  },
  {
   "cell_type": "markdown",
   "source": "<div style=\"font-family: 'Lucida Sans Unicode', sans-serif; font-size: 18px; color: #4A235A; background-color: #D7BDE2; text-align: left; padding: 10px; border-left: 5px solid #7D3C98; box-shadow: 0 4px 6px rgba(0, 0, 0, 0.2); margin-bottom: 10px;\">Visualizing the tuned decision tree</div>",
   "metadata": {}
  },
  {
   "cell_type": "code",
   "source": "# Extract fitted OneHotEncoder from the full pipeline\nfitted_ohe = dt_pipeline.named_steps['preprocessor'].transformers_[1][1].named_steps['onehot']\n\n# Extract feature names after one-hot encoding\nohe_feature_names = fitted_ohe.get_feature_names_out(categorical_cols)\n\n# Combine numerical and categorical (one-hot) feature names\nfeature_names = list(numerical_cols) + list(ohe_feature_names)\n\n# Extract fitted decision tree model from pipeline\ndt_model = dt_pipeline.named_steps['model']\n\n# Export tree to DOT format\ndot_data = export_graphviz(\n    dt_model,\n    out_file=None,\n    feature_names=feature_names,\n    class_names=['Alive', 'Dead'],\n    filled=True,\n    rounded=True,\n    special_characters=True\n)\n\n# Render the tree using Graphviz\ngraph = graphviz.Source(dot_data, engine=\"dot\")\nif os.path.exists('plot/'):\n    png_bytes = graph.pipe(format=\"png\")\n    with open(\"plot/tree_tuned.png\", \"wb\") as f:\n        f.write(png_bytes)\ngraph",
   "metadata": {
    "ExecuteTime": {
     "end_time": "2025-09-22T15:04:23.700043Z",
     "start_time": "2025-09-22T15:04:23.266687Z"
    }
   },
   "outputs": [
    {
     "data": {
      "image/svg+xml": "<?xml version=\"1.0\" encoding=\"UTF-8\" standalone=\"no\"?>\n<!DOCTYPE svg PUBLIC \"-//W3C//DTD SVG 1.1//EN\"\n \"http://www.w3.org/Graphics/SVG/1.1/DTD/svg11.dtd\">\n<!-- Generated by graphviz version 9.0.0 (20230911.1827)\n -->\n<!-- Title: Tree Pages: 1 -->\n<svg width=\"1537pt\" height=\"588pt\"\n viewBox=\"0.00 0.00 1537.12 588.00\" xmlns=\"http://www.w3.org/2000/svg\" xmlns:xlink=\"http://www.w3.org/1999/xlink\">\n<g id=\"graph0\" class=\"graph\" transform=\"scale(1 1) rotate(0) translate(4 584)\">\n<title>Tree</title>\n<polygon fill=\"white\" stroke=\"none\" points=\"-4,4 -4,-584 1533.12,-584 1533.12,4 -4,4\"/>\n<!-- 0 -->\n<g id=\"node1\" class=\"node\">\n<title>0</title>\n<path fill=\"#f4c8a8\" stroke=\"black\" d=\"M988.12,-580C988.12,-580 882.88,-580 882.88,-580 876.88,-580 870.88,-574 870.88,-568 870.88,-568 870.88,-501.5 870.88,-501.5 870.88,-495.5 876.88,-489.5 882.88,-489.5 882.88,-489.5 988.12,-489.5 988.12,-489.5 994.12,-489.5 1000.12,-495.5 1000.12,-501.5 1000.12,-501.5 1000.12,-568 1000.12,-568 1000.12,-574 994.12,-580 988.12,-580\"/>\n<text text-anchor=\"start\" x=\"905.88\" y=\"-562.7\" font-family=\"Helvetica,sans-Serif\" font-size=\"14.00\">FfC ≤ 0.5</text>\n<text text-anchor=\"start\" x=\"885.62\" y=\"-546.2\" font-family=\"Helvetica,sans-Serif\" font-size=\"14.00\">entropy = 0.942</text>\n<text text-anchor=\"start\" x=\"888.25\" y=\"-529.7\" font-family=\"Helvetica,sans-Serif\" font-size=\"14.00\">samples = 515</text>\n<text text-anchor=\"start\" x=\"878.88\" y=\"-513.2\" font-family=\"Helvetica,sans-Serif\" font-size=\"14.00\">value = [330, 185]</text>\n<text text-anchor=\"start\" x=\"895.75\" y=\"-496.7\" font-family=\"Helvetica,sans-Serif\" font-size=\"14.00\">class = Alive</text>\n</g>\n<!-- 1 -->\n<g id=\"node2\" class=\"node\">\n<title>1</title>\n<path fill=\"#f8dcc7\" stroke=\"black\" d=\"M801.12,-453.5C801.12,-453.5 695.88,-453.5 695.88,-453.5 689.88,-453.5 683.88,-447.5 683.88,-441.5 683.88,-441.5 683.88,-375 683.88,-375 683.88,-369 689.88,-363 695.88,-363 695.88,-363 801.12,-363 801.12,-363 807.12,-363 813.12,-369 813.12,-375 813.12,-375 813.12,-441.5 813.12,-441.5 813.12,-447.5 807.12,-453.5 801.12,-453.5\"/>\n<text text-anchor=\"start\" x=\"715.5\" y=\"-436.2\" font-family=\"Helvetica,sans-Serif\" font-size=\"14.00\">DwD ≤ 0.5</text>\n<text text-anchor=\"start\" x=\"698.62\" y=\"-419.7\" font-family=\"Helvetica,sans-Serif\" font-size=\"14.00\">entropy = 0.981</text>\n<text text-anchor=\"start\" x=\"701.25\" y=\"-403.2\" font-family=\"Helvetica,sans-Serif\" font-size=\"14.00\">samples = 385</text>\n<text text-anchor=\"start\" x=\"691.88\" y=\"-386.7\" font-family=\"Helvetica,sans-Serif\" font-size=\"14.00\">value = [224, 161]</text>\n<text text-anchor=\"start\" x=\"708.75\" y=\"-370.2\" font-family=\"Helvetica,sans-Serif\" font-size=\"14.00\">class = Alive</text>\n</g>\n<!-- 0&#45;&gt;1 -->\n<g id=\"edge1\" class=\"edge\">\n<title>0&#45;&gt;1</title>\n<path fill=\"none\" stroke=\"black\" d=\"M870.62,-490.56C855.19,-480.28 838.61,-469.24 822.79,-458.71\"/>\n<polygon fill=\"black\" stroke=\"black\" points=\"825.1,-456.05 814.84,-453.42 821.22,-461.87 825.1,-456.05\"/>\n<text text-anchor=\"middle\" x=\"818.5\" y=\"-472.04\" font-family=\"Helvetica,sans-Serif\" font-size=\"14.00\">True</text>\n</g>\n<!-- 16 -->\n<g id=\"node17\" class=\"node\">\n<title>16</title>\n<path fill=\"#eb9e66\" stroke=\"black\" d=\"M1253.38,-453.5C1253.38,-453.5 1041.62,-453.5 1041.62,-453.5 1035.62,-453.5 1029.62,-447.5 1029.62,-441.5 1029.62,-441.5 1029.62,-375 1029.62,-375 1029.62,-369 1035.62,-363 1041.62,-363 1041.62,-363 1253.38,-363 1253.38,-363 1259.38,-363 1265.38,-369 1265.38,-375 1265.38,-375 1265.38,-441.5 1265.38,-441.5 1265.38,-447.5 1259.38,-453.5 1253.38,-453.5\"/>\n<text text-anchor=\"start\" x=\"1037.62\" y=\"-436.2\" font-family=\"Helvetica,sans-Serif\" font-size=\"14.00\">Allegiances_House Lannister ≤ 0.5</text>\n<text text-anchor=\"start\" x=\"1101.75\" y=\"-419.7\" font-family=\"Helvetica,sans-Serif\" font-size=\"14.00\">entropy = 0.69</text>\n<text text-anchor=\"start\" x=\"1100.25\" y=\"-403.2\" font-family=\"Helvetica,sans-Serif\" font-size=\"14.00\">samples = 130</text>\n<text text-anchor=\"start\" x=\"1095\" y=\"-386.7\" font-family=\"Helvetica,sans-Serif\" font-size=\"14.00\">value = [106, 24]</text>\n<text text-anchor=\"start\" x=\"1107.75\" y=\"-370.2\" font-family=\"Helvetica,sans-Serif\" font-size=\"14.00\">class = Alive</text>\n</g>\n<!-- 0&#45;&gt;16 -->\n<g id=\"edge16\" class=\"edge\">\n<title>0&#45;&gt;16</title>\n<path fill=\"none\" stroke=\"black\" d=\"M1000.55,-495.55C1019.79,-484.25 1041.17,-471.69 1061.52,-459.74\"/>\n<polygon fill=\"black\" stroke=\"black\" points=\"1063.26,-462.78 1070.11,-454.7 1059.72,-456.74 1063.26,-462.78\"/>\n<text text-anchor=\"middle\" x=\"1065.13\" y=\"-473.08\" font-family=\"Helvetica,sans-Serif\" font-size=\"14.00\">False</text>\n</g>\n<!-- 2 -->\n<g id=\"node3\" class=\"node\">\n<title>2</title>\n<path fill=\"#fef9f6\" stroke=\"black\" d=\"M471.12,-327C471.12,-327 353.88,-327 353.88,-327 347.88,-327 341.88,-321 341.88,-315 341.88,-315 341.88,-248.5 341.88,-248.5 341.88,-242.5 347.88,-236.5 353.88,-236.5 353.88,-236.5 471.12,-236.5 471.12,-236.5 477.12,-236.5 483.12,-242.5 483.12,-248.5 483.12,-248.5 483.12,-315 483.12,-315 483.12,-321 477.12,-327 471.12,-327\"/>\n<text text-anchor=\"start\" x=\"349.88\" y=\"-309.7\" font-family=\"Helvetica,sans-Serif\" font-size=\"14.00\">Allegiances_0 ≤ 0.5</text>\n<text text-anchor=\"start\" x=\"370.88\" y=\"-293.2\" font-family=\"Helvetica,sans-Serif\" font-size=\"14.00\">entropy = 1.0</text>\n<text text-anchor=\"start\" x=\"365.25\" y=\"-276.7\" font-family=\"Helvetica,sans-Serif\" font-size=\"14.00\">samples = 268</text>\n<text text-anchor=\"start\" x=\"355.88\" y=\"-260.2\" font-family=\"Helvetica,sans-Serif\" font-size=\"14.00\">value = [137, 131]</text>\n<text text-anchor=\"start\" x=\"372.75\" y=\"-243.7\" font-family=\"Helvetica,sans-Serif\" font-size=\"14.00\">class = Alive</text>\n</g>\n<!-- 1&#45;&gt;2 -->\n<g id=\"edge2\" class=\"edge\">\n<title>1&#45;&gt;2</title>\n<path fill=\"none\" stroke=\"black\" d=\"M683.72,-383.25C629.68,-363.22 552.38,-334.58 494.12,-312.99\"/>\n<polygon fill=\"black\" stroke=\"black\" points=\"495.49,-309.77 484.89,-309.57 493.05,-316.33 495.49,-309.77\"/>\n</g>\n<!-- 9 -->\n<g id=\"node10\" class=\"node\">\n<title>9</title>\n<path fill=\"#eeac7d\" stroke=\"black\" d=\"M828.12,-327C828.12,-327 668.88,-327 668.88,-327 662.88,-327 656.88,-321 656.88,-315 656.88,-315 656.88,-248.5 656.88,-248.5 656.88,-242.5 662.88,-236.5 668.88,-236.5 668.88,-236.5 828.12,-236.5 828.12,-236.5 834.12,-236.5 840.12,-242.5 840.12,-248.5 840.12,-248.5 840.12,-315 840.12,-315 840.12,-321 834.12,-327 828.12,-327\"/>\n<text text-anchor=\"start\" x=\"664.88\" y=\"-309.7\" font-family=\"Helvetica,sans-Serif\" font-size=\"14.00\">Allegiances_Wildling ≤ 0.5</text>\n<text text-anchor=\"start\" x=\"698.62\" y=\"-293.2\" font-family=\"Helvetica,sans-Serif\" font-size=\"14.00\">entropy = 0.821</text>\n<text text-anchor=\"start\" x=\"701.25\" y=\"-276.7\" font-family=\"Helvetica,sans-Serif\" font-size=\"14.00\">samples = 117</text>\n<text text-anchor=\"start\" x=\"688.12\" y=\"-260.2\" font-family=\"Helvetica,sans-Serif\" font-size=\"14.00\">value = [87.0, 30.0]</text>\n<text text-anchor=\"start\" x=\"708.75\" y=\"-243.7\" font-family=\"Helvetica,sans-Serif\" font-size=\"14.00\">class = Alive</text>\n</g>\n<!-- 1&#45;&gt;9 -->\n<g id=\"edge9\" class=\"edge\">\n<title>1&#45;&gt;9</title>\n<path fill=\"none\" stroke=\"black\" d=\"M748.5,-362.65C748.5,-354.97 748.5,-346.89 748.5,-338.94\"/>\n<polygon fill=\"black\" stroke=\"black\" points=\"752,-338.97 748.5,-328.97 745,-338.97 752,-338.97\"/>\n</g>\n<!-- 3 -->\n<g id=\"node4\" class=\"node\">\n<title>3</title>\n<path fill=\"#deeffb\" stroke=\"black\" d=\"M263.62,-200.5C263.62,-200.5 113.38,-200.5 113.38,-200.5 107.38,-200.5 101.38,-194.5 101.38,-188.5 101.38,-188.5 101.38,-122 101.38,-122 101.38,-116 107.38,-110 113.38,-110 113.38,-110 263.62,-110 263.62,-110 269.62,-110 275.62,-116 275.62,-122 275.62,-122 275.62,-188.5 275.62,-188.5 275.62,-194.5 269.62,-200.5 263.62,-200.5\"/>\n<text text-anchor=\"start\" x=\"109.38\" y=\"-183.2\" font-family=\"Helvetica,sans-Serif\" font-size=\"14.00\">Allegiances_Martell ≤ 0.5</text>\n<text text-anchor=\"start\" x=\"138.62\" y=\"-166.7\" font-family=\"Helvetica,sans-Serif\" font-size=\"14.00\">entropy = 0.994</text>\n<text text-anchor=\"start\" x=\"141.25\" y=\"-150.2\" font-family=\"Helvetica,sans-Serif\" font-size=\"14.00\">samples = 185</text>\n<text text-anchor=\"start\" x=\"136\" y=\"-133.7\" font-family=\"Helvetica,sans-Serif\" font-size=\"14.00\">value = [84, 101]</text>\n<text text-anchor=\"start\" x=\"146.88\" y=\"-117.2\" font-family=\"Helvetica,sans-Serif\" font-size=\"14.00\">class = Dead</text>\n</g>\n<!-- 2&#45;&gt;3 -->\n<g id=\"edge3\" class=\"edge\">\n<title>2&#45;&gt;3</title>\n<path fill=\"none\" stroke=\"black\" d=\"M341.62,-241.36C321.6,-230.23 299.53,-217.96 278.54,-206.29\"/>\n<polygon fill=\"black\" stroke=\"black\" points=\"280.42,-203.34 269.98,-201.54 277.02,-209.45 280.42,-203.34\"/>\n</g>\n<!-- 6 -->\n<g id=\"node7\" class=\"node\">\n<title>6</title>\n<path fill=\"#f4c8a9\" stroke=\"black\" d=\"M489.88,-200.5C489.88,-200.5 335.12,-200.5 335.12,-200.5 329.12,-200.5 323.12,-194.5 323.12,-188.5 323.12,-188.5 323.12,-122 323.12,-122 323.12,-116 329.12,-110 335.12,-110 335.12,-110 489.88,-110 489.88,-110 495.88,-110 501.88,-116 501.88,-122 501.88,-122 501.88,-188.5 501.88,-188.5 501.88,-194.5 495.88,-200.5 489.88,-200.5\"/>\n<text text-anchor=\"start\" x=\"331.12\" y=\"-183.2\" font-family=\"Helvetica,sans-Serif\" font-size=\"14.00\">Book Intro Chapter ≤ 52.5</text>\n<text text-anchor=\"start\" x=\"362.62\" y=\"-166.7\" font-family=\"Helvetica,sans-Serif\" font-size=\"14.00\">entropy = 0.944</text>\n<text text-anchor=\"start\" x=\"369.38\" y=\"-150.2\" font-family=\"Helvetica,sans-Serif\" font-size=\"14.00\">samples = 83</text>\n<text text-anchor=\"start\" x=\"352.12\" y=\"-133.7\" font-family=\"Helvetica,sans-Serif\" font-size=\"14.00\">value = [53.0, 30.0]</text>\n<text text-anchor=\"start\" x=\"372.75\" y=\"-117.2\" font-family=\"Helvetica,sans-Serif\" font-size=\"14.00\">class = Alive</text>\n</g>\n<!-- 2&#45;&gt;6 -->\n<g id=\"edge6\" class=\"edge\">\n<title>2&#45;&gt;6</title>\n<path fill=\"none\" stroke=\"black\" d=\"M412.5,-236.15C412.5,-228.47 412.5,-220.39 412.5,-212.44\"/>\n<polygon fill=\"black\" stroke=\"black\" points=\"416,-212.47 412.5,-202.47 409,-212.47 416,-212.47\"/>\n</g>\n<!-- 4 -->\n<g id=\"node5\" class=\"node\">\n<title>4</title>\n<path fill=\"#d6ebfa\" stroke=\"black\" d=\"M109,-74C109,-74 12,-74 12,-74 6,-74 0,-68 0,-62 0,-62 0,-12 0,-12 0,-6 6,0 12,0 12,0 109,0 109,0 115,0 121,-6 121,-12 121,-12 121,-62 121,-62 121,-68 115,-74 109,-74\"/>\n<text text-anchor=\"start\" x=\"14.75\" y=\"-56.7\" font-family=\"Helvetica,sans-Serif\" font-size=\"14.00\">entropy = 0.99</text>\n<text text-anchor=\"start\" x=\"13.25\" y=\"-40.2\" font-family=\"Helvetica,sans-Serif\" font-size=\"14.00\">samples = 181</text>\n<text text-anchor=\"start\" x=\"8\" y=\"-23.7\" font-family=\"Helvetica,sans-Serif\" font-size=\"14.00\">value = [80, 101]</text>\n<text text-anchor=\"start\" x=\"18.88\" y=\"-7.2\" font-family=\"Helvetica,sans-Serif\" font-size=\"14.00\">class = Dead</text>\n</g>\n<!-- 3&#45;&gt;4 -->\n<g id=\"edge4\" class=\"edge\">\n<title>3&#45;&gt;4</title>\n<path fill=\"none\" stroke=\"black\" d=\"M139.38,-109.64C129.35,-100.53 118.81,-90.96 108.82,-81.88\"/>\n<polygon fill=\"black\" stroke=\"black\" points=\"111.45,-79.54 101.69,-75.41 106.74,-84.73 111.45,-79.54\"/>\n</g>\n<!-- 5 -->\n<g id=\"node6\" class=\"node\">\n<title>5</title>\n<path fill=\"#e58139\" stroke=\"black\" d=\"M226.12,-74C226.12,-74 150.88,-74 150.88,-74 144.88,-74 138.88,-68 138.88,-62 138.88,-62 138.88,-12 138.88,-12 138.88,-6 144.88,0 150.88,0 150.88,0 226.12,0 226.12,0 232.12,0 238.12,-6 238.12,-12 238.12,-12 238.12,-62 238.12,-62 238.12,-68 232.12,-74 226.12,-74\"/>\n<text text-anchor=\"start\" x=\"146.88\" y=\"-56.7\" font-family=\"Helvetica,sans-Serif\" font-size=\"14.00\">entropy = 0.0</text>\n<text text-anchor=\"start\" x=\"149.5\" y=\"-40.2\" font-family=\"Helvetica,sans-Serif\" font-size=\"14.00\">samples = 4</text>\n<text text-anchor=\"start\" x=\"148.38\" y=\"-23.7\" font-family=\"Helvetica,sans-Serif\" font-size=\"14.00\">value = [4, 0]</text>\n<text text-anchor=\"start\" x=\"148.75\" y=\"-7.2\" font-family=\"Helvetica,sans-Serif\" font-size=\"14.00\">class = Alive</text>\n</g>\n<!-- 3&#45;&gt;5 -->\n<g id=\"edge5\" class=\"edge\">\n<title>3&#45;&gt;5</title>\n<path fill=\"none\" stroke=\"black\" d=\"M188.5,-109.64C188.5,-101.81 188.5,-93.63 188.5,-85.72\"/>\n<polygon fill=\"black\" stroke=\"black\" points=\"192,-85.91 188.5,-75.91 185,-85.91 192,-85.91\"/>\n</g>\n<!-- 7 -->\n<g id=\"node8\" class=\"node\">\n<title>7</title>\n<path fill=\"#f7d9c3\" stroke=\"black\" d=\"M360.38,-74C360.38,-74 268.62,-74 268.62,-74 262.62,-74 256.62,-68 256.62,-62 256.62,-62 256.62,-12 256.62,-12 256.62,-6 262.62,0 268.62,0 268.62,0 360.38,0 360.38,0 366.38,0 372.38,-6 372.38,-12 372.38,-12 372.38,-62 372.38,-62 372.38,-68 366.38,-74 360.38,-74\"/>\n<text text-anchor=\"start\" x=\"264.62\" y=\"-56.7\" font-family=\"Helvetica,sans-Serif\" font-size=\"14.00\">entropy = 0.977</text>\n<text text-anchor=\"start\" x=\"271.38\" y=\"-40.2\" font-family=\"Helvetica,sans-Serif\" font-size=\"14.00\">samples = 73</text>\n<text text-anchor=\"start\" x=\"266.12\" y=\"-23.7\" font-family=\"Helvetica,sans-Serif\" font-size=\"14.00\">value = [43, 30]</text>\n<text text-anchor=\"start\" x=\"274.75\" y=\"-7.2\" font-family=\"Helvetica,sans-Serif\" font-size=\"14.00\">class = Alive</text>\n</g>\n<!-- 6&#45;&gt;7 -->\n<g id=\"edge7\" class=\"edge\">\n<title>6&#45;&gt;7</title>\n<path fill=\"none\" stroke=\"black\" d=\"M374.89,-109.64C367.52,-100.9 359.79,-91.73 352.41,-82.97\"/>\n<polygon fill=\"black\" stroke=\"black\" points=\"355.28,-80.94 346.16,-75.55 349.93,-85.45 355.28,-80.94\"/>\n</g>\n<!-- 8 -->\n<g id=\"node9\" class=\"node\">\n<title>8</title>\n<path fill=\"#e58139\" stroke=\"black\" d=\"M482.75,-74C482.75,-74 402.25,-74 402.25,-74 396.25,-74 390.25,-68 390.25,-62 390.25,-62 390.25,-12 390.25,-12 390.25,-6 396.25,0 402.25,0 402.25,0 482.75,0 482.75,0 488.75,0 494.75,-6 494.75,-12 494.75,-12 494.75,-62 494.75,-62 494.75,-68 488.75,-74 482.75,-74\"/>\n<text text-anchor=\"start\" x=\"400.88\" y=\"-56.7\" font-family=\"Helvetica,sans-Serif\" font-size=\"14.00\">entropy = 0.0</text>\n<text text-anchor=\"start\" x=\"399.38\" y=\"-40.2\" font-family=\"Helvetica,sans-Serif\" font-size=\"14.00\">samples = 10</text>\n<text text-anchor=\"start\" x=\"398.25\" y=\"-23.7\" font-family=\"Helvetica,sans-Serif\" font-size=\"14.00\">value = [10, 0]</text>\n<text text-anchor=\"start\" x=\"402.75\" y=\"-7.2\" font-family=\"Helvetica,sans-Serif\" font-size=\"14.00\">class = Alive</text>\n</g>\n<!-- 6&#45;&gt;8 -->\n<g id=\"edge8\" class=\"edge\">\n<title>6&#45;&gt;8</title>\n<path fill=\"none\" stroke=\"black\" d=\"M424.01,-109.64C426.06,-101.72 428.19,-93.44 430.26,-85.45\"/>\n<polygon fill=\"black\" stroke=\"black\" points=\"433.62,-86.42 432.73,-75.86 426.84,-84.67 433.62,-86.42\"/>\n</g>\n<!-- 10 -->\n<g id=\"node11\" class=\"node\">\n<title>10</title>\n<path fill=\"#eca26d\" stroke=\"black\" d=\"M744.75,-200.5C744.75,-200.5 598.25,-200.5 598.25,-200.5 592.25,-200.5 586.25,-194.5 586.25,-188.5 586.25,-188.5 586.25,-122 586.25,-122 586.25,-116 592.25,-110 598.25,-110 598.25,-110 744.75,-110 744.75,-110 750.75,-110 756.75,-116 756.75,-122 756.75,-122 756.75,-188.5 756.75,-188.5 756.75,-194.5 750.75,-200.5 744.75,-200.5\"/>\n<text text-anchor=\"start\" x=\"594.25\" y=\"-183.2\" font-family=\"Helvetica,sans-Serif\" font-size=\"14.00\">Book Intro Chapter ≤ 0.5</text>\n<text text-anchor=\"start\" x=\"621.62\" y=\"-166.7\" font-family=\"Helvetica,sans-Serif\" font-size=\"14.00\">entropy = 0.737</text>\n<text text-anchor=\"start\" x=\"624.25\" y=\"-150.2\" font-family=\"Helvetica,sans-Serif\" font-size=\"14.00\">samples = 106</text>\n<text text-anchor=\"start\" x=\"623.12\" y=\"-133.7\" font-family=\"Helvetica,sans-Serif\" font-size=\"14.00\">value = [84, 22]</text>\n<text text-anchor=\"start\" x=\"631.75\" y=\"-117.2\" font-family=\"Helvetica,sans-Serif\" font-size=\"14.00\">class = Alive</text>\n</g>\n<!-- 9&#45;&gt;10 -->\n<g id=\"edge10\" class=\"edge\">\n<title>9&#45;&gt;10</title>\n<path fill=\"none\" stroke=\"black\" d=\"M720.92,-236.15C715.78,-227.84 710.35,-219.07 705.05,-210.5\"/>\n<polygon fill=\"black\" stroke=\"black\" points=\"708.18,-208.9 699.94,-202.24 702.23,-212.59 708.18,-208.9\"/>\n</g>\n<!-- 13 -->\n<g id=\"node14\" class=\"node\">\n<title>13</title>\n<path fill=\"#83c2ef\" stroke=\"black\" d=\"M941.88,-200.5C941.88,-200.5 787.12,-200.5 787.12,-200.5 781.12,-200.5 775.12,-194.5 775.12,-188.5 775.12,-188.5 775.12,-122 775.12,-122 775.12,-116 781.12,-110 787.12,-110 787.12,-110 941.88,-110 941.88,-110 947.88,-110 953.88,-116 953.88,-122 953.88,-122 953.88,-188.5 953.88,-188.5 953.88,-194.5 947.88,-200.5 941.88,-200.5\"/>\n<text text-anchor=\"start\" x=\"783.12\" y=\"-183.2\" font-family=\"Helvetica,sans-Serif\" font-size=\"14.00\">Book Intro Chapter ≤ 11.0</text>\n<text text-anchor=\"start\" x=\"814.62\" y=\"-166.7\" font-family=\"Helvetica,sans-Serif\" font-size=\"14.00\">entropy = 0.845</text>\n<text text-anchor=\"start\" x=\"821.38\" y=\"-150.2\" font-family=\"Helvetica,sans-Serif\" font-size=\"14.00\">samples = 11</text>\n<text text-anchor=\"start\" x=\"824.38\" y=\"-133.7\" font-family=\"Helvetica,sans-Serif\" font-size=\"14.00\">value = [3, 8]</text>\n<text text-anchor=\"start\" x=\"822.88\" y=\"-117.2\" font-family=\"Helvetica,sans-Serif\" font-size=\"14.00\">class = Dead</text>\n</g>\n<!-- 9&#45;&gt;13 -->\n<g id=\"edge13\" class=\"edge\">\n<title>9&#45;&gt;13</title>\n<path fill=\"none\" stroke=\"black\" d=\"M790.05,-236.15C798.21,-227.39 806.85,-218.12 815.24,-209.12\"/>\n<polygon fill=\"black\" stroke=\"black\" points=\"817.56,-211.76 821.82,-202.06 812.44,-206.99 817.56,-211.76\"/>\n</g>\n<!-- 11 -->\n<g id=\"node12\" class=\"node\">\n<title>11</title>\n<path fill=\"#b0d8f5\" stroke=\"black\" d=\"M616.38,-74C616.38,-74 524.62,-74 524.62,-74 518.62,-74 512.62,-68 512.62,-62 512.62,-62 512.62,-12 512.62,-12 512.62,-6 518.62,0 524.62,0 524.62,0 616.38,0 616.38,0 622.38,0 628.38,-6 628.38,-12 628.38,-12 628.38,-62 628.38,-62 628.38,-68 622.38,-74 616.38,-74\"/>\n<text text-anchor=\"start\" x=\"520.62\" y=\"-56.7\" font-family=\"Helvetica,sans-Serif\" font-size=\"14.00\">entropy = 0.954</text>\n<text text-anchor=\"start\" x=\"531.5\" y=\"-40.2\" font-family=\"Helvetica,sans-Serif\" font-size=\"14.00\">samples = 8</text>\n<text text-anchor=\"start\" x=\"530.38\" y=\"-23.7\" font-family=\"Helvetica,sans-Serif\" font-size=\"14.00\">value = [3, 5]</text>\n<text text-anchor=\"start\" x=\"528.88\" y=\"-7.2\" font-family=\"Helvetica,sans-Serif\" font-size=\"14.00\">class = Dead</text>\n</g>\n<!-- 10&#45;&gt;11 -->\n<g id=\"edge11\" class=\"edge\">\n<title>10&#45;&gt;11</title>\n<path fill=\"none\" stroke=\"black\" d=\"M632.74,-109.64C625.15,-100.9 617.18,-91.73 609.57,-82.97\"/>\n<polygon fill=\"black\" stroke=\"black\" points=\"612.31,-80.79 603.11,-75.54 607.03,-85.38 612.31,-80.79\"/>\n</g>\n<!-- 12 -->\n<g id=\"node13\" class=\"node\">\n<title>12</title>\n<path fill=\"#ea9b63\" stroke=\"black\" d=\"M750.38,-74C750.38,-74 658.62,-74 658.62,-74 652.62,-74 646.62,-68 646.62,-62 646.62,-62 646.62,-12 646.62,-12 646.62,-6 652.62,0 658.62,0 658.62,0 750.38,0 750.38,0 756.38,0 762.38,-6 762.38,-12 762.38,-12 762.38,-62 762.38,-62 762.38,-68 756.38,-74 750.38,-74\"/>\n<text text-anchor=\"start\" x=\"654.62\" y=\"-56.7\" font-family=\"Helvetica,sans-Serif\" font-size=\"14.00\">entropy = 0.666</text>\n<text text-anchor=\"start\" x=\"661.38\" y=\"-40.2\" font-family=\"Helvetica,sans-Serif\" font-size=\"14.00\">samples = 98</text>\n<text text-anchor=\"start\" x=\"656.12\" y=\"-23.7\" font-family=\"Helvetica,sans-Serif\" font-size=\"14.00\">value = [81, 17]</text>\n<text text-anchor=\"start\" x=\"664.75\" y=\"-7.2\" font-family=\"Helvetica,sans-Serif\" font-size=\"14.00\">class = Alive</text>\n</g>\n<!-- 10&#45;&gt;12 -->\n<g id=\"edge12\" class=\"edge\">\n<title>10&#45;&gt;12</title>\n<path fill=\"none\" stroke=\"black\" d=\"M684.16,-109.64C686.41,-101.72 688.76,-93.44 691.03,-85.45\"/>\n<polygon fill=\"black\" stroke=\"black\" points=\"694.39,-86.43 693.76,-75.85 687.66,-84.51 694.39,-86.43\"/>\n</g>\n<!-- 14 -->\n<g id=\"node15\" class=\"node\">\n<title>14</title>\n<path fill=\"#e58139\" stroke=\"black\" d=\"M868.12,-74C868.12,-74 792.88,-74 792.88,-74 786.88,-74 780.88,-68 780.88,-62 780.88,-62 780.88,-12 780.88,-12 780.88,-6 786.88,0 792.88,0 792.88,0 868.12,0 868.12,0 874.12,0 880.12,-6 880.12,-12 880.12,-12 880.12,-62 880.12,-62 880.12,-68 874.12,-74 868.12,-74\"/>\n<text text-anchor=\"start\" x=\"788.88\" y=\"-56.7\" font-family=\"Helvetica,sans-Serif\" font-size=\"14.00\">entropy = 0.0</text>\n<text text-anchor=\"start\" x=\"791.5\" y=\"-40.2\" font-family=\"Helvetica,sans-Serif\" font-size=\"14.00\">samples = 3</text>\n<text text-anchor=\"start\" x=\"790.38\" y=\"-23.7\" font-family=\"Helvetica,sans-Serif\" font-size=\"14.00\">value = [3, 0]</text>\n<text text-anchor=\"start\" x=\"790.75\" y=\"-7.2\" font-family=\"Helvetica,sans-Serif\" font-size=\"14.00\">class = Alive</text>\n</g>\n<!-- 13&#45;&gt;14 -->\n<g id=\"edge14\" class=\"edge\">\n<title>13&#45;&gt;14</title>\n<path fill=\"none\" stroke=\"black\" d=\"M851.45,-109.64C849.11,-101.63 846.66,-93.25 844.3,-85.17\"/>\n<polygon fill=\"black\" stroke=\"black\" points=\"847.74,-84.46 841.57,-75.85 841.02,-86.43 847.74,-84.46\"/>\n</g>\n<!-- 15 -->\n<g id=\"node16\" class=\"node\">\n<title>15</title>\n<path fill=\"#399de5\" stroke=\"black\" d=\"M985.12,-74C985.12,-74 909.88,-74 909.88,-74 903.88,-74 897.88,-68 897.88,-62 897.88,-62 897.88,-12 897.88,-12 897.88,-6 903.88,0 909.88,0 909.88,0 985.12,0 985.12,0 991.12,0 997.12,-6 997.12,-12 997.12,-12 997.12,-62 997.12,-62 997.12,-68 991.12,-74 985.12,-74\"/>\n<text text-anchor=\"start\" x=\"905.88\" y=\"-56.7\" font-family=\"Helvetica,sans-Serif\" font-size=\"14.00\">entropy = 0.0</text>\n<text text-anchor=\"start\" x=\"908.5\" y=\"-40.2\" font-family=\"Helvetica,sans-Serif\" font-size=\"14.00\">samples = 8</text>\n<text text-anchor=\"start\" x=\"907.38\" y=\"-23.7\" font-family=\"Helvetica,sans-Serif\" font-size=\"14.00\">value = [0, 8]</text>\n<text text-anchor=\"start\" x=\"905.88\" y=\"-7.2\" font-family=\"Helvetica,sans-Serif\" font-size=\"14.00\">class = Dead</text>\n</g>\n<!-- 13&#45;&gt;15 -->\n<g id=\"edge15\" class=\"edge\">\n<title>13&#45;&gt;15</title>\n<path fill=\"none\" stroke=\"black\" d=\"M896.35,-109.64C902.46,-101.08 908.87,-92.11 915,-83.52\"/>\n<polygon fill=\"black\" stroke=\"black\" points=\"917.67,-85.8 920.64,-75.63 911.98,-81.73 917.67,-85.8\"/>\n</g>\n<!-- 17 -->\n<g id=\"node18\" class=\"node\">\n<title>17</title>\n<path fill=\"#ea9a61\" stroke=\"black\" d=\"M1245.5,-327C1245.5,-327 1049.5,-327 1049.5,-327 1043.5,-327 1037.5,-321 1037.5,-315 1037.5,-315 1037.5,-248.5 1037.5,-248.5 1037.5,-242.5 1043.5,-236.5 1049.5,-236.5 1049.5,-236.5 1245.5,-236.5 1245.5,-236.5 1251.5,-236.5 1257.5,-242.5 1257.5,-248.5 1257.5,-248.5 1257.5,-315 1257.5,-315 1257.5,-321 1251.5,-327 1245.5,-327\"/>\n<text text-anchor=\"start\" x=\"1045.5\" y=\"-309.7\" font-family=\"Helvetica,sans-Serif\" font-size=\"14.00\">Allegiances_Night&#39;s Watch ≤ 0.5</text>\n<text text-anchor=\"start\" x=\"1101.75\" y=\"-293.2\" font-family=\"Helvetica,sans-Serif\" font-size=\"14.00\">entropy = 0.65</text>\n<text text-anchor=\"start\" x=\"1100.25\" y=\"-276.7\" font-family=\"Helvetica,sans-Serif\" font-size=\"14.00\">samples = 126</text>\n<text text-anchor=\"start\" x=\"1095\" y=\"-260.2\" font-family=\"Helvetica,sans-Serif\" font-size=\"14.00\">value = [105, 21]</text>\n<text text-anchor=\"start\" x=\"1107.75\" y=\"-243.7\" font-family=\"Helvetica,sans-Serif\" font-size=\"14.00\">class = Alive</text>\n</g>\n<!-- 16&#45;&gt;17 -->\n<g id=\"edge17\" class=\"edge\">\n<title>16&#45;&gt;17</title>\n<path fill=\"none\" stroke=\"black\" d=\"M1147.5,-362.65C1147.5,-354.97 1147.5,-346.89 1147.5,-338.94\"/>\n<polygon fill=\"black\" stroke=\"black\" points=\"1151,-338.97 1147.5,-328.97 1144,-338.97 1151,-338.97\"/>\n</g>\n<!-- 24 -->\n<g id=\"node25\" class=\"node\">\n<title>24</title>\n<path fill=\"#7bbeee\" stroke=\"black\" d=\"M1379.38,-318.75C1379.38,-318.75 1287.62,-318.75 1287.62,-318.75 1281.62,-318.75 1275.62,-312.75 1275.62,-306.75 1275.62,-306.75 1275.62,-256.75 1275.62,-256.75 1275.62,-250.75 1281.62,-244.75 1287.62,-244.75 1287.62,-244.75 1379.38,-244.75 1379.38,-244.75 1385.38,-244.75 1391.38,-250.75 1391.38,-256.75 1391.38,-256.75 1391.38,-306.75 1391.38,-306.75 1391.38,-312.75 1385.38,-318.75 1379.38,-318.75\"/>\n<text text-anchor=\"start\" x=\"1283.62\" y=\"-301.45\" font-family=\"Helvetica,sans-Serif\" font-size=\"14.00\">entropy = 0.811</text>\n<text text-anchor=\"start\" x=\"1294.5\" y=\"-284.95\" font-family=\"Helvetica,sans-Serif\" font-size=\"14.00\">samples = 4</text>\n<text text-anchor=\"start\" x=\"1293.38\" y=\"-268.45\" font-family=\"Helvetica,sans-Serif\" font-size=\"14.00\">value = [1, 3]</text>\n<text text-anchor=\"start\" x=\"1291.88\" y=\"-251.95\" font-family=\"Helvetica,sans-Serif\" font-size=\"14.00\">class = Dead</text>\n</g>\n<!-- 16&#45;&gt;24 -->\n<g id=\"edge24\" class=\"edge\">\n<title>16&#45;&gt;24</title>\n<path fill=\"none\" stroke=\"black\" d=\"M1214.12,-362.65C1232.32,-350.47 1251.99,-337.31 1270.01,-325.25\"/>\n<polygon fill=\"black\" stroke=\"black\" points=\"1271.64,-328.37 1278,-319.9 1267.75,-322.55 1271.64,-328.37\"/>\n</g>\n<!-- 18 -->\n<g id=\"node19\" class=\"node\">\n<title>18</title>\n<path fill=\"#e9965a\" stroke=\"black\" d=\"M1206.12,-200.5C1206.12,-200.5 1088.88,-200.5 1088.88,-200.5 1082.88,-200.5 1076.88,-194.5 1076.88,-188.5 1076.88,-188.5 1076.88,-122 1076.88,-122 1076.88,-116 1082.88,-110 1088.88,-110 1088.88,-110 1206.12,-110 1206.12,-110 1212.12,-110 1218.12,-116 1218.12,-122 1218.12,-122 1218.12,-188.5 1218.12,-188.5 1218.12,-194.5 1212.12,-200.5 1206.12,-200.5\"/>\n<text text-anchor=\"start\" x=\"1084.88\" y=\"-183.2\" font-family=\"Helvetica,sans-Serif\" font-size=\"14.00\">Allegiances_0 ≤ 0.5</text>\n<text text-anchor=\"start\" x=\"1097.62\" y=\"-166.7\" font-family=\"Helvetica,sans-Serif\" font-size=\"14.00\">entropy = 0.595</text>\n<text text-anchor=\"start\" x=\"1100.25\" y=\"-150.2\" font-family=\"Helvetica,sans-Serif\" font-size=\"14.00\">samples = 118</text>\n<text text-anchor=\"start\" x=\"1095\" y=\"-133.7\" font-family=\"Helvetica,sans-Serif\" font-size=\"14.00\">value = [101, 17]</text>\n<text text-anchor=\"start\" x=\"1107.75\" y=\"-117.2\" font-family=\"Helvetica,sans-Serif\" font-size=\"14.00\">class = Alive</text>\n</g>\n<!-- 17&#45;&gt;18 -->\n<g id=\"edge18\" class=\"edge\">\n<title>17&#45;&gt;18</title>\n<path fill=\"none\" stroke=\"black\" d=\"M1147.5,-236.15C1147.5,-228.47 1147.5,-220.39 1147.5,-212.44\"/>\n<polygon fill=\"black\" stroke=\"black\" points=\"1151,-212.47 1147.5,-202.47 1144,-212.47 1151,-212.47\"/>\n</g>\n<!-- 21 -->\n<g id=\"node22\" class=\"node\">\n<title>21</title>\n<path fill=\"#ffffff\" stroke=\"black\" d=\"M1391.12,-200.5C1391.12,-200.5 1315.88,-200.5 1315.88,-200.5 1309.88,-200.5 1303.88,-194.5 1303.88,-188.5 1303.88,-188.5 1303.88,-122 1303.88,-122 1303.88,-116 1309.88,-110 1315.88,-110 1315.88,-110 1391.12,-110 1391.12,-110 1397.12,-110 1403.12,-116 1403.12,-122 1403.12,-122 1403.12,-188.5 1403.12,-188.5 1403.12,-194.5 1397.12,-200.5 1391.12,-200.5\"/>\n<text text-anchor=\"start\" x=\"1321.62\" y=\"-183.2\" font-family=\"Helvetica,sans-Serif\" font-size=\"14.00\">CoK ≤ 0.5</text>\n<text text-anchor=\"start\" x=\"1311.88\" y=\"-166.7\" font-family=\"Helvetica,sans-Serif\" font-size=\"14.00\">entropy = 1.0</text>\n<text text-anchor=\"start\" x=\"1314.5\" y=\"-150.2\" font-family=\"Helvetica,sans-Serif\" font-size=\"14.00\">samples = 8</text>\n<text text-anchor=\"start\" x=\"1313.38\" y=\"-133.7\" font-family=\"Helvetica,sans-Serif\" font-size=\"14.00\">value = [4, 4]</text>\n<text text-anchor=\"start\" x=\"1313.75\" y=\"-117.2\" font-family=\"Helvetica,sans-Serif\" font-size=\"14.00\">class = Alive</text>\n</g>\n<!-- 17&#45;&gt;21 -->\n<g id=\"edge21\" class=\"edge\">\n<title>17&#45;&gt;21</title>\n<path fill=\"none\" stroke=\"black\" d=\"M1221.29,-236.15C1245.02,-221.81 1271.01,-206.1 1293.62,-192.44\"/>\n<polygon fill=\"black\" stroke=\"black\" points=\"1295.37,-195.47 1302.12,-187.3 1291.75,-189.48 1295.37,-195.47\"/>\n</g>\n<!-- 19 -->\n<g id=\"node20\" class=\"node\">\n<title>19</title>\n<path fill=\"#e78d4b\" stroke=\"black\" d=\"M1131.75,-74C1131.75,-74 1027.25,-74 1027.25,-74 1021.25,-74 1015.25,-68 1015.25,-62 1015.25,-62 1015.25,-12 1015.25,-12 1015.25,-6 1021.25,0 1027.25,0 1027.25,0 1131.75,0 1131.75,0 1137.75,0 1143.75,-6 1143.75,-12 1143.75,-12 1143.75,-62 1143.75,-62 1143.75,-68 1137.75,-74 1131.75,-74\"/>\n<text text-anchor=\"start\" x=\"1029.62\" y=\"-56.7\" font-family=\"Helvetica,sans-Serif\" font-size=\"14.00\">entropy = 0.421</text>\n<text text-anchor=\"start\" x=\"1036.38\" y=\"-40.2\" font-family=\"Helvetica,sans-Serif\" font-size=\"14.00\">samples = 82</text>\n<text text-anchor=\"start\" x=\"1023.25\" y=\"-23.7\" font-family=\"Helvetica,sans-Serif\" font-size=\"14.00\">value = [75.0, 7.0]</text>\n<text text-anchor=\"start\" x=\"1039.75\" y=\"-7.2\" font-family=\"Helvetica,sans-Serif\" font-size=\"14.00\">class = Alive</text>\n</g>\n<!-- 18&#45;&gt;19 -->\n<g id=\"edge19\" class=\"edge\">\n<title>18&#45;&gt;19</title>\n<path fill=\"none\" stroke=\"black\" d=\"M1121.4,-109.64C1116.5,-101.26 1111.37,-92.49 1106.45,-84.07\"/>\n<polygon fill=\"black\" stroke=\"black\" points=\"1109.62,-82.56 1101.55,-75.7 1103.58,-86.1 1109.62,-82.56\"/>\n</g>\n<!-- 20 -->\n<g id=\"node21\" class=\"node\">\n<title>20</title>\n<path fill=\"#efb185\" stroke=\"black\" d=\"M1265.38,-74C1265.38,-74 1173.62,-74 1173.62,-74 1167.62,-74 1161.62,-68 1161.62,-62 1161.62,-62 1161.62,-12 1161.62,-12 1161.62,-6 1167.62,0 1173.62,0 1173.62,0 1265.38,0 1265.38,0 1271.38,0 1277.38,-6 1277.38,-12 1277.38,-12 1277.38,-62 1277.38,-62 1277.38,-68 1271.38,-74 1265.38,-74\"/>\n<text text-anchor=\"start\" x=\"1169.62\" y=\"-56.7\" font-family=\"Helvetica,sans-Serif\" font-size=\"14.00\">entropy = 0.852</text>\n<text text-anchor=\"start\" x=\"1176.38\" y=\"-40.2\" font-family=\"Helvetica,sans-Serif\" font-size=\"14.00\">samples = 36</text>\n<text text-anchor=\"start\" x=\"1171.12\" y=\"-23.7\" font-family=\"Helvetica,sans-Serif\" font-size=\"14.00\">value = [26, 10]</text>\n<text text-anchor=\"start\" x=\"1179.75\" y=\"-7.2\" font-family=\"Helvetica,sans-Serif\" font-size=\"14.00\">class = Alive</text>\n</g>\n<!-- 18&#45;&gt;20 -->\n<g id=\"edge20\" class=\"edge\">\n<title>18&#45;&gt;20</title>\n<path fill=\"none\" stroke=\"black\" d=\"M1175.13,-109.64C1180.32,-101.26 1185.75,-92.49 1190.97,-84.07\"/>\n<polygon fill=\"black\" stroke=\"black\" points=\"1193.87,-86.02 1196.16,-75.68 1187.92,-82.34 1193.87,-86.02\"/>\n</g>\n<!-- 22 -->\n<g id=\"node23\" class=\"node\">\n<title>22</title>\n<path fill=\"#6ab6ec\" stroke=\"black\" d=\"M1399.38,-74C1399.38,-74 1307.62,-74 1307.62,-74 1301.62,-74 1295.62,-68 1295.62,-62 1295.62,-62 1295.62,-12 1295.62,-12 1295.62,-6 1301.62,0 1307.62,0 1307.62,0 1399.38,0 1399.38,0 1405.38,0 1411.38,-6 1411.38,-12 1411.38,-12 1411.38,-62 1411.38,-62 1411.38,-68 1405.38,-74 1399.38,-74\"/>\n<text text-anchor=\"start\" x=\"1303.62\" y=\"-56.7\" font-family=\"Helvetica,sans-Serif\" font-size=\"14.00\">entropy = 0.722</text>\n<text text-anchor=\"start\" x=\"1314.5\" y=\"-40.2\" font-family=\"Helvetica,sans-Serif\" font-size=\"14.00\">samples = 5</text>\n<text text-anchor=\"start\" x=\"1313.38\" y=\"-23.7\" font-family=\"Helvetica,sans-Serif\" font-size=\"14.00\">value = [1, 4]</text>\n<text text-anchor=\"start\" x=\"1311.88\" y=\"-7.2\" font-family=\"Helvetica,sans-Serif\" font-size=\"14.00\">class = Dead</text>\n</g>\n<!-- 21&#45;&gt;22 -->\n<g id=\"edge22\" class=\"edge\">\n<title>21&#45;&gt;22</title>\n<path fill=\"none\" stroke=\"black\" d=\"M1353.5,-109.64C1353.5,-101.81 1353.5,-93.63 1353.5,-85.72\"/>\n<polygon fill=\"black\" stroke=\"black\" points=\"1357,-85.91 1353.5,-75.91 1350,-85.91 1357,-85.91\"/>\n</g>\n<!-- 23 -->\n<g id=\"node24\" class=\"node\">\n<title>23</title>\n<path fill=\"#e58139\" stroke=\"black\" d=\"M1517.12,-74C1517.12,-74 1441.88,-74 1441.88,-74 1435.88,-74 1429.88,-68 1429.88,-62 1429.88,-62 1429.88,-12 1429.88,-12 1429.88,-6 1435.88,0 1441.88,0 1441.88,0 1517.12,0 1517.12,0 1523.12,0 1529.12,-6 1529.12,-12 1529.12,-12 1529.12,-62 1529.12,-62 1529.12,-68 1523.12,-74 1517.12,-74\"/>\n<text text-anchor=\"start\" x=\"1437.88\" y=\"-56.7\" font-family=\"Helvetica,sans-Serif\" font-size=\"14.00\">entropy = 0.0</text>\n<text text-anchor=\"start\" x=\"1440.5\" y=\"-40.2\" font-family=\"Helvetica,sans-Serif\" font-size=\"14.00\">samples = 3</text>\n<text text-anchor=\"start\" x=\"1439.38\" y=\"-23.7\" font-family=\"Helvetica,sans-Serif\" font-size=\"14.00\">value = [3, 0]</text>\n<text text-anchor=\"start\" x=\"1439.75\" y=\"-7.2\" font-family=\"Helvetica,sans-Serif\" font-size=\"14.00\">class = Alive</text>\n</g>\n<!-- 21&#45;&gt;23 -->\n<g id=\"edge23\" class=\"edge\">\n<title>21&#45;&gt;23</title>\n<path fill=\"none\" stroke=\"black\" d=\"M1401.85,-109.64C1411.62,-100.62 1421.89,-91.15 1431.64,-82.15\"/>\n<polygon fill=\"black\" stroke=\"black\" points=\"1433.97,-84.77 1438.94,-75.42 1429.22,-79.63 1433.97,-84.77\"/>\n</g>\n</g>\n</svg>\n",
      "text/plain": [
       "<graphviz.sources.Source at 0x158f59a9300>"
      ]
     },
     "execution_count": 619,
     "metadata": {},
     "output_type": "execute_result"
    }
   ],
   "execution_count": 619
  },
  {
   "cell_type": "markdown",
   "source": "# <div style=\"font-family: 'Garamond', serif; font-size: 22px; color: #ffffff; background-color: #34568B; text-align: center; padding: 15px; border-radius: 10px; border: 2px solid #FF6F61; box-shadow: 0 6px 12px rgba(0, 0, 0, 0.3); margin-bottom: 20px;\">Step 5: Make predictions on the test set</div>",
   "metadata": {}
  },
  {
   "cell_type": "markdown",
   "source": "<div style=\"font-family: 'Lucida Sans Unicode', sans-serif; font-size: 18px; color: #4A235A; background-color: #D7BDE2; text-align: left; padding: 10px; border-left: 5px solid #7D3C98; box-shadow: 0 4px 6px rgba(0, 0, 0, 0.2); margin-bottom: 10px;\">Create the submission file and check the format</div>",
   "metadata": {}
  },
  {
   "cell_type": "code",
   "source": "# Load the test dataset\ntest_data_path = os.path.join(extract_folder_path, 'test.csv')\ntest_data = pd.read_csv(test_data_path)\n\n# Build test features to match training\ntest_X = test_data.drop(columns=['Character', 'Name'], errors='ignore')\ntest_X = test_X.fillna(0)\ntest_X[categorical_cols] = test_X[categorical_cols].astype(str)\n\n# Preprocessing of test data, make predictions\ntest_predictions = dt_pipeline.predict(test_X)  # 0 = Alive, 1 = Dead\n\n# Load the sample submission file to compare formats\nsample_submission_path = os.path.join(extract_folder_path, 'sample_submission.csv')\nsample_submission = pd.read_csv(sample_submission_path)\n\n# Create the submission DataFrame\nsubmission = pd.DataFrame({\n    'Character': test_data['Character'],\n    'Death': test_predictions.astype(int)\n})\n\n# See if the submission format matches the sample submission\nprint('Submission shape:', submission.shape)\nprint('Sample submission shape:', sample_submission.shape)\n\nprint('submission head:')\nprint(submission.head())\n\nprint('sample submission head:')\nprint(sample_submission.head())",
   "metadata": {
    "ExecuteTime": {
     "end_time": "2025-09-22T15:04:23.871043Z",
     "start_time": "2025-09-22T15:04:23.844046Z"
    }
   },
   "outputs": [
    {
     "name": "stdout",
     "output_type": "stream",
     "text": [
      "Submission shape: (230, 2)\n",
      "Sample submission shape: (230, 2)\n",
      "submission head:\n",
      "   Character  Death\n",
      "0        668      1\n",
      "1         30      0\n",
      "2        377      1\n",
      "3        535      0\n",
      "4        806      1\n",
      "sample submission head:\n",
      "   Character  Death\n",
      "0        668      0\n",
      "1         30      1\n",
      "2        377      0\n",
      "3        535      1\n",
      "4        806      1\n"
     ]
    }
   ],
   "execution_count": 620
  },
  {
   "cell_type": "markdown",
   "source": "<div style=\"font-family: 'Lucida Sans Unicode', sans-serif; font-size: 18px; color: #4A235A; background-color: #D7BDE2; text-align: left; padding: 10px; border-left: 5px solid #7D3C98; box-shadow: 0 4px 6px rgba(0, 0, 0, 0.2); margin-bottom: 10px;\">Save the submission file</div>",
   "metadata": {}
  },
  {
   "cell_type": "code",
   "source": "# Define the file path for the output CSV file\noutput_csv_path = 'submission.csv'\n\n# Save the output DataFrame to a CSV file\nsubmission.to_csv(output_csv_path, index=False)\n\n# Return the path of the saved file\noutput_csv_path",
   "metadata": {
    "ExecuteTime": {
     "end_time": "2025-09-22T15:04:24.014046Z",
     "start_time": "2025-09-22T15:04:24.001044Z"
    }
   },
   "outputs": [
    {
     "data": {
      "text/plain": [
       "'submission.csv'"
      ]
     },
     "execution_count": 621,
     "metadata": {},
     "output_type": "execute_result"
    }
   ],
   "execution_count": 621
  },
  {
   "cell_type": "code",
   "source": "",
   "metadata": {
    "ExecuteTime": {
     "end_time": "2025-09-22T15:04:24.169051Z",
     "start_time": "2025-09-22T15:04:24.156232Z"
    }
   },
   "outputs": [],
   "execution_count": null
  }
 ]
}
